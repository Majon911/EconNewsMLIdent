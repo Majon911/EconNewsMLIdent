{
 "cells": [
  {
   "cell_type": "markdown",
   "id": "3bduh-46OHFK",
   "metadata": {
    "id": "3bduh-46OHFK"
   },
   "source": [
    "# Preprocess"
   ]
  },
  {
   "cell_type": "code",
   "execution_count": 1,
   "id": "iUFDKHaVOHFN",
   "metadata": {
    "id": "iUFDKHaVOHFN"
   },
   "outputs": [],
   "source": [
    "import pandas as pd"
   ]
  },
  {
   "cell_type": "code",
   "execution_count": 2,
   "id": "beLBhgRLOHFP",
   "metadata": {
    "colab": {
     "base_uri": "https://localhost:8080/"
    },
    "id": "beLBhgRLOHFP",
    "outputId": "fe017141-8c90-4f18-d260-b91583d3e971"
   },
   "outputs": [
    {
     "name": "stdout",
     "output_type": "stream",
     "text": [
      "<class 'pandas.core.frame.DataFrame'>\n",
      "RangeIndex: 8000 entries, 0 to 7999\n",
      "Data columns (total 15 columns):\n",
      " #   Column                 Non-Null Count  Dtype  \n",
      "---  ------                 --------------  -----  \n",
      " 0   _unit_id               8000 non-null   int64  \n",
      " 1   _golden                8000 non-null   bool   \n",
      " 2   _unit_state            8000 non-null   object \n",
      " 3   _trusted_judgments     8000 non-null   int64  \n",
      " 4   _last_judgment_at      8000 non-null   object \n",
      " 5   positivity             1420 non-null   float64\n",
      " 6   positivity:confidence  3775 non-null   float64\n",
      " 7   relevance              8000 non-null   object \n",
      " 8   relevance:confidence   8000 non-null   float64\n",
      " 9   articleid              8000 non-null   object \n",
      " 10  date                   8000 non-null   object \n",
      " 11  headline               8000 non-null   object \n",
      " 12  positivity_gold        0 non-null      float64\n",
      " 13  relevance_gold         0 non-null      float64\n",
      " 14  text                   8000 non-null   object \n",
      "dtypes: bool(1), float64(5), int64(2), object(7)\n",
      "memory usage: 882.9+ KB\n"
     ]
    }
   ],
   "source": [
    "df = pd.read_csv(\"./US-Economic-News.csv\", delimiter=',', encoding= 'ISO-8859-1')\n",
    "\n",
    "df.info()"
   ]
  },
  {
   "cell_type": "code",
   "execution_count": 3,
   "id": "2pZ91v4YOHFQ",
   "metadata": {
    "colab": {
     "base_uri": "https://localhost:8080/",
     "height": 573
    },
    "id": "2pZ91v4YOHFQ",
    "outputId": "2ecb5bf5-5337-4d44-bf14-f45d0725524e"
   },
   "outputs": [
    {
     "data": {
      "text/html": [
       "<div>\n",
       "<style scoped>\n",
       "    .dataframe tbody tr th:only-of-type {\n",
       "        vertical-align: middle;\n",
       "    }\n",
       "\n",
       "    .dataframe tbody tr th {\n",
       "        vertical-align: top;\n",
       "    }\n",
       "\n",
       "    .dataframe thead th {\n",
       "        text-align: right;\n",
       "    }\n",
       "</style>\n",
       "<table border=\"1\" class=\"dataframe\">\n",
       "  <thead>\n",
       "    <tr style=\"text-align: right;\">\n",
       "      <th></th>\n",
       "      <th>_unit_id</th>\n",
       "      <th>_golden</th>\n",
       "      <th>_unit_state</th>\n",
       "      <th>_trusted_judgments</th>\n",
       "      <th>_last_judgment_at</th>\n",
       "      <th>positivity</th>\n",
       "      <th>positivity:confidence</th>\n",
       "      <th>relevance</th>\n",
       "      <th>relevance:confidence</th>\n",
       "      <th>articleid</th>\n",
       "      <th>date</th>\n",
       "      <th>headline</th>\n",
       "      <th>positivity_gold</th>\n",
       "      <th>relevance_gold</th>\n",
       "      <th>text</th>\n",
       "    </tr>\n",
       "  </thead>\n",
       "  <tbody>\n",
       "    <tr>\n",
       "      <th>0</th>\n",
       "      <td>842613455</td>\n",
       "      <td>False</td>\n",
       "      <td>finalized</td>\n",
       "      <td>3</td>\n",
       "      <td>12/5/15 17:48</td>\n",
       "      <td>3.0</td>\n",
       "      <td>0.6400</td>\n",
       "      <td>yes</td>\n",
       "      <td>0.640</td>\n",
       "      <td>wsj_398217788</td>\n",
       "      <td>8/14/91</td>\n",
       "      <td>Yields on CDs Fell in the Latest Week</td>\n",
       "      <td>NaN</td>\n",
       "      <td>NaN</td>\n",
       "      <td>NEW YORK -- Yields on most certificates of dep...</td>\n",
       "    </tr>\n",
       "    <tr>\n",
       "      <th>1</th>\n",
       "      <td>842613456</td>\n",
       "      <td>False</td>\n",
       "      <td>finalized</td>\n",
       "      <td>3</td>\n",
       "      <td>12/5/15 16:54</td>\n",
       "      <td>NaN</td>\n",
       "      <td>NaN</td>\n",
       "      <td>no</td>\n",
       "      <td>1.000</td>\n",
       "      <td>wsj_399019502</td>\n",
       "      <td>8/21/07</td>\n",
       "      <td>The Morning Brief: White House Seeks to Limit ...</td>\n",
       "      <td>NaN</td>\n",
       "      <td>NaN</td>\n",
       "      <td>The Wall Street Journal Online&lt;/br&gt;&lt;/br&gt;The Mo...</td>\n",
       "    </tr>\n",
       "    <tr>\n",
       "      <th>2</th>\n",
       "      <td>842613457</td>\n",
       "      <td>False</td>\n",
       "      <td>finalized</td>\n",
       "      <td>3</td>\n",
       "      <td>12/5/15 1:59</td>\n",
       "      <td>NaN</td>\n",
       "      <td>NaN</td>\n",
       "      <td>no</td>\n",
       "      <td>1.000</td>\n",
       "      <td>wsj_398284048</td>\n",
       "      <td>11/14/91</td>\n",
       "      <td>Banking Bill Negotiators Set Compromise --- Pl...</td>\n",
       "      <td>NaN</td>\n",
       "      <td>NaN</td>\n",
       "      <td>WASHINGTON -- In an effort to achieve banking ...</td>\n",
       "    </tr>\n",
       "    <tr>\n",
       "      <th>3</th>\n",
       "      <td>842613458</td>\n",
       "      <td>False</td>\n",
       "      <td>finalized</td>\n",
       "      <td>3</td>\n",
       "      <td>12/5/15 2:19</td>\n",
       "      <td>NaN</td>\n",
       "      <td>0.0000</td>\n",
       "      <td>no</td>\n",
       "      <td>0.675</td>\n",
       "      <td>wsj_397959018</td>\n",
       "      <td>6/16/86</td>\n",
       "      <td>Manager's Journal: Sniffing Out Drug Abusers I...</td>\n",
       "      <td>NaN</td>\n",
       "      <td>NaN</td>\n",
       "      <td>The statistics on the enormous costs of employ...</td>\n",
       "    </tr>\n",
       "    <tr>\n",
       "      <th>4</th>\n",
       "      <td>842613459</td>\n",
       "      <td>False</td>\n",
       "      <td>finalized</td>\n",
       "      <td>3</td>\n",
       "      <td>12/5/15 17:48</td>\n",
       "      <td>3.0</td>\n",
       "      <td>0.3257</td>\n",
       "      <td>yes</td>\n",
       "      <td>0.640</td>\n",
       "      <td>wsj_398838054</td>\n",
       "      <td>10/4/02</td>\n",
       "      <td>Currency Trading: Dollar Remains in Tight Rang...</td>\n",
       "      <td>NaN</td>\n",
       "      <td>NaN</td>\n",
       "      <td>NEW YORK -- Indecision marked the dollar's ton...</td>\n",
       "    </tr>\n",
       "  </tbody>\n",
       "</table>\n",
       "</div>"
      ],
      "text/plain": [
       "    _unit_id  _golden _unit_state  _trusted_judgments _last_judgment_at  \\\n",
       "0  842613455    False   finalized                   3     12/5/15 17:48   \n",
       "1  842613456    False   finalized                   3     12/5/15 16:54   \n",
       "2  842613457    False   finalized                   3      12/5/15 1:59   \n",
       "3  842613458    False   finalized                   3      12/5/15 2:19   \n",
       "4  842613459    False   finalized                   3     12/5/15 17:48   \n",
       "\n",
       "   positivity  positivity:confidence relevance  relevance:confidence  \\\n",
       "0         3.0                 0.6400       yes                 0.640   \n",
       "1         NaN                    NaN        no                 1.000   \n",
       "2         NaN                    NaN        no                 1.000   \n",
       "3         NaN                 0.0000        no                 0.675   \n",
       "4         3.0                 0.3257       yes                 0.640   \n",
       "\n",
       "       articleid      date                                           headline  \\\n",
       "0  wsj_398217788   8/14/91              Yields on CDs Fell in the Latest Week   \n",
       "1  wsj_399019502   8/21/07  The Morning Brief: White House Seeks to Limit ...   \n",
       "2  wsj_398284048  11/14/91  Banking Bill Negotiators Set Compromise --- Pl...   \n",
       "3  wsj_397959018   6/16/86  Manager's Journal: Sniffing Out Drug Abusers I...   \n",
       "4  wsj_398838054   10/4/02  Currency Trading: Dollar Remains in Tight Rang...   \n",
       "\n",
       "   positivity_gold  relevance_gold  \\\n",
       "0              NaN             NaN   \n",
       "1              NaN             NaN   \n",
       "2              NaN             NaN   \n",
       "3              NaN             NaN   \n",
       "4              NaN             NaN   \n",
       "\n",
       "                                                text  \n",
       "0  NEW YORK -- Yields on most certificates of dep...  \n",
       "1  The Wall Street Journal Online</br></br>The Mo...  \n",
       "2  WASHINGTON -- In an effort to achieve banking ...  \n",
       "3  The statistics on the enormous costs of employ...  \n",
       "4  NEW YORK -- Indecision marked the dollar's ton...  "
      ]
     },
     "execution_count": 3,
     "metadata": {},
     "output_type": "execute_result"
    }
   ],
   "source": [
    "df.head(5)"
   ]
  },
  {
   "cell_type": "code",
   "execution_count": 4,
   "id": "6dfFHenMOHFQ",
   "metadata": {
    "id": "6dfFHenMOHFQ"
   },
   "outputs": [],
   "source": [
    "df = df[['headline', 'text', 'relevance']]\n",
    "\n",
    "# We drop all irrelavant features to only keep headline and text for 2 reasons: \n",
    "# The other features seem either irrelevant or we lack documentation\n",
    "# With headline and text only, our final model will be more generalizable. We could in theory apply it to any article."
   ]
  },
  {
   "cell_type": "code",
   "execution_count": 5,
   "id": "609b72fc",
   "metadata": {},
   "outputs": [
    {
     "name": "stdout",
     "output_type": "stream",
     "text": [
      "relevance\n",
      "yes    1420\n",
      "no     1420\n",
      "Name: count, dtype: int64\n"
     ]
    }
   ],
   "source": [
    "import pandas as pd\n",
    "import numpy as np\n",
    "\n",
    "df_yes = df[df['relevance'] == 'yes']\n",
    "df_no = df[df['relevance'] == 'no']\n",
    "\n",
    "df_no_sampled = df_no.sample(n=len(df_yes), random_state=42)\n",
    "\n",
    "# Concatenate the sampled 'no' rows with all 'yes' rows\n",
    "df_balanced = pd.concat([df_yes, df_no_sampled])\n",
    "\n",
    "print(df_balanced['relevance'].value_counts())"
   ]
  },
  {
   "cell_type": "code",
   "execution_count": 6,
   "id": "2dd88fd1",
   "metadata": {},
   "outputs": [],
   "source": [
    "df = df_balanced"
   ]
  },
  {
   "cell_type": "markdown",
   "id": "jK-dXnQAOHFR",
   "metadata": {
    "id": "jK-dXnQAOHFR"
   },
   "source": [
    "Cleaning Strings"
   ]
  },
  {
   "cell_type": "code",
   "execution_count": 7,
   "id": "kS0pN2EEOHFS",
   "metadata": {
    "id": "kS0pN2EEOHFS"
   },
   "outputs": [],
   "source": [
    "#!pip install nltk"
   ]
  },
  {
   "cell_type": "code",
   "execution_count": 8,
   "id": "fpS1zR46OHFS",
   "metadata": {
    "id": "fpS1zR46OHFS"
   },
   "outputs": [],
   "source": [
    "import numpy as np\n",
    "import re\n",
    "import nltk\n",
    "from nltk.corpus import stopwords\n",
    "from nltk.tokenize import word_tokenize\n",
    "from nltk.stem import WordNetLemmatizer"
   ]
  },
  {
   "cell_type": "code",
   "execution_count": 9,
   "id": "T8bYfqW0OHFS",
   "metadata": {
    "colab": {
     "base_uri": "https://localhost:8080/"
    },
    "id": "T8bYfqW0OHFS",
    "outputId": "0e457b24-c049-4984-ed6b-29f344f613b0"
   },
   "outputs": [],
   "source": [
    "# #Ensure you have downloaded the necessary NLTK data\n",
    "import nltk\n",
    "# nltk.download('punkt')\n",
    "# nltk.download('stopwords')\n",
    "# nltk.download('wordnet')"
   ]
  },
  {
   "cell_type": "code",
   "execution_count": 10,
   "id": "hwsu0fkMOHFS",
   "metadata": {
    "id": "hwsu0fkMOHFS"
   },
   "outputs": [],
   "source": [
    "df['whole_txt'] = df['headline']+ ' ' + df['text']"
   ]
  },
  {
   "cell_type": "code",
   "execution_count": 11,
   "id": "tGK5t8RyOHFT",
   "metadata": {
    "id": "tGK5t8RyOHFT"
   },
   "outputs": [],
   "source": [
    "wtxt_train = np.array(df['whole_txt'])"
   ]
  },
  {
   "cell_type": "code",
   "execution_count": 12,
   "id": "kPJu-IuxOHFT",
   "metadata": {
    "colab": {
     "base_uri": "https://localhost:8080/"
    },
    "id": "kPJu-IuxOHFT",
    "outputId": "38626369-0963-40be-8d89-321e151d7b9b"
   },
   "outputs": [],
   "source": [
    "#print(wtxt_train)"
   ]
  },
  {
   "cell_type": "code",
   "execution_count": 13,
   "id": "8EX1KU3FOHFT",
   "metadata": {
    "id": "8EX1KU3FOHFT"
   },
   "outputs": [],
   "source": [
    "for i in range(len(wtxt_train)):\n",
    "    # Taking out '<br>' in the 'whole_text' column\n",
    "    wtxt_train[i] = re.sub(r'</?br>', ' ', wtxt_train[i])\n",
    "    # Deletion of non-latin alfabet signs, also numbers\n",
    "    wtxt_train[i] = re.sub(r'[^a-zA-Z]', ' ', wtxt_train[i])\n",
    "    # Removing single letter works like 'a'.\n",
    "    wtxt_train[i] = re.sub(r\"\\s+[a-zA-Z]\\s+\", ' ', wtxt_train[i])\n",
    "    # Removing double spaces\n",
    "    wtxt_train[i] = re.sub(r'\\s+', ' ', wtxt_train[i])\n",
    "    # Lower case\n",
    "    wtxt_train[i] = wtxt_train[i].lower()"
   ]
  },
  {
   "cell_type": "markdown",
   "id": "OGok8jBiOHFT",
   "metadata": {
    "id": "OGok8jBiOHFT"
   },
   "source": [
    "Split the words."
   ]
  },
  {
   "cell_type": "code",
   "execution_count": 14,
   "id": "YLC_hbBPOHFT",
   "metadata": {
    "id": "YLC_hbBPOHFT"
   },
   "outputs": [],
   "source": [
    "for i in range(len(wtxt_train)):\n",
    "    wtxt_train[i] = word_tokenize(wtxt_train[i])"
   ]
  },
  {
   "cell_type": "markdown",
   "id": "nJcjnqLHOHFT",
   "metadata": {
    "id": "nJcjnqLHOHFT"
   },
   "source": [
    "Removing stop words"
   ]
  },
  {
   "cell_type": "code",
   "execution_count": 15,
   "id": "7uoaH6INOHFT",
   "metadata": {
    "id": "7uoaH6INOHFT"
   },
   "outputs": [],
   "source": [
    "stop_words = set(stopwords.words('english'))\n",
    "\n",
    "for i in range(len(wtxt_train)):\n",
    "    wtxt_train[i] = [word for word in wtxt_train[i] if word not in stop_words]"
   ]
  },
  {
   "cell_type": "code",
   "execution_count": 16,
   "id": "74Ii4vxnOHFU",
   "metadata": {
    "id": "74Ii4vxnOHFU"
   },
   "outputs": [
    {
     "data": {
      "text/plain": [
       "['yields',\n",
       " 'cds',\n",
       " 'fell',\n",
       " 'latest',\n",
       " 'week',\n",
       " 'new',\n",
       " 'york',\n",
       " 'yields',\n",
       " 'certificates',\n",
       " 'deposit',\n",
       " 'offered',\n",
       " 'major',\n",
       " 'banks',\n",
       " 'dropped',\n",
       " 'tenth',\n",
       " 'percentage',\n",
       " 'point',\n",
       " 'latest',\n",
       " 'week',\n",
       " 'reflecting',\n",
       " 'overall',\n",
       " 'decline',\n",
       " 'short',\n",
       " 'term',\n",
       " 'interest',\n",
       " 'rates',\n",
       " 'small',\n",
       " 'denomination',\n",
       " 'consumer',\n",
       " 'cds',\n",
       " 'sold',\n",
       " 'directly',\n",
       " 'banks',\n",
       " 'average',\n",
       " 'yield',\n",
       " 'six',\n",
       " 'month',\n",
       " 'deposits',\n",
       " 'fell',\n",
       " 'week',\n",
       " 'ended',\n",
       " 'yesterday',\n",
       " 'according',\n",
       " 'bank',\n",
       " 'survey',\n",
       " 'banxquote',\n",
       " 'money',\n",
       " 'markets',\n",
       " 'wilmington',\n",
       " 'del',\n",
       " 'information',\n",
       " 'service',\n",
       " 'three',\n",
       " 'month',\n",
       " 'consumer',\n",
       " 'deposits',\n",
       " 'average',\n",
       " 'yield',\n",
       " 'sank',\n",
       " 'week',\n",
       " 'according',\n",
       " 'banxquote',\n",
       " 'two',\n",
       " 'banks',\n",
       " 'banxquote',\n",
       " 'survey',\n",
       " 'citibank',\n",
       " 'new',\n",
       " 'york',\n",
       " 'corestates',\n",
       " 'pennsylvania',\n",
       " 'paying',\n",
       " 'less',\n",
       " 'threemonth',\n",
       " 'small',\n",
       " 'denomination',\n",
       " 'cds',\n",
       " 'declines',\n",
       " 'somewhat',\n",
       " 'smaller',\n",
       " 'five',\n",
       " 'year',\n",
       " 'consumer',\n",
       " 'cds',\n",
       " 'eased',\n",
       " 'banxquote',\n",
       " 'said',\n",
       " 'yields',\n",
       " 'three',\n",
       " 'month',\n",
       " 'six',\n",
       " 'month',\n",
       " 'treasury',\n",
       " 'bills',\n",
       " 'sold',\n",
       " 'monday',\n",
       " 'auction',\n",
       " 'plummeted',\n",
       " 'fifth',\n",
       " 'percentage',\n",
       " 'point',\n",
       " 'previous',\n",
       " 'week',\n",
       " 'respectively']"
      ]
     },
     "execution_count": 16,
     "metadata": {},
     "output_type": "execute_result"
    }
   ],
   "source": [
    "wtxt_train[0]\n",
    "# stop_words"
   ]
  },
  {
   "cell_type": "markdown",
   "id": "0Ih9nJCDOHFU",
   "metadata": {
    "id": "0Ih9nJCDOHFU"
   },
   "source": [
    "Lemmatization"
   ]
  },
  {
   "cell_type": "code",
   "execution_count": 17,
   "id": "tZq0soQFOHFU",
   "metadata": {
    "id": "tZq0soQFOHFU"
   },
   "outputs": [],
   "source": [
    "lemmatizer = WordNetLemmatizer()\n",
    "for i in range(len(wtxt_train)):\n",
    "    wtxt_train[i] = [lemmatizer.lemmatize(word) for word in wtxt_train[i]]"
   ]
  },
  {
   "cell_type": "code",
   "execution_count": 18,
   "id": "yh7EcIK7OHFU",
   "metadata": {
    "id": "yh7EcIK7OHFU"
   },
   "outputs": [],
   "source": [
    "df['whole_txt'] = wtxt_train\n",
    "df = df.drop(['headline', 'text'], axis = 1)"
   ]
  },
  {
   "cell_type": "code",
   "execution_count": 19,
   "id": "T1TLLZZhOHFU",
   "metadata": {
    "colab": {
     "base_uri": "https://localhost:8080/",
     "height": 206
    },
    "id": "T1TLLZZhOHFU",
    "outputId": "127d4d92-3e49-4449-8bff-a5ab1fa375cc"
   },
   "outputs": [
    {
     "data": {
      "text/html": [
       "<div>\n",
       "<style scoped>\n",
       "    .dataframe tbody tr th:only-of-type {\n",
       "        vertical-align: middle;\n",
       "    }\n",
       "\n",
       "    .dataframe tbody tr th {\n",
       "        vertical-align: top;\n",
       "    }\n",
       "\n",
       "    .dataframe thead th {\n",
       "        text-align: right;\n",
       "    }\n",
       "</style>\n",
       "<table border=\"1\" class=\"dataframe\">\n",
       "  <thead>\n",
       "    <tr style=\"text-align: right;\">\n",
       "      <th></th>\n",
       "      <th>relevance</th>\n",
       "      <th>whole_txt</th>\n",
       "    </tr>\n",
       "  </thead>\n",
       "  <tbody>\n",
       "    <tr>\n",
       "      <th>0</th>\n",
       "      <td>yes</td>\n",
       "      <td>[yield, cd, fell, latest, week, new, york, yie...</td>\n",
       "    </tr>\n",
       "    <tr>\n",
       "      <th>4</th>\n",
       "      <td>yes</td>\n",
       "      <td>[currency, trading, dollar, remains, tight, ra...</td>\n",
       "    </tr>\n",
       "    <tr>\n",
       "      <th>5</th>\n",
       "      <td>yes</td>\n",
       "      <td>[stock, fall, bofa, alcoa, slide, stock, decli...</td>\n",
       "    </tr>\n",
       "    <tr>\n",
       "      <th>9</th>\n",
       "      <td>yes</td>\n",
       "      <td>[u, dollar, fall, currency, decline, softened,...</td>\n",
       "    </tr>\n",
       "    <tr>\n",
       "      <th>12</th>\n",
       "      <td>yes</td>\n",
       "      <td>[defending, deflation, author, james, stewart,...</td>\n",
       "    </tr>\n",
       "  </tbody>\n",
       "</table>\n",
       "</div>"
      ],
      "text/plain": [
       "   relevance                                          whole_txt\n",
       "0        yes  [yield, cd, fell, latest, week, new, york, yie...\n",
       "4        yes  [currency, trading, dollar, remains, tight, ra...\n",
       "5        yes  [stock, fall, bofa, alcoa, slide, stock, decli...\n",
       "9        yes  [u, dollar, fall, currency, decline, softened,...\n",
       "12       yes  [defending, deflation, author, james, stewart,..."
      ]
     },
     "execution_count": 19,
     "metadata": {},
     "output_type": "execute_result"
    }
   ],
   "source": [
    "df.head(5)"
   ]
  },
  {
   "cell_type": "code",
   "execution_count": 72,
   "id": "1e868e34",
   "metadata": {
    "id": "1e868e34"
   },
   "outputs": [],
   "source": [
    "## Importing Libraries\n",
    "import numpy as np\n",
    "import tensorflow as tf\n",
    "from tensorflow.keras.preprocessing.text import Tokenizer\n",
    "from tensorflow.keras.preprocessing.sequence import pad_sequences\n",
    "from tensorflow.keras.models import Sequential\n",
    "from tensorflow.keras.layers import Embedding, LSTM, Dense, Dropout, Bidirectional\n",
    "from tensorflow.keras.callbacks import EarlyStopping"
   ]
  },
  {
   "cell_type": "markdown",
   "id": "2a9ecc91",
   "metadata": {
    "id": "2a9ecc91"
   },
   "source": [
    "### Data preparation\n",
    "* Initial Data Processing: Our first step is to encode the relevance label into both the Relevant (1) and non-Relevant labels (0). Then, we make it into a np.array to feed into the model.\n",
    "* Then, we begin to clean text data into pad sequences."
   ]
  },
  {
   "cell_type": "code",
   "execution_count": 21,
   "id": "8d046d1e",
   "metadata": {},
   "outputs": [],
   "source": [
    "df.update(df[\"relevance\"].apply(lambda x: 0 if x == \"no\" else 1))"
   ]
  },
  {
   "cell_type": "code",
   "execution_count": 22,
   "id": "c64fe00d",
   "metadata": {},
   "outputs": [
    {
     "data": {
      "text/html": [
       "<div>\n",
       "<style scoped>\n",
       "    .dataframe tbody tr th:only-of-type {\n",
       "        vertical-align: middle;\n",
       "    }\n",
       "\n",
       "    .dataframe tbody tr th {\n",
       "        vertical-align: top;\n",
       "    }\n",
       "\n",
       "    .dataframe thead th {\n",
       "        text-align: right;\n",
       "    }\n",
       "</style>\n",
       "<table border=\"1\" class=\"dataframe\">\n",
       "  <thead>\n",
       "    <tr style=\"text-align: right;\">\n",
       "      <th></th>\n",
       "      <th>relevance</th>\n",
       "      <th>whole_txt</th>\n",
       "    </tr>\n",
       "  </thead>\n",
       "  <tbody>\n",
       "    <tr>\n",
       "      <th>0</th>\n",
       "      <td>1</td>\n",
       "      <td>[yield, cd, fell, latest, week, new, york, yie...</td>\n",
       "    </tr>\n",
       "    <tr>\n",
       "      <th>4</th>\n",
       "      <td>1</td>\n",
       "      <td>[currency, trading, dollar, remains, tight, ra...</td>\n",
       "    </tr>\n",
       "    <tr>\n",
       "      <th>5</th>\n",
       "      <td>1</td>\n",
       "      <td>[stock, fall, bofa, alcoa, slide, stock, decli...</td>\n",
       "    </tr>\n",
       "    <tr>\n",
       "      <th>9</th>\n",
       "      <td>1</td>\n",
       "      <td>[u, dollar, fall, currency, decline, softened,...</td>\n",
       "    </tr>\n",
       "    <tr>\n",
       "      <th>12</th>\n",
       "      <td>1</td>\n",
       "      <td>[defending, deflation, author, james, stewart,...</td>\n",
       "    </tr>\n",
       "  </tbody>\n",
       "</table>\n",
       "</div>"
      ],
      "text/plain": [
       "   relevance                                          whole_txt\n",
       "0          1  [yield, cd, fell, latest, week, new, york, yie...\n",
       "4          1  [currency, trading, dollar, remains, tight, ra...\n",
       "5          1  [stock, fall, bofa, alcoa, slide, stock, decli...\n",
       "9          1  [u, dollar, fall, currency, decline, softened,...\n",
       "12         1  [defending, deflation, author, james, stewart,..."
      ]
     },
     "execution_count": 22,
     "metadata": {},
     "output_type": "execute_result"
    }
   ],
   "source": [
    "df.head(5)"
   ]
  },
  {
   "cell_type": "markdown",
   "id": "bc686094",
   "metadata": {
    "id": "bc686094"
   },
   "source": [
    "### Tokenization\n",
    "First, we need to \"tokenize\" our sentences, i.e., convert them to sequences of numbers. For this task, we are going to use the `Tokenizer` from Tensorflow (documentation [here](https://www.tensorflow.org/api_docs/python/tf/keras/preprocessing/text/Tokenizer))"
   ]
  },
  {
   "cell_type": "code",
   "execution_count": 23,
   "id": "cf9eaddf",
   "metadata": {
    "id": "cf9eaddf"
   },
   "outputs": [],
   "source": [
    "tokenizer = Tokenizer()\n",
    "tokenizer.fit_on_texts(wtxt_train)   # fit our tokenizer on the dataset (i.e., assign a number to each word and keep a\n",
    "                                    # dictionary with the correspondence of each word to a number)\n",
    "\n",
    "# see the language dictionary and the total number of words (please note that number 0 is reserved for the padding task)\n",
    "word_index = tokenizer.word_index\n",
    "total_words = len(word_index) + 1"
   ]
  },
  {
   "cell_type": "code",
   "execution_count": 24,
   "id": "1bb124ce",
   "metadata": {
    "id": "1bb124ce"
   },
   "outputs": [
    {
     "data": {
      "text/plain": [
       "{'year': 1,\n",
       " 'rate': 2,\n",
       " 'market': 3,\n",
       " 'said': 4,\n",
       " 'stock': 5,\n",
       " 'price': 6,\n",
       " 'new': 7,\n",
       " 'economy': 8,\n",
       " 'economic': 9,\n",
       " 'month': 10,\n",
       " 'federal': 11,\n",
       " 'would': 12,\n",
       " 'interest': 13,\n",
       " 'percent': 14,\n",
       " 'last': 15,\n",
       " 'week': 16,\n",
       " 'inflation': 17,\n",
       " 'bank': 18,\n",
       " 'billion': 19,\n",
       " 'fed': 20,\n",
       " 'dollar': 21,\n",
       " 'bond': 22,\n",
       " 'point': 23,\n",
       " 'growth': 24,\n",
       " 'investor': 25,\n",
       " 'one': 26,\n",
       " 'company': 27,\n",
       " 'million': 28,\n",
       " 'index': 29,\n",
       " 'since': 30,\n",
       " 'york': 31,\n",
       " 'quarter': 32,\n",
       " 'average': 33,\n",
       " 'first': 34,\n",
       " 'time': 35,\n",
       " 'tax': 36,\n",
       " 'increase': 37,\n",
       " 'reserve': 38,\n",
       " 'may': 39,\n",
       " 'government': 40,\n",
       " 'president': 41,\n",
       " 'report': 42,\n",
       " 'business': 43,\n",
       " 'day': 44,\n",
       " 'rose': 45,\n",
       " 'say': 46,\n",
       " 'consumer': 47,\n",
       " 'also': 48,\n",
       " 'yesterday': 49,\n",
       " 'two': 50,\n",
       " 'economist': 51,\n",
       " 'dow': 52,\n",
       " 'sale': 53,\n",
       " 'many': 54,\n",
       " 'job': 55,\n",
       " 'fund': 56,\n",
       " 'share': 57,\n",
       " 'could': 58,\n",
       " 'high': 59,\n",
       " 'gain': 60,\n",
       " 'higher': 61,\n",
       " 'trading': 62,\n",
       " 'cut': 63,\n",
       " 'deficit': 64,\n",
       " 'state': 65,\n",
       " 'analyst': 66,\n",
       " 'decline': 67,\n",
       " 'money': 68,\n",
       " 'spending': 69,\n",
       " 'fell': 70,\n",
       " 'mr': 71,\n",
       " 'recession': 72,\n",
       " 'financial': 73,\n",
       " 'term': 74,\n",
       " 'treasury': 75,\n",
       " 'policy': 76,\n",
       " 'even': 77,\n",
       " 'rise': 78,\n",
       " 'good': 79,\n",
       " 'industrial': 80,\n",
       " 'level': 81,\n",
       " 'unemployment': 82,\n",
       " 'much': 83,\n",
       " 'american': 84,\n",
       " 'department': 85,\n",
       " 'today': 86,\n",
       " 'trade': 87,\n",
       " 'low': 88,\n",
       " 'cent': 89,\n",
       " 'lower': 90,\n",
       " 'expected': 91,\n",
       " 'washington': 92,\n",
       " 'cost': 93,\n",
       " 'still': 94,\n",
       " 'plan': 95,\n",
       " 'budget': 96,\n",
       " 'jones': 97,\n",
       " 'three': 98,\n",
       " 'nation': 99,\n",
       " 'official': 100,\n",
       " 'house': 101,\n",
       " 'labor': 102,\n",
       " 'recent': 103,\n",
       " 'security': 104,\n",
       " 'home': 105,\n",
       " 'people': 106,\n",
       " 'next': 107,\n",
       " 'long': 108,\n",
       " 'exchange': 109,\n",
       " 'oil': 110,\n",
       " 'recovery': 111,\n",
       " 'make': 112,\n",
       " 'record': 113,\n",
       " 'news': 114,\n",
       " 'industry': 115,\n",
       " 'end': 116,\n",
       " 'investment': 117,\n",
       " 'back': 118,\n",
       " 'credit': 119,\n",
       " 'number': 120,\n",
       " 'second': 121,\n",
       " 'income': 122,\n",
       " 'profit': 123,\n",
       " 'past': 124,\n",
       " 'issue': 125,\n",
       " 'chairman': 126,\n",
       " 'data': 127,\n",
       " 'strong': 128,\n",
       " 'board': 129,\n",
       " 'short': 130,\n",
       " 'big': 131,\n",
       " 'according': 132,\n",
       " 'le': 133,\n",
       " 'chief': 134,\n",
       " 'service': 135,\n",
       " 'friday': 136,\n",
       " 'administration': 137,\n",
       " 'major': 138,\n",
       " 'late': 139,\n",
       " 'like': 140,\n",
       " 'world': 141,\n",
       " 'reported': 142,\n",
       " 'yield': 143,\n",
       " 'drop': 144,\n",
       " 'currency': 145,\n",
       " 'well': 146,\n",
       " 'mortgage': 147,\n",
       " 'loan': 148,\n",
       " 'earlier': 149,\n",
       " 'group': 150,\n",
       " 'firm': 151,\n",
       " 'fall': 152,\n",
       " 'inc': 153,\n",
       " 'earnings': 154,\n",
       " 'street': 155,\n",
       " 'rising': 156,\n",
       " 'per': 157,\n",
       " 'loss': 158,\n",
       " 'country': 159,\n",
       " 'worker': 160,\n",
       " 'way': 161,\n",
       " 'work': 162,\n",
       " 'central': 163,\n",
       " 'another': 164,\n",
       " 'co': 165,\n",
       " 'third': 166,\n",
       " 'get': 167,\n",
       " 'move': 168,\n",
       " 'future': 169,\n",
       " 'early': 170,\n",
       " 'wall': 171,\n",
       " 'sign': 172,\n",
       " 'national': 173,\n",
       " 'bill': 174,\n",
       " 'program': 175,\n",
       " 'january': 176,\n",
       " 'figure': 177,\n",
       " 'congress': 178,\n",
       " 'bush': 179,\n",
       " 'part': 180,\n",
       " 'annual': 181,\n",
       " 'capital': 182,\n",
       " 'take': 183,\n",
       " 'see': 184,\n",
       " 'trader': 185,\n",
       " 'close': 186,\n",
       " 'likely': 187,\n",
       " 'change': 188,\n",
       " 'made': 189,\n",
       " 'june': 190,\n",
       " 'demand': 191,\n",
       " 'among': 192,\n",
       " 'housing': 193,\n",
       " 'half': 194,\n",
       " 'july': 195,\n",
       " 'pay': 196,\n",
       " 'nearly': 197,\n",
       " 'nasdaq': 198,\n",
       " 'little': 199,\n",
       " 'march': 200,\n",
       " 'system': 201,\n",
       " 'result': 202,\n",
       " 'debt': 203,\n",
       " 'come': 204,\n",
       " 'raise': 205,\n",
       " 'problem': 206,\n",
       " 'concern': 207,\n",
       " 'rally': 208,\n",
       " 'show': 209,\n",
       " 'four': 210,\n",
       " 'standard': 211,\n",
       " 'committee': 212,\n",
       " 'product': 213,\n",
       " 'small': 214,\n",
       " 'corp': 215,\n",
       " 'keep': 216,\n",
       " 'foreign': 217,\n",
       " 'forecast': 218,\n",
       " 'corporate': 219,\n",
       " 'ago': 220,\n",
       " 'continued': 221,\n",
       " 'u': 222,\n",
       " 'april': 223,\n",
       " 'city': 224,\n",
       " 'yen': 225,\n",
       " 'real': 226,\n",
       " 'global': 227,\n",
       " 'greenspan': 228,\n",
       " 'meeting': 229,\n",
       " 'help': 230,\n",
       " 'however': 231,\n",
       " 'employment': 232,\n",
       " 'sector': 233,\n",
       " 'fear': 234,\n",
       " 'far': 235,\n",
       " 'value': 236,\n",
       " 'based': 237,\n",
       " 'despite': 238,\n",
       " 'ahead': 239,\n",
       " 'including': 240,\n",
       " 'poor': 241,\n",
       " 'hit': 242,\n",
       " 'executive': 243,\n",
       " 'several': 244,\n",
       " 'go': 245,\n",
       " 'might': 246,\n",
       " 'survey': 247,\n",
       " 'volume': 248,\n",
       " 'period': 249,\n",
       " 'current': 250,\n",
       " 'session': 251,\n",
       " 'benefit': 252,\n",
       " 'measure': 253,\n",
       " 'put': 254,\n",
       " 'order': 255,\n",
       " 'large': 256,\n",
       " 'pace': 257,\n",
       " 'public': 258,\n",
       " 'set': 259,\n",
       " 'added': 260,\n",
       " 'area': 261,\n",
       " 'japan': 262,\n",
       " 'compared': 263,\n",
       " 'think': 264,\n",
       " 'increased': 265,\n",
       " 'start': 266,\n",
       " 'going': 267,\n",
       " 'commerce': 268,\n",
       " 'biggest': 269,\n",
       " 'tuesday': 270,\n",
       " 'five': 271,\n",
       " 'better': 272,\n",
       " 'need': 273,\n",
       " 'fiscal': 274,\n",
       " 'pressure': 275,\n",
       " 'international': 276,\n",
       " 'continue': 277,\n",
       " 'white': 278,\n",
       " 'finance': 279,\n",
       " 'united': 280,\n",
       " 'thursday': 281,\n",
       " 'energy': 282,\n",
       " 'largest': 283,\n",
       " 'least': 284,\n",
       " 'six': 285,\n",
       " 'percentage': 286,\n",
       " 'revenue': 287,\n",
       " 'though': 288,\n",
       " 'general': 289,\n",
       " 'mark': 290,\n",
       " 'growing': 291,\n",
       " 'february': 292,\n",
       " 'sell': 293,\n",
       " 'sharply': 294,\n",
       " 'crisis': 295,\n",
       " 'august': 296,\n",
       " 'latest': 297,\n",
       " 'ended': 298,\n",
       " 'dropped': 299,\n",
       " 'monday': 300,\n",
       " 'buy': 301,\n",
       " 'came': 302,\n",
       " 'deal': 303,\n",
       " 'october': 304,\n",
       " 'best': 305,\n",
       " 'wednesday': 306,\n",
       " 'member': 307,\n",
       " 'already': 308,\n",
       " 'office': 309,\n",
       " 'senate': 310,\n",
       " 'previous': 311,\n",
       " 'slightly': 312,\n",
       " 'december': 313,\n",
       " 'enough': 314,\n",
       " 'november': 315,\n",
       " 'export': 316,\n",
       " 'technology': 317,\n",
       " 'around': 318,\n",
       " 'risk': 319,\n",
       " 'manager': 320,\n",
       " 'began': 321,\n",
       " 'euro': 322,\n",
       " 'yet': 323,\n",
       " 'supply': 324,\n",
       " 'composite': 325,\n",
       " 'lost': 326,\n",
       " 'health': 327,\n",
       " 'whether': 328,\n",
       " 'weak': 329,\n",
       " 'top': 330,\n",
       " 'buying': 331,\n",
       " 'september': 332,\n",
       " 'boost': 333,\n",
       " 'clinton': 334,\n",
       " 'wage': 335,\n",
       " 'face': 336,\n",
       " 'outlook': 337,\n",
       " 'thing': 338,\n",
       " 'making': 339,\n",
       " 'right': 340,\n",
       " 'showed': 341,\n",
       " 'look': 342,\n",
       " 'falling': 343,\n",
       " 'monetary': 344,\n",
       " 'reagan': 345,\n",
       " 'estimate': 346,\n",
       " 'war': 347,\n",
       " 'closed': 348,\n",
       " 'activity': 349,\n",
       " 'force': 350,\n",
       " 'america': 351,\n",
       " 'lowest': 352,\n",
       " 'action': 353,\n",
       " 'expect': 354,\n",
       " 'declined': 355,\n",
       " 'although': 356,\n",
       " 'hour': 357,\n",
       " 'highest': 358,\n",
       " 'return': 359,\n",
       " 'gold': 360,\n",
       " 'effort': 361,\n",
       " 'private': 362,\n",
       " 'fourth': 363,\n",
       " 'management': 364,\n",
       " 'banking': 365,\n",
       " 'republican': 366,\n",
       " 'run': 367,\n",
       " 'total': 368,\n",
       " 'mean': 369,\n",
       " 'food': 370,\n",
       " 'effect': 371,\n",
       " 'maker': 372,\n",
       " 'import': 373,\n",
       " 'advance': 374,\n",
       " 'retail': 375,\n",
       " 'almost': 376,\n",
       " 'worry': 377,\n",
       " 'post': 378,\n",
       " 'indicator': 379,\n",
       " 'amount': 380,\n",
       " 'sharp': 381,\n",
       " 'key': 382,\n",
       " 'selling': 383,\n",
       " 'political': 384,\n",
       " 'expectation': 385,\n",
       " 'production': 386,\n",
       " 'without': 387,\n",
       " 'question': 388,\n",
       " 'want': 389,\n",
       " 'coming': 390,\n",
       " 'manufacturing': 391,\n",
       " 'hope': 392,\n",
       " 'released': 393,\n",
       " 'domestic': 394,\n",
       " 'note': 395,\n",
       " 'become': 396,\n",
       " 'confidence': 397,\n",
       " 'law': 398,\n",
       " 'every': 399,\n",
       " 'overall': 400,\n",
       " 'chip': 401,\n",
       " 'director': 402,\n",
       " 'computer': 403,\n",
       " 'auto': 404,\n",
       " 'soon': 405,\n",
       " 'vice': 406,\n",
       " 'slow': 407,\n",
       " 'call': 408,\n",
       " 'strength': 409,\n",
       " 'gained': 410,\n",
       " 'employee': 411,\n",
       " 'blue': 412,\n",
       " 'support': 413,\n",
       " 'decade': 414,\n",
       " 'leader': 415,\n",
       " 'jobless': 416,\n",
       " 'cash': 417,\n",
       " 'give': 418,\n",
       " 'led': 419,\n",
       " 'view': 420,\n",
       " 'taking': 421,\n",
       " 'offer': 422,\n",
       " 'research': 423,\n",
       " 'university': 424,\n",
       " 'democrat': 425,\n",
       " 'open': 426,\n",
       " 'full': 427,\n",
       " 'old': 428,\n",
       " 'car': 429,\n",
       " 'surge': 430,\n",
       " 'called': 431,\n",
       " 'seen': 432,\n",
       " 'proposal': 433,\n",
       " 'insurance': 434,\n",
       " 'industrials': 435,\n",
       " 'line': 436,\n",
       " 'account': 437,\n",
       " 'power': 438,\n",
       " 'net': 439,\n",
       " 'amid': 440,\n",
       " 'p': 441,\n",
       " 'adjusted': 442,\n",
       " 'care': 443,\n",
       " 'reason': 444,\n",
       " 'turn': 445,\n",
       " 'near': 446,\n",
       " 'trend': 447,\n",
       " 'head': 448,\n",
       " 'retailer': 449,\n",
       " 'contract': 450,\n",
       " 'later': 451,\n",
       " 'europe': 452,\n",
       " 'asset': 453,\n",
       " 'lead': 454,\n",
       " 'monthly': 455,\n",
       " 'japanese': 456,\n",
       " 'longer': 457,\n",
       " 'remain': 458,\n",
       " 'senior': 459,\n",
       " 'slowdown': 460,\n",
       " 'lot': 461,\n",
       " 'saving': 462,\n",
       " 'control': 463,\n",
       " 'find': 464,\n",
       " 'hold': 465,\n",
       " 'option': 466,\n",
       " 'social': 467,\n",
       " 'purchase': 468,\n",
       " 'school': 469,\n",
       " 'expansion': 470,\n",
       " 'european': 471,\n",
       " 'county': 472,\n",
       " 'toward': 473,\n",
       " 'association': 474,\n",
       " 'decision': 475,\n",
       " 'left': 476,\n",
       " 'told': 477,\n",
       " 'mixed': 478,\n",
       " 'reduce': 479,\n",
       " 'china': 480,\n",
       " 'believe': 481,\n",
       " 'election': 482,\n",
       " 'slowing': 483,\n",
       " 'target': 484,\n",
       " 'output': 485,\n",
       " 'performance': 486,\n",
       " 'secretary': 487,\n",
       " 'bad': 488,\n",
       " 'evidence': 489,\n",
       " 'announced': 490,\n",
       " 'store': 491,\n",
       " 'gross': 492,\n",
       " 'unit': 493,\n",
       " 'important': 494,\n",
       " 'case': 495,\n",
       " 'producer': 496,\n",
       " 'must': 497,\n",
       " 'recently': 498,\n",
       " 'productivity': 499,\n",
       " 'john': 500,\n",
       " 'leading': 501,\n",
       " 'took': 502,\n",
       " 'helped': 503,\n",
       " 'claim': 504,\n",
       " 'held': 505,\n",
       " 'life': 506,\n",
       " 'family': 507,\n",
       " 'council': 508,\n",
       " 'region': 509,\n",
       " 'following': 510,\n",
       " 'statement': 511,\n",
       " 'hand': 512,\n",
       " 'condition': 513,\n",
       " 'summer': 514,\n",
       " 'push': 515,\n",
       " 'campaign': 516,\n",
       " 'away': 517,\n",
       " 'congressional': 518,\n",
       " 'talk': 519,\n",
       " 'obama': 520,\n",
       " 'robert': 521,\n",
       " 'lending': 522,\n",
       " 'remains': 523,\n",
       " 'within': 524,\n",
       " 'meanwhile': 525,\n",
       " 'alan': 526,\n",
       " 'broad': 527,\n",
       " 'place': 528,\n",
       " 'begin': 529,\n",
       " 'looking': 530,\n",
       " 'agency': 531,\n",
       " 'grew': 532,\n",
       " 'jumped': 533,\n",
       " 'union': 534,\n",
       " 'impact': 535,\n",
       " 'district': 536,\n",
       " 'raising': 537,\n",
       " 'institution': 538,\n",
       " 'due': 539,\n",
       " 'payroll': 540,\n",
       " 'payment': 541,\n",
       " 'reduction': 542,\n",
       " 'banker': 543,\n",
       " 'former': 544,\n",
       " 'operation': 545,\n",
       " 'personal': 546,\n",
       " 'seven': 547,\n",
       " 'great': 548,\n",
       " 'factor': 549,\n",
       " 'individual': 550,\n",
       " 'local': 551,\n",
       " 'development': 552,\n",
       " 'steel': 553,\n",
       " 'posted': 554,\n",
       " 'mutual': 555,\n",
       " 'holding': 556,\n",
       " 'know': 557,\n",
       " 'study': 558,\n",
       " 'rule': 559,\n",
       " 'statistic': 560,\n",
       " 'rather': 561,\n",
       " 'generally': 562,\n",
       " 'democratic': 563,\n",
       " 'charge': 564,\n",
       " 'party': 565,\n",
       " 'signal': 566,\n",
       " 'prospect': 567,\n",
       " 'gdp': 568,\n",
       " 'conference': 569,\n",
       " 'estate': 570,\n",
       " 'climbed': 571,\n",
       " 'buyer': 572,\n",
       " 'found': 573,\n",
       " 'steady': 574,\n",
       " 'morgan': 575,\n",
       " 'hard': 576,\n",
       " 'fact': 577,\n",
       " 'reached': 578,\n",
       " 'modest': 579,\n",
       " 'across': 580,\n",
       " 'card': 581,\n",
       " 'others': 582,\n",
       " 'equity': 583,\n",
       " 'stimulus': 584,\n",
       " 'fixed': 585,\n",
       " 'black': 586,\n",
       " 'adviser': 587,\n",
       " 'getting': 588,\n",
       " 'course': 589,\n",
       " 'used': 590,\n",
       " 'mid': 591,\n",
       " 'followed': 592,\n",
       " 'raised': 593,\n",
       " 'instead': 594,\n",
       " 'revised': 595,\n",
       " 'often': 596,\n",
       " 'history': 597,\n",
       " 'especially': 598,\n",
       " 'jump': 599,\n",
       " 'beginning': 600,\n",
       " 'manufacturer': 601,\n",
       " 'final': 602,\n",
       " 'probably': 603,\n",
       " 'predicted': 604,\n",
       " 'example': 605,\n",
       " 'chicago': 606,\n",
       " 'customer': 607,\n",
       " 'significant': 608,\n",
       " 'sold': 609,\n",
       " 'minute': 610,\n",
       " 'seems': 611,\n",
       " 'closing': 612,\n",
       " 'given': 613,\n",
       " 'traded': 614,\n",
       " 'step': 615,\n",
       " 'center': 616,\n",
       " 'building': 617,\n",
       " 'benchmark': 618,\n",
       " 'commodity': 619,\n",
       " 'german': 620,\n",
       " 'package': 621,\n",
       " 'gap': 622,\n",
       " 'improvement': 623,\n",
       " 'shift': 624,\n",
       " 'position': 625,\n",
       " 'construction': 626,\n",
       " 'maryland': 627,\n",
       " 'virginia': 628,\n",
       " 'range': 629,\n",
       " 'advanced': 630,\n",
       " 'weakness': 631,\n",
       " 'cutting': 632,\n",
       " 'meet': 633,\n",
       " 'turned': 634,\n",
       " 'use': 635,\n",
       " 'started': 636,\n",
       " 'factory': 637,\n",
       " 'defense': 638,\n",
       " 'comment': 639,\n",
       " 'rebound': 640,\n",
       " 'single': 641,\n",
       " 'airline': 642,\n",
       " 'agreement': 643,\n",
       " 'rest': 644,\n",
       " 'act': 645,\n",
       " 'straight': 646,\n",
       " 'agreed': 647,\n",
       " 'attack': 648,\n",
       " 'sept': 649,\n",
       " 'list': 650,\n",
       " 'noted': 651,\n",
       " 'west': 652,\n",
       " 'got': 653,\n",
       " 'quickly': 654,\n",
       " 'heavy': 655,\n",
       " 'trillion': 656,\n",
       " 'side': 657,\n",
       " 'bear': 658,\n",
       " 'borrowing': 659,\n",
       " 'inventory': 660,\n",
       " 'moving': 661,\n",
       " 'possible': 662,\n",
       " 'idea': 663,\n",
       " 'try': 664,\n",
       " 'grow': 665,\n",
       " 'taken': 666,\n",
       " 'slump': 667,\n",
       " 'crash': 668,\n",
       " 'ford': 669,\n",
       " 'unchanged': 670,\n",
       " 'press': 671,\n",
       " 'strategist': 672,\n",
       " 'provide': 673,\n",
       " 'really': 674,\n",
       " 'clear': 675,\n",
       " 'uncertainty': 676,\n",
       " 'something': 677,\n",
       " 'proposed': 678,\n",
       " 'cause': 679,\n",
       " 'crude': 680,\n",
       " 'journal': 681,\n",
       " 'known': 682,\n",
       " 'continuing': 683,\n",
       " 'fee': 684,\n",
       " 'middle': 685,\n",
       " 'afternoon': 686,\n",
       " 'holiday': 687,\n",
       " 'initial': 688,\n",
       " 'bernanke': 689,\n",
       " 'finished': 690,\n",
       " 'hurt': 691,\n",
       " 'financing': 692,\n",
       " 'morning': 693,\n",
       " 'strategy': 694,\n",
       " 'largely': 695,\n",
       " 'ever': 696,\n",
       " 'officer': 697,\n",
       " 'worst': 698,\n",
       " 'pushed': 699,\n",
       " 'moved': 700,\n",
       " 'household': 701,\n",
       " 'light': 702,\n",
       " 'along': 703,\n",
       " 'plant': 704,\n",
       " 'c': 705,\n",
       " 'commission': 706,\n",
       " 'oct': 707,\n",
       " 'huge': 708,\n",
       " 'moderate': 709,\n",
       " 'motor': 710,\n",
       " 'utility': 711,\n",
       " 'carter': 712,\n",
       " 'stronger': 713,\n",
       " 'slower': 714,\n",
       " 'warned': 715,\n",
       " 'living': 716,\n",
       " 'employer': 717,\n",
       " 'whose': 718,\n",
       " 'declining': 719,\n",
       " 'discount': 720,\n",
       " 'aid': 721,\n",
       " 'behind': 722,\n",
       " 'increasing': 723,\n",
       " 'downturn': 724,\n",
       " 'break': 725,\n",
       " 'showing': 726,\n",
       " 'project': 727,\n",
       " 'bit': 728,\n",
       " 'relatively': 729,\n",
       " 'commercial': 730,\n",
       " 'expects': 731,\n",
       " 'drug': 732,\n",
       " 'suggests': 733,\n",
       " 'upward': 734,\n",
       " 'continues': 735,\n",
       " 'boom': 736,\n",
       " 'working': 737,\n",
       " 'dividend': 738,\n",
       " 'author': 739,\n",
       " 'easing': 740,\n",
       " 'fuel': 741,\n",
       " 'remained': 742,\n",
       " 'information': 743,\n",
       " 'changed': 744,\n",
       " 'eight': 745,\n",
       " 'balance': 746,\n",
       " 'positive': 747,\n",
       " 'sent': 748,\n",
       " 'saying': 749,\n",
       " 'available': 750,\n",
       " 'particularly': 751,\n",
       " 'certain': 752,\n",
       " 'tech': 753,\n",
       " 'basis': 754,\n",
       " 'seasonally': 755,\n",
       " 'saw': 756,\n",
       " 'class': 757,\n",
       " 'dealer': 758,\n",
       " 'portfolio': 759,\n",
       " 'different': 760,\n",
       " 'faster': 761,\n",
       " 'reading': 762,\n",
       " 'book': 763,\n",
       " 'focus': 764,\n",
       " 'response': 765,\n",
       " 'potential': 766,\n",
       " 'add': 767,\n",
       " 'equipment': 768,\n",
       " 'greater': 769,\n",
       " 'governor': 770,\n",
       " 'vote': 771,\n",
       " 'smaller': 772,\n",
       " 'issued': 773,\n",
       " 'additional': 774,\n",
       " 'event': 775,\n",
       " 'peak': 776,\n",
       " 'thought': 777,\n",
       " 'regulator': 778,\n",
       " 'jan': 779,\n",
       " 'slide': 780,\n",
       " 'matter': 781,\n",
       " 'paul': 782,\n",
       " 'seem': 783,\n",
       " 'never': 784,\n",
       " 'lender': 785,\n",
       " 'fallen': 786,\n",
       " 'david': 787,\n",
       " 'chance': 788,\n",
       " 'weekly': 789,\n",
       " 'legislation': 790,\n",
       " 'free': 791,\n",
       " 'climb': 792,\n",
       " 'needed': 793,\n",
       " 'retirement': 794,\n",
       " 'california': 795,\n",
       " 'trust': 796,\n",
       " 'related': 797,\n",
       " 'estimated': 798,\n",
       " 'analysis': 799,\n",
       " 'rail': 800,\n",
       " 'reform': 801,\n",
       " 'appears': 802,\n",
       " 'larger': 803,\n",
       " 'bureau': 804,\n",
       " 'active': 805,\n",
       " 'economics': 806,\n",
       " 'drive': 807,\n",
       " 'college': 808,\n",
       " 'kind': 809,\n",
       " 'worse': 810,\n",
       " 'corporation': 811,\n",
       " 'speech': 812,\n",
       " 'suggest': 813,\n",
       " 'offering': 814,\n",
       " 'ground': 815,\n",
       " 'deposit': 816,\n",
       " 'bring': 817,\n",
       " 'consecutive': 818,\n",
       " 'running': 819,\n",
       " 'surplus': 820,\n",
       " 'george': 821,\n",
       " 'serious': 822,\n",
       " 'core': 823,\n",
       " 'limit': 824,\n",
       " 'bet': 825,\n",
       " 'soared': 826,\n",
       " 'barrel': 827,\n",
       " 'went': 828,\n",
       " 'improved': 829,\n",
       " 'ease': 830,\n",
       " 'sluggish': 831,\n",
       " 'bull': 832,\n",
       " 'regional': 833,\n",
       " 'source': 834,\n",
       " 'debate': 835,\n",
       " 'trying': 836,\n",
       " 'inflationary': 837,\n",
       " 'direction': 838,\n",
       " 'broader': 839,\n",
       " 'mostly': 840,\n",
       " 'attention': 841,\n",
       " 'prime': 842,\n",
       " 'able': 843,\n",
       " 'william': 844,\n",
       " 'expert': 845,\n",
       " 'caused': 846,\n",
       " 'process': 847,\n",
       " 'weekend': 848,\n",
       " 'paid': 849,\n",
       " 'indicated': 850,\n",
       " 'review': 851,\n",
       " 'hiring': 852,\n",
       " 'pushing': 853,\n",
       " 'wholesale': 854,\n",
       " 'gas': 855,\n",
       " 'aug': 856,\n",
       " 'flat': 857,\n",
       " 'stay': 858,\n",
       " 'double': 859,\n",
       " 'similar': 860,\n",
       " 'attempt': 861,\n",
       " 'paper': 862,\n",
       " 'common': 863,\n",
       " 'risen': 864,\n",
       " 'presidential': 865,\n",
       " 'whole': 866,\n",
       " 'partner': 867,\n",
       " 'associated': 868,\n",
       " 'community': 869,\n",
       " 'let': 870,\n",
       " 'sen': 871,\n",
       " 'release': 872,\n",
       " 'difficult': 873,\n",
       " 'indeed': 874,\n",
       " 'worth': 875,\n",
       " 'received': 876,\n",
       " 'broker': 877,\n",
       " 'word': 878,\n",
       " 'widely': 879,\n",
       " 'anticipated': 880,\n",
       " 'robust': 881,\n",
       " 'machine': 882,\n",
       " 'answer': 883,\n",
       " 'spring': 884,\n",
       " 'warning': 885,\n",
       " 'temporary': 886,\n",
       " 'organization': 887,\n",
       " 'asia': 888,\n",
       " 'suggested': 889,\n",
       " 'negative': 890,\n",
       " 'germany': 891,\n",
       " 'gave': 892,\n",
       " 'main': 893,\n",
       " 'season': 894,\n",
       " 'track': 895,\n",
       " 'opportunity': 896,\n",
       " 'student': 897,\n",
       " 'conservative': 898,\n",
       " 'plunge': 899,\n",
       " 'game': 900,\n",
       " 'name': 901,\n",
       " 'ending': 902,\n",
       " 'include': 903,\n",
       " 'seemed': 904,\n",
       " 'brokerage': 905,\n",
       " 'sure': 906,\n",
       " 'bottom': 907,\n",
       " 'page': 908,\n",
       " 'tokyo': 909,\n",
       " 'asked': 910,\n",
       " 'dec': 911,\n",
       " 'finally': 912,\n",
       " 'adding': 913,\n",
       " 'th': 914,\n",
       " 'correction': 915,\n",
       " 'trouble': 916,\n",
       " 'weaker': 917,\n",
       " 'failed': 918,\n",
       " 'feel': 919,\n",
       " 'fight': 920,\n",
       " 'series': 921,\n",
       " 'cap': 922,\n",
       " 'sense': 923,\n",
       " 'surged': 924,\n",
       " 'seek': 925,\n",
       " 'closely': 926,\n",
       " 'nine': 927,\n",
       " 'always': 928,\n",
       " 'check': 929,\n",
       " 'special': 930,\n",
       " 'ap': 931,\n",
       " 'offered': 932,\n",
       " 'doubt': 933,\n",
       " 'fast': 934,\n",
       " 'canada': 935,\n",
       " 'done': 936,\n",
       " 'south': 937,\n",
       " 'situation': 938,\n",
       " 'wide': 939,\n",
       " 'men': 940,\n",
       " 'appeared': 941,\n",
       " 'keeping': 942,\n",
       " 'rapidly': 943,\n",
       " 'tell': 944,\n",
       " 'difference': 945,\n",
       " 'texas': 946,\n",
       " 'imf': 947,\n",
       " 'quarterly': 948,\n",
       " 'layoff': 949,\n",
       " 'picture': 950,\n",
       " 'san': 951,\n",
       " 'easy': 952,\n",
       " 'bigger': 953,\n",
       " 'brother': 954,\n",
       " 'taxpayer': 955,\n",
       " 'woman': 956,\n",
       " 'either': 957,\n",
       " 'actually': 958,\n",
       " 'beyond': 959,\n",
       " 'using': 960,\n",
       " 'spokesman': 961,\n",
       " 'giving': 962,\n",
       " 'consider': 963,\n",
       " 'addition': 964,\n",
       " 'forecaster': 965,\n",
       " 'volatility': 966,\n",
       " 'losing': 967,\n",
       " 'item': 968,\n",
       " 'bid': 969,\n",
       " 'nothing': 970,\n",
       " 'kept': 971,\n",
       " 'increasingly': 972,\n",
       " 'boston': 973,\n",
       " 'client': 974,\n",
       " 'slowed': 975,\n",
       " 'passed': 976,\n",
       " 'projected': 977,\n",
       " 'optimism': 978,\n",
       " 'role': 979,\n",
       " 'edged': 980,\n",
       " 'boosted': 981,\n",
       " 'usually': 982,\n",
       " 'consensus': 983,\n",
       " 'richard': 984,\n",
       " 'volcker': 985,\n",
       " 'interview': 986,\n",
       " 'voter': 987,\n",
       " 'military': 988,\n",
       " 'competition': 989,\n",
       " 'spend': 990,\n",
       " 'indicate': 991,\n",
       " 'possibility': 992,\n",
       " 'gasoline': 993,\n",
       " 'tumbled': 994,\n",
       " 'appear': 995,\n",
       " 'finish': 996,\n",
       " 'institute': 997,\n",
       " 'approved': 998,\n",
       " 'accounting': 999,\n",
       " 'asian': 1000,\n",
       " ...}"
      ]
     },
     "execution_count": 24,
     "metadata": {},
     "output_type": "execute_result"
    }
   ],
   "source": [
    "word_index"
   ]
  },
  {
   "cell_type": "code",
   "execution_count": 25,
   "id": "d8bc0b15",
   "metadata": {
    "colab": {
     "base_uri": "https://localhost:8080/"
    },
    "id": "d8bc0b15",
    "outputId": "bc0c8ab2-9e8f-470d-a17e-89b96cd00afd"
   },
   "outputs": [
    {
     "data": {
      "text/plain": [
       "20936"
      ]
     },
     "execution_count": 25,
     "metadata": {},
     "output_type": "execute_result"
    }
   ],
   "source": [
    "total_words"
   ]
  },
  {
   "cell_type": "markdown",
   "id": "016c30d7",
   "metadata": {
    "id": "016c30d7"
   },
   "source": [
    "### Padding Sequences\n",
    "Sentences and sequences tend to have different lengths, however our model is expecting equally sized observations.\n",
    "Here we want to convert our texts to sequences and make them of the same length (in general, the lenght of the longest of our sequences). We are going to use here `pad_sequences` from Tensorflow (documentation [here](https://www.tensorflow.org/api_docs/python/tf/keras/utils/pad_sequences)), to add zeroes to the tokenized sentences until they all reach the same length."
   ]
  },
  {
   "cell_type": "code",
   "execution_count": 26,
   "id": "ea518a6d",
   "metadata": {
    "id": "ea518a6d"
   },
   "outputs": [],
   "source": [
    "sequences = tokenizer.texts_to_sequences(wtxt_train)\n",
    "padded_sequences = pad_sequences(sequences)"
   ]
  },
  {
   "cell_type": "code",
   "execution_count": 27,
   "id": "6a3a19b1",
   "metadata": {
    "id": "6a3a19b1"
   },
   "outputs": [
    {
     "data": {
      "text/plain": [
       "[143,\n",
       " 2582,\n",
       " 70,\n",
       " 297,\n",
       " 16,\n",
       " 7,\n",
       " 31,\n",
       " 143,\n",
       " 2405,\n",
       " 816,\n",
       " 932,\n",
       " 138,\n",
       " 18,\n",
       " 299,\n",
       " 2041,\n",
       " 286,\n",
       " 23,\n",
       " 297,\n",
       " 16,\n",
       " 1055,\n",
       " 400,\n",
       " 67,\n",
       " 130,\n",
       " 74,\n",
       " 13,\n",
       " 2,\n",
       " 214,\n",
       " 7581,\n",
       " 47,\n",
       " 2582,\n",
       " 609,\n",
       " 1698,\n",
       " 18,\n",
       " 33,\n",
       " 143,\n",
       " 285,\n",
       " 10,\n",
       " 816,\n",
       " 70,\n",
       " 16,\n",
       " 298,\n",
       " 49,\n",
       " 132,\n",
       " 18,\n",
       " 247,\n",
       " 6514,\n",
       " 68,\n",
       " 3,\n",
       " 12016,\n",
       " 3663,\n",
       " 743,\n",
       " 135,\n",
       " 98,\n",
       " 10,\n",
       " 47,\n",
       " 816,\n",
       " 33,\n",
       " 143,\n",
       " 1832,\n",
       " 16,\n",
       " 132,\n",
       " 6514,\n",
       " 50,\n",
       " 18,\n",
       " 6514,\n",
       " 247,\n",
       " 3307,\n",
       " 7,\n",
       " 31,\n",
       " 12017,\n",
       " 3308,\n",
       " 1042,\n",
       " 133,\n",
       " 12018,\n",
       " 214,\n",
       " 7581,\n",
       " 2582,\n",
       " 67,\n",
       " 1020,\n",
       " 772,\n",
       " 271,\n",
       " 1,\n",
       " 47,\n",
       " 2582,\n",
       " 1165,\n",
       " 6514,\n",
       " 4,\n",
       " 143,\n",
       " 98,\n",
       " 10,\n",
       " 285,\n",
       " 10,\n",
       " 75,\n",
       " 174,\n",
       " 609,\n",
       " 300,\n",
       " 1056,\n",
       " 2042,\n",
       " 1110,\n",
       " 286,\n",
       " 23,\n",
       " 311,\n",
       " 16,\n",
       " 2406]"
      ]
     },
     "execution_count": 27,
     "metadata": {},
     "output_type": "execute_result"
    }
   ],
   "source": [
    "sequences[0]"
   ]
  },
  {
   "cell_type": "code",
   "execution_count": 28,
   "id": "bf5a3374",
   "metadata": {
    "colab": {
     "base_uri": "https://localhost:8080/"
    },
    "id": "bf5a3374",
    "outputId": "99253544-bbca-48ca-e1d5-b86689138957"
   },
   "outputs": [
    {
     "data": {
      "text/plain": [
       "array([[    0,     0,     0, ...,   311,    16,  2406],\n",
       "       [    0,     0,     0, ...,   239,   232,    42],\n",
       "       [    0,     0,     0, ...,   325,   326,    23],\n",
       "       ...,\n",
       "       [    0,     0,     0, ...,   203,  4375,    59],\n",
       "       [    0,     0,     0, ...,   159,     9,   169],\n",
       "       [    0,     0,     0, ..., 12015,  7108,  7444]])"
      ]
     },
     "execution_count": 28,
     "metadata": {},
     "output_type": "execute_result"
    }
   ],
   "source": [
    "padded_sequences"
   ]
  },
  {
   "cell_type": "code",
   "execution_count": 29,
   "id": "89dd0de2",
   "metadata": {},
   "outputs": [],
   "source": [
    "df['pad_seq'] = padded_sequences.tolist()"
   ]
  },
  {
   "cell_type": "code",
   "execution_count": 30,
   "id": "4f444fcc",
   "metadata": {},
   "outputs": [
    {
     "data": {
      "text/html": [
       "<div>\n",
       "<style scoped>\n",
       "    .dataframe tbody tr th:only-of-type {\n",
       "        vertical-align: middle;\n",
       "    }\n",
       "\n",
       "    .dataframe tbody tr th {\n",
       "        vertical-align: top;\n",
       "    }\n",
       "\n",
       "    .dataframe thead th {\n",
       "        text-align: right;\n",
       "    }\n",
       "</style>\n",
       "<table border=\"1\" class=\"dataframe\">\n",
       "  <thead>\n",
       "    <tr style=\"text-align: right;\">\n",
       "      <th></th>\n",
       "      <th>relevance</th>\n",
       "      <th>pad_seq</th>\n",
       "    </tr>\n",
       "  </thead>\n",
       "  <tbody>\n",
       "    <tr>\n",
       "      <th>0</th>\n",
       "      <td>1</td>\n",
       "      <td>[0, 0, 0, 0, 0, 0, 0, 0, 0, 0, 0, 0, 0, 0, 0, ...</td>\n",
       "    </tr>\n",
       "    <tr>\n",
       "      <th>4</th>\n",
       "      <td>1</td>\n",
       "      <td>[0, 0, 0, 0, 0, 0, 0, 0, 0, 0, 0, 0, 0, 0, 0, ...</td>\n",
       "    </tr>\n",
       "    <tr>\n",
       "      <th>5</th>\n",
       "      <td>1</td>\n",
       "      <td>[0, 0, 0, 0, 0, 0, 0, 0, 0, 0, 0, 0, 0, 0, 0, ...</td>\n",
       "    </tr>\n",
       "    <tr>\n",
       "      <th>9</th>\n",
       "      <td>1</td>\n",
       "      <td>[0, 0, 0, 0, 0, 0, 0, 0, 0, 0, 0, 0, 0, 0, 0, ...</td>\n",
       "    </tr>\n",
       "    <tr>\n",
       "      <th>12</th>\n",
       "      <td>1</td>\n",
       "      <td>[0, 0, 0, 0, 0, 0, 0, 0, 0, 0, 0, 0, 0, 0, 0, ...</td>\n",
       "    </tr>\n",
       "    <tr>\n",
       "      <th>...</th>\n",
       "      <td>...</td>\n",
       "      <td>...</td>\n",
       "    </tr>\n",
       "    <tr>\n",
       "      <th>7810</th>\n",
       "      <td>0</td>\n",
       "      <td>[0, 0, 0, 0, 0, 0, 0, 0, 0, 0, 0, 0, 0, 0, 0, ...</td>\n",
       "    </tr>\n",
       "    <tr>\n",
       "      <th>677</th>\n",
       "      <td>0</td>\n",
       "      <td>[0, 0, 0, 0, 0, 0, 0, 0, 0, 0, 0, 0, 0, 0, 0, ...</td>\n",
       "    </tr>\n",
       "    <tr>\n",
       "      <th>4794</th>\n",
       "      <td>0</td>\n",
       "      <td>[0, 0, 0, 0, 0, 0, 0, 0, 0, 0, 0, 0, 0, 0, 0, ...</td>\n",
       "    </tr>\n",
       "    <tr>\n",
       "      <th>5869</th>\n",
       "      <td>0</td>\n",
       "      <td>[0, 0, 0, 0, 0, 0, 0, 0, 0, 0, 0, 0, 0, 0, 0, ...</td>\n",
       "    </tr>\n",
       "    <tr>\n",
       "      <th>2977</th>\n",
       "      <td>0</td>\n",
       "      <td>[0, 0, 0, 0, 0, 0, 0, 0, 0, 0, 0, 0, 0, 0, 0, ...</td>\n",
       "    </tr>\n",
       "  </tbody>\n",
       "</table>\n",
       "<p>2840 rows × 2 columns</p>\n",
       "</div>"
      ],
      "text/plain": [
       "     relevance                                            pad_seq\n",
       "0            1  [0, 0, 0, 0, 0, 0, 0, 0, 0, 0, 0, 0, 0, 0, 0, ...\n",
       "4            1  [0, 0, 0, 0, 0, 0, 0, 0, 0, 0, 0, 0, 0, 0, 0, ...\n",
       "5            1  [0, 0, 0, 0, 0, 0, 0, 0, 0, 0, 0, 0, 0, 0, 0, ...\n",
       "9            1  [0, 0, 0, 0, 0, 0, 0, 0, 0, 0, 0, 0, 0, 0, 0, ...\n",
       "12           1  [0, 0, 0, 0, 0, 0, 0, 0, 0, 0, 0, 0, 0, 0, 0, ...\n",
       "...        ...                                                ...\n",
       "7810         0  [0, 0, 0, 0, 0, 0, 0, 0, 0, 0, 0, 0, 0, 0, 0, ...\n",
       "677          0  [0, 0, 0, 0, 0, 0, 0, 0, 0, 0, 0, 0, 0, 0, 0, ...\n",
       "4794         0  [0, 0, 0, 0, 0, 0, 0, 0, 0, 0, 0, 0, 0, 0, 0, ...\n",
       "5869         0  [0, 0, 0, 0, 0, 0, 0, 0, 0, 0, 0, 0, 0, 0, 0, ...\n",
       "2977         0  [0, 0, 0, 0, 0, 0, 0, 0, 0, 0, 0, 0, 0, 0, 0, ...\n",
       "\n",
       "[2840 rows x 2 columns]"
      ]
     },
     "execution_count": 30,
     "metadata": {},
     "output_type": "execute_result"
    }
   ],
   "source": [
    "df.drop(['whole_txt'], axis = 1)"
   ]
  },
  {
   "cell_type": "code",
   "execution_count": 31,
   "id": "561a6b0d",
   "metadata": {},
   "outputs": [
    {
     "data": {
      "text/html": [
       "<div>\n",
       "<style scoped>\n",
       "    .dataframe tbody tr th:only-of-type {\n",
       "        vertical-align: middle;\n",
       "    }\n",
       "\n",
       "    .dataframe tbody tr th {\n",
       "        vertical-align: top;\n",
       "    }\n",
       "\n",
       "    .dataframe thead th {\n",
       "        text-align: right;\n",
       "    }\n",
       "</style>\n",
       "<table border=\"1\" class=\"dataframe\">\n",
       "  <thead>\n",
       "    <tr style=\"text-align: right;\">\n",
       "      <th></th>\n",
       "      <th>relevance</th>\n",
       "      <th>whole_txt</th>\n",
       "      <th>pad_seq</th>\n",
       "    </tr>\n",
       "  </thead>\n",
       "  <tbody>\n",
       "    <tr>\n",
       "      <th>0</th>\n",
       "      <td>1</td>\n",
       "      <td>[yield, cd, fell, latest, week, new, york, yie...</td>\n",
       "      <td>[0, 0, 0, 0, 0, 0, 0, 0, 0, 0, 0, 0, 0, 0, 0, ...</td>\n",
       "    </tr>\n",
       "    <tr>\n",
       "      <th>4</th>\n",
       "      <td>1</td>\n",
       "      <td>[currency, trading, dollar, remains, tight, ra...</td>\n",
       "      <td>[0, 0, 0, 0, 0, 0, 0, 0, 0, 0, 0, 0, 0, 0, 0, ...</td>\n",
       "    </tr>\n",
       "    <tr>\n",
       "      <th>5</th>\n",
       "      <td>1</td>\n",
       "      <td>[stock, fall, bofa, alcoa, slide, stock, decli...</td>\n",
       "      <td>[0, 0, 0, 0, 0, 0, 0, 0, 0, 0, 0, 0, 0, 0, 0, ...</td>\n",
       "    </tr>\n",
       "    <tr>\n",
       "      <th>9</th>\n",
       "      <td>1</td>\n",
       "      <td>[u, dollar, fall, currency, decline, softened,...</td>\n",
       "      <td>[0, 0, 0, 0, 0, 0, 0, 0, 0, 0, 0, 0, 0, 0, 0, ...</td>\n",
       "    </tr>\n",
       "    <tr>\n",
       "      <th>12</th>\n",
       "      <td>1</td>\n",
       "      <td>[defending, deflation, author, james, stewart,...</td>\n",
       "      <td>[0, 0, 0, 0, 0, 0, 0, 0, 0, 0, 0, 0, 0, 0, 0, ...</td>\n",
       "    </tr>\n",
       "  </tbody>\n",
       "</table>\n",
       "</div>"
      ],
      "text/plain": [
       "   relevance                                          whole_txt  \\\n",
       "0          1  [yield, cd, fell, latest, week, new, york, yie...   \n",
       "4          1  [currency, trading, dollar, remains, tight, ra...   \n",
       "5          1  [stock, fall, bofa, alcoa, slide, stock, decli...   \n",
       "9          1  [u, dollar, fall, currency, decline, softened,...   \n",
       "12         1  [defending, deflation, author, james, stewart,...   \n",
       "\n",
       "                                              pad_seq  \n",
       "0   [0, 0, 0, 0, 0, 0, 0, 0, 0, 0, 0, 0, 0, 0, 0, ...  \n",
       "4   [0, 0, 0, 0, 0, 0, 0, 0, 0, 0, 0, 0, 0, 0, 0, ...  \n",
       "5   [0, 0, 0, 0, 0, 0, 0, 0, 0, 0, 0, 0, 0, 0, 0, ...  \n",
       "9   [0, 0, 0, 0, 0, 0, 0, 0, 0, 0, 0, 0, 0, 0, 0, ...  \n",
       "12  [0, 0, 0, 0, 0, 0, 0, 0, 0, 0, 0, 0, 0, 0, 0, ...  "
      ]
     },
     "execution_count": 31,
     "metadata": {},
     "output_type": "execute_result"
    }
   ],
   "source": [
    "df.head(5)"
   ]
  },
  {
   "cell_type": "markdown",
   "id": "83826301",
   "metadata": {},
   "source": [
    "### Train-Test Split"
   ]
  },
  {
   "cell_type": "code",
   "execution_count": 32,
   "id": "f00e30da",
   "metadata": {},
   "outputs": [],
   "source": [
    "X = padded_sequences\n",
    "y = df['relevance']"
   ]
  },
  {
   "cell_type": "code",
   "execution_count": 33,
   "id": "fB_vM2GQkf-Y",
   "metadata": {
    "id": "fB_vM2GQkf-Y"
   },
   "outputs": [],
   "source": [
    "from sklearn.model_selection import train_test_split\n",
    "X_train, X_test, y_train, y_test = train_test_split(X, y,  test_size=0.2, random_state=42)"
   ]
  },
  {
   "cell_type": "code",
   "execution_count": 34,
   "id": "4e0850ba",
   "metadata": {},
   "outputs": [],
   "source": [
    "X_train, X_val, y_train, y_val = train_test_split(X_train, y_train,  test_size=0.2, random_state=42)"
   ]
  },
  {
   "cell_type": "code",
   "execution_count": 35,
   "id": "19ab3a73",
   "metadata": {},
   "outputs": [
    {
     "data": {
      "text/plain": [
       "array([[   0,    0,    0, ...,   61,  362,   66],\n",
       "       [   0,    0,    0, ..., 4569, 6281, 1252],\n",
       "       [   0,    0,    0, ..., 3415,   95,    4],\n",
       "       ...,\n",
       "       [   0,    0,    0, ...,  479,   96,   64],\n",
       "       [   0,    0,    0, ...,   27,  246,  609],\n",
       "       [   0,    0,    0, ...,   10,  391,   24]])"
      ]
     },
     "execution_count": 35,
     "metadata": {},
     "output_type": "execute_result"
    }
   ],
   "source": [
    "X_train"
   ]
  },
  {
   "cell_type": "code",
   "execution_count": 36,
   "id": "d51f8bcb",
   "metadata": {},
   "outputs": [
    {
     "data": {
      "text/plain": [
       "(1817, 404)"
      ]
     },
     "execution_count": 36,
     "metadata": {},
     "output_type": "execute_result"
    }
   ],
   "source": [
    "X_train.shape"
   ]
  },
  {
   "cell_type": "code",
   "execution_count": 37,
   "id": "5f8059d8",
   "metadata": {},
   "outputs": [
    {
     "data": {
      "text/plain": [
       "6965    1\n",
       "2156    0\n",
       "1103    0\n",
       "7486    1\n",
       "5865    1\n",
       "       ..\n",
       "2245    1\n",
       "1956    1\n",
       "3711    0\n",
       "506     1\n",
       "3821    1\n",
       "Name: relevance, Length: 1817, dtype: object"
      ]
     },
     "execution_count": 37,
     "metadata": {},
     "output_type": "execute_result"
    }
   ],
   "source": [
    "y_train"
   ]
  },
  {
   "cell_type": "code",
   "execution_count": 38,
   "id": "128bd1f8",
   "metadata": {},
   "outputs": [
    {
     "data": {
      "text/plain": [
       "(1817,)"
      ]
     },
     "execution_count": 38,
     "metadata": {},
     "output_type": "execute_result"
    }
   ],
   "source": [
    "y_train.shape"
   ]
  },
  {
   "cell_type": "code",
   "execution_count": 39,
   "id": "adde4bc3",
   "metadata": {},
   "outputs": [
    {
     "data": {
      "text/plain": [
       "(455,)"
      ]
     },
     "execution_count": 39,
     "metadata": {},
     "output_type": "execute_result"
    }
   ],
   "source": [
    "y_val.shape"
   ]
  },
  {
   "cell_type": "code",
   "execution_count": 40,
   "id": "aa0a8eba",
   "metadata": {},
   "outputs": [
    {
     "data": {
      "text/plain": [
       "(568,)"
      ]
     },
     "execution_count": 40,
     "metadata": {},
     "output_type": "execute_result"
    }
   ],
   "source": [
    "y_test.shape"
   ]
  },
  {
   "cell_type": "code",
   "execution_count": 41,
   "id": "0f0eab78",
   "metadata": {},
   "outputs": [],
   "source": [
    "y_train = np.array(y_train)\n",
    "y_val = np.array(y_val)\n",
    "y_test = np.array(y_test)"
   ]
  },
  {
   "cell_type": "code",
   "execution_count": 42,
   "id": "35c078ca",
   "metadata": {},
   "outputs": [],
   "source": [
    "y_train = y_train.astype('int')\n",
    "y_val = y_val.astype('int')\n",
    "y_test = y_test.astype('int')"
   ]
  },
  {
   "cell_type": "markdown",
   "id": "0fe8e8b2",
   "metadata": {
    "id": "0fe8e8b2"
   },
   "source": [
    "### Building the model\n",
    "\n",
    "We are going to build a simple model that includes:\n",
    "- `Embedding` layer with an output representation of each word as a vector of dim 16\n",
    "- `LSTM` (see class slides for more detail or RNNs example notebook for more details) with an intermediate state of 100\n",
    "- An output layer `Dense` that connects the output of the LSTM and creates an output of 3 positions (one per class) as output of the network"
   ]
  },
  {
   "cell_type": "markdown",
   "id": "9223fed7",
   "metadata": {},
   "source": [
    "That is model nr.1 "
   ]
  },
  {
   "cell_type": "code",
   "execution_count": 43,
   "id": "84e1fd75",
   "metadata": {
    "id": "84e1fd75"
   },
   "outputs": [
    {
     "name": "stdout",
     "output_type": "stream",
     "text": [
      "WARNING:tensorflow:From C:\\Users\\majon\\AppData\\Local\\Programs\\Python\\Python310\\lib\\site-packages\\keras\\src\\backend.py:873: The name tf.get_default_graph is deprecated. Please use tf.compat.v1.get_default_graph instead.\n",
      "\n",
      "WARNING:tensorflow:From C:\\Users\\majon\\AppData\\Local\\Programs\\Python\\Python310\\lib\\site-packages\\keras\\src\\optimizers\\__init__.py:309: The name tf.train.Optimizer is deprecated. Please use tf.compat.v1.train.Optimizer instead.\n",
      "\n"
     ]
    }
   ],
   "source": [
    "# We are going to build our model with the Sequential API\n",
    "model = Sequential()\n",
    "model.add(Embedding(total_words,      # number of words to process as input\n",
    "                    100,    # output representation\n",
    "                    input_length=len(padded_sequences[0])))    # total length of each observation\n",
    "model.add(LSTM(100, return_sequences=False))\n",
    "model.add(Dense(1, activation='sigmoid'))  # Change activation based on the number of classes\n",
    "\n",
    "model.compile(optimizer='adam', loss='binary_crossentropy', metrics=['accuracy'])"
   ]
  },
  {
   "cell_type": "code",
   "execution_count": 44,
   "id": "286e1067",
   "metadata": {
    "colab": {
     "base_uri": "https://localhost:8080/"
    },
    "id": "286e1067",
    "outputId": "ef815e79-2cdb-4372-f0f2-a45738a6bd09"
   },
   "outputs": [
    {
     "data": {
      "text/plain": [
       "<tf.Tensor: shape=(2840, 1), dtype=float32, numpy=\n",
       "array([[0.5006623 ],\n",
       "       [0.5007331 ],\n",
       "       [0.4986714 ],\n",
       "       ...,\n",
       "       [0.49953288],\n",
       "       [0.50375706],\n",
       "       [0.4991562 ]], dtype=float32)>"
      ]
     },
     "execution_count": 44,
     "metadata": {},
     "output_type": "execute_result"
    }
   ],
   "source": [
    "model(padded_sequences)"
   ]
  },
  {
   "cell_type": "code",
   "execution_count": 45,
   "id": "290f727f",
   "metadata": {},
   "outputs": [
    {
     "name": "stdout",
     "output_type": "stream",
     "text": [
      "Model: \"sequential\"\n",
      "_________________________________________________________________\n",
      " Layer (type)                Output Shape              Param #   \n",
      "=================================================================\n",
      " embedding (Embedding)       (None, 404, 100)          2093600   \n",
      "                                                                 \n",
      " lstm (LSTM)                 (None, 100)               80400     \n",
      "                                                                 \n",
      " dense (Dense)               (None, 1)                 101       \n",
      "                                                                 \n",
      "=================================================================\n",
      "Total params: 2174101 (8.29 MB)\n",
      "Trainable params: 2174101 (8.29 MB)\n",
      "Non-trainable params: 0 (0.00 Byte)\n",
      "_________________________________________________________________\n"
     ]
    }
   ],
   "source": [
    "model.summary()"
   ]
  },
  {
   "cell_type": "markdown",
   "id": "f36d316c-3966-4939-b735-79dd2d1ff936",
   "metadata": {},
   "source": [
    "Early Stopping\n"
   ]
  },
  {
   "cell_type": "code",
   "execution_count": 62,
   "id": "02feafd7-481d-4930-8680-4a873789e53d",
   "metadata": {},
   "outputs": [],
   "source": [
    "early_stopping = EarlyStopping(monitor='val_loss', patience=3, restore_best_weights=True)"
   ]
  },
  {
   "cell_type": "markdown",
   "id": "1101ccfc",
   "metadata": {
    "id": "1101ccfc"
   },
   "source": [
    "# Training the models"
   ]
  },
  {
   "cell_type": "markdown",
   "id": "55429b96",
   "metadata": {},
   "source": [
    "### MODEL 1 (The base model)"
   ]
  },
  {
   "cell_type": "code",
   "execution_count": 46,
   "id": "826df8ad",
   "metadata": {
    "colab": {
     "base_uri": "https://localhost:8080/"
    },
    "id": "826df8ad",
    "outputId": "954999b9-e6f3-43a2-dc81-a5c10a8e6ef1"
   },
   "outputs": [
    {
     "name": "stdout",
     "output_type": "stream",
     "text": [
      "Epoch 1/10\n",
      "WARNING:tensorflow:From C:\\Users\\majon\\AppData\\Local\\Programs\\Python\\Python310\\lib\\site-packages\\keras\\src\\utils\\tf_utils.py:492: The name tf.ragged.RaggedTensorValue is deprecated. Please use tf.compat.v1.ragged.RaggedTensorValue instead.\n",
      "\n",
      "WARNING:tensorflow:From C:\\Users\\majon\\AppData\\Local\\Programs\\Python\\Python310\\lib\\site-packages\\keras\\src\\engine\\base_layer_utils.py:384: The name tf.executing_eagerly_outside_functions is deprecated. Please use tf.compat.v1.executing_eagerly_outside_functions instead.\n",
      "\n",
      "57/57 [==============================] - 12s 172ms/step - loss: 0.6896 - accuracy: 0.5388 - val_loss: 0.6746 - val_accuracy: 0.5714\n",
      "Epoch 2/10\n",
      "57/57 [==============================] - 9s 165ms/step - loss: 0.5323 - accuracy: 0.7683 - val_loss: 0.6840 - val_accuracy: 0.6593\n",
      "Epoch 3/10\n",
      "57/57 [==============================] - 9s 164ms/step - loss: 0.2262 - accuracy: 0.9213 - val_loss: 0.8153 - val_accuracy: 0.5934\n",
      "Epoch 4/10\n",
      "57/57 [==============================] - 10s 168ms/step - loss: 0.0755 - accuracy: 0.9796 - val_loss: 1.2775 - val_accuracy: 0.5956\n",
      "Epoch 5/10\n",
      "57/57 [==============================] - 9s 166ms/step - loss: 0.0247 - accuracy: 0.9945 - val_loss: 1.4006 - val_accuracy: 0.5692\n",
      "Epoch 6/10\n",
      "57/57 [==============================] - 9s 166ms/step - loss: 0.0156 - accuracy: 0.9945 - val_loss: 1.8238 - val_accuracy: 0.5824\n",
      "Epoch 7/10\n",
      "57/57 [==============================] - 9s 166ms/step - loss: 0.0070 - accuracy: 0.9994 - val_loss: 1.8439 - val_accuracy: 0.5868\n",
      "Epoch 8/10\n",
      "57/57 [==============================] - 9s 165ms/step - loss: 0.0017 - accuracy: 1.0000 - val_loss: 1.9927 - val_accuracy: 0.5956\n",
      "Epoch 9/10\n",
      "57/57 [==============================] - 10s 173ms/step - loss: 6.1824e-04 - accuracy: 1.0000 - val_loss: 2.1590 - val_accuracy: 0.6066\n",
      "Epoch 10/10\n",
      "57/57 [==============================] - 9s 166ms/step - loss: 4.1218e-04 - accuracy: 1.0000 - val_loss: 2.2572 - val_accuracy: 0.6132\n"
     ]
    }
   ],
   "source": [
    "hist = model.fit(X_train, y_train, epochs=10, validation_data = (X_val, y_val))"
   ]
  },
  {
   "cell_type": "code",
   "execution_count": 47,
   "id": "286d9981",
   "metadata": {
    "scrolled": true
   },
   "outputs": [
    {
     "data": {
      "text/plain": [
       "{'loss': [0.6895917057991028,\n",
       "  0.5322721600532532,\n",
       "  0.22623883187770844,\n",
       "  0.07552313804626465,\n",
       "  0.02469726838171482,\n",
       "  0.01556098461151123,\n",
       "  0.007033384405076504,\n",
       "  0.0017018960788846016,\n",
       "  0.0006182442884892225,\n",
       "  0.00041218113619834185],\n",
       " 'accuracy': [0.5388002395629883,\n",
       "  0.768299400806427,\n",
       "  0.9212988615036011,\n",
       "  0.9796367883682251,\n",
       "  0.9944964051246643,\n",
       "  0.9944964051246643,\n",
       "  0.9994496703147888,\n",
       "  1.0,\n",
       "  1.0,\n",
       "  1.0],\n",
       " 'val_loss': [0.6745600700378418,\n",
       "  0.6839550733566284,\n",
       "  0.8152892589569092,\n",
       "  1.2775248289108276,\n",
       "  1.4005565643310547,\n",
       "  1.823756456375122,\n",
       "  1.8439472913742065,\n",
       "  1.9927034378051758,\n",
       "  2.1590020656585693,\n",
       "  2.257204532623291],\n",
       " 'val_accuracy': [0.5714285969734192,\n",
       "  0.6593406796455383,\n",
       "  0.593406617641449,\n",
       "  0.595604419708252,\n",
       "  0.5692307949066162,\n",
       "  0.5824176073074341,\n",
       "  0.58681321144104,\n",
       "  0.595604419708252,\n",
       "  0.6065934300422668,\n",
       "  0.6131868362426758]}"
      ]
     },
     "execution_count": 47,
     "metadata": {},
     "output_type": "execute_result"
    }
   ],
   "source": [
    "hist.history"
   ]
  },
  {
   "cell_type": "code",
   "execution_count": 48,
   "id": "b2af0489",
   "metadata": {},
   "outputs": [
    {
     "data": {
      "text/plain": [
       "[<matplotlib.lines.Line2D at 0x1f47f92bc70>]"
      ]
     },
     "execution_count": 48,
     "metadata": {},
     "output_type": "execute_result"
    },
    {
     "data": {
      "image/png": "[encoded data removed]",
      "text/plain": [
       "<Figure size 640x480 with 1 Axes>"
      ]
     },
     "metadata": {},
     "output_type": "display_data"
    }
   ],
   "source": [
    "import matplotlib.pyplot as plt\n",
    "plt.plot(hist.history['loss'])\n",
    "plt.plot(hist.history['accuracy'])"
   ]
  },
  {
   "cell_type": "code",
   "execution_count": 49,
   "id": "a1484a19",
   "metadata": {
    "colab": {
     "base_uri": "https://localhost:8080/"
    },
    "id": "a1484a19",
    "outputId": "5db7ef87-e57e-4f8c-c74b-f124fab03672"
   },
   "outputs": [
    {
     "name": "stdout",
     "output_type": "stream",
     "text": [
      "[0 0 0 ... 0 0 0]\n"
     ]
    }
   ],
   "source": [
    "print(model(padded_sequences).numpy().argmax(axis = 1))"
   ]
  },
  {
   "cell_type": "markdown",
   "id": "781be31e",
   "metadata": {},
   "source": [
    "Model 1 Testing"
   ]
  },
  {
   "cell_type": "code",
   "execution_count": 50,
   "id": "76c6df0e",
   "metadata": {},
   "outputs": [
    {
     "name": "stdout",
     "output_type": "stream",
     "text": [
      "18/18 [==============================] - 1s 52ms/step - loss: 2.2228 - accuracy: 0.5915\n",
      "Test Loss: 2.2228\n",
      "Test Accuracy: 59.15%\n"
     ]
    }
   ],
   "source": [
    "loss, accuracy = model.evaluate(X_test, y_test)\n",
    "\n",
    "print(f'Test Loss: {loss:.4f}')\n",
    "print(f'Test Accuracy: {accuracy * 100:.2f}%')"
   ]
  },
  {
   "cell_type": "code",
   "execution_count": 51,
   "id": "f3526a9c",
   "metadata": {},
   "outputs": [
    {
     "name": "stdout",
     "output_type": "stream",
     "text": [
      "18/18 [==============================] - 1s 52ms/step\n"
     ]
    }
   ],
   "source": [
    "#Prection and Confusion Matrix\n",
    "y_pred = model.predict(X_test)\n",
    "bin_y_pred = (y_pred > 0.5).astype(int)"
   ]
  },
  {
   "cell_type": "code",
   "execution_count": 52,
   "id": "062c9c2c",
   "metadata": {},
   "outputs": [],
   "source": [
    "bin_y_pred = np.squeeze(bin_y_pred)"
   ]
  },
  {
   "cell_type": "code",
   "execution_count": 53,
   "id": "23edf0b7",
   "metadata": {},
   "outputs": [
    {
     "data": {
      "text/plain": [
       "array([0, 0, 1, 1, 1, 0, 0, 0, 1, 0, 0, 1, 0, 1, 1, 0, 0, 1, 1, 1, 1, 0,\n",
       "       0, 0, 1, 0, 1, 0, 0, 0, 1, 0, 1, 1, 1, 1, 1, 1, 0, 1, 1, 0, 1, 1,\n",
       "       0, 0, 1, 1, 1, 1, 1, 0, 1, 1, 1, 0, 1, 1, 1, 0, 0, 1, 0, 0, 0, 0,\n",
       "       1, 0, 1, 1, 0, 1, 0, 1, 1, 1, 1, 0, 1, 1, 1, 1, 1, 0, 0, 0, 1, 0,\n",
       "       0, 0, 1, 0, 0, 0, 1, 1, 0, 1, 0, 0, 0, 0, 1, 0, 1, 0, 0, 1, 0, 1,\n",
       "       1, 0, 0, 0, 1, 0, 1, 0, 0, 0, 0, 1, 1, 0, 0, 0, 0, 0, 1, 1, 0, 0,\n",
       "       1, 0, 0, 0, 1, 0, 0, 1, 0, 0, 1, 1, 0, 0, 0, 0, 1, 0, 0, 1, 1, 0,\n",
       "       0, 1, 1, 1, 0, 0, 0, 0, 0, 0, 1, 0, 1, 1, 0, 0, 0, 1, 1, 0, 1, 1,\n",
       "       0, 0, 1, 0, 0, 1, 0, 0, 0, 1, 1, 1, 1, 0, 1, 1, 0, 0, 0, 1, 1, 1,\n",
       "       1, 1, 1, 1, 0, 1, 1, 0, 1, 0, 0, 1, 1, 0, 0, 0, 1, 0, 0, 0, 1, 1,\n",
       "       0, 1, 1, 1, 1, 0, 0, 0, 1, 0, 0, 1, 0, 1, 0, 1, 0, 0, 0, 1, 1, 0,\n",
       "       0, 0, 1, 0, 0, 0, 1, 0, 1, 0, 0, 0, 1, 0, 0, 0, 0, 0, 1, 0, 1, 0,\n",
       "       0, 1, 1, 0, 1, 1, 1, 1, 1, 1, 1, 0, 0, 0, 0, 0, 0, 0, 0, 1, 1, 0,\n",
       "       0, 1, 1, 1, 0, 0, 1, 1, 0, 0, 0, 0, 1, 1, 0, 1, 0, 1, 1, 0, 0, 0,\n",
       "       1, 0, 1, 1, 0, 0, 0, 0, 1, 1, 0, 1, 0, 1, 1, 1, 0, 1, 0, 1, 1, 0,\n",
       "       1, 0, 0, 0, 0, 1, 0, 0, 0, 1, 1, 1, 1, 1, 0, 1, 1, 1, 1, 0, 0, 0,\n",
       "       0, 0, 0, 0, 1, 1, 0, 0, 0, 0, 0, 1, 1, 0, 1, 0, 0, 0, 0, 1, 0, 0,\n",
       "       1, 0, 1, 0, 1, 1, 0, 1, 0, 0, 1, 0, 1, 0, 1, 1, 0, 1, 1, 1, 1, 0,\n",
       "       0, 1, 1, 1, 0, 1, 1, 1, 1, 1, 0, 0, 0, 0, 1, 1, 0, 0, 1, 0, 0, 1,\n",
       "       1, 1, 0, 0, 0, 0, 1, 0, 0, 1, 1, 0, 0, 0, 1, 0, 0, 1, 1, 0, 0, 0,\n",
       "       1, 0, 0, 0, 0, 1, 0, 0, 1, 1, 0, 0, 0, 0, 0, 0, 0, 0, 0, 0, 1, 1,\n",
       "       0, 0, 0, 0, 0, 0, 0, 1, 0, 0, 0, 0, 1, 0, 1, 1, 1, 0, 1, 1, 0, 1,\n",
       "       0, 1, 0, 1, 1, 0, 0, 1, 1, 1, 0, 1, 0, 1, 0, 0, 1, 0, 1, 0, 0, 0,\n",
       "       0, 0, 0, 0, 1, 0, 0, 1, 1, 0, 1, 1, 0, 0, 1, 1, 1, 0, 1, 1, 0, 0,\n",
       "       0, 1, 0, 0, 0, 0, 1, 0, 1, 0, 1, 1, 0, 0, 0, 1, 0, 1, 1, 1, 0, 0,\n",
       "       1, 0, 1, 1, 0, 0, 1, 0, 1, 0, 0, 0, 1, 1, 0, 1, 1, 1])"
      ]
     },
     "execution_count": 53,
     "metadata": {},
     "output_type": "execute_result"
    }
   ],
   "source": [
    "bin_y_pred"
   ]
  },
  {
   "cell_type": "code",
   "execution_count": 54,
   "id": "5f682ab2",
   "metadata": {},
   "outputs": [],
   "source": [
    "from sklearn.metrics import confusion_matrix"
   ]
  },
  {
   "cell_type": "code",
   "execution_count": 55,
   "id": "e345456a",
   "metadata": {},
   "outputs": [
    {
     "name": "stdout",
     "output_type": "stream",
     "text": [
      "                    Predicted No        Predicted Yes       \n",
      "Actual No           180                 102                 \n",
      "Actual Yes          130                 156                 \n"
     ]
    }
   ],
   "source": [
    "y_true = y_test\n",
    "y_pred = bin_y_pred\n",
    "\n",
    "cm = confusion_matrix(y_true, y_pred)\n",
    "\n",
    "TN, FP, FN, TP = cm.ravel()\n",
    "\n",
    "print(f\"{'':<20}{'Predicted No':<20}{'Predicted Yes':<20}\")\n",
    "print(f\"{'Actual No':<20}{TN:<20}{FP:<20}\")\n",
    "print(f\"{'Actual Yes':<20}{FN:<20}{TP:<20}\")"
   ]
  },
  {
   "cell_type": "markdown",
   "id": "f5437a9f",
   "metadata": {},
   "source": [
    "### MODEL 2"
   ]
  },
  {
   "cell_type": "code",
   "execution_count": 56,
   "id": "e790349c",
   "metadata": {},
   "outputs": [],
   "source": [
    "# We are going to build our model with the Sequential API\n",
    "model2 = Sequential()\n",
    "\n",
    "model2.add(Embedding(total_words,      # number of words to process as input\n",
    "                    50,    # output representation\n",
    "                    input_length=len(padded_sequences[0])))    # total length of each observation\n",
    "\n",
    "model2.add(LSTM(50, return_sequences=False))\n",
    "\n",
    "model2.add(Dropout(0.2))\n",
    "\n",
    "model2.add(Dense(1, activation='sigmoid')) \n",
    "\n",
    "model2.compile(optimizer='adam', loss='binary_crossentropy', metrics=['accuracy'])"
   ]
  },
  {
   "cell_type": "code",
   "execution_count": 57,
   "id": "a4fded32",
   "metadata": {},
   "outputs": [
    {
     "name": "stdout",
     "output_type": "stream",
     "text": [
      "Model: \"sequential_1\"\n",
      "_________________________________________________________________\n",
      " Layer (type)                Output Shape              Param #   \n",
      "=================================================================\n",
      " embedding_1 (Embedding)     (None, 404, 50)           1046800   \n",
      "                                                                 \n",
      " lstm_1 (LSTM)               (None, 50)                20200     \n",
      "                                                                 \n",
      " dropout (Dropout)           (None, 50)                0         \n",
      "                                                                 \n",
      " dense_1 (Dense)             (None, 1)                 51        \n",
      "                                                                 \n",
      "=================================================================\n",
      "Total params: 1067051 (4.07 MB)\n",
      "Trainable params: 1067051 (4.07 MB)\n",
      "Non-trainable params: 0 (0.00 Byte)\n",
      "_________________________________________________________________\n"
     ]
    }
   ],
   "source": [
    "model2.summary()"
   ]
  },
  {
   "cell_type": "code",
   "execution_count": 59,
   "id": "2cc28f7c",
   "metadata": {},
   "outputs": [
    {
     "name": "stdout",
     "output_type": "stream",
     "text": [
      "Epoch 1/5\n",
      "57/57 [==============================] - 8s 115ms/step - loss: 0.6890 - accuracy: 0.5344 - val_loss: 0.6323 - val_accuracy: 0.6901\n",
      "Epoch 2/5\n",
      "57/57 [==============================] - 6s 107ms/step - loss: 0.5443 - accuracy: 0.7408 - val_loss: 0.6053 - val_accuracy: 0.6857\n",
      "Epoch 3/5\n",
      "57/57 [==============================] - 6s 106ms/step - loss: 0.2975 - accuracy: 0.8899 - val_loss: 0.8225 - val_accuracy: 0.6374\n",
      "Epoch 4/5\n",
      "57/57 [==============================] - 6s 106ms/step - loss: 0.1087 - accuracy: 0.9708 - val_loss: 0.9366 - val_accuracy: 0.6088\n",
      "Epoch 5/5\n",
      "57/57 [==============================] - 6s 107ms/step - loss: 0.0617 - accuracy: 0.9857 - val_loss: 1.1715 - val_accuracy: 0.6352\n"
     ]
    },
    {
     "data": {
      "text/plain": [
       "<keras.src.callbacks.History at 0x1f382086470>"
      ]
     },
     "execution_count": 59,
     "metadata": {},
     "output_type": "execute_result"
    }
   ],
   "source": [
    "model2.fit(X_train, y_train, epochs=5, validation_data = (X_val, y_val), callbacks=[early_stopping])"
   ]
  },
  {
   "cell_type": "code",
   "execution_count": 60,
   "id": "a59b099a",
   "metadata": {},
   "outputs": [
    {
     "name": "stdout",
     "output_type": "stream",
     "text": [
      "18/18 [==============================] - 1s 37ms/step - loss: 0.6087 - accuracy: 0.6778\n"
     ]
    }
   ],
   "source": [
    "loss, accuracy = model2.evaluate(X_test, y_test)"
   ]
  },
  {
   "cell_type": "markdown",
   "id": "83c8e04a",
   "metadata": {},
   "source": [
    "### MODEL 3"
   ]
  },
  {
   "cell_type": "code",
   "execution_count": 61,
   "id": "cce897ae",
   "metadata": {},
   "outputs": [],
   "source": [
    "model3 = Sequential()\n",
    "\n",
    "model3.add(Embedding(total_words,      # number of words to process as input\n",
    "                    100,    # output representation\n",
    "                    input_length=len(padded_sequences[0])))    # total length of each observation\n",
    "\n",
    "model3.add(LSTM(100, return_sequences=False))\n",
    "\n",
    "model3.add(Dense(1, activation='sigmoid')) \n",
    "\n",
    "model3.compile(optimizer='adam', loss='hinge', metrics=['accuracy'])"
   ]
  },
  {
   "cell_type": "code",
   "execution_count": 62,
   "id": "8a14b1ec",
   "metadata": {},
   "outputs": [
    {
     "name": "stdout",
     "output_type": "stream",
     "text": [
      "Model: \"sequential_2\"\n",
      "_________________________________________________________________\n",
      " Layer (type)                Output Shape              Param #   \n",
      "=================================================================\n",
      " embedding_2 (Embedding)     (None, 404, 100)          2093600   \n",
      "                                                                 \n",
      " lstm_2 (LSTM)               (None, 100)               80400     \n",
      "                                                                 \n",
      " dense_2 (Dense)             (None, 1)                 101       \n",
      "                                                                 \n",
      "=================================================================\n",
      "Total params: 2174101 (8.29 MB)\n",
      "Trainable params: 2174101 (8.29 MB)\n",
      "Non-trainable params: 0 (0.00 Byte)\n",
      "_________________________________________________________________\n"
     ]
    }
   ],
   "source": [
    "model3.summary()"
   ]
  },
  {
   "cell_type": "code",
   "execution_count": 63,
   "id": "6963b196",
   "metadata": {},
   "outputs": [
    {
     "name": "stdout",
     "output_type": "stream",
     "text": [
      "Epoch 1/5\n",
      "57/57 [==============================] - 25s 418ms/step - loss: 0.9819 - accuracy: 0.5289 - val_loss: 0.9290 - val_accuracy: 0.6330\n",
      "Epoch 2/5\n",
      "57/57 [==============================] - 22s 381ms/step - loss: 0.9622 - accuracy: 0.5399 - val_loss: 1.0461 - val_accuracy: 0.4769\n",
      "Epoch 3/5\n",
      "57/57 [==============================] - 21s 373ms/step - loss: 0.9906 - accuracy: 0.5047 - val_loss: 1.0461 - val_accuracy: 0.4769\n",
      "Epoch 4/5\n",
      "57/57 [==============================] - 22s 389ms/step - loss: 0.9906 - accuracy: 0.5047 - val_loss: 1.0461 - val_accuracy: 0.4769\n",
      "Epoch 5/5\n",
      "57/57 [==============================] - 22s 379ms/step - loss: 0.9906 - accuracy: 0.5047 - val_loss: 1.0461 - val_accuracy: 0.4769\n"
     ]
    }
   ],
   "source": [
    "his = model3.fit(X_train, y_train, epochs=5, validation_data = (X_val, y_val))"
   ]
  },
  {
   "cell_type": "code",
   "execution_count": 64,
   "id": "67912764",
   "metadata": {},
   "outputs": [
    {
     "data": {
      "text/plain": [
       "{'loss': [0.981853723526001,\n",
       "  0.9622330665588379,\n",
       "  0.9906451106071472,\n",
       "  0.9906448721885681,\n",
       "  0.9906448125839233],\n",
       " 'accuracy': [0.528893768787384,\n",
       "  0.5399009585380554,\n",
       "  0.5046780109405518,\n",
       "  0.5046780109405518,\n",
       "  0.5046780109405518],\n",
       " 'val_loss': [0.9290072321891785,\n",
       "  1.0461472272872925,\n",
       "  1.0461472272872925,\n",
       "  1.046147346496582,\n",
       "  1.0461472272872925],\n",
       " 'val_accuracy': [0.6329670548439026,\n",
       "  0.4769230782985687,\n",
       "  0.4769230782985687,\n",
       "  0.4769230782985687,\n",
       "  0.4769230782985687]}"
      ]
     },
     "execution_count": 64,
     "metadata": {},
     "output_type": "execute_result"
    }
   ],
   "source": [
    "his.history"
   ]
  },
  {
   "cell_type": "code",
   "execution_count": 65,
   "id": "218f1b11",
   "metadata": {
    "id": "218f1b11"
   },
   "outputs": [],
   "source": [
    "import matplotlib.pyplot as plt\n"
   ]
  },
  {
   "cell_type": "code",
   "execution_count": 66,
   "id": "a49a0850",
   "metadata": {},
   "outputs": [
    {
     "data": {
      "text/plain": [
       "[<matplotlib.lines.Line2D at 0x29c5f1070>]"
      ]
     },
     "execution_count": 66,
     "metadata": {},
     "output_type": "execute_result"
    },
    {
     "data": {
      "image/png": "[encoded data removed]",
      "text/plain": [
       "<Figure size 640x480 with 1 Axes>"
      ]
     },
     "metadata": {},
     "output_type": "display_data"
    }
   ],
   "source": [
    "plt.plot(his.history['loss'])\n",
    "plt.plot(his.history['accuracy'])"
   ]
  },
  {
   "cell_type": "markdown",
   "id": "1c8c7755",
   "metadata": {},
   "source": [
    "### MODEL 4"
   ]
  },
  {
   "cell_type": "code",
   "execution_count": 67,
   "id": "38ed8871",
   "metadata": {},
   "outputs": [],
   "source": [
    "model4 = Sequential()\n",
    "\n",
    "model4.add(Embedding(total_words,      # number of words to process as input\n",
    "                    100,    # output representation\n",
    "                    input_length=len(padded_sequences[0])))    # total length of each observation\n",
    "\n",
    "model4.add(LSTM(100, return_sequences=False))\n",
    "\n",
    "model4.add(Dense(1, activation='sigmoid')) \n",
    "\n",
    "model4.compile(optimizer='sgd', loss='binary_crossentropy', metrics=['accuracy'])"
   ]
  },
  {
   "cell_type": "code",
   "execution_count": 68,
   "id": "d97c51d9",
   "metadata": {},
   "outputs": [
    {
     "name": "stdout",
     "output_type": "stream",
     "text": [
      "Model: \"sequential_3\"\n",
      "_________________________________________________________________\n",
      " Layer (type)                Output Shape              Param #   \n",
      "=================================================================\n",
      " embedding_3 (Embedding)     (None, 404, 100)          2093600   \n",
      "                                                                 \n",
      " lstm_3 (LSTM)               (None, 100)               80400     \n",
      "                                                                 \n",
      " dense_3 (Dense)             (None, 1)                 101       \n",
      "                                                                 \n",
      "=================================================================\n",
      "Total params: 2174101 (8.29 MB)\n",
      "Trainable params: 2174101 (8.29 MB)\n",
      "Non-trainable params: 0 (0.00 Byte)\n",
      "_________________________________________________________________\n"
     ]
    }
   ],
   "source": [
    "model4.summary()"
   ]
  },
  {
   "cell_type": "code",
   "execution_count": 69,
   "id": "7fba69cf",
   "metadata": {
    "id": "7fba69cf"
   },
   "outputs": [
    {
     "name": "stdout",
     "output_type": "stream",
     "text": [
      "Epoch 1/5\n",
      "57/57 [==============================] - 23s 396ms/step - loss: 0.6932 - accuracy: 0.4843 - val_loss: 0.6933 - val_accuracy: 0.5143\n",
      "Epoch 2/5\n",
      "57/57 [==============================] - 23s 407ms/step - loss: 0.6931 - accuracy: 0.5113 - val_loss: 0.6933 - val_accuracy: 0.5121\n",
      "Epoch 3/5\n",
      "57/57 [==============================] - 22s 383ms/step - loss: 0.6932 - accuracy: 0.4920 - val_loss: 0.6934 - val_accuracy: 0.4923\n",
      "Epoch 4/5\n",
      "57/57 [==============================] - 23s 408ms/step - loss: 0.6932 - accuracy: 0.4975 - val_loss: 0.6935 - val_accuracy: 0.4769\n",
      "Epoch 5/5\n",
      "57/57 [==============================] - 23s 398ms/step - loss: 0.6931 - accuracy: 0.5091 - val_loss: 0.6935 - val_accuracy: 0.4725\n"
     ]
    }
   ],
   "source": [
    "his2 = model4.fit(X_train, y_train, epochs=5, validation_data = (X_val, y_val))"
   ]
  },
  {
   "cell_type": "markdown",
   "id": "fcf52a58-f735-4808-887c-09cad201429e",
   "metadata": {},
   "source": [
    "### MODEL 5 (On Steriods)"
   ]
  },
  {
   "cell_type": "code",
   "execution_count": 161,
   "id": "278f2233-97c0-4479-b19a-5ce5fe5f3398",
   "metadata": {},
   "outputs": [],
   "source": [
    "adamax_opt = Adamax(learning_rate = 0.001)"
   ]
  },
  {
   "cell_type": "code",
   "execution_count": 162,
   "id": "20646d43-0589-42c9-a753-c66d1252d1a9",
   "metadata": {},
   "outputs": [],
   "source": [
    "model5 = Sequential()\n",
    "\n",
    "model5.add(Embedding(total_words,      # number of words to process as input\n",
    "                    100,    # output representation\n",
    "                    mask_zero = True,\n",
    "                    input_length=len(padded_sequences[0])))    # total length of each observation\n",
    "\n",
    "model5.add(Bidirectional(tf.keras.layers.LSTM(100, return_sequences=True)))\n",
    "\n",
    "model5.add(Dropout(0.2)) \n",
    "\n",
    "model5.add(Bidirectional(tf.keras.layers.LSTM(100, return_sequences=False)))\n",
    "#model5.add(LSTM(100, return_sequences=False))\n",
    "\n",
    "model5.add(Dropout(0.2)) \n",
    "\n",
    "model5.add(Dense(1, activation='sigmoid')) \n",
    "\n",
    "model5.compile(optimizer=adamax_opt, loss='binary_crossentropy', metrics=['accuracy'])"
   ]
  },
  {
   "cell_type": "code",
   "execution_count": 163,
   "id": "3ff04abe-608a-4139-8dc7-c2605feac14b",
   "metadata": {},
   "outputs": [
    {
     "name": "stdout",
     "output_type": "stream",
     "text": [
      "Model: \"sequential_25\"\n",
      "_________________________________________________________________\n",
      " Layer (type)                Output Shape              Param #   \n",
      "=================================================================\n",
      " embedding_25 (Embedding)    (None, 404, 100)          2093600   \n",
      "                                                                 \n",
      " bidirectional_38 (Bidirect  (None, 404, 200)          160800    \n",
      " ional)                                                          \n",
      "                                                                 \n",
      " dropout_43 (Dropout)        (None, 404, 200)          0         \n",
      "                                                                 \n",
      " bidirectional_39 (Bidirect  (None, 200)               240800    \n",
      " ional)                                                          \n",
      "                                                                 \n",
      " dropout_44 (Dropout)        (None, 200)               0         \n",
      "                                                                 \n",
      " dense_24 (Dense)            (None, 1)                 201       \n",
      "                                                                 \n",
      "=================================================================\n",
      "Total params: 2495401 (9.52 MB)\n",
      "Trainable params: 2495401 (9.52 MB)\n",
      "Non-trainable params: 0 (0.00 Byte)\n",
      "_________________________________________________________________\n"
     ]
    }
   ],
   "source": [
    "model5.summary()"
   ]
  },
  {
   "cell_type": "code",
   "execution_count": 164,
   "id": "ac57617c-6963-4d24-8134-b48f7a849880",
   "metadata": {},
   "outputs": [
    {
     "name": "stdout",
     "output_type": "stream",
     "text": [
      "Epoch 1/10\n",
      "57/57 [==============================] - 111s 2s/step - loss: 0.6776 - accuracy: 0.5581 - val_loss: 0.5973 - val_accuracy: 0.6835\n",
      "Epoch 2/10\n",
      "57/57 [==============================] - 93s 2s/step - loss: 0.5393 - accuracy: 0.7364 - val_loss: 0.5814 - val_accuracy: 0.6835\n",
      "Epoch 3/10\n",
      "57/57 [==============================] - 93s 2s/step - loss: 0.4106 - accuracy: 0.8250 - val_loss: 0.6415 - val_accuracy: 0.6835\n",
      "Epoch 4/10\n",
      "57/57 [==============================] - 97s 2s/step - loss: 0.2657 - accuracy: 0.9026 - val_loss: 0.8069 - val_accuracy: 0.6549\n",
      "Epoch 5/10\n",
      "57/57 [==============================] - 95s 2s/step - loss: 0.1392 - accuracy: 0.9527 - val_loss: 0.9283 - val_accuracy: 0.6352\n"
     ]
    }
   ],
   "source": [
    "hist5 = model5.fit(X_train, y_train, epochs=10, validation_data = (X_val, y_val), callbacks=[early_stopping])"
   ]
  },
  {
   "cell_type": "code",
   "execution_count": 165,
   "id": "2baeb4c7-428f-4c70-8130-cd73eb71441f",
   "metadata": {},
   "outputs": [
    {
     "data": {
      "text/plain": [
       "[<matplotlib.lines.Line2D at 0x1f494561de0>]"
      ]
     },
     "execution_count": 165,
     "metadata": {},
     "output_type": "execute_result"
    },
    {
     "data": {
      "image/png": "[encoded data removed]",
      "text/plain": [
       "<Figure size 640x480 with 1 Axes>"
      ]
     },
     "metadata": {},
     "output_type": "display_data"
    }
   ],
   "source": [
    "plt.plot(hist5.history['loss'])\n",
    "plt.plot(hist5.history['accuracy'])"
   ]
  },
  {
   "cell_type": "code",
   "execution_count": 166,
   "id": "5d004f3b-e42c-478f-a440-c4500e03ce01",
   "metadata": {},
   "outputs": [
    {
     "name": "stdout",
     "output_type": "stream",
     "text": [
      "18/18 [==============================] - 7s 384ms/step - loss: 0.5739 - accuracy: 0.7077\n"
     ]
    }
   ],
   "source": [
    "loss, accuracy = model5.evaluate(X_test, y_test)"
   ]
  },
  {
   "cell_type": "markdown",
   "id": "6805c04a-2abc-4b8f-b73c-af4bbb1d3f72",
   "metadata": {},
   "source": [
    "### MODEL 7"
   ]
  },
  {
   "cell_type": "code",
   "execution_count": 63,
   "id": "426f843d-aa90-4cc0-80e7-77eea23322d0",
   "metadata": {},
   "outputs": [],
   "source": [
    "from tensorflow.keras.optimizers import Adamax"
   ]
  },
  {
   "cell_type": "code",
   "execution_count": 64,
   "id": "be5753f6-c52e-4de6-98b6-9e3228169e5b",
   "metadata": {},
   "outputs": [],
   "source": [
    "adamax_opt = Adamax(learning_rate = 0.001)"
   ]
  },
  {
   "cell_type": "code",
   "execution_count": 65,
   "id": "cf7ebd27-9ff3-4a27-b5fd-96a33f79208f",
   "metadata": {},
   "outputs": [],
   "source": [
    "# We are going to build our model with the Sequential API\n",
    "model7 = Sequential()\n",
    "\n",
    "model7.add(Embedding(total_words,      # number of words to process as input\n",
    "                    100,    # output representation\n",
    "                    input_length=len(padded_sequences[0])))    # total length of each observation\n",
    "\n",
    "model7.add(LSTM(100, return_sequences=False))\n",
    "#model7.add(Bidirectional(LSTM(100, return_sequences=False)))\n",
    "\n",
    "model7.add(Dropout(0.2))\n",
    "\n",
    "model7.add(Dense(1, activation='sigmoid')) \n",
    "\n",
    "model7.compile(optimizer= adamax_opt, loss='binary_crossentropy', metrics=['accuracy'])"
   ]
  },
  {
   "cell_type": "code",
   "execution_count": 66,
   "id": "a0a474cc-4b69-4df7-836f-8231259a266d",
   "metadata": {},
   "outputs": [
    {
     "name": "stdout",
     "output_type": "stream",
     "text": [
      "Epoch 1/50\n",
      "57/57 [==============================] - 10s 146ms/step - loss: 0.6921 - accuracy: 0.5107 - val_loss: 0.6891 - val_accuracy: 0.5736\n",
      "Epoch 2/50\n",
      "57/57 [==============================] - 8s 139ms/step - loss: 0.6408 - accuracy: 0.6951 - val_loss: 0.6213 - val_accuracy: 0.6791\n",
      "Epoch 3/50\n",
      "57/57 [==============================] - 8s 141ms/step - loss: 0.5628 - accuracy: 0.7331 - val_loss: 0.5984 - val_accuracy: 0.6857\n",
      "Epoch 4/50\n",
      "57/57 [==============================] - 8s 141ms/step - loss: 0.5044 - accuracy: 0.7760 - val_loss: 0.5976 - val_accuracy: 0.6879\n",
      "Epoch 5/50\n",
      "57/57 [==============================] - 8s 141ms/step - loss: 0.4384 - accuracy: 0.8217 - val_loss: 0.6485 - val_accuracy: 0.6352\n",
      "Epoch 6/50\n",
      "57/57 [==============================] - 8s 142ms/step - loss: 0.3728 - accuracy: 0.8624 - val_loss: 0.6763 - val_accuracy: 0.7055\n",
      "Epoch 7/50\n",
      "57/57 [==============================] - 8s 142ms/step - loss: 0.2906 - accuracy: 0.9075 - val_loss: 0.6899 - val_accuracy: 0.6989\n"
     ]
    }
   ],
   "source": [
    "hist7 = model7.fit(X_train, y_train, epochs=50, validation_data = (X_val, y_val), callbacks=[early_stopping])"
   ]
  },
  {
   "cell_type": "code",
   "execution_count": 67,
   "id": "b92acd72-bd15-4ab2-9b45-fd26d1e69f58",
   "metadata": {},
   "outputs": [
    {
     "data": {
      "text/plain": [
       "[<matplotlib.lines.Line2D at 0x1f388f0ae30>]"
      ]
     },
     "execution_count": 67,
     "metadata": {},
     "output_type": "execute_result"
    },
    {
     "data": {
      "image/png": "[encoded data removed]",
      "text/plain": [
       "<Figure size 640x480 with 1 Axes>"
      ]
     },
     "metadata": {},
     "output_type": "display_data"
    }
   ],
   "source": [
    "plt.plot(hist7.history['loss'])\n",
    "plt.plot(hist7.history['accuracy'])"
   ]
  },
  {
   "cell_type": "code",
   "execution_count": 68,
   "id": "4b9325fa-0d81-438e-beb8-6cf2df3bfbf7",
   "metadata": {},
   "outputs": [
    {
     "name": "stdout",
     "output_type": "stream",
     "text": [
      "18/18 [==============================] - 1s 52ms/step - loss: 0.5975 - accuracy: 0.6778\n"
     ]
    }
   ],
   "source": [
    "loss, accuracy = model7.evaluate(X_test, y_test)"
   ]
  },
  {
   "cell_type": "markdown",
   "id": "bbd38bd3-1816-4bfd-9971-c2084acbfb78",
   "metadata": {},
   "source": [
    "### MODEL 9"
   ]
  },
  {
   "cell_type": "code",
   "execution_count": 172,
   "id": "77c4ad03-e817-4836-abd3-4c8e99982d0d",
   "metadata": {},
   "outputs": [],
   "source": [
    "adamax_opt = Adamax(learning_rate = 0.001)"
   ]
  },
  {
   "cell_type": "code",
   "execution_count": 173,
   "id": "b2fffec0-09d2-455c-8e65-2252a39bf7de",
   "metadata": {},
   "outputs": [],
   "source": [
    "# We are going to build our model with the Sequential API\n",
    "model9 = Sequential()\n",
    "\n",
    "model9.add(Embedding(total_words,      # number of words to process as input\n",
    "                    100,    # output representation\n",
    "                    input_length=len(padded_sequences[0])))    # total length of each observation\n",
    "\n",
    "#model9.add(LSTM(100, return_sequences=False))\n",
    "model9.add(Bidirectional(LSTM(100, return_sequences=False)))\n",
    "\n",
    "model9.add(Dropout(0.2))\n",
    "\n",
    "model9.add(Dense(1, activation='sigmoid')) \n",
    "\n",
    "model9.compile(optimizer= adamax_opt, loss='binary_crossentropy', metrics=['accuracy'])"
   ]
  },
  {
   "cell_type": "code",
   "execution_count": 174,
   "id": "5a46365d-29e9-4e02-b0de-b9d190c82c67",
   "metadata": {},
   "outputs": [
    {
     "name": "stdout",
     "output_type": "stream",
     "text": [
      "Epoch 1/50\n",
      "57/57 [==============================] - 66s 1s/step - loss: 0.6940 - accuracy: 0.4992 - val_loss: 0.6917 - val_accuracy: 0.5912\n",
      "Epoch 2/50\n",
      "57/57 [==============================] - 61s 1s/step - loss: 0.6570 - accuracy: 0.6637 - val_loss: 0.6145 - val_accuracy: 0.7011\n",
      "Epoch 3/50\n",
      "57/57 [==============================] - 59s 1s/step - loss: 0.5479 - accuracy: 0.7342 - val_loss: 0.6265 - val_accuracy: 0.7033\n",
      "Epoch 4/50\n",
      "57/57 [==============================] - 58s 1s/step - loss: 0.4575 - accuracy: 0.8019 - val_loss: 0.6566 - val_accuracy: 0.6901\n",
      "Epoch 5/50\n",
      "57/57 [==============================] - 61s 1s/step - loss: 0.3627 - accuracy: 0.8619 - val_loss: 0.7681 - val_accuracy: 0.6813\n"
     ]
    }
   ],
   "source": [
    "hist9 = model9.fit(X_train, y_train, epochs=50, validation_data = (X_val, y_val), callbacks=[early_stopping])"
   ]
  },
  {
   "cell_type": "code",
   "execution_count": 175,
   "id": "d3162d4b-d971-4f23-beb9-ebcb1ba2b607",
   "metadata": {},
   "outputs": [
    {
     "data": {
      "text/plain": [
       "[<matplotlib.lines.Line2D at 0x1f3944f8640>]"
      ]
     },
     "execution_count": 175,
     "metadata": {},
     "output_type": "execute_result"
    },
    {
     "data": {
      "image/png": "[encoded data removed]",
      "text/plain": [
       "<Figure size 640x480 with 1 Axes>"
      ]
     },
     "metadata": {},
     "output_type": "display_data"
    }
   ],
   "source": [
    "plt.plot(hist9.history['loss'])\n",
    "plt.plot(hist9.history['accuracy'])"
   ]
  },
  {
   "cell_type": "code",
   "execution_count": 176,
   "id": "860bbb10-745f-45b6-862e-a6bbe850443c",
   "metadata": {},
   "outputs": [
    {
     "name": "stdout",
     "output_type": "stream",
     "text": [
      "18/18 [==============================] - 3s 186ms/step - loss: 0.6025 - accuracy: 0.6919\n"
     ]
    }
   ],
   "source": [
    "loss, accuracy = model9.evaluate(X_test, y_test)"
   ]
  },
  {
   "cell_type": "code",
   "execution_count": null,
   "id": "e2f24238-ee65-4615-b759-cc530c16f5eb",
   "metadata": {},
   "outputs": [],
   "source": []
  }
 ],
 "metadata": {
  "colab": {
   "provenance": []
  },
  "kernelspec": {
   "display_name": "Python 3 (ipykernel)",
   "language": "python",
   "name": "python3"
  },
  "language_info": {
   "codemirror_mode": {
    "name": "ipython",
    "version": 3
   },
   "file_extension": ".py",
   "mimetype": "text/x-python",
   "name": "python",
   "nbconvert_exporter": "python",
   "pygments_lexer": "ipython3",
   "version": "3.10.7"
  }
 },
 "nbformat": 4,
 "nbformat_minor": 5
}
