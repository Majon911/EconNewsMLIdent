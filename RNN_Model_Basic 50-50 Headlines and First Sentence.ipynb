{
 "cells": [
  {
   "cell_type": "markdown",
   "id": "3bduh-46OHFK",
   "metadata": {
    "id": "3bduh-46OHFK"
   },
   "source": [
    "# Preprocess"
   ]
  },
  {
   "cell_type": "code",
   "execution_count": 1,
   "id": "iUFDKHaVOHFN",
   "metadata": {
    "id": "iUFDKHaVOHFN"
   },
   "outputs": [],
   "source": [
    "import pandas as pd"
   ]
  },
  {
   "cell_type": "code",
   "execution_count": 2,
   "id": "beLBhgRLOHFP",
   "metadata": {
    "colab": {
     "base_uri": "https://localhost:8080/"
    },
    "id": "beLBhgRLOHFP",
    "outputId": "fe017141-8c90-4f18-d260-b91583d3e971"
   },
   "outputs": [
    {
     "name": "stdout",
     "output_type": "stream",
     "text": [
      "<class 'pandas.core.frame.DataFrame'>\n",
      "RangeIndex: 8000 entries, 0 to 7999\n",
      "Data columns (total 15 columns):\n",
      " #   Column                 Non-Null Count  Dtype  \n",
      "---  ------                 --------------  -----  \n",
      " 0   _unit_id               8000 non-null   int64  \n",
      " 1   _golden                8000 non-null   bool   \n",
      " 2   _unit_state            8000 non-null   object \n",
      " 3   _trusted_judgments     8000 non-null   int64  \n",
      " 4   _last_judgment_at      8000 non-null   object \n",
      " 5   positivity             1420 non-null   float64\n",
      " 6   positivity:confidence  3775 non-null   float64\n",
      " 7   relevance              8000 non-null   object \n",
      " 8   relevance:confidence   8000 non-null   float64\n",
      " 9   articleid              8000 non-null   object \n",
      " 10  date                   8000 non-null   object \n",
      " 11  headline               8000 non-null   object \n",
      " 12  positivity_gold        0 non-null      float64\n",
      " 13  relevance_gold         0 non-null      float64\n",
      " 14  text                   8000 non-null   object \n",
      "dtypes: bool(1), float64(5), int64(2), object(7)\n",
      "memory usage: 882.9+ KB\n"
     ]
    }
   ],
   "source": [
    "df = pd.read_csv(\"./US-Economic-News.csv\", delimiter=',', encoding= 'ISO-8859-1')\n",
    "\n",
    "df.info()"
   ]
  },
  {
   "cell_type": "code",
   "execution_count": 3,
   "id": "2pZ91v4YOHFQ",
   "metadata": {
    "colab": {
     "base_uri": "https://localhost:8080/",
     "height": 573
    },
    "id": "2pZ91v4YOHFQ",
    "outputId": "2ecb5bf5-5337-4d44-bf14-f45d0725524e"
   },
   "outputs": [
    {
     "data": {
      "text/html": [
       "<div>\n",
       "<style scoped>\n",
       "    .dataframe tbody tr th:only-of-type {\n",
       "        vertical-align: middle;\n",
       "    }\n",
       "\n",
       "    .dataframe tbody tr th {\n",
       "        vertical-align: top;\n",
       "    }\n",
       "\n",
       "    .dataframe thead th {\n",
       "        text-align: right;\n",
       "    }\n",
       "</style>\n",
       "<table border=\"1\" class=\"dataframe\">\n",
       "  <thead>\n",
       "    <tr style=\"text-align: right;\">\n",
       "      <th></th>\n",
       "      <th>_unit_id</th>\n",
       "      <th>_golden</th>\n",
       "      <th>_unit_state</th>\n",
       "      <th>_trusted_judgments</th>\n",
       "      <th>_last_judgment_at</th>\n",
       "      <th>positivity</th>\n",
       "      <th>positivity:confidence</th>\n",
       "      <th>relevance</th>\n",
       "      <th>relevance:confidence</th>\n",
       "      <th>articleid</th>\n",
       "      <th>date</th>\n",
       "      <th>headline</th>\n",
       "      <th>positivity_gold</th>\n",
       "      <th>relevance_gold</th>\n",
       "      <th>text</th>\n",
       "    </tr>\n",
       "  </thead>\n",
       "  <tbody>\n",
       "    <tr>\n",
       "      <th>0</th>\n",
       "      <td>842613455</td>\n",
       "      <td>False</td>\n",
       "      <td>finalized</td>\n",
       "      <td>3</td>\n",
       "      <td>12/5/15 17:48</td>\n",
       "      <td>3.0</td>\n",
       "      <td>0.6400</td>\n",
       "      <td>yes</td>\n",
       "      <td>0.640</td>\n",
       "      <td>wsj_398217788</td>\n",
       "      <td>8/14/91</td>\n",
       "      <td>Yields on CDs Fell in the Latest Week</td>\n",
       "      <td>NaN</td>\n",
       "      <td>NaN</td>\n",
       "      <td>NEW YORK -- Yields on most certificates of dep...</td>\n",
       "    </tr>\n",
       "    <tr>\n",
       "      <th>1</th>\n",
       "      <td>842613456</td>\n",
       "      <td>False</td>\n",
       "      <td>finalized</td>\n",
       "      <td>3</td>\n",
       "      <td>12/5/15 16:54</td>\n",
       "      <td>NaN</td>\n",
       "      <td>NaN</td>\n",
       "      <td>no</td>\n",
       "      <td>1.000</td>\n",
       "      <td>wsj_399019502</td>\n",
       "      <td>8/21/07</td>\n",
       "      <td>The Morning Brief: White House Seeks to Limit ...</td>\n",
       "      <td>NaN</td>\n",
       "      <td>NaN</td>\n",
       "      <td>The Wall Street Journal Online&lt;/br&gt;&lt;/br&gt;The Mo...</td>\n",
       "    </tr>\n",
       "    <tr>\n",
       "      <th>2</th>\n",
       "      <td>842613457</td>\n",
       "      <td>False</td>\n",
       "      <td>finalized</td>\n",
       "      <td>3</td>\n",
       "      <td>12/5/15 1:59</td>\n",
       "      <td>NaN</td>\n",
       "      <td>NaN</td>\n",
       "      <td>no</td>\n",
       "      <td>1.000</td>\n",
       "      <td>wsj_398284048</td>\n",
       "      <td>11/14/91</td>\n",
       "      <td>Banking Bill Negotiators Set Compromise --- Pl...</td>\n",
       "      <td>NaN</td>\n",
       "      <td>NaN</td>\n",
       "      <td>WASHINGTON -- In an effort to achieve banking ...</td>\n",
       "    </tr>\n",
       "    <tr>\n",
       "      <th>3</th>\n",
       "      <td>842613458</td>\n",
       "      <td>False</td>\n",
       "      <td>finalized</td>\n",
       "      <td>3</td>\n",
       "      <td>12/5/15 2:19</td>\n",
       "      <td>NaN</td>\n",
       "      <td>0.0000</td>\n",
       "      <td>no</td>\n",
       "      <td>0.675</td>\n",
       "      <td>wsj_397959018</td>\n",
       "      <td>6/16/86</td>\n",
       "      <td>Manager's Journal: Sniffing Out Drug Abusers I...</td>\n",
       "      <td>NaN</td>\n",
       "      <td>NaN</td>\n",
       "      <td>The statistics on the enormous costs of employ...</td>\n",
       "    </tr>\n",
       "    <tr>\n",
       "      <th>4</th>\n",
       "      <td>842613459</td>\n",
       "      <td>False</td>\n",
       "      <td>finalized</td>\n",
       "      <td>3</td>\n",
       "      <td>12/5/15 17:48</td>\n",
       "      <td>3.0</td>\n",
       "      <td>0.3257</td>\n",
       "      <td>yes</td>\n",
       "      <td>0.640</td>\n",
       "      <td>wsj_398838054</td>\n",
       "      <td>10/4/02</td>\n",
       "      <td>Currency Trading: Dollar Remains in Tight Rang...</td>\n",
       "      <td>NaN</td>\n",
       "      <td>NaN</td>\n",
       "      <td>NEW YORK -- Indecision marked the dollar's ton...</td>\n",
       "    </tr>\n",
       "  </tbody>\n",
       "</table>\n",
       "</div>"
      ],
      "text/plain": [
       "    _unit_id  _golden _unit_state  _trusted_judgments _last_judgment_at  \\\n",
       "0  842613455    False   finalized                   3     12/5/15 17:48   \n",
       "1  842613456    False   finalized                   3     12/5/15 16:54   \n",
       "2  842613457    False   finalized                   3      12/5/15 1:59   \n",
       "3  842613458    False   finalized                   3      12/5/15 2:19   \n",
       "4  842613459    False   finalized                   3     12/5/15 17:48   \n",
       "\n",
       "   positivity  positivity:confidence relevance  relevance:confidence  \\\n",
       "0         3.0                 0.6400       yes                 0.640   \n",
       "1         NaN                    NaN        no                 1.000   \n",
       "2         NaN                    NaN        no                 1.000   \n",
       "3         NaN                 0.0000        no                 0.675   \n",
       "4         3.0                 0.3257       yes                 0.640   \n",
       "\n",
       "       articleid      date                                           headline  \\\n",
       "0  wsj_398217788   8/14/91              Yields on CDs Fell in the Latest Week   \n",
       "1  wsj_399019502   8/21/07  The Morning Brief: White House Seeks to Limit ...   \n",
       "2  wsj_398284048  11/14/91  Banking Bill Negotiators Set Compromise --- Pl...   \n",
       "3  wsj_397959018   6/16/86  Manager's Journal: Sniffing Out Drug Abusers I...   \n",
       "4  wsj_398838054   10/4/02  Currency Trading: Dollar Remains in Tight Rang...   \n",
       "\n",
       "   positivity_gold  relevance_gold  \\\n",
       "0              NaN             NaN   \n",
       "1              NaN             NaN   \n",
       "2              NaN             NaN   \n",
       "3              NaN             NaN   \n",
       "4              NaN             NaN   \n",
       "\n",
       "                                                text  \n",
       "0  NEW YORK -- Yields on most certificates of dep...  \n",
       "1  The Wall Street Journal Online</br></br>The Mo...  \n",
       "2  WASHINGTON -- In an effort to achieve banking ...  \n",
       "3  The statistics on the enormous costs of employ...  \n",
       "4  NEW YORK -- Indecision marked the dollar's ton...  "
      ]
     },
     "execution_count": 3,
     "metadata": {},
     "output_type": "execute_result"
    }
   ],
   "source": [
    "df.head(5)"
   ]
  },
  {
   "cell_type": "code",
   "execution_count": 17,
   "id": "6dfFHenMOHFQ",
   "metadata": {
    "id": "6dfFHenMOHFQ"
   },
   "outputs": [],
   "source": [
    "df = df[['headline', 'text', 'relevance']]\n",
    "\n",
    "# We drop all irrelavant features to only keep headline and text for 2 reasons: \n",
    "# The other features seem either irrelevant or we lack documentation\n",
    "# With headline and text only, our final model will be more generalizable. We could in theory apply it to any article."
   ]
  },
  {
   "cell_type": "code",
   "execution_count": 18,
   "id": "609b72fc",
   "metadata": {},
   "outputs": [
    {
     "name": "stdout",
     "output_type": "stream",
     "text": [
      "relevance\n",
      "yes    1420\n",
      "no     1420\n",
      "Name: count, dtype: int64\n"
     ]
    }
   ],
   "source": [
    "import pandas as pd\n",
    "import numpy as np\n",
    "\n",
    "df_yes = df[df['relevance'] == 'yes']\n",
    "df_no = df[df['relevance'] == 'no']\n",
    "\n",
    "df_no_sampled = df_no.sample(n=len(df_yes), random_state=42)\n",
    "\n",
    "# Concatenate the sampled 'no' rows with all 'yes' rows\n",
    "df_balanced = pd.concat([df_yes, df_no_sampled])\n",
    "\n",
    "print(df_balanced['relevance'].value_counts())"
   ]
  },
  {
   "cell_type": "code",
   "execution_count": 19,
   "id": "2dd88fd1",
   "metadata": {},
   "outputs": [],
   "source": [
    "df = df_balanced"
   ]
  },
  {
   "cell_type": "markdown",
   "id": "jK-dXnQAOHFR",
   "metadata": {
    "id": "jK-dXnQAOHFR"
   },
   "source": [
    "Cleaning Strings"
   ]
  },
  {
   "cell_type": "code",
   "execution_count": 7,
   "id": "kS0pN2EEOHFS",
   "metadata": {
    "id": "kS0pN2EEOHFS"
   },
   "outputs": [],
   "source": [
    "#!pip install nltk"
   ]
  },
  {
   "cell_type": "code",
   "execution_count": 7,
   "id": "fpS1zR46OHFS",
   "metadata": {
    "id": "fpS1zR46OHFS"
   },
   "outputs": [],
   "source": [
    "import numpy as np\n",
    "import re\n",
    "import nltk\n",
    "from nltk.corpus import stopwords\n",
    "from nltk.tokenize import word_tokenize\n",
    "from nltk.stem import WordNetLemmatizer"
   ]
  },
  {
   "cell_type": "code",
   "execution_count": 9,
   "id": "T8bYfqW0OHFS",
   "metadata": {
    "colab": {
     "base_uri": "https://localhost:8080/"
    },
    "id": "T8bYfqW0OHFS",
    "outputId": "0e457b24-c049-4984-ed6b-29f344f613b0"
   },
   "outputs": [],
   "source": [
    "# #Ensure you have downloaded the necessary NLTK data\n",
    "# import nltk\n",
    "# nltk.download('punkt')\n",
    "# nltk.download('stopwords')\n",
    "# nltk.download('wordnet')"
   ]
  },
  {
   "cell_type": "code",
   "execution_count": 20,
   "id": "hwsu0fkMOHFS",
   "metadata": {
    "id": "hwsu0fkMOHFS"
   },
   "outputs": [],
   "source": [
    "df['whole_txt'] = df['headline']+ ' ' + df['text']"
   ]
  },
  {
   "cell_type": "code",
   "execution_count": 21,
   "id": "tGK5t8RyOHFT",
   "metadata": {
    "id": "tGK5t8RyOHFT"
   },
   "outputs": [],
   "source": [
    "wtxt_train = np.array(df['whole_txt'])"
   ]
  },
  {
   "cell_type": "code",
   "execution_count": 10,
   "id": "kPJu-IuxOHFT",
   "metadata": {
    "colab": {
     "base_uri": "https://localhost:8080/"
    },
    "id": "kPJu-IuxOHFT",
    "outputId": "38626369-0963-40be-8d89-321e151d7b9b"
   },
   "outputs": [],
   "source": [
    "#print(wtxt_train)"
   ]
  },
  {
   "cell_type": "code",
   "execution_count": 22,
   "id": "8EX1KU3FOHFT",
   "metadata": {
    "id": "8EX1KU3FOHFT"
   },
   "outputs": [],
   "source": [
    "for i in range(len(wtxt_train)):\n",
    "    # Taking out '<br>' in the 'whole_text' column\n",
    "    wtxt_train[i] = re.sub(r'</?br>', ' ', wtxt_train[i])\n",
    "    # Deletion of non-latin alfabet signs, also numbers\n",
    "    wtxt_train[i] = re.sub(r'[^a-zA-Z]', ' ', wtxt_train[i])\n",
    "    # Removing single letter works like 'a'.\n",
    "    wtxt_train[i] = re.sub(r\"\\s+[a-zA-Z]\\s+\", ' ', wtxt_train[i])\n",
    "    # Removing double spaces\n",
    "    wtxt_train[i] = re.sub(r'\\s+', ' ', wtxt_train[i])\n",
    "    # Lower case\n",
    "    wtxt_train[i] = wtxt_train[i].lower()"
   ]
  },
  {
   "cell_type": "markdown",
   "id": "OGok8jBiOHFT",
   "metadata": {
    "id": "OGok8jBiOHFT"
   },
   "source": [
    "Split the words."
   ]
  },
  {
   "cell_type": "code",
   "execution_count": 23,
   "id": "YLC_hbBPOHFT",
   "metadata": {
    "id": "YLC_hbBPOHFT"
   },
   "outputs": [],
   "source": [
    "for i in range(len(wtxt_train)):\n",
    "    wtxt_train[i] = word_tokenize(wtxt_train[i])"
   ]
  },
  {
   "cell_type": "markdown",
   "id": "nJcjnqLHOHFT",
   "metadata": {
    "id": "nJcjnqLHOHFT"
   },
   "source": [
    "Removing stop words"
   ]
  },
  {
   "cell_type": "code",
   "execution_count": 24,
   "id": "7uoaH6INOHFT",
   "metadata": {
    "id": "7uoaH6INOHFT"
   },
   "outputs": [],
   "source": [
    "stop_words = set(stopwords.words('english'))\n",
    "\n",
    "for i in range(len(wtxt_train)):\n",
    "    wtxt_train[i] = [word for word in wtxt_train[i] if word not in stop_words]"
   ]
  },
  {
   "cell_type": "code",
   "execution_count": 25,
   "id": "74Ii4vxnOHFU",
   "metadata": {
    "id": "74Ii4vxnOHFU"
   },
   "outputs": [
    {
     "data": {
      "text/plain": [
       "['yields',\n",
       " 'cds',\n",
       " 'fell',\n",
       " 'latest',\n",
       " 'weeknew',\n",
       " 'york',\n",
       " 'yields',\n",
       " 'certificates',\n",
       " 'deposit',\n",
       " 'offered',\n",
       " 'major',\n",
       " 'banks',\n",
       " 'dropped',\n",
       " 'tenth',\n",
       " 'percentage',\n",
       " 'point',\n",
       " 'latest',\n",
       " 'week',\n",
       " 'reflecting',\n",
       " 'overall',\n",
       " 'decline',\n",
       " 'short',\n",
       " 'term',\n",
       " 'interest',\n",
       " 'rates',\n",
       " 'small',\n",
       " 'denomination',\n",
       " 'consumer',\n",
       " 'cds',\n",
       " 'sold',\n",
       " 'directly',\n",
       " 'banks',\n",
       " 'average',\n",
       " 'yield',\n",
       " 'six',\n",
       " 'month',\n",
       " 'deposits',\n",
       " 'fell',\n",
       " 'week',\n",
       " 'ended',\n",
       " 'yesterday',\n",
       " 'according',\n",
       " 'bank',\n",
       " 'survey',\n",
       " 'banxquote',\n",
       " 'money',\n",
       " 'markets',\n",
       " 'wilmington',\n",
       " 'del',\n",
       " 'information',\n",
       " 'service',\n",
       " 'three',\n",
       " 'month',\n",
       " 'consumer',\n",
       " 'deposits',\n",
       " 'average',\n",
       " 'yield',\n",
       " 'sank',\n",
       " 'week',\n",
       " 'according',\n",
       " 'banxquote',\n",
       " 'two',\n",
       " 'banks',\n",
       " 'banxquote',\n",
       " 'survey',\n",
       " 'citibank',\n",
       " 'new',\n",
       " 'york',\n",
       " 'corestates',\n",
       " 'pennsylvania',\n",
       " 'paying',\n",
       " 'less',\n",
       " 'threemonth',\n",
       " 'small',\n",
       " 'denomination',\n",
       " 'cds',\n",
       " 'declines',\n",
       " 'somewhat',\n",
       " 'smaller',\n",
       " 'five',\n",
       " 'year',\n",
       " 'consumer',\n",
       " 'cds',\n",
       " 'eased',\n",
       " 'banxquote',\n",
       " 'said',\n",
       " 'yields',\n",
       " 'three',\n",
       " 'month',\n",
       " 'six',\n",
       " 'month',\n",
       " 'treasury',\n",
       " 'bills',\n",
       " 'sold',\n",
       " 'monday',\n",
       " 'auction',\n",
       " 'plummeted',\n",
       " 'fifth',\n",
       " 'percentage',\n",
       " 'point',\n",
       " 'previous',\n",
       " 'week',\n",
       " 'respectively']"
      ]
     },
     "execution_count": 25,
     "metadata": {},
     "output_type": "execute_result"
    }
   ],
   "source": [
    "wtxt_train[0]\n",
    "# stop_words"
   ]
  },
  {
   "cell_type": "markdown",
   "id": "eb47f697-acc9-4412-b187-64c3900a3f18",
   "metadata": {},
   "source": [
    "Choosing first n words"
   ]
  },
  {
   "cell_type": "code",
   "execution_count": 30,
   "id": "dda178ce-5182-4f73-8cb9-b80782b5aec9",
   "metadata": {},
   "outputs": [],
   "source": [
    "for i in range(len(wtxt_train)):\n",
    "    wtxt_train[i] = wtxt_train[i][:15]"
   ]
  },
  {
   "cell_type": "code",
   "execution_count": 33,
   "id": "4d0174dc-f7e6-4795-82b5-1fff0407c0c2",
   "metadata": {},
   "outputs": [
    {
     "data": {
      "text/plain": [
       "['yields',\n",
       " 'cds',\n",
       " 'fell',\n",
       " 'latest',\n",
       " 'weeknew',\n",
       " 'york',\n",
       " 'yields',\n",
       " 'certificates',\n",
       " 'deposit',\n",
       " 'offered',\n",
       " 'major',\n",
       " 'banks',\n",
       " 'dropped',\n",
       " 'tenth',\n",
       " 'percentage']"
      ]
     },
     "execution_count": 33,
     "metadata": {},
     "output_type": "execute_result"
    }
   ],
   "source": [
    "wtxt_train[0]"
   ]
  },
  {
   "cell_type": "markdown",
   "id": "0Ih9nJCDOHFU",
   "metadata": {
    "id": "0Ih9nJCDOHFU"
   },
   "source": [
    "Lemmatization"
   ]
  },
  {
   "cell_type": "code",
   "execution_count": 34,
   "id": "tZq0soQFOHFU",
   "metadata": {
    "id": "tZq0soQFOHFU"
   },
   "outputs": [],
   "source": [
    "lemmatizer = WordNetLemmatizer()\n",
    "for i in range(len(wtxt_train)):\n",
    "    wtxt_train[i] = [lemmatizer.lemmatize(word) for word in wtxt_train[i]]"
   ]
  },
  {
   "cell_type": "code",
   "execution_count": 35,
   "id": "yh7EcIK7OHFU",
   "metadata": {
    "id": "yh7EcIK7OHFU"
   },
   "outputs": [],
   "source": [
    "df['whole_txt'] = wtxt_train\n",
    "df = df.drop(['headline', 'text'], axis = 1)"
   ]
  },
  {
   "cell_type": "code",
   "execution_count": 36,
   "id": "T1TLLZZhOHFU",
   "metadata": {
    "colab": {
     "base_uri": "https://localhost:8080/",
     "height": 206
    },
    "id": "T1TLLZZhOHFU",
    "outputId": "127d4d92-3e49-4449-8bff-a5ab1fa375cc"
   },
   "outputs": [
    {
     "data": {
      "text/html": [
       "<div>\n",
       "<style scoped>\n",
       "    .dataframe tbody tr th:only-of-type {\n",
       "        vertical-align: middle;\n",
       "    }\n",
       "\n",
       "    .dataframe tbody tr th {\n",
       "        vertical-align: top;\n",
       "    }\n",
       "\n",
       "    .dataframe thead th {\n",
       "        text-align: right;\n",
       "    }\n",
       "</style>\n",
       "<table border=\"1\" class=\"dataframe\">\n",
       "  <thead>\n",
       "    <tr style=\"text-align: right;\">\n",
       "      <th></th>\n",
       "      <th>relevance</th>\n",
       "      <th>whole_txt</th>\n",
       "    </tr>\n",
       "  </thead>\n",
       "  <tbody>\n",
       "    <tr>\n",
       "      <th>0</th>\n",
       "      <td>yes</td>\n",
       "      <td>[yield, cd, fell, latest, weeknew, york, yield...</td>\n",
       "    </tr>\n",
       "    <tr>\n",
       "      <th>4</th>\n",
       "      <td>yes</td>\n",
       "      <td>[currency, trading, dollar, remains, tight, ra...</td>\n",
       "    </tr>\n",
       "    <tr>\n",
       "      <th>5</th>\n",
       "      <td>yes</td>\n",
       "      <td>[stock, fall, bofa, alcoa, slidestocks, declin...</td>\n",
       "    </tr>\n",
       "    <tr>\n",
       "      <th>9</th>\n",
       "      <td>yes</td>\n",
       "      <td>[u, dollar, fall, currency, decline, softened,...</td>\n",
       "    </tr>\n",
       "    <tr>\n",
       "      <th>12</th>\n",
       "      <td>yes</td>\n",
       "      <td>[defending, deflationauthor, james, stewart, d...</td>\n",
       "    </tr>\n",
       "  </tbody>\n",
       "</table>\n",
       "</div>"
      ],
      "text/plain": [
       "   relevance                                          whole_txt\n",
       "0        yes  [yield, cd, fell, latest, weeknew, york, yield...\n",
       "4        yes  [currency, trading, dollar, remains, tight, ra...\n",
       "5        yes  [stock, fall, bofa, alcoa, slidestocks, declin...\n",
       "9        yes  [u, dollar, fall, currency, decline, softened,...\n",
       "12       yes  [defending, deflationauthor, james, stewart, d..."
      ]
     },
     "execution_count": 36,
     "metadata": {},
     "output_type": "execute_result"
    }
   ],
   "source": [
    "df.head(5)"
   ]
  },
  {
   "cell_type": "code",
   "execution_count": 37,
   "id": "1e868e34",
   "metadata": {
    "id": "1e868e34"
   },
   "outputs": [
    {
     "name": "stdout",
     "output_type": "stream",
     "text": [
      "WARNING:tensorflow:From C:\\Users\\majon\\AppData\\Local\\Programs\\Python\\Python310\\lib\\site-packages\\keras\\src\\losses.py:2976: The name tf.losses.sparse_softmax_cross_entropy is deprecated. Please use tf.compat.v1.losses.sparse_softmax_cross_entropy instead.\n",
      "\n"
     ]
    }
   ],
   "source": [
    "## Importing Libraries\n",
    "import numpy as np\n",
    "import tensorflow as tf\n",
    "from tensorflow.keras.preprocessing.text import Tokenizer\n",
    "from tensorflow.keras.preprocessing.sequence import pad_sequences\n",
    "from tensorflow.keras.models import Sequential\n",
    "from tensorflow.keras.layers import Embedding, LSTM, Dense, Dropout, Bidirectional\n",
    "from tensorflow.keras.callbacks import EarlyStopping"
   ]
  },
  {
   "cell_type": "markdown",
   "id": "2a9ecc91",
   "metadata": {
    "id": "2a9ecc91"
   },
   "source": [
    "### Data preparation\n",
    "* Initial Data Processing: Our first step is to encode the relevance label into both the Relevant (1) and non-Relevant labels (0). Then, we make it into a np.array to feed into the model.\n",
    "* Then, we begin to clean text data into pad sequences."
   ]
  },
  {
   "cell_type": "code",
   "execution_count": 38,
   "id": "8d046d1e",
   "metadata": {},
   "outputs": [],
   "source": [
    "df.update(df[\"relevance\"].apply(lambda x: 0 if x == \"no\" else 1))"
   ]
  },
  {
   "cell_type": "code",
   "execution_count": 39,
   "id": "c64fe00d",
   "metadata": {},
   "outputs": [
    {
     "data": {
      "text/html": [
       "<div>\n",
       "<style scoped>\n",
       "    .dataframe tbody tr th:only-of-type {\n",
       "        vertical-align: middle;\n",
       "    }\n",
       "\n",
       "    .dataframe tbody tr th {\n",
       "        vertical-align: top;\n",
       "    }\n",
       "\n",
       "    .dataframe thead th {\n",
       "        text-align: right;\n",
       "    }\n",
       "</style>\n",
       "<table border=\"1\" class=\"dataframe\">\n",
       "  <thead>\n",
       "    <tr style=\"text-align: right;\">\n",
       "      <th></th>\n",
       "      <th>relevance</th>\n",
       "      <th>whole_txt</th>\n",
       "    </tr>\n",
       "  </thead>\n",
       "  <tbody>\n",
       "    <tr>\n",
       "      <th>0</th>\n",
       "      <td>1</td>\n",
       "      <td>[yield, cd, fell, latest, weeknew, york, yield...</td>\n",
       "    </tr>\n",
       "    <tr>\n",
       "      <th>4</th>\n",
       "      <td>1</td>\n",
       "      <td>[currency, trading, dollar, remains, tight, ra...</td>\n",
       "    </tr>\n",
       "    <tr>\n",
       "      <th>5</th>\n",
       "      <td>1</td>\n",
       "      <td>[stock, fall, bofa, alcoa, slidestocks, declin...</td>\n",
       "    </tr>\n",
       "    <tr>\n",
       "      <th>9</th>\n",
       "      <td>1</td>\n",
       "      <td>[u, dollar, fall, currency, decline, softened,...</td>\n",
       "    </tr>\n",
       "    <tr>\n",
       "      <th>12</th>\n",
       "      <td>1</td>\n",
       "      <td>[defending, deflationauthor, james, stewart, d...</td>\n",
       "    </tr>\n",
       "  </tbody>\n",
       "</table>\n",
       "</div>"
      ],
      "text/plain": [
       "   relevance                                          whole_txt\n",
       "0          1  [yield, cd, fell, latest, weeknew, york, yield...\n",
       "4          1  [currency, trading, dollar, remains, tight, ra...\n",
       "5          1  [stock, fall, bofa, alcoa, slidestocks, declin...\n",
       "9          1  [u, dollar, fall, currency, decline, softened,...\n",
       "12         1  [defending, deflationauthor, james, stewart, d..."
      ]
     },
     "execution_count": 39,
     "metadata": {},
     "output_type": "execute_result"
    }
   ],
   "source": [
    "df.head(5)"
   ]
  },
  {
   "cell_type": "markdown",
   "id": "bc686094",
   "metadata": {
    "id": "bc686094"
   },
   "source": [
    "### Tokenization\n",
    "First, we need to \"tokenize\" our sentences, i.e., convert them to sequences of numbers. For this task, we are going to use the `Tokenizer` from Tensorflow (documentation [here](https://www.tensorflow.org/api_docs/python/tf/keras/preprocessing/text/Tokenizer))"
   ]
  },
  {
   "cell_type": "code",
   "execution_count": 40,
   "id": "cf9eaddf",
   "metadata": {
    "id": "cf9eaddf"
   },
   "outputs": [],
   "source": [
    "tokenizer = Tokenizer()\n",
    "tokenizer.fit_on_texts(wtxt_train)   # fit our tokenizer on the dataset (i.e., assign a number to each word and keep a\n",
    "                                    # dictionary with the correspondence of each word to a number)\n",
    "\n",
    "# see the language dictionary and the total number of words (please note that number 0 is reserved for the padding task)\n",
    "word_index = tokenizer.word_index\n",
    "total_words = len(word_index) + 1"
   ]
  },
  {
   "cell_type": "code",
   "execution_count": 41,
   "id": "1bb124ce",
   "metadata": {
    "id": "1bb124ce"
   },
   "outputs": [
    {
     "data": {
      "text/plain": [
       "{'stock': 1,\n",
       " 'market': 2,\n",
       " 'york': 3,\n",
       " 'rate': 4,\n",
       " 'price': 5,\n",
       " 'new': 6,\n",
       " 'economy': 7,\n",
       " 'dollar': 8,\n",
       " 'year': 9,\n",
       " 'federal': 10,\n",
       " 'fed': 11,\n",
       " 'economic': 12,\n",
       " 'bond': 13,\n",
       " 'investor': 14,\n",
       " 'inflation': 15,\n",
       " 'reserve': 16,\n",
       " 'rise': 17,\n",
       " 'interest': 18,\n",
       " 'may': 19,\n",
       " 'gain': 20,\n",
       " 'business': 21,\n",
       " 'yesterday': 22,\n",
       " 'week': 23,\n",
       " 'report': 24,\n",
       " 'bank': 25,\n",
       " 'growth': 26,\n",
       " 'dow': 27,\n",
       " 'job': 28,\n",
       " 'u': 29,\n",
       " 'today': 30,\n",
       " 'month': 31,\n",
       " 'last': 32,\n",
       " 'news': 33,\n",
       " 'sale': 34,\n",
       " 'consumer': 35,\n",
       " 'decline': 36,\n",
       " 'cut': 37,\n",
       " 'fall': 38,\n",
       " 'deficit': 39,\n",
       " 'street': 40,\n",
       " 'recession': 41,\n",
       " 'drop': 42,\n",
       " 'said': 43,\n",
       " 'trade': 44,\n",
       " 'president': 45,\n",
       " 'day': 46,\n",
       " 'nation': 47,\n",
       " 'unemployment': 48,\n",
       " 'rally': 49,\n",
       " 'high': 50,\n",
       " 'treasury': 51,\n",
       " 'one': 52,\n",
       " 'wall': 53,\n",
       " 'tax': 54,\n",
       " 'government': 55,\n",
       " 'washington': 56,\n",
       " 'higher': 57,\n",
       " 'increase': 58,\n",
       " 'profit': 59,\n",
       " 'quarter': 60,\n",
       " 'first': 61,\n",
       " 'oil': 62,\n",
       " 'time': 63,\n",
       " 'billion': 64,\n",
       " 'rose': 65,\n",
       " 'plan': 66,\n",
       " 'record': 67,\n",
       " 'house': 68,\n",
       " 'home': 69,\n",
       " 'end': 70,\n",
       " 'data': 71,\n",
       " 'fell': 72,\n",
       " 'lower': 73,\n",
       " 'say': 74,\n",
       " 'budget': 75,\n",
       " 'two': 76,\n",
       " 'post': 77,\n",
       " 'money': 78,\n",
       " 'spending': 79,\n",
       " 'fund': 80,\n",
       " 'trading': 81,\n",
       " 'financial': 82,\n",
       " 'sign': 83,\n",
       " 'big': 84,\n",
       " 'world': 85,\n",
       " 'see': 86,\n",
       " 'state': 87,\n",
       " 'hit': 88,\n",
       " 'company': 89,\n",
       " 'jobless': 90,\n",
       " 'low': 91,\n",
       " 'recovery': 92,\n",
       " 'back': 93,\n",
       " 'despite': 94,\n",
       " 'strong': 95,\n",
       " 'percent': 96,\n",
       " 'american': 97,\n",
       " 'ahead': 98,\n",
       " 'index': 99,\n",
       " 'point': 100,\n",
       " 'second': 101,\n",
       " 'ap': 102,\n",
       " 'major': 103,\n",
       " 'policy': 104,\n",
       " 'bush': 105,\n",
       " 'jones': 106,\n",
       " 'get': 107,\n",
       " 'good': 108,\n",
       " 'still': 109,\n",
       " 'long': 110,\n",
       " 'fear': 111,\n",
       " 'chairman': 112,\n",
       " 'show': 113,\n",
       " 'expected': 114,\n",
       " 'official': 115,\n",
       " 'take': 116,\n",
       " 'analyst': 117,\n",
       " 'inc': 118,\n",
       " 'could': 119,\n",
       " 'income': 120,\n",
       " 'many': 121,\n",
       " 'firm': 122,\n",
       " 'late': 123,\n",
       " 'july': 124,\n",
       " 'since': 125,\n",
       " 'housing': 126,\n",
       " 'mixed': 127,\n",
       " 'would': 128,\n",
       " 'economist': 129,\n",
       " 'industrial': 130,\n",
       " 'share': 131,\n",
       " 'board': 132,\n",
       " 'mortgage': 133,\n",
       " 'greenspan': 134,\n",
       " 'credit': 135,\n",
       " 'surge': 136,\n",
       " 'small': 137,\n",
       " 'weak': 138,\n",
       " 'labor': 139,\n",
       " 'help': 140,\n",
       " 'chip': 141,\n",
       " 'currency': 142,\n",
       " 'average': 143,\n",
       " 'march': 144,\n",
       " 'earnings': 145,\n",
       " 'cost': 146,\n",
       " 'level': 147,\n",
       " 'april': 148,\n",
       " 'boost': 149,\n",
       " 'friday': 150,\n",
       " 'term': 151,\n",
       " 'amid': 152,\n",
       " 'worker': 153,\n",
       " 'seen': 154,\n",
       " 'june': 155,\n",
       " 'future': 156,\n",
       " 'area': 157,\n",
       " 'global': 158,\n",
       " 'three': 159,\n",
       " 'biggest': 160,\n",
       " 'deal': 161,\n",
       " 'outlook': 162,\n",
       " 'recent': 163,\n",
       " 'blue': 164,\n",
       " 'corporate': 165,\n",
       " 'another': 166,\n",
       " 'bill': 167,\n",
       " 'move': 168,\n",
       " 'security': 169,\n",
       " 'trader': 170,\n",
       " 'industrials': 171,\n",
       " 'raise': 172,\n",
       " 'million': 173,\n",
       " 'keep': 174,\n",
       " 'administration': 175,\n",
       " 'gold': 176,\n",
       " 'corp': 177,\n",
       " 'slightly': 178,\n",
       " 'sharply': 179,\n",
       " 'continued': 180,\n",
       " 'worry': 181,\n",
       " 'next': 182,\n",
       " 'rising': 183,\n",
       " 'forecast': 184,\n",
       " 'senate': 185,\n",
       " 'retail': 186,\n",
       " 'clinton': 187,\n",
       " 'even': 188,\n",
       " 'set': 189,\n",
       " 'pace': 190,\n",
       " 'yen': 191,\n",
       " 'euro': 192,\n",
       " 'january': 193,\n",
       " 'issue': 194,\n",
       " 'short': 195,\n",
       " 'loss': 196,\n",
       " 'slow': 197,\n",
       " 'buy': 198,\n",
       " 'early': 199,\n",
       " 'pay': 200,\n",
       " 'japan': 201,\n",
       " 'third': 202,\n",
       " 'department': 203,\n",
       " 'crisis': 204,\n",
       " 'nasdaq': 205,\n",
       " 'industry': 206,\n",
       " 'come': 207,\n",
       " 'buying': 208,\n",
       " 'central': 209,\n",
       " 'capital': 210,\n",
       " 'session': 211,\n",
       " 'little': 212,\n",
       " 'push': 213,\n",
       " 'output': 214,\n",
       " 'city': 215,\n",
       " 'number': 216,\n",
       " 'past': 217,\n",
       " 'close': 218,\n",
       " 'concern': 219,\n",
       " 'white': 220,\n",
       " 'fiscal': 221,\n",
       " 'congress': 222,\n",
       " 'debt': 223,\n",
       " 'top': 224,\n",
       " 'tuesday': 225,\n",
       " 'service': 226,\n",
       " 'reagan': 227,\n",
       " 'face': 228,\n",
       " 'likely': 229,\n",
       " 'order': 230,\n",
       " 'make': 231,\n",
       " 'selling': 232,\n",
       " 'change': 233,\n",
       " 'key': 234,\n",
       " 'latest': 235,\n",
       " 'start': 236,\n",
       " 'technology': 237,\n",
       " 'much': 238,\n",
       " 'advance': 239,\n",
       " 'best': 240,\n",
       " 'investment': 241,\n",
       " 'climb': 242,\n",
       " 'give': 243,\n",
       " 'real': 244,\n",
       " 'group': 245,\n",
       " 'modest': 246,\n",
       " 'way': 247,\n",
       " 'steady': 248,\n",
       " 'put': 249,\n",
       " 'obama': 250,\n",
       " 'yield': 251,\n",
       " 'gap': 252,\n",
       " 'four': 253,\n",
       " 'go': 254,\n",
       " 'chief': 255,\n",
       " 'volume': 256,\n",
       " 'made': 257,\n",
       " 'loan': 258,\n",
       " 'find': 259,\n",
       " 'sell': 260,\n",
       " 'co': 261,\n",
       " 'public': 262,\n",
       " 'jump': 263,\n",
       " 'february': 264,\n",
       " 'america': 265,\n",
       " 'continue': 266,\n",
       " 'lowest': 267,\n",
       " 'aid': 268,\n",
       " 'lift': 269,\n",
       " 'confidence': 270,\n",
       " 'look': 271,\n",
       " 'reported': 272,\n",
       " 'people': 273,\n",
       " 'august': 274,\n",
       " 'taking': 275,\n",
       " 'oct': 276,\n",
       " 'sector': 277,\n",
       " 'food': 278,\n",
       " 'better': 279,\n",
       " 'indicator': 280,\n",
       " 'retailer': 281,\n",
       " 'slump': 282,\n",
       " 'signal': 283,\n",
       " 'committee': 284,\n",
       " 'survey': 285,\n",
       " 'falling': 286,\n",
       " 'benefit': 287,\n",
       " 'journal': 288,\n",
       " 'sharp': 289,\n",
       " 'hope': 290,\n",
       " 'maker': 291,\n",
       " 'hold': 292,\n",
       " 'straight': 293,\n",
       " 'study': 294,\n",
       " 'posted': 295,\n",
       " 'return': 296,\n",
       " 'tech': 297,\n",
       " 'energy': 298,\n",
       " 'summer': 299,\n",
       " 'increased': 300,\n",
       " 'claim': 301,\n",
       " 'thursday': 302,\n",
       " 'monday': 303,\n",
       " 'review': 304,\n",
       " 'manager': 305,\n",
       " 'supply': 306,\n",
       " 'work': 307,\n",
       " 'china': 308,\n",
       " 'declined': 309,\n",
       " 'also': 310,\n",
       " 'talk': 311,\n",
       " 'employment': 312,\n",
       " 'seek': 313,\n",
       " 'export': 314,\n",
       " 'finance': 315,\n",
       " 'bad': 316,\n",
       " 'net': 317,\n",
       " 'computer': 318,\n",
       " 'following': 319,\n",
       " 'ended': 320,\n",
       " 'annual': 321,\n",
       " 'le': 322,\n",
       " 'need': 323,\n",
       " 'war': 324,\n",
       " 'foreign': 325,\n",
       " 'care': 326,\n",
       " 'call': 327,\n",
       " 'broad': 328,\n",
       " 'action': 329,\n",
       " 'newswires': 330,\n",
       " 'productivity': 331,\n",
       " 'mark': 332,\n",
       " 'problem': 333,\n",
       " 'effort': 334,\n",
       " 'mutual': 335,\n",
       " 'executive': 336,\n",
       " 'lead': 337,\n",
       " 'banking': 338,\n",
       " 'growing': 339,\n",
       " 'c': 340,\n",
       " 'virginia': 341,\n",
       " 'dropped': 342,\n",
       " 'producer': 343,\n",
       " 'november': 344,\n",
       " 'plunge': 345,\n",
       " 'social': 346,\n",
       " 'target': 347,\n",
       " 'grew': 348,\n",
       " 'th': 349,\n",
       " 'auto': 350,\n",
       " 'nearly': 351,\n",
       " 'rebound': 352,\n",
       " 'focus': 353,\n",
       " 'holiday': 354,\n",
       " 'ford': 355,\n",
       " 'five': 356,\n",
       " 'december': 357,\n",
       " 'international': 358,\n",
       " 'trend': 359,\n",
       " 'sept': 360,\n",
       " 'jan': 361,\n",
       " 'risk': 362,\n",
       " 'jumped': 363,\n",
       " 'ago': 364,\n",
       " 'left': 365,\n",
       " 'question': 366,\n",
       " 'wednesday': 367,\n",
       " 'old': 368,\n",
       " 'view': 369,\n",
       " 'september': 370,\n",
       " 'exchange': 371,\n",
       " 'pressure': 372,\n",
       " 'monetary': 373,\n",
       " 'turn': 374,\n",
       " 'dec': 375,\n",
       " 'political': 376,\n",
       " 'united': 377,\n",
       " 'union': 378,\n",
       " 'slower': 379,\n",
       " 'hard': 380,\n",
       " 'store': 381,\n",
       " 'bernanke': 382,\n",
       " 'result': 383,\n",
       " 'slowing': 384,\n",
       " 'highest': 385,\n",
       " 'large': 386,\n",
       " 'figure': 387,\n",
       " 'system': 388,\n",
       " 'light': 389,\n",
       " 'lending': 390,\n",
       " 'demand': 391,\n",
       " 'yet': 392,\n",
       " 'county': 393,\n",
       " 'fourth': 394,\n",
       " 'boom': 395,\n",
       " 'like': 396,\n",
       " 'edge': 397,\n",
       " 'country': 398,\n",
       " 'finish': 399,\n",
       " 'shift': 400,\n",
       " 'prospect': 401,\n",
       " 'force': 402,\n",
       " 'airline': 403,\n",
       " 'factory': 404,\n",
       " 'led': 405,\n",
       " 'largest': 406,\n",
       " 'district': 407,\n",
       " 'rule': 408,\n",
       " 'offer': 409,\n",
       " 'carter': 410,\n",
       " 'mean': 411,\n",
       " 'health': 412,\n",
       " 'personal': 413,\n",
       " 'slowdown': 414,\n",
       " 'expect': 415,\n",
       " 'though': 416,\n",
       " 'moving': 417,\n",
       " 'moderate': 418,\n",
       " 'strength': 419,\n",
       " 'financethe': 420,\n",
       " 'fuel': 421,\n",
       " 'half': 422,\n",
       " 'break': 423,\n",
       " 'car': 424,\n",
       " 'october': 425,\n",
       " 'bet': 426,\n",
       " 'proposed': 427,\n",
       " 'john': 428,\n",
       " 'democrat': 429,\n",
       " 'list': 430,\n",
       " 'per': 431,\n",
       " 'drive': 432,\n",
       " 'doubt': 433,\n",
       " 'heavy': 434,\n",
       " 'contract': 435,\n",
       " 'import': 436,\n",
       " 'ease': 437,\n",
       " 'alan': 438,\n",
       " 'worst': 439,\n",
       " 'optimism': 440,\n",
       " 'toward': 441,\n",
       " 'slide': 442,\n",
       " 'election': 443,\n",
       " 'coming': 444,\n",
       " 'rallied': 445,\n",
       " 'bull': 446,\n",
       " 'agreed': 447,\n",
       " 'office': 448,\n",
       " 'prime': 449,\n",
       " 'cent': 450,\n",
       " 'panel': 451,\n",
       " 'surged': 452,\n",
       " 'national': 453,\n",
       " 'aug': 454,\n",
       " 'secretary': 455,\n",
       " 'manufacturing': 456,\n",
       " 'college': 457,\n",
       " 'program': 458,\n",
       " 'party': 459,\n",
       " 'effect': 460,\n",
       " 'remain': 461,\n",
       " 'commerce': 462,\n",
       " 'name': 463,\n",
       " 'began': 464,\n",
       " 'almost': 465,\n",
       " 'getting': 466,\n",
       " 'least': 467,\n",
       " 'leading': 468,\n",
       " 'spur': 469,\n",
       " 'edged': 470,\n",
       " 'value': 471,\n",
       " 'turmoil': 472,\n",
       " 'special': 473,\n",
       " 'politics': 474,\n",
       " 'great': 475,\n",
       " 'wage': 476,\n",
       " 'estate': 477,\n",
       " 'well': 478,\n",
       " 'took': 479,\n",
       " 'meeting': 480,\n",
       " 'part': 481,\n",
       " 'japanese': 482,\n",
       " 'run': 483,\n",
       " 'campaign': 484,\n",
       " 'feb': 485,\n",
       " 'steel': 486,\n",
       " 'nov': 487,\n",
       " 'remains': 488,\n",
       " 'option': 489,\n",
       " 'soar': 490,\n",
       " 'slip': 491,\n",
       " 'predicted': 492,\n",
       " 'easing': 493,\n",
       " 'near': 494,\n",
       " 'stay': 495,\n",
       " 'continues': 496,\n",
       " 'measure': 497,\n",
       " 'continuing': 498,\n",
       " 'agency': 499,\n",
       " 'heard': 500,\n",
       " 'p': 501,\n",
       " 'debate': 502,\n",
       " 'closed': 503,\n",
       " 'banker': 504,\n",
       " 'think': 505,\n",
       " 'paul': 506,\n",
       " 'among': 507,\n",
       " 'head': 508,\n",
       " 'private': 509,\n",
       " 'maryland': 510,\n",
       " 'motor': 511,\n",
       " 'general': 512,\n",
       " 'rail': 513,\n",
       " 'fight': 514,\n",
       " 'control': 515,\n",
       " 'evidence': 516,\n",
       " 'wholesale': 517,\n",
       " 'weekend': 518,\n",
       " 'flat': 519,\n",
       " 'looking': 520,\n",
       " 'longer': 521,\n",
       " 'turned': 522,\n",
       " 'book': 523,\n",
       " 'might': 524,\n",
       " 'reduce': 525,\n",
       " 'stimulus': 526,\n",
       " 'want': 527,\n",
       " 'decade': 528,\n",
       " 'open': 529,\n",
       " 'win': 530,\n",
       " 'cutting': 531,\n",
       " 'several': 532,\n",
       " 'line': 533,\n",
       " 'merger': 534,\n",
       " 'payroll': 535,\n",
       " 'standard': 536,\n",
       " 'around': 537,\n",
       " 'article': 538,\n",
       " 'leader': 539,\n",
       " 'letter': 540,\n",
       " 'editor': 541,\n",
       " 'expert': 542,\n",
       " 'democratic': 543,\n",
       " 'become': 544,\n",
       " 'card': 545,\n",
       " 'school': 546,\n",
       " 'answer': 547,\n",
       " 'saving': 548,\n",
       " 'add': 549,\n",
       " 'modestly': 550,\n",
       " 'raising': 551,\n",
       " 'weakness': 552,\n",
       " 'tape': 553,\n",
       " 'bigger': 554,\n",
       " 'far': 555,\n",
       " 'power': 556,\n",
       " 'unit': 557,\n",
       " 'retreat': 558,\n",
       " 'grow': 559,\n",
       " 'whether': 560,\n",
       " 'climbed': 561,\n",
       " 'bear': 562,\n",
       " 'soft': 563,\n",
       " 'act': 564,\n",
       " 'response': 565,\n",
       " 'appears': 566,\n",
       " 'period': 567,\n",
       " 'correction': 568,\n",
       " 'faster': 569,\n",
       " 'mostly': 570,\n",
       " 'german': 571,\n",
       " 'crude': 572,\n",
       " 'proposal': 573,\n",
       " 'holding': 574,\n",
       " 'advanced': 575,\n",
       " 'european': 576,\n",
       " 'middle': 577,\n",
       " 'slows': 578,\n",
       " 'employee': 579,\n",
       " 'bid': 580,\n",
       " 'current': 581,\n",
       " 'production': 582,\n",
       " 'europe': 583,\n",
       " 'losing': 584,\n",
       " 'enough': 585,\n",
       " 'imf': 586,\n",
       " 'regional': 587,\n",
       " 'already': 588,\n",
       " 'thing': 589,\n",
       " 'statistic': 590,\n",
       " 'local': 591,\n",
       " 'va': 592,\n",
       " 'governor': 593,\n",
       " 'law': 594,\n",
       " 'ratesnew': 595,\n",
       " 'halt': 596,\n",
       " 'showing': 597,\n",
       " 'st': 598,\n",
       " 'challenge': 599,\n",
       " 'discount': 600,\n",
       " 'morgan': 601,\n",
       " 'finished': 602,\n",
       " 'wide': 603,\n",
       " 'living': 604,\n",
       " 'quarterly': 605,\n",
       " 'poor': 606,\n",
       " 'hurt': 607,\n",
       " 'expansion': 608,\n",
       " 'called': 609,\n",
       " 'ground': 610,\n",
       " 'gnp': 611,\n",
       " 'utility': 612,\n",
       " 'matter': 613,\n",
       " 'away': 614,\n",
       " 'ipo': 615,\n",
       " 'economics': 616,\n",
       " 'gdp': 617,\n",
       " 'right': 618,\n",
       " 'expects': 619,\n",
       " 'region': 620,\n",
       " 'eye': 621,\n",
       " 'eased': 622,\n",
       " 'revenue': 623,\n",
       " 'tightening': 624,\n",
       " 'curb': 625,\n",
       " 'held': 626,\n",
       " 'final': 627,\n",
       " 'voted': 628,\n",
       " 'quiet': 629,\n",
       " 'announced': 630,\n",
       " 'lot': 631,\n",
       " 'according': 632,\n",
       " 'life': 633,\n",
       " 'season': 634,\n",
       " 'full': 635,\n",
       " 'brazil': 636,\n",
       " 'bullish': 637,\n",
       " 'role': 638,\n",
       " 'based': 639,\n",
       " 'george': 640,\n",
       " 'seems': 641,\n",
       " 'offering': 642,\n",
       " 'charge': 643,\n",
       " 'former': 644,\n",
       " 'check': 645,\n",
       " 'anti': 646,\n",
       " 'dip': 647,\n",
       " 'domestic': 648,\n",
       " 'hiring': 649,\n",
       " 'bit': 650,\n",
       " 'stronger': 651,\n",
       " 'play': 652,\n",
       " 'surprise': 653,\n",
       " 'tracking': 654,\n",
       " 'helped': 655,\n",
       " 'renewed': 656,\n",
       " 'got': 657,\n",
       " 'approved': 658,\n",
       " 'legislation': 659,\n",
       " 'pushed': 660,\n",
       " 'upbeat': 661,\n",
       " 'case': 662,\n",
       " 'went': 663,\n",
       " 'note': 664,\n",
       " 'weaker': 665,\n",
       " 'raised': 666,\n",
       " 'due': 667,\n",
       " 'indicate': 668,\n",
       " 'clear': 669,\n",
       " 'slipped': 670,\n",
       " 'crash': 671,\n",
       " 'tokyo': 672,\n",
       " 'amplification': 673,\n",
       " 'page': 674,\n",
       " 'impact': 675,\n",
       " 'ibm': 676,\n",
       " 'added': 677,\n",
       " 'urge': 678,\n",
       " 'volcker': 679,\n",
       " 'association': 680,\n",
       " 'editorial': 681,\n",
       " 'black': 682,\n",
       " 'durable': 683,\n",
       " 'let': 684,\n",
       " 'send': 685,\n",
       " 'seven': 686,\n",
       " 'downturn': 687,\n",
       " 'know': 688,\n",
       " 'minute': 689,\n",
       " 'gulf': 690,\n",
       " 'idea': 691,\n",
       " 'adviser': 692,\n",
       " 'council': 693,\n",
       " 'finally': 694,\n",
       " 'drug': 695,\n",
       " 'sunday': 696,\n",
       " 'hill': 697,\n",
       " 'management': 698,\n",
       " 'boosted': 699,\n",
       " 'payment': 700,\n",
       " 'machine': 701,\n",
       " 'toll': 702,\n",
       " 'tumble': 703,\n",
       " 'era': 704,\n",
       " 'behind': 705,\n",
       " 'congressional': 706,\n",
       " 'abreast': 707,\n",
       " 'rd': 708,\n",
       " 'warning': 709,\n",
       " 'warns': 710,\n",
       " 'soon': 711,\n",
       " 'step': 712,\n",
       " 'borrowing': 713,\n",
       " 'battle': 714,\n",
       " 'weekly': 715,\n",
       " 'plunged': 716,\n",
       " 'suggest': 717,\n",
       " 'activity': 718,\n",
       " 'vice': 719,\n",
       " 'electronics': 720,\n",
       " 'west': 721,\n",
       " 'weigh': 722,\n",
       " 'recently': 723,\n",
       " 'released': 724,\n",
       " 'certain': 725,\n",
       " 'initial': 726,\n",
       " 'regulator': 727,\n",
       " 'christmas': 728,\n",
       " 'tied': 729,\n",
       " 'closing': 730,\n",
       " 'selloff': 731,\n",
       " 'tell': 732,\n",
       " 'employer': 733,\n",
       " 'spring': 734,\n",
       " 'making': 735,\n",
       " 'republican': 736,\n",
       " 'six': 737,\n",
       " 'save': 738,\n",
       " 'investing': 739,\n",
       " 'sluggish': 740,\n",
       " 'begin': 741,\n",
       " 'history': 742,\n",
       " 'analysis': 743,\n",
       " 'surplus': 744,\n",
       " 'rumor': 745,\n",
       " 'needed': 746,\n",
       " 'fire': 747,\n",
       " 'worried': 748,\n",
       " 'reason': 749,\n",
       " 'gop': 750,\n",
       " 'every': 751,\n",
       " 'issued': 752,\n",
       " 'retirement': 753,\n",
       " 'defense': 754,\n",
       " 'story': 755,\n",
       " 'race': 756,\n",
       " 'de': 757,\n",
       " 'gov': 758,\n",
       " 'vote': 759,\n",
       " 'md': 760,\n",
       " 'basic': 761,\n",
       " 'robert': 762,\n",
       " 'canada': 763,\n",
       " 'word': 764,\n",
       " 'previous': 765,\n",
       " 'basis': 766,\n",
       " 'ben': 767,\n",
       " 'overall': 768,\n",
       " 'lost': 769,\n",
       " 'thought': 770,\n",
       " 'stage': 771,\n",
       " 'fixed': 772,\n",
       " 'game': 773,\n",
       " 'strategy': 774,\n",
       " 'cited': 775,\n",
       " 'spot': 776,\n",
       " 'lose': 777,\n",
       " 'volatility': 778,\n",
       " 'slowed': 779,\n",
       " 'factor': 780,\n",
       " 'building': 781,\n",
       " 'across': 782,\n",
       " 'improving': 783,\n",
       " 'aim': 784,\n",
       " 'tumbled': 785,\n",
       " 'internet': 786,\n",
       " 'estimate': 787,\n",
       " 'junk': 788,\n",
       " 'india': 789,\n",
       " 'member': 790,\n",
       " 'author': 791,\n",
       " 'rebounded': 792,\n",
       " 'await': 793,\n",
       " 'fee': 794,\n",
       " 'unexpectedly': 795,\n",
       " 'must': 796,\n",
       " 'manufacturer': 797,\n",
       " 'pick': 798,\n",
       " 'expanding': 799,\n",
       " 'remained': 800,\n",
       " 'class': 801,\n",
       " 'attention': 802,\n",
       " 'provide': 803,\n",
       " 'gas': 804,\n",
       " 'urged': 805,\n",
       " 'texas': 806,\n",
       " 'insurance': 807,\n",
       " 'household': 808,\n",
       " 'reaching': 809,\n",
       " 'dividend': 810,\n",
       " 'meet': 811,\n",
       " 'predicts': 812,\n",
       " 'struggle': 813,\n",
       " 'rejected': 814,\n",
       " 'beginning': 815,\n",
       " 'expectation': 816,\n",
       " 'known': 817,\n",
       " 'morning': 818,\n",
       " 'attack': 819,\n",
       " 'showed': 820,\n",
       " 'event': 821,\n",
       " 'along': 822,\n",
       " 'named': 823,\n",
       " 'reach': 824,\n",
       " 'century': 825,\n",
       " 'aide': 826,\n",
       " 'center': 827,\n",
       " 'appear': 828,\n",
       " 'education': 829,\n",
       " 'ready': 830,\n",
       " 'sent': 831,\n",
       " 'soared': 832,\n",
       " 'hour': 833,\n",
       " 'fastest': 834,\n",
       " 'v': 835,\n",
       " 'nixon': 836,\n",
       " 'welfare': 837,\n",
       " 'layoff': 838,\n",
       " 'serious': 839,\n",
       " 'peak': 840,\n",
       " 'huge': 841,\n",
       " 'moved': 842,\n",
       " 'reform': 843,\n",
       " 'woman': 844,\n",
       " 'wait': 845,\n",
       " 'changed': 846,\n",
       " 'upward': 847,\n",
       " 'merchandise': 848,\n",
       " 'use': 849,\n",
       " 'trust': 850,\n",
       " 'stanley': 851,\n",
       " 'others': 852,\n",
       " 'economythe': 853,\n",
       " 'calif': 854,\n",
       " 'spark': 855,\n",
       " 'approves': 856,\n",
       " 'forecaster': 857,\n",
       " 'usually': 858,\n",
       " 'going': 859,\n",
       " 'uncertainty': 860,\n",
       " 'intervention': 861,\n",
       " 'course': 862,\n",
       " 'leave': 863,\n",
       " 'indicating': 864,\n",
       " 'estimated': 865,\n",
       " 'watch': 866,\n",
       " 'reaction': 867,\n",
       " 'swing': 868,\n",
       " 'tame': 869,\n",
       " 'struggling': 870,\n",
       " 'facing': 871,\n",
       " 'deflation': 872,\n",
       " 'positive': 873,\n",
       " 'picture': 874,\n",
       " 'narrowed': 875,\n",
       " 'rival': 876,\n",
       " 'unemployed': 877,\n",
       " 'staff': 878,\n",
       " 'reporter': 879,\n",
       " 'solid': 880,\n",
       " 'woe': 881,\n",
       " 'really': 882,\n",
       " 'product': 883,\n",
       " 'gasoline': 884,\n",
       " 'commodity': 885,\n",
       " 'barely': 886,\n",
       " 'grows': 887,\n",
       " 'weather': 888,\n",
       " 'ad': 889,\n",
       " 'pain': 890,\n",
       " 'working': 891,\n",
       " 'cause': 892,\n",
       " 'triple': 893,\n",
       " 'inventory': 894,\n",
       " 'started': 895,\n",
       " 'free': 896,\n",
       " 'weighs': 897,\n",
       " 'lackluster': 898,\n",
       " 'benchmark': 899,\n",
       " 'equity': 900,\n",
       " 'russia': 901,\n",
       " 'eas': 902,\n",
       " 'trying': 903,\n",
       " 'failed': 904,\n",
       " 'threat': 905,\n",
       " 'rich': 906,\n",
       " 'presidential': 907,\n",
       " 'different': 908,\n",
       " 'auction': 909,\n",
       " 'important': 910,\n",
       " 'place': 911,\n",
       " 'lender': 912,\n",
       " 'without': 913,\n",
       " 'something': 914,\n",
       " 'received': 915,\n",
       " 'series': 916,\n",
       " 'policymakers': 917,\n",
       " 'link': 918,\n",
       " 'outsourcing': 919,\n",
       " 'candidate': 920,\n",
       " 'try': 921,\n",
       " 'commission': 922,\n",
       " 'percentage': 923,\n",
       " 'datanew': 924,\n",
       " 'blame': 925,\n",
       " 'reduction': 926,\n",
       " 'speaker': 927,\n",
       " 'search': 928,\n",
       " 'mind': 929,\n",
       " 'followed': 930,\n",
       " 'afternoon': 931,\n",
       " 'robust': 932,\n",
       " 'bounce': 933,\n",
       " 'broader': 934,\n",
       " 'hint': 935,\n",
       " 'delay': 936,\n",
       " 'eight': 937,\n",
       " 'asian': 938,\n",
       " 'rest': 939,\n",
       " 'easy': 940,\n",
       " 'red': 941,\n",
       " 'consecutive': 942,\n",
       " 'disappointing': 943,\n",
       " 'mart': 944,\n",
       " 'speculation': 945,\n",
       " 'agreement': 946,\n",
       " 'row': 947,\n",
       " 'declining': 948,\n",
       " 'construction': 949,\n",
       " 'sure': 950,\n",
       " 'persistent': 951,\n",
       " 'fast': 952,\n",
       " 'chicago': 953,\n",
       " 'hand': 954,\n",
       " 'managed': 955,\n",
       " 'possible': 956,\n",
       " 'condition': 957,\n",
       " 'storm': 958,\n",
       " 'wrong': 959,\n",
       " 'k': 960,\n",
       " 'ltd': 961,\n",
       " 'sometimes': 962,\n",
       " 'gauge': 963,\n",
       " 'decide': 964,\n",
       " 'including': 965,\n",
       " 'gained': 966,\n",
       " 'pact': 967,\n",
       " 'shopping': 968,\n",
       " 'position': 969,\n",
       " 'gloom': 970,\n",
       " 'sec': 971,\n",
       " 'emerging': 972,\n",
       " 'suggests': 973,\n",
       " 'keeping': 974,\n",
       " 'limit': 975,\n",
       " 'brokerage': 976,\n",
       " 'putting': 977,\n",
       " 'sends': 978,\n",
       " 'relief': 979,\n",
       " 'zero': 980,\n",
       " 'ask': 981,\n",
       " 'thousand': 982,\n",
       " 'primary': 983,\n",
       " 'boston': 984,\n",
       " 'air': 985,\n",
       " 'buyer': 986,\n",
       " 'fact': 987,\n",
       " 'negotiation': 988,\n",
       " 'kept': 989,\n",
       " 'cap': 990,\n",
       " 'unexpected': 991,\n",
       " 'nd': 992,\n",
       " 'downward': 993,\n",
       " 'saying': 994,\n",
       " 'finding': 995,\n",
       " 'believe': 996,\n",
       " 'gear': 997,\n",
       " 'california': 998,\n",
       " 'existing': 999,\n",
       " 'collapse': 1000,\n",
       " ...}"
      ]
     },
     "execution_count": 41,
     "metadata": {},
     "output_type": "execute_result"
    }
   ],
   "source": [
    "word_index"
   ]
  },
  {
   "cell_type": "code",
   "execution_count": 42,
   "id": "d8bc0b15",
   "metadata": {
    "colab": {
     "base_uri": "https://localhost:8080/"
    },
    "id": "d8bc0b15",
    "outputId": "bc0c8ab2-9e8f-470d-a17e-89b96cd00afd"
   },
   "outputs": [
    {
     "data": {
      "text/plain": [
       "8832"
      ]
     },
     "execution_count": 42,
     "metadata": {},
     "output_type": "execute_result"
    }
   ],
   "source": [
    "total_words"
   ]
  },
  {
   "cell_type": "markdown",
   "id": "016c30d7",
   "metadata": {
    "id": "016c30d7"
   },
   "source": [
    "### Padding Sequences\n",
    "Sentences and sequences tend to have different lengths, however our model is expecting equally sized observations.\n",
    "Here we want to convert our texts to sequences and make them of the same length (in general, the lenght of the longest of our sequences). We are going to use here `pad_sequences` from Tensorflow (documentation [here](https://www.tensorflow.org/api_docs/python/tf/keras/utils/pad_sequences)), to add zeroes to the tokenized sentences until they all reach the same length."
   ]
  },
  {
   "cell_type": "code",
   "execution_count": 43,
   "id": "ea518a6d",
   "metadata": {
    "id": "ea518a6d"
   },
   "outputs": [],
   "source": [
    "sequences = tokenizer.texts_to_sequences(wtxt_train)\n",
    "padded_sequences = pad_sequences(sequences)"
   ]
  },
  {
   "cell_type": "code",
   "execution_count": 44,
   "id": "6a3a19b1",
   "metadata": {
    "id": "6a3a19b1"
   },
   "outputs": [
    {
     "data": {
      "text/plain": [
       "[251, 2337, 72, 235, 1412, 3, 251, 1743, 1744, 1413, 103, 25, 342, 3492, 923]"
      ]
     },
     "execution_count": 44,
     "metadata": {},
     "output_type": "execute_result"
    }
   ],
   "source": [
    "sequences[0]"
   ]
  },
  {
   "cell_type": "code",
   "execution_count": 45,
   "id": "bf5a3374",
   "metadata": {
    "colab": {
     "base_uri": "https://localhost:8080/"
    },
    "id": "bf5a3374",
    "outputId": "99253544-bbca-48ca-e1d5-b86689138957"
   },
   "outputs": [
    {
     "data": {
      "text/plain": [
       "array([[ 251, 2337,   72, ...,  342, 3492,  923],\n",
       "       [ 142,   81,    8, ..., 1414,    8, 2338],\n",
       "       [   1,   38, 2339, ...,   26,  180,  192],\n",
       "       ...,\n",
       "       [  44,   39,   72, ...,  875,   64,   64],\n",
       "       [ 960, 3491,    1, ...,  358,  118,  110],\n",
       "       [1104,  408,  175, ..., 3467, 8831, 1498]])"
      ]
     },
     "execution_count": 45,
     "metadata": {},
     "output_type": "execute_result"
    }
   ],
   "source": [
    "padded_sequences"
   ]
  },
  {
   "cell_type": "code",
   "execution_count": 46,
   "id": "89dd0de2",
   "metadata": {},
   "outputs": [],
   "source": [
    "df['pad_seq'] = padded_sequences.tolist()"
   ]
  },
  {
   "cell_type": "code",
   "execution_count": 47,
   "id": "4f444fcc",
   "metadata": {},
   "outputs": [
    {
     "data": {
      "text/html": [
       "<div>\n",
       "<style scoped>\n",
       "    .dataframe tbody tr th:only-of-type {\n",
       "        vertical-align: middle;\n",
       "    }\n",
       "\n",
       "    .dataframe tbody tr th {\n",
       "        vertical-align: top;\n",
       "    }\n",
       "\n",
       "    .dataframe thead th {\n",
       "        text-align: right;\n",
       "    }\n",
       "</style>\n",
       "<table border=\"1\" class=\"dataframe\">\n",
       "  <thead>\n",
       "    <tr style=\"text-align: right;\">\n",
       "      <th></th>\n",
       "      <th>relevance</th>\n",
       "      <th>pad_seq</th>\n",
       "    </tr>\n",
       "  </thead>\n",
       "  <tbody>\n",
       "    <tr>\n",
       "      <th>0</th>\n",
       "      <td>1</td>\n",
       "      <td>[251, 2337, 72, 235, 1412, 3, 251, 1743, 1744,...</td>\n",
       "    </tr>\n",
       "    <tr>\n",
       "      <th>4</th>\n",
       "      <td>1</td>\n",
       "      <td>[142, 81, 8, 488, 1035, 1183, 152, 845, 28, 92...</td>\n",
       "    </tr>\n",
       "    <tr>\n",
       "      <th>5</th>\n",
       "      <td>1</td>\n",
       "      <td>[1, 38, 2339, 1415, 1745, 309, 14, 1184, 379, ...</td>\n",
       "    </tr>\n",
       "    <tr>\n",
       "      <th>9</th>\n",
       "      <td>1</td>\n",
       "      <td>[29, 8, 38, 142, 36, 3494, 13, 49, 3495, 8, 30...</td>\n",
       "    </tr>\n",
       "    <tr>\n",
       "      <th>12</th>\n",
       "      <td>1</td>\n",
       "      <td>[3496, 3497, 1416, 3498, 3499, 764, 93, 3500, ...</td>\n",
       "    </tr>\n",
       "    <tr>\n",
       "      <th>...</th>\n",
       "      <td>...</td>\n",
       "      <td>...</td>\n",
       "    </tr>\n",
       "    <tr>\n",
       "      <th>3117</th>\n",
       "      <td>0</td>\n",
       "      <td>[166, 50, 176, 1230, 483, 8824, 401, 51, 208, ...</td>\n",
       "    </tr>\n",
       "    <tr>\n",
       "      <th>4609</th>\n",
       "      <td>0</td>\n",
       "      <td>[750, 8825, 93, 761, 340, 8826, 185, 756, 8827...</td>\n",
       "    </tr>\n",
       "    <tr>\n",
       "      <th>3659</th>\n",
       "      <td>0</td>\n",
       "      <td>[44, 39, 72, 179, 8829, 878, 879, 53, 40, 288,...</td>\n",
       "    </tr>\n",
       "    <tr>\n",
       "      <th>1638</th>\n",
       "      <td>0</td>\n",
       "      <td>[960, 3491, 1, 490, 33, 66, 260, 2876, 786, 16...</td>\n",
       "    </tr>\n",
       "    <tr>\n",
       "      <th>5537</th>\n",
       "      <td>0</td>\n",
       "      <td>[1104, 408, 175, 37, 1730, 90, 2713, 10, 1104,...</td>\n",
       "    </tr>\n",
       "  </tbody>\n",
       "</table>\n",
       "<p>2840 rows × 2 columns</p>\n",
       "</div>"
      ],
      "text/plain": [
       "     relevance                                            pad_seq\n",
       "0            1  [251, 2337, 72, 235, 1412, 3, 251, 1743, 1744,...\n",
       "4            1  [142, 81, 8, 488, 1035, 1183, 152, 845, 28, 92...\n",
       "5            1  [1, 38, 2339, 1415, 1745, 309, 14, 1184, 379, ...\n",
       "9            1  [29, 8, 38, 142, 36, 3494, 13, 49, 3495, 8, 30...\n",
       "12           1  [3496, 3497, 1416, 3498, 3499, 764, 93, 3500, ...\n",
       "...        ...                                                ...\n",
       "3117         0  [166, 50, 176, 1230, 483, 8824, 401, 51, 208, ...\n",
       "4609         0  [750, 8825, 93, 761, 340, 8826, 185, 756, 8827...\n",
       "3659         0  [44, 39, 72, 179, 8829, 878, 879, 53, 40, 288,...\n",
       "1638         0  [960, 3491, 1, 490, 33, 66, 260, 2876, 786, 16...\n",
       "5537         0  [1104, 408, 175, 37, 1730, 90, 2713, 10, 1104,...\n",
       "\n",
       "[2840 rows x 2 columns]"
      ]
     },
     "execution_count": 47,
     "metadata": {},
     "output_type": "execute_result"
    }
   ],
   "source": [
    "df.drop(['whole_txt'], axis = 1)"
   ]
  },
  {
   "cell_type": "code",
   "execution_count": 48,
   "id": "561a6b0d",
   "metadata": {},
   "outputs": [
    {
     "data": {
      "text/html": [
       "<div>\n",
       "<style scoped>\n",
       "    .dataframe tbody tr th:only-of-type {\n",
       "        vertical-align: middle;\n",
       "    }\n",
       "\n",
       "    .dataframe tbody tr th {\n",
       "        vertical-align: top;\n",
       "    }\n",
       "\n",
       "    .dataframe thead th {\n",
       "        text-align: right;\n",
       "    }\n",
       "</style>\n",
       "<table border=\"1\" class=\"dataframe\">\n",
       "  <thead>\n",
       "    <tr style=\"text-align: right;\">\n",
       "      <th></th>\n",
       "      <th>relevance</th>\n",
       "      <th>whole_txt</th>\n",
       "      <th>pad_seq</th>\n",
       "    </tr>\n",
       "  </thead>\n",
       "  <tbody>\n",
       "    <tr>\n",
       "      <th>0</th>\n",
       "      <td>1</td>\n",
       "      <td>[yield, cd, fell, latest, weeknew, york, yield...</td>\n",
       "      <td>[251, 2337, 72, 235, 1412, 3, 251, 1743, 1744,...</td>\n",
       "    </tr>\n",
       "    <tr>\n",
       "      <th>4</th>\n",
       "      <td>1</td>\n",
       "      <td>[currency, trading, dollar, remains, tight, ra...</td>\n",
       "      <td>[142, 81, 8, 488, 1035, 1183, 152, 845, 28, 92...</td>\n",
       "    </tr>\n",
       "    <tr>\n",
       "      <th>5</th>\n",
       "      <td>1</td>\n",
       "      <td>[stock, fall, bofa, alcoa, slidestocks, declin...</td>\n",
       "      <td>[1, 38, 2339, 1415, 1745, 309, 14, 1184, 379, ...</td>\n",
       "    </tr>\n",
       "    <tr>\n",
       "      <th>9</th>\n",
       "      <td>1</td>\n",
       "      <td>[u, dollar, fall, currency, decline, softened,...</td>\n",
       "      <td>[29, 8, 38, 142, 36, 3494, 13, 49, 3495, 8, 30...</td>\n",
       "    </tr>\n",
       "    <tr>\n",
       "      <th>12</th>\n",
       "      <td>1</td>\n",
       "      <td>[defending, deflationauthor, james, stewart, d...</td>\n",
       "      <td>[3496, 3497, 1416, 3498, 3499, 764, 93, 3500, ...</td>\n",
       "    </tr>\n",
       "  </tbody>\n",
       "</table>\n",
       "</div>"
      ],
      "text/plain": [
       "   relevance                                          whole_txt  \\\n",
       "0          1  [yield, cd, fell, latest, weeknew, york, yield...   \n",
       "4          1  [currency, trading, dollar, remains, tight, ra...   \n",
       "5          1  [stock, fall, bofa, alcoa, slidestocks, declin...   \n",
       "9          1  [u, dollar, fall, currency, decline, softened,...   \n",
       "12         1  [defending, deflationauthor, james, stewart, d...   \n",
       "\n",
       "                                              pad_seq  \n",
       "0   [251, 2337, 72, 235, 1412, 3, 251, 1743, 1744,...  \n",
       "4   [142, 81, 8, 488, 1035, 1183, 152, 845, 28, 92...  \n",
       "5   [1, 38, 2339, 1415, 1745, 309, 14, 1184, 379, ...  \n",
       "9   [29, 8, 38, 142, 36, 3494, 13, 49, 3495, 8, 30...  \n",
       "12  [3496, 3497, 1416, 3498, 3499, 764, 93, 3500, ...  "
      ]
     },
     "execution_count": 48,
     "metadata": {},
     "output_type": "execute_result"
    }
   ],
   "source": [
    "df.head(5)"
   ]
  },
  {
   "cell_type": "markdown",
   "id": "83826301",
   "metadata": {},
   "source": [
    "### Train-Test Split"
   ]
  },
  {
   "cell_type": "code",
   "execution_count": 49,
   "id": "f00e30da",
   "metadata": {},
   "outputs": [],
   "source": [
    "X = padded_sequences\n",
    "y = df['relevance']"
   ]
  },
  {
   "cell_type": "code",
   "execution_count": 50,
   "id": "fB_vM2GQkf-Y",
   "metadata": {
    "id": "fB_vM2GQkf-Y"
   },
   "outputs": [],
   "source": [
    "from sklearn.model_selection import train_test_split\n",
    "X_train, X_test, y_train, y_test = train_test_split(X, y,  test_size=0.2, random_state=42)"
   ]
  },
  {
   "cell_type": "code",
   "execution_count": 51,
   "id": "4e0850ba",
   "metadata": {},
   "outputs": [],
   "source": [
    "X_train, X_val, y_train, y_val = train_test_split(X_train, y_train,  test_size=0.2, random_state=42)"
   ]
  },
  {
   "cell_type": "code",
   "execution_count": 52,
   "id": "19ab3a73",
   "metadata": {},
   "outputs": [
    {
     "data": {
      "text/plain": [
       "array([[  11,  116,  329, ..., 5400,   22,  243],\n",
       "       [ 155,   44,  252, ...,   31, 2740, 1436],\n",
       "       [1936, 7116, 7117, ...,  803,  982,   28],\n",
       "       ...,\n",
       "       [1074,   95,  191, ...,  211,  718,    8],\n",
       "       [  21, 3666,  280, ...,    6,   69,   34],\n",
       "       [ 874,   28,    2, ...,   48, 4752,  138]])"
      ]
     },
     "execution_count": 52,
     "metadata": {},
     "output_type": "execute_result"
    }
   ],
   "source": [
    "X_train"
   ]
  },
  {
   "cell_type": "code",
   "execution_count": 53,
   "id": "d51f8bcb",
   "metadata": {},
   "outputs": [
    {
     "data": {
      "text/plain": [
       "(1817, 15)"
      ]
     },
     "execution_count": 53,
     "metadata": {},
     "output_type": "execute_result"
    }
   ],
   "source": [
    "X_train.shape"
   ]
  },
  {
   "cell_type": "code",
   "execution_count": 54,
   "id": "5f8059d8",
   "metadata": {},
   "outputs": [
    {
     "data": {
      "text/plain": [
       "6965    1\n",
       "781     0\n",
       "5182    0\n",
       "7486    1\n",
       "5865    1\n",
       "       ..\n",
       "2245    1\n",
       "1956    1\n",
       "2662    0\n",
       "506     1\n",
       "3821    1\n",
       "Name: relevance, Length: 1817, dtype: object"
      ]
     },
     "execution_count": 54,
     "metadata": {},
     "output_type": "execute_result"
    }
   ],
   "source": [
    "y_train"
   ]
  },
  {
   "cell_type": "code",
   "execution_count": 55,
   "id": "17b7f2e4-69de-440c-b103-2cec4159024a",
   "metadata": {},
   "outputs": [
    {
     "data": {
      "text/plain": [
       "917"
      ]
     },
     "execution_count": 55,
     "metadata": {},
     "output_type": "execute_result"
    }
   ],
   "source": [
    "sum(y_train)"
   ]
  },
  {
   "cell_type": "code",
   "execution_count": 56,
   "id": "128bd1f8",
   "metadata": {},
   "outputs": [
    {
     "data": {
      "text/plain": [
       "(1817,)"
      ]
     },
     "execution_count": 56,
     "metadata": {},
     "output_type": "execute_result"
    }
   ],
   "source": [
    "y_train.shape"
   ]
  },
  {
   "cell_type": "code",
   "execution_count": 57,
   "id": "adde4bc3",
   "metadata": {},
   "outputs": [
    {
     "data": {
      "text/plain": [
       "(455,)"
      ]
     },
     "execution_count": 57,
     "metadata": {},
     "output_type": "execute_result"
    }
   ],
   "source": [
    "y_val.shape"
   ]
  },
  {
   "cell_type": "code",
   "execution_count": 58,
   "id": "aa0a8eba",
   "metadata": {},
   "outputs": [
    {
     "data": {
      "text/plain": [
       "(568,)"
      ]
     },
     "execution_count": 58,
     "metadata": {},
     "output_type": "execute_result"
    }
   ],
   "source": [
    "y_test.shape"
   ]
  },
  {
   "cell_type": "code",
   "execution_count": 59,
   "id": "0f0eab78",
   "metadata": {},
   "outputs": [],
   "source": [
    "y_train = np.array(y_train)\n",
    "y_val = np.array(y_val)\n",
    "y_test = np.array(y_test)"
   ]
  },
  {
   "cell_type": "code",
   "execution_count": 60,
   "id": "35c078ca",
   "metadata": {},
   "outputs": [],
   "source": [
    "y_train = y_train.astype('int')\n",
    "y_val = y_val.astype('int')\n",
    "y_test = y_test.astype('int')"
   ]
  },
  {
   "cell_type": "markdown",
   "id": "0fe8e8b2",
   "metadata": {
    "id": "0fe8e8b2"
   },
   "source": [
    "### Building the model\n",
    "\n",
    "We are going to build a simple model that includes:\n",
    "- `Embedding` layer with an output representation of each word as a vector of dim 16\n",
    "- `LSTM` (see class slides for more detail or RNNs example notebook for more details) with an intermediate state of 100\n",
    "- An output layer `Dense` that connects the output of the LSTM and creates an output of 3 positions (one per class) as output of the network"
   ]
  },
  {
   "cell_type": "markdown",
   "id": "9223fed7",
   "metadata": {},
   "source": [
    "That is model nr.1 "
   ]
  },
  {
   "cell_type": "code",
   "execution_count": 61,
   "id": "84e1fd75",
   "metadata": {
    "id": "84e1fd75"
   },
   "outputs": [
    {
     "name": "stdout",
     "output_type": "stream",
     "text": [
      "WARNING:tensorflow:From C:\\Users\\majon\\AppData\\Local\\Programs\\Python\\Python310\\lib\\site-packages\\keras\\src\\backend.py:873: The name tf.get_default_graph is deprecated. Please use tf.compat.v1.get_default_graph instead.\n",
      "\n",
      "WARNING:tensorflow:From C:\\Users\\majon\\AppData\\Local\\Programs\\Python\\Python310\\lib\\site-packages\\keras\\src\\optimizers\\__init__.py:309: The name tf.train.Optimizer is deprecated. Please use tf.compat.v1.train.Optimizer instead.\n",
      "\n"
     ]
    }
   ],
   "source": [
    "# We are going to build our model with the Sequential API\n",
    "model = Sequential()\n",
    "model.add(Embedding(total_words,      # number of words to process as input\n",
    "                    100,    # output representation\n",
    "                    input_length=len(padded_sequences[0])))    # total length of each observation\n",
    "model.add(LSTM(100, return_sequences=False))\n",
    "model.add(Dense(1, activation='sigmoid'))  # Change activation based on the number of classes\n",
    "\n",
    "model.compile(optimizer='adam', loss='binary_crossentropy', metrics=['accuracy'])"
   ]
  },
  {
   "cell_type": "code",
   "execution_count": 62,
   "id": "286e1067",
   "metadata": {
    "colab": {
     "base_uri": "https://localhost:8080/"
    },
    "id": "286e1067",
    "outputId": "ef815e79-2cdb-4372-f0f2-a45738a6bd09"
   },
   "outputs": [
    {
     "data": {
      "text/plain": [
       "<tf.Tensor: shape=(2840, 1), dtype=float32, numpy=\n",
       "array([[0.5038534 ],\n",
       "       [0.50004464],\n",
       "       [0.50144255],\n",
       "       ...,\n",
       "       [0.49793518],\n",
       "       [0.50367874],\n",
       "       [0.50103813]], dtype=float32)>"
      ]
     },
     "execution_count": 62,
     "metadata": {},
     "output_type": "execute_result"
    }
   ],
   "source": [
    "model(padded_sequences)"
   ]
  },
  {
   "cell_type": "code",
   "execution_count": 63,
   "id": "290f727f",
   "metadata": {},
   "outputs": [
    {
     "name": "stdout",
     "output_type": "stream",
     "text": [
      "Model: \"sequential\"\n",
      "_________________________________________________________________\n",
      " Layer (type)                Output Shape              Param #   \n",
      "=================================================================\n",
      " embedding (Embedding)       (None, 15, 100)           883200    \n",
      "                                                                 \n",
      " lstm (LSTM)                 (None, 100)               80400     \n",
      "                                                                 \n",
      " dense (Dense)               (None, 1)                 101       \n",
      "                                                                 \n",
      "=================================================================\n",
      "Total params: 963701 (3.68 MB)\n",
      "Trainable params: 963701 (3.68 MB)\n",
      "Non-trainable params: 0 (0.00 Byte)\n",
      "_________________________________________________________________\n"
     ]
    }
   ],
   "source": [
    "model.summary()"
   ]
  },
  {
   "cell_type": "markdown",
   "id": "1101ccfc",
   "metadata": {
    "id": "1101ccfc"
   },
   "source": [
    "# Training the models"
   ]
  },
  {
   "cell_type": "markdown",
   "id": "55429b96",
   "metadata": {},
   "source": [
    "### MODEL 1 (The base model)"
   ]
  },
  {
   "cell_type": "code",
   "execution_count": 64,
   "id": "826df8ad",
   "metadata": {
    "colab": {
     "base_uri": "https://localhost:8080/"
    },
    "id": "826df8ad",
    "outputId": "954999b9-e6f3-43a2-dc81-a5c10a8e6ef1"
   },
   "outputs": [
    {
     "name": "stdout",
     "output_type": "stream",
     "text": [
      "Epoch 1/40\n",
      "WARNING:tensorflow:From C:\\Users\\majon\\AppData\\Local\\Programs\\Python\\Python310\\lib\\site-packages\\keras\\src\\utils\\tf_utils.py:492: The name tf.ragged.RaggedTensorValue is deprecated. Please use tf.compat.v1.ragged.RaggedTensorValue instead.\n",
      "\n",
      "WARNING:tensorflow:From C:\\Users\\majon\\AppData\\Local\\Programs\\Python\\Python310\\lib\\site-packages\\keras\\src\\engine\\base_layer_utils.py:384: The name tf.executing_eagerly_outside_functions is deprecated. Please use tf.compat.v1.executing_eagerly_outside_functions instead.\n",
      "\n",
      "57/57 [==============================] - 3s 22ms/step - loss: 0.6706 - accuracy: 0.5823 - val_loss: 0.6364 - val_accuracy: 0.6330\n",
      "Epoch 2/40\n",
      "57/57 [==============================] - 1s 14ms/step - loss: 0.4201 - accuracy: 0.8239 - val_loss: 0.6724 - val_accuracy: 0.6374\n",
      "Epoch 3/40\n",
      "57/57 [==============================] - 1s 14ms/step - loss: 0.1735 - accuracy: 0.9373 - val_loss: 0.8378 - val_accuracy: 0.6176\n",
      "Epoch 4/40\n",
      "57/57 [==============================] - 1s 14ms/step - loss: 0.0557 - accuracy: 0.9835 - val_loss: 1.3056 - val_accuracy: 0.6308\n",
      "Epoch 5/40\n",
      "57/57 [==============================] - 1s 14ms/step - loss: 0.0205 - accuracy: 0.9934 - val_loss: 1.6909 - val_accuracy: 0.6286\n",
      "Epoch 6/40\n",
      "57/57 [==============================] - 1s 15ms/step - loss: 0.0133 - accuracy: 0.9956 - val_loss: 1.8457 - val_accuracy: 0.6132\n",
      "Epoch 7/40\n",
      "57/57 [==============================] - 1s 14ms/step - loss: 0.0017 - accuracy: 1.0000 - val_loss: 1.8608 - val_accuracy: 0.6022\n",
      "Epoch 8/40\n",
      "57/57 [==============================] - 1s 14ms/step - loss: 0.0030 - accuracy: 0.9994 - val_loss: 2.7346 - val_accuracy: 0.5978\n",
      "Epoch 9/40\n",
      "57/57 [==============================] - 1s 14ms/step - loss: 5.4208e-04 - accuracy: 1.0000 - val_loss: 2.5681 - val_accuracy: 0.6088\n",
      "Epoch 10/40\n",
      "57/57 [==============================] - 1s 14ms/step - loss: 1.9333e-04 - accuracy: 1.0000 - val_loss: 2.6967 - val_accuracy: 0.6066\n",
      "Epoch 11/40\n",
      "57/57 [==============================] - 1s 14ms/step - loss: 1.3064e-04 - accuracy: 1.0000 - val_loss: 2.7699 - val_accuracy: 0.6022\n",
      "Epoch 12/40\n",
      "57/57 [==============================] - 1s 14ms/step - loss: 1.0002e-04 - accuracy: 1.0000 - val_loss: 2.8370 - val_accuracy: 0.6022\n",
      "Epoch 13/40\n",
      "57/57 [==============================] - 1s 14ms/step - loss: 8.0388e-05 - accuracy: 1.0000 - val_loss: 2.8869 - val_accuracy: 0.6022\n",
      "Epoch 14/40\n",
      "57/57 [==============================] - 1s 14ms/step - loss: 6.6651e-05 - accuracy: 1.0000 - val_loss: 2.9342 - val_accuracy: 0.6044\n",
      "Epoch 15/40\n",
      "57/57 [==============================] - 1s 22ms/step - loss: 5.6819e-05 - accuracy: 1.0000 - val_loss: 2.9811 - val_accuracy: 0.6066\n",
      "Epoch 16/40\n",
      "57/57 [==============================] - 1s 16ms/step - loss: 4.8927e-05 - accuracy: 1.0000 - val_loss: 3.0222 - val_accuracy: 0.6066\n",
      "Epoch 17/40\n",
      "57/57 [==============================] - 1s 16ms/step - loss: 4.2846e-05 - accuracy: 1.0000 - val_loss: 3.0600 - val_accuracy: 0.6088\n",
      "Epoch 18/40\n",
      "57/57 [==============================] - 1s 14ms/step - loss: 3.7938e-05 - accuracy: 1.0000 - val_loss: 3.0979 - val_accuracy: 0.6088\n",
      "Epoch 19/40\n",
      "57/57 [==============================] - 1s 16ms/step - loss: 3.3833e-05 - accuracy: 1.0000 - val_loss: 3.1288 - val_accuracy: 0.6088\n",
      "Epoch 20/40\n",
      "57/57 [==============================] - 1s 16ms/step - loss: 3.0455e-05 - accuracy: 1.0000 - val_loss: 3.1606 - val_accuracy: 0.6088\n",
      "Epoch 21/40\n",
      "57/57 [==============================] - 1s 16ms/step - loss: 2.7577e-05 - accuracy: 1.0000 - val_loss: 3.1898 - val_accuracy: 0.6088\n",
      "Epoch 22/40\n",
      "57/57 [==============================] - 1s 15ms/step - loss: 2.5124e-05 - accuracy: 1.0000 - val_loss: 3.2178 - val_accuracy: 0.6066\n",
      "Epoch 23/40\n",
      "57/57 [==============================] - 1s 15ms/step - loss: 2.2960e-05 - accuracy: 1.0000 - val_loss: 3.2453 - val_accuracy: 0.6088\n",
      "Epoch 24/40\n",
      "57/57 [==============================] - 1s 15ms/step - loss: 2.1059e-05 - accuracy: 1.0000 - val_loss: 3.2719 - val_accuracy: 0.6088\n",
      "Epoch 25/40\n",
      "57/57 [==============================] - 1s 15ms/step - loss: 1.9475e-05 - accuracy: 1.0000 - val_loss: 3.2981 - val_accuracy: 0.6066\n",
      "Epoch 26/40\n",
      "57/57 [==============================] - 1s 14ms/step - loss: 1.7984e-05 - accuracy: 1.0000 - val_loss: 3.3205 - val_accuracy: 0.6066\n",
      "Epoch 27/40\n",
      "57/57 [==============================] - 1s 15ms/step - loss: 1.6723e-05 - accuracy: 1.0000 - val_loss: 3.3439 - val_accuracy: 0.6066\n",
      "Epoch 28/40\n",
      "57/57 [==============================] - 1s 16ms/step - loss: 1.5550e-05 - accuracy: 1.0000 - val_loss: 3.3660 - val_accuracy: 0.6066\n",
      "Epoch 29/40\n",
      "57/57 [==============================] - 1s 14ms/step - loss: 1.4526e-05 - accuracy: 1.0000 - val_loss: 3.3887 - val_accuracy: 0.6066\n",
      "Epoch 30/40\n",
      "57/57 [==============================] - 1s 16ms/step - loss: 1.3585e-05 - accuracy: 1.0000 - val_loss: 3.4100 - val_accuracy: 0.6066\n",
      "Epoch 31/40\n",
      "57/57 [==============================] - 1s 15ms/step - loss: 1.2737e-05 - accuracy: 1.0000 - val_loss: 3.4300 - val_accuracy: 0.6066\n",
      "Epoch 32/40\n",
      "57/57 [==============================] - 1s 18ms/step - loss: 1.1973e-05 - accuracy: 1.0000 - val_loss: 3.4512 - val_accuracy: 0.6066\n",
      "Epoch 33/40\n",
      "57/57 [==============================] - 1s 15ms/step - loss: 1.1271e-05 - accuracy: 1.0000 - val_loss: 3.4700 - val_accuracy: 0.6066\n",
      "Epoch 34/40\n",
      "57/57 [==============================] - 1s 16ms/step - loss: 1.0627e-05 - accuracy: 1.0000 - val_loss: 3.4888 - val_accuracy: 0.6066\n",
      "Epoch 35/40\n",
      "57/57 [==============================] - 1s 16ms/step - loss: 1.0038e-05 - accuracy: 1.0000 - val_loss: 3.5068 - val_accuracy: 0.6066\n",
      "Epoch 36/40\n",
      "57/57 [==============================] - 1s 15ms/step - loss: 9.4914e-06 - accuracy: 1.0000 - val_loss: 3.5258 - val_accuracy: 0.6066\n",
      "Epoch 37/40\n",
      "57/57 [==============================] - 1s 17ms/step - loss: 8.9853e-06 - accuracy: 1.0000 - val_loss: 3.5429 - val_accuracy: 0.6066\n",
      "Epoch 38/40\n",
      "57/57 [==============================] - 1s 14ms/step - loss: 8.5251e-06 - accuracy: 1.0000 - val_loss: 3.5599 - val_accuracy: 0.6066\n",
      "Epoch 39/40\n",
      "57/57 [==============================] - 1s 16ms/step - loss: 8.0914e-06 - accuracy: 1.0000 - val_loss: 3.5771 - val_accuracy: 0.6044\n",
      "Epoch 40/40\n",
      "57/57 [==============================] - 1s 14ms/step - loss: 7.6878e-06 - accuracy: 1.0000 - val_loss: 3.5943 - val_accuracy: 0.6000\n"
     ]
    }
   ],
   "source": [
    "hist = model.fit(X_train, y_train, epochs=40, validation_data = (X_val, y_val))"
   ]
  },
  {
   "cell_type": "code",
   "execution_count": 65,
   "id": "286d9981",
   "metadata": {
    "scrolled": true
   },
   "outputs": [
    {
     "data": {
      "text/plain": [
       "{'loss': [0.6705586910247803,\n",
       "  0.42010998725891113,\n",
       "  0.17353010177612305,\n",
       "  0.055712033063173294,\n",
       "  0.020454904064536095,\n",
       "  0.013297396712005138,\n",
       "  0.0016587227582931519,\n",
       "  0.003025273559615016,\n",
       "  0.000542075838893652,\n",
       "  0.0001933281891979277,\n",
       "  0.00013063773803878576,\n",
       "  0.00010002325871028006,\n",
       "  8.038813393795863e-05,\n",
       "  6.665087130386382e-05,\n",
       "  5.681926631950773e-05,\n",
       "  4.892701326753013e-05,\n",
       "  4.284604437998496e-05,\n",
       "  3.793765790760517e-05,\n",
       "  3.3832646295195445e-05,\n",
       "  3.0455412343144417e-05,\n",
       "  2.7577070795814507e-05,\n",
       "  2.5123674276983365e-05,\n",
       "  2.2960050046094693e-05,\n",
       "  2.1058556740172207e-05,\n",
       "  1.947481359820813e-05,\n",
       "  1.798396260710433e-05,\n",
       "  1.6723131921025924e-05,\n",
       "  1.554972550366074e-05,\n",
       "  1.4525585356750526e-05,\n",
       "  1.358548706775764e-05,\n",
       "  1.2736702956317458e-05,\n",
       "  1.19733949759393e-05,\n",
       "  1.127120413002558e-05,\n",
       "  1.0627464689605404e-05,\n",
       "  1.0038215805252548e-05,\n",
       "  9.491436685493682e-06,\n",
       "  8.985276508610696e-06,\n",
       "  8.525134944648016e-06,\n",
       "  8.091436029644683e-06,\n",
       "  7.687820470891893e-06],\n",
       " 'accuracy': [0.5822784900665283,\n",
       "  0.8238855004310608,\n",
       "  0.9372591972351074,\n",
       "  0.9834892749786377,\n",
       "  0.9933956861495972,\n",
       "  0.9955971240997314,\n",
       "  1.0,\n",
       "  0.9994496703147888,\n",
       "  1.0,\n",
       "  1.0,\n",
       "  1.0,\n",
       "  1.0,\n",
       "  1.0,\n",
       "  1.0,\n",
       "  1.0,\n",
       "  1.0,\n",
       "  1.0,\n",
       "  1.0,\n",
       "  1.0,\n",
       "  1.0,\n",
       "  1.0,\n",
       "  1.0,\n",
       "  1.0,\n",
       "  1.0,\n",
       "  1.0,\n",
       "  1.0,\n",
       "  1.0,\n",
       "  1.0,\n",
       "  1.0,\n",
       "  1.0,\n",
       "  1.0,\n",
       "  1.0,\n",
       "  1.0,\n",
       "  1.0,\n",
       "  1.0,\n",
       "  1.0,\n",
       "  1.0,\n",
       "  1.0,\n",
       "  1.0,\n",
       "  1.0],\n",
       " 'val_loss': [0.6363743543624878,\n",
       "  0.6723961234092712,\n",
       "  0.8377538919448853,\n",
       "  1.3055657148361206,\n",
       "  1.6908504962921143,\n",
       "  1.845749020576477,\n",
       "  1.8608341217041016,\n",
       "  2.7346489429473877,\n",
       "  2.5680527687072754,\n",
       "  2.696744441986084,\n",
       "  2.769920587539673,\n",
       "  2.837034225463867,\n",
       "  2.886859655380249,\n",
       "  2.9341695308685303,\n",
       "  2.981109857559204,\n",
       "  3.022212505340576,\n",
       "  3.06003475189209,\n",
       "  3.0979199409484863,\n",
       "  3.128765821456909,\n",
       "  3.1605515480041504,\n",
       "  3.1897599697113037,\n",
       "  3.217808246612549,\n",
       "  3.24526309967041,\n",
       "  3.2718913555145264,\n",
       "  3.2981271743774414,\n",
       "  3.320493698120117,\n",
       "  3.343942403793335,\n",
       "  3.365954637527466,\n",
       "  3.3887434005737305,\n",
       "  3.4099972248077393,\n",
       "  3.4299981594085693,\n",
       "  3.451242208480835,\n",
       "  3.4699833393096924,\n",
       "  3.4887924194335938,\n",
       "  3.506789207458496,\n",
       "  3.525777816772461,\n",
       "  3.542921304702759,\n",
       "  3.559946298599243,\n",
       "  3.5771424770355225,\n",
       "  3.5942535400390625],\n",
       " 'val_accuracy': [0.6329670548439026,\n",
       "  0.6373626589775085,\n",
       "  0.6175824403762817,\n",
       "  0.6307692527770996,\n",
       "  0.6285714507102966,\n",
       "  0.6131868362426758,\n",
       "  0.6021978259086609,\n",
       "  0.5978022217750549,\n",
       "  0.6087912321090698,\n",
       "  0.6065934300422668,\n",
       "  0.6021978259086609,\n",
       "  0.6021978259086609,\n",
       "  0.6021978259086609,\n",
       "  0.6043956279754639,\n",
       "  0.6065934300422668,\n",
       "  0.6065934300422668,\n",
       "  0.6087912321090698,\n",
       "  0.6087912321090698,\n",
       "  0.6087912321090698,\n",
       "  0.6087912321090698,\n",
       "  0.6087912321090698,\n",
       "  0.6065934300422668,\n",
       "  0.6087912321090698,\n",
       "  0.6087912321090698,\n",
       "  0.6065934300422668,\n",
       "  0.6065934300422668,\n",
       "  0.6065934300422668,\n",
       "  0.6065934300422668,\n",
       "  0.6065934300422668,\n",
       "  0.6065934300422668,\n",
       "  0.6065934300422668,\n",
       "  0.6065934300422668,\n",
       "  0.6065934300422668,\n",
       "  0.6065934300422668,\n",
       "  0.6065934300422668,\n",
       "  0.6065934300422668,\n",
       "  0.6065934300422668,\n",
       "  0.6065934300422668,\n",
       "  0.6043956279754639,\n",
       "  0.6000000238418579]}"
      ]
     },
     "execution_count": 65,
     "metadata": {},
     "output_type": "execute_result"
    }
   ],
   "source": [
    "hist.history"
   ]
  },
  {
   "cell_type": "code",
   "execution_count": 66,
   "id": "b2af0489",
   "metadata": {},
   "outputs": [
    {
     "data": {
      "text/plain": [
       "[<matplotlib.lines.Line2D at 0x1766f3506a0>]"
      ]
     },
     "execution_count": 66,
     "metadata": {},
     "output_type": "execute_result"
    },
    {
     "data": {
      "image/png": "[encoded data removed]",
      "text/plain": [
       "<Figure size 640x480 with 1 Axes>"
      ]
     },
     "metadata": {},
     "output_type": "display_data"
    }
   ],
   "source": [
    "import matplotlib.pyplot as plt\n",
    "plt.plot(hist.history['loss'])\n",
    "plt.plot(hist.history['accuracy'])"
   ]
  },
  {
   "cell_type": "code",
   "execution_count": 67,
   "id": "a1484a19",
   "metadata": {
    "colab": {
     "base_uri": "https://localhost:8080/"
    },
    "id": "a1484a19",
    "outputId": "5db7ef87-e57e-4f8c-c74b-f124fab03672"
   },
   "outputs": [
    {
     "name": "stdout",
     "output_type": "stream",
     "text": [
      "[0 0 0 ... 0 0 0]\n"
     ]
    }
   ],
   "source": [
    "print(model(padded_sequences).numpy().argmax(axis = 1))"
   ]
  },
  {
   "cell_type": "markdown",
   "id": "781be31e",
   "metadata": {},
   "source": [
    "Model 1 Testing"
   ]
  },
  {
   "cell_type": "code",
   "execution_count": 68,
   "id": "76c6df0e",
   "metadata": {},
   "outputs": [
    {
     "name": "stdout",
     "output_type": "stream",
     "text": [
      "18/18 [==============================] - 0s 4ms/step - loss: 3.5316 - accuracy: 0.6109\n",
      "Test Loss: 3.5316\n",
      "Test Accuracy: 61.09%\n"
     ]
    }
   ],
   "source": [
    "loss, accuracy = model.evaluate(X_test, y_test)\n",
    "\n",
    "print(f'Test Loss: {loss:.4f}')\n",
    "print(f'Test Accuracy: {accuracy * 100:.2f}%')"
   ]
  },
  {
   "cell_type": "code",
   "execution_count": 69,
   "id": "f3526a9c",
   "metadata": {},
   "outputs": [
    {
     "name": "stdout",
     "output_type": "stream",
     "text": [
      "18/18 [==============================] - 0s 4ms/step\n"
     ]
    }
   ],
   "source": [
    "#Prection and Confusion Matrix\n",
    "y_pred = model.predict(X_test)\n",
    "bin_y_pred = (y_pred > 0.5).astype(int)"
   ]
  },
  {
   "cell_type": "code",
   "execution_count": 70,
   "id": "062c9c2c",
   "metadata": {},
   "outputs": [],
   "source": [
    "bin_y_pred = np.squeeze(bin_y_pred)"
   ]
  },
  {
   "cell_type": "code",
   "execution_count": 71,
   "id": "23edf0b7",
   "metadata": {},
   "outputs": [
    {
     "data": {
      "text/plain": [
       "array([1, 0, 0, 1, 0, 0, 0, 0, 1, 0, 0, 0, 0, 1, 1, 0, 1, 1, 1, 1, 0, 1,\n",
       "       0, 1, 0, 0, 0, 1, 1, 0, 1, 0, 0, 0, 1, 0, 1, 1, 0, 0, 0, 0, 1, 0,\n",
       "       0, 1, 0, 0, 1, 0, 1, 0, 1, 1, 0, 0, 1, 0, 1, 1, 0, 0, 0, 0, 0, 0,\n",
       "       0, 1, 1, 1, 1, 0, 1, 0, 0, 0, 1, 1, 1, 0, 0, 1, 1, 1, 0, 0, 0, 0,\n",
       "       0, 1, 1, 1, 1, 1, 1, 0, 0, 0, 0, 1, 1, 1, 0, 0, 0, 1, 1, 0, 0, 1,\n",
       "       1, 0, 1, 0, 0, 0, 1, 1, 1, 0, 0, 1, 0, 1, 0, 0, 0, 0, 1, 1, 1, 1,\n",
       "       1, 1, 1, 0, 1, 0, 0, 1, 0, 1, 1, 0, 0, 1, 1, 1, 0, 0, 1, 1, 1, 1,\n",
       "       0, 1, 1, 1, 1, 0, 1, 1, 0, 1, 1, 1, 0, 0, 1, 0, 0, 1, 0, 1, 0, 1,\n",
       "       0, 1, 1, 0, 0, 1, 1, 0, 1, 1, 1, 0, 1, 1, 1, 0, 1, 0, 1, 1, 0, 1,\n",
       "       1, 0, 1, 1, 1, 1, 1, 1, 0, 1, 0, 0, 0, 1, 1, 1, 0, 0, 1, 0, 0, 0,\n",
       "       1, 0, 1, 1, 0, 1, 1, 0, 1, 0, 1, 1, 0, 0, 0, 1, 1, 0, 0, 1, 0, 0,\n",
       "       1, 0, 0, 0, 1, 0, 1, 0, 1, 1, 1, 1, 1, 0, 1, 1, 0, 0, 1, 1, 1, 0,\n",
       "       1, 1, 1, 0, 1, 0, 1, 1, 0, 0, 1, 1, 1, 1, 0, 0, 0, 1, 0, 0, 1, 0,\n",
       "       0, 1, 1, 1, 0, 1, 1, 1, 0, 0, 0, 1, 0, 0, 1, 0, 0, 1, 0, 1, 0, 0,\n",
       "       1, 1, 1, 1, 1, 0, 1, 1, 1, 1, 1, 1, 0, 0, 0, 0, 0, 1, 0, 0, 1, 1,\n",
       "       0, 0, 1, 0, 1, 1, 0, 0, 1, 0, 1, 0, 1, 1, 0, 1, 0, 1, 1, 0, 1, 1,\n",
       "       0, 1, 1, 0, 0, 1, 1, 1, 0, 1, 1, 0, 1, 1, 0, 0, 1, 1, 0, 0, 1, 1,\n",
       "       0, 0, 0, 0, 1, 1, 0, 0, 0, 1, 0, 0, 1, 1, 1, 0, 0, 1, 0, 1, 1, 1,\n",
       "       0, 1, 0, 1, 0, 0, 1, 1, 1, 1, 0, 0, 0, 1, 0, 1, 0, 1, 1, 0, 0, 1,\n",
       "       1, 0, 0, 1, 1, 1, 1, 0, 1, 1, 1, 1, 0, 0, 1, 1, 1, 1, 0, 1, 0, 0,\n",
       "       0, 0, 1, 1, 1, 0, 0, 0, 0, 1, 1, 1, 1, 0, 0, 0, 1, 1, 1, 1, 0, 0,\n",
       "       0, 0, 0, 1, 0, 0, 0, 1, 0, 1, 0, 1, 1, 0, 0, 0, 1, 0, 1, 1, 0, 0,\n",
       "       0, 1, 1, 0, 1, 1, 1, 1, 1, 0, 1, 1, 0, 0, 0, 0, 1, 0, 0, 0, 0, 0,\n",
       "       1, 1, 1, 1, 0, 0, 1, 1, 0, 0, 0, 1, 0, 1, 1, 1, 0, 1, 1, 0, 1, 1,\n",
       "       1, 1, 1, 0, 0, 1, 0, 0, 0, 0, 0, 0, 0, 0, 1, 0, 0, 0, 1, 1, 1, 1,\n",
       "       0, 0, 1, 1, 0, 0, 0, 1, 1, 1, 1, 1, 0, 1, 0, 1, 0, 1])"
      ]
     },
     "execution_count": 71,
     "metadata": {},
     "output_type": "execute_result"
    }
   ],
   "source": [
    "bin_y_pred"
   ]
  },
  {
   "cell_type": "code",
   "execution_count": 72,
   "id": "5f682ab2",
   "metadata": {},
   "outputs": [],
   "source": [
    "from sklearn.metrics import confusion_matrix"
   ]
  },
  {
   "cell_type": "code",
   "execution_count": 73,
   "id": "e345456a",
   "metadata": {},
   "outputs": [
    {
     "name": "stdout",
     "output_type": "stream",
     "text": [
      "                    Predicted No        Predicted Yes       \n",
      "Actual No           167                 115                 \n",
      "Actual Yes          106                 180                 \n"
     ]
    }
   ],
   "source": [
    "y_true = y_test\n",
    "y_pred = bin_y_pred\n",
    "\n",
    "cm = confusion_matrix(y_true, y_pred)\n",
    "\n",
    "TN, FP, FN, TP = cm.ravel()\n",
    "\n",
    "print(f\"{'':<20}{'Predicted No':<20}{'Predicted Yes':<20}\")\n",
    "print(f\"{'Actual No':<20}{TN:<20}{FP:<20}\")\n",
    "print(f\"{'Actual Yes':<20}{FN:<20}{TP:<20}\")"
   ]
  },
  {
   "cell_type": "markdown",
   "id": "f5437a9f",
   "metadata": {},
   "source": [
    "### MODEL 2"
   ]
  },
  {
   "cell_type": "code",
   "execution_count": 83,
   "id": "e790349c",
   "metadata": {},
   "outputs": [],
   "source": [
    "# We are going to build our model with the Sequential API\n",
    "model2 = Sequential()\n",
    "\n",
    "model2.add(Embedding(total_words,      # number of words to process as input\n",
    "                    50,    # output representation\n",
    "                    input_length=len(padded_sequences[0])))    # total length of each observation\n",
    "\n",
    "model2.add(LSTM(50, return_sequences=False))\n",
    "\n",
    "model2.add(Dropout(0.2))\n",
    "\n",
    "model2.add(Dense(1, activation='sigmoid')) \n",
    "\n",
    "model2.compile(optimizer='adam', loss='binary_crossentropy', metrics=['accuracy'])"
   ]
  },
  {
   "cell_type": "code",
   "execution_count": 84,
   "id": "a4fded32",
   "metadata": {},
   "outputs": [
    {
     "name": "stdout",
     "output_type": "stream",
     "text": [
      "Model: \"sequential_5\"\n",
      "_________________________________________________________________\n",
      " Layer (type)                Output Shape              Param #   \n",
      "=================================================================\n",
      " embedding_5 (Embedding)     (None, 29, 50)            223400    \n",
      "                                                                 \n",
      " lstm_5 (LSTM)               (None, 50)                20200     \n",
      "                                                                 \n",
      " dropout_2 (Dropout)         (None, 50)                0         \n",
      "                                                                 \n",
      " dense_5 (Dense)             (None, 1)                 51        \n",
      "                                                                 \n",
      "=================================================================\n",
      "Total params: 243651 (951.76 KB)\n",
      "Trainable params: 243651 (951.76 KB)\n",
      "Non-trainable params: 0 (0.00 Byte)\n",
      "_________________________________________________________________\n"
     ]
    }
   ],
   "source": [
    "model2.summary()"
   ]
  },
  {
   "cell_type": "code",
   "execution_count": 74,
   "id": "db80d3d3",
   "metadata": {},
   "outputs": [],
   "source": [
    "early_stopping = EarlyStopping(monitor='val_loss', patience=3, restore_best_weights=True)"
   ]
  },
  {
   "cell_type": "code",
   "execution_count": 86,
   "id": "2cc28f7c",
   "metadata": {},
   "outputs": [
    {
     "name": "stdout",
     "output_type": "stream",
     "text": [
      "Epoch 1/10\n",
      "57/57 [==============================] - 5s 33ms/step - loss: 0.6919 - accuracy: 0.5190 - val_loss: 0.6862 - val_accuracy: 0.6044\n",
      "Epoch 2/10\n",
      "57/57 [==============================] - 1s 18ms/step - loss: 0.6264 - accuracy: 0.7309 - val_loss: 0.6505 - val_accuracy: 0.6066\n",
      "Epoch 3/10\n",
      "57/57 [==============================] - 1s 18ms/step - loss: 0.4441 - accuracy: 0.8145 - val_loss: 0.6892 - val_accuracy: 0.6703\n",
      "Epoch 4/10\n",
      "57/57 [==============================] - 1s 18ms/step - loss: 0.2814 - accuracy: 0.8806 - val_loss: 0.7954 - val_accuracy: 0.6308\n",
      "Epoch 5/10\n",
      "57/57 [==============================] - 1s 18ms/step - loss: 0.1851 - accuracy: 0.9378 - val_loss: 0.8987 - val_accuracy: 0.6286\n"
     ]
    }
   ],
   "source": [
    "hist = model2.fit(X_train, y_train, epochs=10, validation_data = (X_val, y_val), callbacks=[early_stopping])"
   ]
  },
  {
   "cell_type": "code",
   "execution_count": 87,
   "id": "fbb22e66-121c-4cf2-ab52-a9478edb90dd",
   "metadata": {},
   "outputs": [
    {
     "data": {
      "text/plain": [
       "[<matplotlib.lines.Line2D at 0x2b23e50cdf0>]"
      ]
     },
     "execution_count": 87,
     "metadata": {},
     "output_type": "execute_result"
    },
    {
     "data": {
      "image/png": "[encoded data removed]",
      "text/plain": [
       "<Figure size 640x480 with 1 Axes>"
      ]
     },
     "metadata": {},
     "output_type": "display_data"
    }
   ],
   "source": [
    "plt.plot(hist.history['loss'])\n",
    "plt.plot(hist.history['accuracy'])"
   ]
  },
  {
   "cell_type": "code",
   "execution_count": 82,
   "id": "a59b099a",
   "metadata": {},
   "outputs": [
    {
     "name": "stdout",
     "output_type": "stream",
     "text": [
      "18/18 [==============================] - 0s 14ms/step - loss: 0.6372 - accuracy: 0.6549\n"
     ]
    }
   ],
   "source": [
    "loss, accuracy = model2.evaluate(X_test, y_test)"
   ]
  },
  {
   "cell_type": "markdown",
   "id": "83c8e04a",
   "metadata": {},
   "source": [
    "### MODEL 3"
   ]
  },
  {
   "cell_type": "code",
   "execution_count": 68,
   "id": "cce897ae",
   "metadata": {},
   "outputs": [],
   "source": [
    "model3 = Sequential()\n",
    "\n",
    "model3.add(Embedding(total_words,      # number of words to process as input\n",
    "                    100,    # output representation\n",
    "                    input_length=len(padded_sequences[0])))    # total length of each observation\n",
    "\n",
    "model3.add(LSTM(100, return_sequences=False))\n",
    "\n",
    "model3.add(Dense(1, activation='sigmoid')) \n",
    "\n",
    "model3.compile(optimizer='adam', loss='hinge', metrics=['accuracy'])"
   ]
  },
  {
   "cell_type": "code",
   "execution_count": 69,
   "id": "8a14b1ec",
   "metadata": {},
   "outputs": [
    {
     "name": "stdout",
     "output_type": "stream",
     "text": [
      "Model: \"sequential_2\"\n",
      "_________________________________________________________________\n",
      " Layer (type)                Output Shape              Param #   \n",
      "=================================================================\n",
      " embedding_2 (Embedding)     (None, 29, 100)           446800    \n",
      "                                                                 \n",
      " lstm_2 (LSTM)               (None, 100)               80400     \n",
      "                                                                 \n",
      " dense_2 (Dense)             (None, 1)                 101       \n",
      "                                                                 \n",
      "=================================================================\n",
      "Total params: 527301 (2.01 MB)\n",
      "Trainable params: 527301 (2.01 MB)\n",
      "Non-trainable params: 0 (0.00 Byte)\n",
      "_________________________________________________________________\n"
     ]
    }
   ],
   "source": [
    "model3.summary()"
   ]
  },
  {
   "cell_type": "code",
   "execution_count": 71,
   "id": "6963b196",
   "metadata": {},
   "outputs": [
    {
     "name": "stdout",
     "output_type": "stream",
     "text": [
      "Epoch 1/20\n",
      "57/57 [==============================] - 2s 30ms/step - loss: 0.5933 - accuracy: 0.9059 - val_loss: 0.8954 - val_accuracy: 0.6286\n",
      "Epoch 2/20\n",
      "57/57 [==============================] - 1s 23ms/step - loss: 0.5821 - accuracy: 0.9185 - val_loss: 0.8974 - val_accuracy: 0.6286\n",
      "Epoch 3/20\n",
      "57/57 [==============================] - 1s 23ms/step - loss: 0.5650 - accuracy: 0.9334 - val_loss: 0.8849 - val_accuracy: 0.6352\n",
      "Epoch 4/20\n",
      "57/57 [==============================] - 1s 24ms/step - loss: 0.5597 - accuracy: 0.9378 - val_loss: 0.8940 - val_accuracy: 0.6308\n",
      "Epoch 5/20\n",
      "57/57 [==============================] - 1s 24ms/step - loss: 0.5549 - accuracy: 0.9417 - val_loss: 0.8913 - val_accuracy: 0.6374\n",
      "Epoch 6/20\n",
      "57/57 [==============================] - 1s 23ms/step - loss: 0.5521 - accuracy: 0.9450 - val_loss: 0.8867 - val_accuracy: 0.6418\n",
      "Epoch 7/20\n",
      "57/57 [==============================] - 1s 23ms/step - loss: 0.5497 - accuracy: 0.9472 - val_loss: 0.8907 - val_accuracy: 0.6352\n",
      "Epoch 8/20\n",
      "57/57 [==============================] - 1s 19ms/step - loss: 0.5524 - accuracy: 0.9450 - val_loss: 0.8952 - val_accuracy: 0.6352\n",
      "Epoch 9/20\n",
      "57/57 [==============================] - 1s 17ms/step - loss: 0.5498 - accuracy: 0.9483 - val_loss: 0.8946 - val_accuracy: 0.6330\n",
      "Epoch 10/20\n",
      "57/57 [==============================] - 1s 19ms/step - loss: 0.5520 - accuracy: 0.9450 - val_loss: 0.8998 - val_accuracy: 0.6176\n",
      "Epoch 11/20\n",
      "57/57 [==============================] - 1s 18ms/step - loss: 0.5512 - accuracy: 0.9466 - val_loss: 0.9037 - val_accuracy: 0.6176\n",
      "Epoch 12/20\n",
      "57/57 [==============================] - 1s 17ms/step - loss: 0.5465 - accuracy: 0.9505 - val_loss: 0.9109 - val_accuracy: 0.6110\n",
      "Epoch 13/20\n",
      "57/57 [==============================] - 1s 18ms/step - loss: 0.5451 - accuracy: 0.9505 - val_loss: 0.9077 - val_accuracy: 0.6220\n",
      "Epoch 14/20\n",
      "57/57 [==============================] - 1s 18ms/step - loss: 0.5445 - accuracy: 0.9510 - val_loss: 0.9073 - val_accuracy: 0.6242\n",
      "Epoch 15/20\n",
      "57/57 [==============================] - 1s 18ms/step - loss: 0.5444 - accuracy: 0.9510 - val_loss: 0.9096 - val_accuracy: 0.6154\n",
      "Epoch 16/20\n",
      "57/57 [==============================] - 1s 18ms/step - loss: 0.5444 - accuracy: 0.9510 - val_loss: 0.9097 - val_accuracy: 0.6066\n",
      "Epoch 17/20\n",
      "57/57 [==============================] - 2s 37ms/step - loss: 0.5444 - accuracy: 0.9510 - val_loss: 0.9101 - val_accuracy: 0.6154\n",
      "Epoch 18/20\n",
      "57/57 [==============================] - 1s 20ms/step - loss: 0.5443 - accuracy: 0.9510 - val_loss: 0.9097 - val_accuracy: 0.6154\n",
      "Epoch 19/20\n",
      "57/57 [==============================] - 1s 19ms/step - loss: 0.5443 - accuracy: 0.9510 - val_loss: 0.9095 - val_accuracy: 0.6198\n",
      "Epoch 20/20\n",
      "57/57 [==============================] - 1s 18ms/step - loss: 0.5443 - accuracy: 0.9510 - val_loss: 0.9101 - val_accuracy: 0.6198\n"
     ]
    }
   ],
   "source": [
    "his = model3.fit(X_train, y_train, epochs=20, validation_data = (X_val, y_val))"
   ]
  },
  {
   "cell_type": "code",
   "execution_count": 72,
   "id": "67912764",
   "metadata": {},
   "outputs": [
    {
     "data": {
      "text/plain": [
       "{'loss': [0.5932866930961609,\n",
       "  0.5821117162704468,\n",
       "  0.5649919509887695,\n",
       "  0.559748113155365,\n",
       "  0.5549067854881287,\n",
       "  0.5520820021629333,\n",
       "  0.5497434735298157,\n",
       "  0.5523592829704285,\n",
       "  0.5497554540634155,\n",
       "  0.5520237684249878,\n",
       "  0.551159143447876,\n",
       "  0.5464674234390259,\n",
       "  0.5451012253761292,\n",
       "  0.5444509983062744,\n",
       "  0.5443956255912781,\n",
       "  0.5443633198738098,\n",
       "  0.5443546772003174,\n",
       "  0.5443485975265503,\n",
       "  0.5443422198295593,\n",
       "  0.5443377494812012],\n",
       " 'accuracy': [0.9058888554573059,\n",
       "  0.9185470342636108,\n",
       "  0.9334067106246948,\n",
       "  0.9378095865249634,\n",
       "  0.941662073135376,\n",
       "  0.9449642300605774,\n",
       "  0.9471656680107117,\n",
       "  0.9449642300605774,\n",
       "  0.9482663869857788,\n",
       "  0.9449642300605774,\n",
       "  0.9466152787208557,\n",
       "  0.9504678249359131,\n",
       "  0.9504678249359131,\n",
       "  0.9510181546211243,\n",
       "  0.9510181546211243,\n",
       "  0.9510181546211243,\n",
       "  0.9510181546211243,\n",
       "  0.9510181546211243,\n",
       "  0.9510181546211243,\n",
       "  0.9510181546211243],\n",
       " 'val_loss': [0.8954136371612549,\n",
       "  0.8973639011383057,\n",
       "  0.8849393129348755,\n",
       "  0.8940407037734985,\n",
       "  0.8912904262542725,\n",
       "  0.8867226839065552,\n",
       "  0.8906832933425903,\n",
       "  0.895247220993042,\n",
       "  0.8945832848548889,\n",
       "  0.8998342156410217,\n",
       "  0.9036932587623596,\n",
       "  0.9108714461326599,\n",
       "  0.9077132344245911,\n",
       "  0.907305896282196,\n",
       "  0.9096219539642334,\n",
       "  0.9097104668617249,\n",
       "  0.910051703453064,\n",
       "  0.9096669554710388,\n",
       "  0.9094865918159485,\n",
       "  0.9101081490516663],\n",
       " 'val_accuracy': [0.6285714507102966,\n",
       "  0.6285714507102966,\n",
       "  0.6351648569107056,\n",
       "  0.6307692527770996,\n",
       "  0.6373626589775085,\n",
       "  0.6417582631111145,\n",
       "  0.6351648569107056,\n",
       "  0.6351648569107056,\n",
       "  0.6329670548439026,\n",
       "  0.6175824403762817,\n",
       "  0.6175824403762817,\n",
       "  0.6109890341758728,\n",
       "  0.6219780445098877,\n",
       "  0.6241758465766907,\n",
       "  0.6153846383094788,\n",
       "  0.6065934300422668,\n",
       "  0.6153846383094788,\n",
       "  0.6153846383094788,\n",
       "  0.6197802424430847,\n",
       "  0.6197802424430847]}"
      ]
     },
     "execution_count": 72,
     "metadata": {},
     "output_type": "execute_result"
    }
   ],
   "source": [
    "his.history"
   ]
  },
  {
   "cell_type": "code",
   "execution_count": 66,
   "id": "218f1b11",
   "metadata": {
    "id": "218f1b11"
   },
   "outputs": [],
   "source": [
    "import matplotlib.pyplot as plt\n"
   ]
  },
  {
   "cell_type": "code",
   "execution_count": 74,
   "id": "a49a0850",
   "metadata": {},
   "outputs": [
    {
     "data": {
      "text/plain": [
       "[<matplotlib.lines.Line2D at 0x2b237806b30>]"
      ]
     },
     "execution_count": 74,
     "metadata": {},
     "output_type": "execute_result"
    },
    {
     "data": {
      "image/png": "[encoded data removed]",
      "text/plain": [
       "<Figure size 640x480 with 1 Axes>"
      ]
     },
     "metadata": {},
     "output_type": "display_data"
    }
   ],
   "source": [
    "plt.plot(his.history['loss'])\n",
    "plt.plot(his.history['accuracy'])"
   ]
  },
  {
   "cell_type": "markdown",
   "id": "1c8c7755",
   "metadata": {},
   "source": [
    "### MODEL 4"
   ]
  },
  {
   "cell_type": "code",
   "execution_count": 93,
   "id": "38ed8871",
   "metadata": {},
   "outputs": [],
   "source": [
    "model4 = Sequential()\n",
    "\n",
    "model4.add(Embedding(total_words,      # number of words to process as input\n",
    "                    100,    # output representation\n",
    "                    input_length=len(padded_sequences[0])))    # total length of each observation\n",
    "\n",
    "model4.add(LSTM(100, return_sequences=False))\n",
    "\n",
    "model4.add(Dense(1, activation='sigmoid')) \n",
    "\n",
    "model4.compile(optimizer='sgd', loss='binary_crossentropy', metrics=['accuracy'])"
   ]
  },
  {
   "cell_type": "code",
   "execution_count": 94,
   "id": "d97c51d9",
   "metadata": {},
   "outputs": [
    {
     "name": "stdout",
     "output_type": "stream",
     "text": [
      "Model: \"sequential_7\"\n",
      "_________________________________________________________________\n",
      " Layer (type)                Output Shape              Param #   \n",
      "=================================================================\n",
      " embedding_7 (Embedding)     (None, 29, 100)           446800    \n",
      "                                                                 \n",
      " lstm_7 (LSTM)               (None, 100)               80400     \n",
      "                                                                 \n",
      " dense_7 (Dense)             (None, 1)                 101       \n",
      "                                                                 \n",
      "=================================================================\n",
      "Total params: 527301 (2.01 MB)\n",
      "Trainable params: 527301 (2.01 MB)\n",
      "Non-trainable params: 0 (0.00 Byte)\n",
      "_________________________________________________________________\n"
     ]
    }
   ],
   "source": [
    "model4.summary()"
   ]
  },
  {
   "cell_type": "code",
   "execution_count": 95,
   "id": "7fba69cf",
   "metadata": {
    "id": "7fba69cf"
   },
   "outputs": [
    {
     "name": "stdout",
     "output_type": "stream",
     "text": [
      "Epoch 1/5\n",
      "57/57 [==============================] - 5s 38ms/step - loss: 0.6931 - accuracy: 0.5129 - val_loss: 0.6928 - val_accuracy: 0.5077\n",
      "Epoch 2/5\n",
      "57/57 [==============================] - 1s 24ms/step - loss: 0.6930 - accuracy: 0.5096 - val_loss: 0.6928 - val_accuracy: 0.5011\n",
      "Epoch 3/5\n",
      "57/57 [==============================] - 1s 21ms/step - loss: 0.6930 - accuracy: 0.5063 - val_loss: 0.6928 - val_accuracy: 0.5011\n",
      "Epoch 4/5\n",
      "57/57 [==============================] - 1s 17ms/step - loss: 0.6930 - accuracy: 0.5173 - val_loss: 0.6929 - val_accuracy: 0.4945\n",
      "Epoch 5/5\n",
      "57/57 [==============================] - 1s 18ms/step - loss: 0.6929 - accuracy: 0.5151 - val_loss: 0.6929 - val_accuracy: 0.4835\n"
     ]
    }
   ],
   "source": [
    "his2 = model4.fit(X_train, y_train, epochs=5, validation_data = (X_val, y_val))"
   ]
  },
  {
   "cell_type": "markdown",
   "id": "3b0b585d-65ba-4bf8-9ce5-8f8d51241580",
   "metadata": {},
   "source": [
    "### Model 5"
   ]
  },
  {
   "cell_type": "code",
   "execution_count": 105,
   "id": "f0d2d184-f96f-4ff3-a809-d8b466eb166b",
   "metadata": {},
   "outputs": [],
   "source": [
    "model5 = Sequential()\n",
    "\n",
    "model5.add(Embedding(total_words,      # number of words to process as input\n",
    "                    300,    # output representation\n",
    "                    mask_zero = True,\n",
    "                    input_length=len(padded_sequences[0])))    # total length of each observation\n",
    "\n",
    "model5.add(Bidirectional(tf.keras.layers.LSTM(64, return_sequences=True)))\n",
    "\n",
    "model5.add(Dropout(0.2)) \n",
    "\n",
    "model5.add(Bidirectional(tf.keras.layers.LSTM(64, return_sequences=False)))\n",
    "\n",
    "model5.add(Dropout(0.2)) \n",
    "\n",
    "model5.add(Dense(1, activation='sigmoid')) \n",
    "\n",
    "model5.compile(optimizer='adam', loss='binary_crossentropy', metrics=['accuracy'])"
   ]
  },
  {
   "cell_type": "code",
   "execution_count": 106,
   "id": "b73ffe53-0a58-4fd3-9e4e-17058d0235bf",
   "metadata": {},
   "outputs": [
    {
     "name": "stdout",
     "output_type": "stream",
     "text": [
      "Model: \"sequential_11\"\n",
      "_________________________________________________________________\n",
      " Layer (type)                Output Shape              Param #   \n",
      "=================================================================\n",
      " embedding_11 (Embedding)    (None, 29, 300)           1340400   \n",
      "                                                                 \n",
      " bidirectional_4 (Bidirecti  (None, 29, 128)           186880    \n",
      " onal)                                                           \n",
      "                                                                 \n",
      " dropout_7 (Dropout)         (None, 29, 128)           0         \n",
      "                                                                 \n",
      " bidirectional_5 (Bidirecti  (None, 128)               98816     \n",
      " onal)                                                           \n",
      "                                                                 \n",
      " dropout_8 (Dropout)         (None, 128)               0         \n",
      "                                                                 \n",
      " dense_10 (Dense)            (None, 1)                 129       \n",
      "                                                                 \n",
      "=================================================================\n",
      "Total params: 1626225 (6.20 MB)\n",
      "Trainable params: 1626225 (6.20 MB)\n",
      "Non-trainable params: 0 (0.00 Byte)\n",
      "_________________________________________________________________\n"
     ]
    }
   ],
   "source": [
    "model5.summary()"
   ]
  },
  {
   "cell_type": "code",
   "execution_count": 107,
   "id": "027af294-772d-4cbe-9c7f-ab5f692ff7f8",
   "metadata": {},
   "outputs": [
    {
     "name": "stdout",
     "output_type": "stream",
     "text": [
      "Epoch 1/10\n",
      "57/57 [==============================] - 21s 124ms/step - loss: 0.6712 - accuracy: 0.5938 - val_loss: 0.6322 - val_accuracy: 0.6593\n",
      "Epoch 2/10\n",
      "57/57 [==============================] - 3s 52ms/step - loss: 0.4390 - accuracy: 0.8052 - val_loss: 0.6719 - val_accuracy: 0.6176\n",
      "Epoch 3/10\n",
      "57/57 [==============================] - 3s 50ms/step - loss: 0.2206 - accuracy: 0.9185 - val_loss: 0.9515 - val_accuracy: 0.6176\n",
      "Epoch 4/10\n",
      "57/57 [==============================] - 3s 50ms/step - loss: 0.1221 - accuracy: 0.9554 - val_loss: 1.3320 - val_accuracy: 0.6264\n"
     ]
    }
   ],
   "source": [
    "his3 = model5.fit(X_train, y_train, epochs=10, validation_data = (X_val, y_val), callbacks=[early_stopping])"
   ]
  },
  {
   "cell_type": "code",
   "execution_count": 108,
   "id": "43622f93-dc6e-489f-8679-990848d6435d",
   "metadata": {},
   "outputs": [
    {
     "data": {
      "text/plain": [
       "<keras.src.callbacks.History at 0x2b2a9e55f00>"
      ]
     },
     "execution_count": 108,
     "metadata": {},
     "output_type": "execute_result"
    }
   ],
   "source": [
    "his3"
   ]
  },
  {
   "cell_type": "markdown",
   "id": "4f3b6554-69d9-4326-8c87-54509d032fc2",
   "metadata": {},
   "source": [
    "### Model 6"
   ]
  },
  {
   "cell_type": "code",
   "execution_count": 62,
   "id": "7acddfb4-fbb8-4464-b7da-6bcf33990616",
   "metadata": {},
   "outputs": [],
   "source": [
    "import tensorflow_addons as tfa"
   ]
  },
  {
   "cell_type": "code",
   "execution_count": 81,
   "id": "d6561e72-3557-4bb8-be8f-8fc1515b3651",
   "metadata": {},
   "outputs": [],
   "source": [
    "adamw_optimizer = tfa.optimizers.AdamW(learning_rate=1e-2, weight_decay=1e-4)"
   ]
  },
  {
   "cell_type": "code",
   "execution_count": 82,
   "id": "d920e9af-152c-4893-8e8f-4dafb9e2cef7",
   "metadata": {},
   "outputs": [],
   "source": [
    "# We are going to build our model with the Sequential API\n",
    "model6 = Sequential()\n",
    "\n",
    "model6.add(Embedding(total_words,      # number of words to process as input\n",
    "                    50,    # output representation\n",
    "                    input_length=len(padded_sequences[0])))    # total length of each observation\n",
    "\n",
    "model6.add(LSTM(50, return_sequences=False))\n",
    "\n",
    "model6.add(Dropout(0.2))\n",
    "\n",
    "model6.add(Dense(1, activation='sigmoid')) \n",
    "\n",
    "model6.compile(optimizer= adamw_optimizer, loss='binary_crossentropy', metrics=['accuracy'])"
   ]
  },
  {
   "cell_type": "code",
   "execution_count": 83,
   "id": "79db981e-7824-4efd-bff4-0948128875ec",
   "metadata": {},
   "outputs": [
    {
     "name": "stdout",
     "output_type": "stream",
     "text": [
      "Epoch 1/10\n",
      "57/57 [==============================] - 3s 22ms/step - loss: 0.6932 - accuracy: 0.5025 - val_loss: 0.6926 - val_accuracy: 0.5319\n",
      "Epoch 2/10\n",
      "57/57 [==============================] - 1s 14ms/step - loss: 0.6921 - accuracy: 0.5713 - val_loss: 0.6922 - val_accuracy: 0.5582\n",
      "Epoch 3/10\n",
      "57/57 [==============================] - 1s 14ms/step - loss: 0.6909 - accuracy: 0.6037 - val_loss: 0.6917 - val_accuracy: 0.5758\n",
      "Epoch 4/10\n",
      "57/57 [==============================] - 1s 13ms/step - loss: 0.6891 - accuracy: 0.6621 - val_loss: 0.6910 - val_accuracy: 0.6022\n",
      "Epoch 5/10\n",
      "57/57 [==============================] - 1s 13ms/step - loss: 0.6865 - accuracy: 0.7105 - val_loss: 0.6894 - val_accuracy: 0.6132\n",
      "Epoch 6/10\n",
      "57/57 [==============================] - 1s 15ms/step - loss: 0.6822 - accuracy: 0.7270 - val_loss: 0.6869 - val_accuracy: 0.6220\n",
      "Epoch 7/10\n",
      "57/57 [==============================] - 1s 15ms/step - loss: 0.6737 - accuracy: 0.7149 - val_loss: 0.6814 - val_accuracy: 0.6176\n",
      "Epoch 8/10\n",
      "57/57 [==============================] - 1s 14ms/step - loss: 0.6567 - accuracy: 0.7485 - val_loss: 0.6709 - val_accuracy: 0.6264\n",
      "Epoch 9/10\n",
      "57/57 [==============================] - 1s 13ms/step - loss: 0.6228 - accuracy: 0.7248 - val_loss: 0.6569 - val_accuracy: 0.6088\n",
      "Epoch 10/10\n",
      "57/57 [==============================] - 1s 14ms/step - loss: 0.5862 - accuracy: 0.7485 - val_loss: 0.6546 - val_accuracy: 0.6593\n"
     ]
    }
   ],
   "source": [
    "hist6 = model6.fit(X_train, y_train, epochs=10, validation_data = (X_val, y_val), callbacks=[early_stopping])"
   ]
  },
  {
   "cell_type": "code",
   "execution_count": 84,
   "id": "9e897c3b-d740-4cbf-b51a-1fb2e23c21e6",
   "metadata": {},
   "outputs": [
    {
     "data": {
      "text/plain": [
       "[<matplotlib.lines.Line2D at 0x27ff21441f0>]"
      ]
     },
     "execution_count": 84,
     "metadata": {},
     "output_type": "execute_result"
    },
    {
     "data": {
      "image/png": "[encoded data removed]",
      "text/plain": [
       "<Figure size 640x480 with 1 Axes>"
      ]
     },
     "metadata": {},
     "output_type": "display_data"
    }
   ],
   "source": [
    "plt.plot(hist6.history['loss'])\n",
    "plt.plot(hist6.history['accuracy'])"
   ]
  },
  {
   "cell_type": "code",
   "execution_count": 85,
   "id": "d2eb59d5-4120-4dc6-94ce-bda45f2637c8",
   "metadata": {},
   "outputs": [
    {
     "name": "stdout",
     "output_type": "stream",
     "text": [
      "18/18 [==============================] - 0s 5ms/step - loss: 0.6555 - accuracy: 0.6021\n"
     ]
    }
   ],
   "source": [
    "loss, accuracy = model6.evaluate(X_test, y_test)"
   ]
  },
  {
   "cell_type": "markdown",
   "id": "270502ed-4e32-4e7e-833e-d9fbb2ba2609",
   "metadata": {},
   "source": [
    "### MODEL 7"
   ]
  },
  {
   "cell_type": "code",
   "execution_count": 75,
   "id": "13685637-4be9-4ef7-9582-437f525729ec",
   "metadata": {},
   "outputs": [],
   "source": [
    "from tensorflow.keras.optimizers import Adamax"
   ]
  },
  {
   "cell_type": "code",
   "execution_count": 76,
   "id": "a3c5f572-4993-43d2-ad3d-2273ff5f4924",
   "metadata": {},
   "outputs": [],
   "source": [
    "adamax_opt = Adamax(learning_rate = 0.001)"
   ]
  },
  {
   "cell_type": "code",
   "execution_count": 77,
   "id": "1d0755d9-f5e0-4225-aafe-85cebb0b86bd",
   "metadata": {},
   "outputs": [],
   "source": [
    "# We are going to build our model with the Sequential API\n",
    "model7 = Sequential()\n",
    "\n",
    "model7.add(Embedding(total_words,      # number of words to process as input\n",
    "                    100,    # output representation\n",
    "                    input_length=len(padded_sequences[0])))    # total length of each observation\n",
    "\n",
    "model7.add(LSTM(100, return_sequences=False))\n",
    "#model7.add(Bidirectional(LSTM(100, return_sequences=False)))\n",
    "\n",
    "model7.add(Dropout(0.2))\n",
    "\n",
    "model7.add(Dense(1, activation='sigmoid')) \n",
    "\n",
    "model7.compile(optimizer= adamax_opt, loss='binary_crossentropy', metrics=['accuracy'])"
   ]
  },
  {
   "cell_type": "code",
   "execution_count": 78,
   "id": "3164b5e2-6f60-4381-b009-10f0ba322400",
   "metadata": {},
   "outputs": [
    {
     "name": "stdout",
     "output_type": "stream",
     "text": [
      "Epoch 1/50\n",
      "57/57 [==============================] - 3s 21ms/step - loss: 0.6912 - accuracy: 0.5157 - val_loss: 0.6902 - val_accuracy: 0.5033\n",
      "Epoch 2/50\n",
      "57/57 [==============================] - 1s 13ms/step - loss: 0.6240 - accuracy: 0.6912 - val_loss: 0.6372 - val_accuracy: 0.6484\n",
      "Epoch 3/50\n",
      "57/57 [==============================] - 1s 13ms/step - loss: 0.4874 - accuracy: 0.7716 - val_loss: 0.6341 - val_accuracy: 0.6637\n",
      "Epoch 4/50\n",
      "57/57 [==============================] - 1s 13ms/step - loss: 0.3727 - accuracy: 0.8316 - val_loss: 0.7092 - val_accuracy: 0.6549\n",
      "Epoch 5/50\n",
      "57/57 [==============================] - 1s 13ms/step - loss: 0.2672 - accuracy: 0.8872 - val_loss: 0.8070 - val_accuracy: 0.6220\n",
      "Epoch 6/50\n",
      "57/57 [==============================] - 1s 14ms/step - loss: 0.1772 - accuracy: 0.9334 - val_loss: 1.0468 - val_accuracy: 0.6154\n"
     ]
    }
   ],
   "source": [
    "hist7 = model7.fit(X_train, y_train, epochs=50, validation_data = (X_val, y_val), callbacks=[early_stopping])"
   ]
  },
  {
   "cell_type": "code",
   "execution_count": 79,
   "id": "22455ee2-02c5-4f5e-a89b-1dedb7f12c6c",
   "metadata": {},
   "outputs": [
    {
     "data": {
      "text/plain": [
       "[<matplotlib.lines.Line2D at 0x176749859f0>]"
      ]
     },
     "execution_count": 79,
     "metadata": {},
     "output_type": "execute_result"
    },
    {
     "data": {
      "image/png": "[encoded data removed]",
      "text/plain": [
       "<Figure size 640x480 with 1 Axes>"
      ]
     },
     "metadata": {},
     "output_type": "display_data"
    }
   ],
   "source": [
    "plt.plot(hist7.history['loss'])\n",
    "plt.plot(hist7.history['accuracy'])"
   ]
  },
  {
   "cell_type": "code",
   "execution_count": 80,
   "id": "132c5b07-c2cf-4f14-9c9e-324cfb78e08f",
   "metadata": {},
   "outputs": [
    {
     "name": "stdout",
     "output_type": "stream",
     "text": [
      "18/18 [==============================] - 0s 4ms/step - loss: 0.6526 - accuracy: 0.6479\n"
     ]
    }
   ],
   "source": [
    "loss, accuracy = model7.evaluate(X_test, y_test)"
   ]
  },
  {
   "cell_type": "markdown",
   "id": "5836f2d4-60fa-4c12-b386-699948932725",
   "metadata": {},
   "source": [
    "### Model 8"
   ]
  },
  {
   "cell_type": "code",
   "execution_count": 143,
   "id": "5c43e557-80ba-4ddf-afce-11c0ae5b322f",
   "metadata": {},
   "outputs": [],
   "source": [
    "from tensorflow.keras.optimizers import Nadam"
   ]
  },
  {
   "cell_type": "code",
   "execution_count": 144,
   "id": "2b01a399-3384-4723-9711-4fc888682fac",
   "metadata": {},
   "outputs": [],
   "source": [
    "nadam_opt = Nadam(learning_rate = 0.001)"
   ]
  },
  {
   "cell_type": "code",
   "execution_count": 145,
   "id": "5eb980b6-b721-4780-9c19-54e20fbae0bd",
   "metadata": {},
   "outputs": [],
   "source": [
    "# We are going to build our model with the Sequential API\n",
    "model8 = Sequential()\n",
    "\n",
    "model8.add(Embedding(total_words,      # number of words to process as input\n",
    "                    100,    # output representation\n",
    "                    input_length=len(padded_sequences[0])))    # total length of each observation\n",
    "\n",
    "model8.add(LSTM(100, return_sequences=False))\n",
    "\n",
    "model8.add(Dropout(0.2))\n",
    "\n",
    "model8.add(Dense(1, activation='sigmoid')) \n",
    "\n",
    "model8.compile(optimizer= nadam_opt, loss='binary_crossentropy', metrics=['accuracy'])"
   ]
  },
  {
   "cell_type": "code",
   "execution_count": 146,
   "id": "02c0ab24-bce3-47dc-a801-9e2573ab7ac3",
   "metadata": {},
   "outputs": [
    {
     "name": "stdout",
     "output_type": "stream",
     "text": [
      "Epoch 1/20\n",
      "57/57 [==============================] - 4s 29ms/step - loss: 0.6904 - accuracy: 0.5278 - val_loss: 0.6834 - val_accuracy: 0.5780\n",
      "Epoch 2/20\n",
      "57/57 [==============================] - 1s 22ms/step - loss: 0.5869 - accuracy: 0.7314 - val_loss: 0.6471 - val_accuracy: 0.6418\n",
      "Epoch 3/20\n",
      "57/57 [==============================] - 1s 21ms/step - loss: 0.3697 - accuracy: 0.8531 - val_loss: 0.7764 - val_accuracy: 0.6549\n",
      "Epoch 4/20\n",
      "57/57 [==============================] - 1s 20ms/step - loss: 0.2099 - accuracy: 0.9174 - val_loss: 0.8926 - val_accuracy: 0.6242\n",
      "Epoch 5/20\n",
      "57/57 [==============================] - 1s 18ms/step - loss: 0.1243 - accuracy: 0.9598 - val_loss: 1.3305 - val_accuracy: 0.6176\n"
     ]
    }
   ],
   "source": [
    "hist8 = model8.fit(X_train, y_train, epochs=20, validation_data = (X_val, y_val), callbacks=[early_stopping])"
   ]
  },
  {
   "cell_type": "code",
   "execution_count": 147,
   "id": "f344cb74-7fda-486e-a610-62a7eb75b16b",
   "metadata": {},
   "outputs": [
    {
     "data": {
      "text/plain": [
       "[<matplotlib.lines.Line2D at 0x27f84f370a0>]"
      ]
     },
     "execution_count": 147,
     "metadata": {},
     "output_type": "execute_result"
    },
    {
     "data": {
      "image/png": "[encoded data removed]",
      "text/plain": [
       "<Figure size 640x480 with 1 Axes>"
      ]
     },
     "metadata": {},
     "output_type": "display_data"
    }
   ],
   "source": [
    "plt.plot(hist8.history['loss'])\n",
    "plt.plot(hist8.history['accuracy'])"
   ]
  }
 ],
 "metadata": {
  "colab": {
   "provenance": []
  },
  "kernelspec": {
   "display_name": "Python 3 (ipykernel)",
   "language": "python",
   "name": "python3"
  },
  "language_info": {
   "codemirror_mode": {
    "name": "ipython",
    "version": 3
   },
   "file_extension": ".py",
   "mimetype": "text/x-python",
   "name": "python",
   "nbconvert_exporter": "python",
   "pygments_lexer": "ipython3",
   "version": "3.10.7"
  }
 },
 "nbformat": 4,
 "nbformat_minor": 5
}
