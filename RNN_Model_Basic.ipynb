{
  "cells": [
    {
      "cell_type": "markdown",
      "metadata": {
        "id": "3bduh-46OHFK"
      },
      "source": [
        "# Preprocess"
      ],
      "id": "3bduh-46OHFK"
    },
    {
      "cell_type": "code",
      "execution_count": 13,
      "metadata": {
        "id": "iUFDKHaVOHFN"
      },
      "outputs": [],
      "source": [
        "import pandas as pd"
      ],
      "id": "iUFDKHaVOHFN"
    },
    {
      "cell_type": "code",
      "execution_count": 14,
      "metadata": {
        "colab": {
          "base_uri": "https://localhost:8080/"
        },
        "id": "beLBhgRLOHFP",
        "outputId": "fe017141-8c90-4f18-d260-b91583d3e971"
      },
      "outputs": [
        {
          "output_type": "stream",
          "name": "stdout",
          "text": [
            "<class 'pandas.core.frame.DataFrame'>\n",
            "RangeIndex: 8000 entries, 0 to 7999\n",
            "Data columns (total 15 columns):\n",
            " #   Column                 Non-Null Count  Dtype  \n",
            "---  ------                 --------------  -----  \n",
            " 0   _unit_id               8000 non-null   int64  \n",
            " 1   _golden                8000 non-null   bool   \n",
            " 2   _unit_state            8000 non-null   object \n",
            " 3   _trusted_judgments     8000 non-null   int64  \n",
            " 4   _last_judgment_at      8000 non-null   object \n",
            " 5   positivity             1420 non-null   float64\n",
            " 6   positivity:confidence  3775 non-null   float64\n",
            " 7   relevance              8000 non-null   object \n",
            " 8   relevance:confidence   8000 non-null   float64\n",
            " 9   articleid              8000 non-null   object \n",
            " 10  date                   8000 non-null   object \n",
            " 11  headline               8000 non-null   object \n",
            " 12  positivity_gold        0 non-null      float64\n",
            " 13  relevance_gold         0 non-null      float64\n",
            " 14  text                   8000 non-null   object \n",
            "dtypes: bool(1), float64(5), int64(2), object(7)\n",
            "memory usage: 882.9+ KB\n"
          ]
        }
      ],
      "source": [
        "df = pd.read_csv(\"/content/US-Economic-News.csv\", delimiter=',', encoding= 'ISO-8859-1')\n",
        "\n",
        "df.info()"
      ],
      "id": "beLBhgRLOHFP"
    },
    {
      "cell_type": "code",
      "execution_count": 15,
      "metadata": {
        "colab": {
          "base_uri": "https://localhost:8080/",
          "height": 573
        },
        "id": "2pZ91v4YOHFQ",
        "outputId": "2ecb5bf5-5337-4d44-bf14-f45d0725524e"
      },
      "outputs": [
        {
          "output_type": "execute_result",
          "data": {
            "text/plain": [
              "    _unit_id  _golden _unit_state  _trusted_judgments _last_judgment_at  \\\n",
              "0  842613455    False   finalized                   3     12/5/15 17:48   \n",
              "1  842613456    False   finalized                   3     12/5/15 16:54   \n",
              "2  842613457    False   finalized                   3      12/5/15 1:59   \n",
              "3  842613458    False   finalized                   3      12/5/15 2:19   \n",
              "4  842613459    False   finalized                   3     12/5/15 17:48   \n",
              "\n",
              "   positivity  positivity:confidence relevance  relevance:confidence  \\\n",
              "0         3.0                 0.6400       yes                 0.640   \n",
              "1         NaN                    NaN        no                 1.000   \n",
              "2         NaN                    NaN        no                 1.000   \n",
              "3         NaN                 0.0000        no                 0.675   \n",
              "4         3.0                 0.3257       yes                 0.640   \n",
              "\n",
              "       articleid      date                                           headline  \\\n",
              "0  wsj_398217788   8/14/91              Yields on CDs Fell in the Latest Week   \n",
              "1  wsj_399019502   8/21/07  The Morning Brief: White House Seeks to Limit ...   \n",
              "2  wsj_398284048  11/14/91  Banking Bill Negotiators Set Compromise --- Pl...   \n",
              "3  wsj_397959018   6/16/86  Manager's Journal: Sniffing Out Drug Abusers I...   \n",
              "4  wsj_398838054   10/4/02  Currency Trading: Dollar Remains in Tight Rang...   \n",
              "\n",
              "   positivity_gold  relevance_gold  \\\n",
              "0              NaN             NaN   \n",
              "1              NaN             NaN   \n",
              "2              NaN             NaN   \n",
              "3              NaN             NaN   \n",
              "4              NaN             NaN   \n",
              "\n",
              "                                                text  \n",
              "0  NEW YORK -- Yields on most certificates of dep...  \n",
              "1  The Wall Street Journal Online</br></br>The Mo...  \n",
              "2  WASHINGTON -- In an effort to achieve banking ...  \n",
              "3  The statistics on the enormous costs of employ...  \n",
              "4  NEW YORK -- Indecision marked the dollar's ton...  "
            ],
            "text/html": [
              "\n",
              "  <div id=\"df-8b15b26b-a800-4469-a45d-baf53cd05ae1\" class=\"colab-df-container\">\n",
              "    <div>\n",
              "<style scoped>\n",
              "    .dataframe tbody tr th:only-of-type {\n",
              "        vertical-align: middle;\n",
              "    }\n",
              "\n",
              "    .dataframe tbody tr th {\n",
              "        vertical-align: top;\n",
              "    }\n",
              "\n",
              "    .dataframe thead th {\n",
              "        text-align: right;\n",
              "    }\n",
              "</style>\n",
              "<table border=\"1\" class=\"dataframe\">\n",
              "  <thead>\n",
              "    <tr style=\"text-align: right;\">\n",
              "      <th></th>\n",
              "      <th>_unit_id</th>\n",
              "      <th>_golden</th>\n",
              "      <th>_unit_state</th>\n",
              "      <th>_trusted_judgments</th>\n",
              "      <th>_last_judgment_at</th>\n",
              "      <th>positivity</th>\n",
              "      <th>positivity:confidence</th>\n",
              "      <th>relevance</th>\n",
              "      <th>relevance:confidence</th>\n",
              "      <th>articleid</th>\n",
              "      <th>date</th>\n",
              "      <th>headline</th>\n",
              "      <th>positivity_gold</th>\n",
              "      <th>relevance_gold</th>\n",
              "      <th>text</th>\n",
              "    </tr>\n",
              "  </thead>\n",
              "  <tbody>\n",
              "    <tr>\n",
              "      <th>0</th>\n",
              "      <td>842613455</td>\n",
              "      <td>False</td>\n",
              "      <td>finalized</td>\n",
              "      <td>3</td>\n",
              "      <td>12/5/15 17:48</td>\n",
              "      <td>3.0</td>\n",
              "      <td>0.6400</td>\n",
              "      <td>yes</td>\n",
              "      <td>0.640</td>\n",
              "      <td>wsj_398217788</td>\n",
              "      <td>8/14/91</td>\n",
              "      <td>Yields on CDs Fell in the Latest Week</td>\n",
              "      <td>NaN</td>\n",
              "      <td>NaN</td>\n",
              "      <td>NEW YORK -- Yields on most certificates of dep...</td>\n",
              "    </tr>\n",
              "    <tr>\n",
              "      <th>1</th>\n",
              "      <td>842613456</td>\n",
              "      <td>False</td>\n",
              "      <td>finalized</td>\n",
              "      <td>3</td>\n",
              "      <td>12/5/15 16:54</td>\n",
              "      <td>NaN</td>\n",
              "      <td>NaN</td>\n",
              "      <td>no</td>\n",
              "      <td>1.000</td>\n",
              "      <td>wsj_399019502</td>\n",
              "      <td>8/21/07</td>\n",
              "      <td>The Morning Brief: White House Seeks to Limit ...</td>\n",
              "      <td>NaN</td>\n",
              "      <td>NaN</td>\n",
              "      <td>The Wall Street Journal Online&lt;/br&gt;&lt;/br&gt;The Mo...</td>\n",
              "    </tr>\n",
              "    <tr>\n",
              "      <th>2</th>\n",
              "      <td>842613457</td>\n",
              "      <td>False</td>\n",
              "      <td>finalized</td>\n",
              "      <td>3</td>\n",
              "      <td>12/5/15 1:59</td>\n",
              "      <td>NaN</td>\n",
              "      <td>NaN</td>\n",
              "      <td>no</td>\n",
              "      <td>1.000</td>\n",
              "      <td>wsj_398284048</td>\n",
              "      <td>11/14/91</td>\n",
              "      <td>Banking Bill Negotiators Set Compromise --- Pl...</td>\n",
              "      <td>NaN</td>\n",
              "      <td>NaN</td>\n",
              "      <td>WASHINGTON -- In an effort to achieve banking ...</td>\n",
              "    </tr>\n",
              "    <tr>\n",
              "      <th>3</th>\n",
              "      <td>842613458</td>\n",
              "      <td>False</td>\n",
              "      <td>finalized</td>\n",
              "      <td>3</td>\n",
              "      <td>12/5/15 2:19</td>\n",
              "      <td>NaN</td>\n",
              "      <td>0.0000</td>\n",
              "      <td>no</td>\n",
              "      <td>0.675</td>\n",
              "      <td>wsj_397959018</td>\n",
              "      <td>6/16/86</td>\n",
              "      <td>Manager's Journal: Sniffing Out Drug Abusers I...</td>\n",
              "      <td>NaN</td>\n",
              "      <td>NaN</td>\n",
              "      <td>The statistics on the enormous costs of employ...</td>\n",
              "    </tr>\n",
              "    <tr>\n",
              "      <th>4</th>\n",
              "      <td>842613459</td>\n",
              "      <td>False</td>\n",
              "      <td>finalized</td>\n",
              "      <td>3</td>\n",
              "      <td>12/5/15 17:48</td>\n",
              "      <td>3.0</td>\n",
              "      <td>0.3257</td>\n",
              "      <td>yes</td>\n",
              "      <td>0.640</td>\n",
              "      <td>wsj_398838054</td>\n",
              "      <td>10/4/02</td>\n",
              "      <td>Currency Trading: Dollar Remains in Tight Rang...</td>\n",
              "      <td>NaN</td>\n",
              "      <td>NaN</td>\n",
              "      <td>NEW YORK -- Indecision marked the dollar's ton...</td>\n",
              "    </tr>\n",
              "  </tbody>\n",
              "</table>\n",
              "</div>\n",
              "    <div class=\"colab-df-buttons\">\n",
              "\n",
              "  <div class=\"colab-df-container\">\n",
              "    <button class=\"colab-df-convert\" onclick=\"convertToInteractive('df-8b15b26b-a800-4469-a45d-baf53cd05ae1')\"\n",
              "            title=\"Convert this dataframe to an interactive table.\"\n",
              "            style=\"display:none;\">\n",
              "\n",
              "  <svg xmlns=\"http://www.w3.org/2000/svg\" height=\"24px\" viewBox=\"0 -960 960 960\">\n",
              "    <path d=\"M120-120v-720h720v720H120Zm60-500h600v-160H180v160Zm220 220h160v-160H400v160Zm0 220h160v-160H400v160ZM180-400h160v-160H180v160Zm440 0h160v-160H620v160ZM180-180h160v-160H180v160Zm440 0h160v-160H620v160Z\"/>\n",
              "  </svg>\n",
              "    </button>\n",
              "\n",
              "  <style>\n",
              "    .colab-df-container {\n",
              "      display:flex;\n",
              "      gap: 12px;\n",
              "    }\n",
              "\n",
              "    .colab-df-convert {\n",
              "      background-color: #E8F0FE;\n",
              "      border: none;\n",
              "      border-radius: 50%;\n",
              "      cursor: pointer;\n",
              "      display: none;\n",
              "      fill: #1967D2;\n",
              "      height: 32px;\n",
              "      padding: 0 0 0 0;\n",
              "      width: 32px;\n",
              "    }\n",
              "\n",
              "    .colab-df-convert:hover {\n",
              "      background-color: #E2EBFA;\n",
              "      box-shadow: 0px 1px 2px rgba(60, 64, 67, 0.3), 0px 1px 3px 1px rgba(60, 64, 67, 0.15);\n",
              "      fill: #174EA6;\n",
              "    }\n",
              "\n",
              "    .colab-df-buttons div {\n",
              "      margin-bottom: 4px;\n",
              "    }\n",
              "\n",
              "    [theme=dark] .colab-df-convert {\n",
              "      background-color: #3B4455;\n",
              "      fill: #D2E3FC;\n",
              "    }\n",
              "\n",
              "    [theme=dark] .colab-df-convert:hover {\n",
              "      background-color: #434B5C;\n",
              "      box-shadow: 0px 1px 3px 1px rgba(0, 0, 0, 0.15);\n",
              "      filter: drop-shadow(0px 1px 2px rgba(0, 0, 0, 0.3));\n",
              "      fill: #FFFFFF;\n",
              "    }\n",
              "  </style>\n",
              "\n",
              "    <script>\n",
              "      const buttonEl =\n",
              "        document.querySelector('#df-8b15b26b-a800-4469-a45d-baf53cd05ae1 button.colab-df-convert');\n",
              "      buttonEl.style.display =\n",
              "        google.colab.kernel.accessAllowed ? 'block' : 'none';\n",
              "\n",
              "      async function convertToInteractive(key) {\n",
              "        const element = document.querySelector('#df-8b15b26b-a800-4469-a45d-baf53cd05ae1');\n",
              "        const dataTable =\n",
              "          await google.colab.kernel.invokeFunction('convertToInteractive',\n",
              "                                                    [key], {});\n",
              "        if (!dataTable) return;\n",
              "\n",
              "        const docLinkHtml = 'Like what you see? Visit the ' +\n",
              "          '<a target=\"_blank\" href=https://colab.research.google.com/notebooks/data_table.ipynb>data table notebook</a>'\n",
              "          + ' to learn more about interactive tables.';\n",
              "        element.innerHTML = '';\n",
              "        dataTable['output_type'] = 'display_data';\n",
              "        await google.colab.output.renderOutput(dataTable, element);\n",
              "        const docLink = document.createElement('div');\n",
              "        docLink.innerHTML = docLinkHtml;\n",
              "        element.appendChild(docLink);\n",
              "      }\n",
              "    </script>\n",
              "  </div>\n",
              "\n",
              "\n",
              "<div id=\"df-666a0ac1-275d-4391-9f6c-bad2a23b9eb2\">\n",
              "  <button class=\"colab-df-quickchart\" onclick=\"quickchart('df-666a0ac1-275d-4391-9f6c-bad2a23b9eb2')\"\n",
              "            title=\"Suggest charts\"\n",
              "            style=\"display:none;\">\n",
              "\n",
              "<svg xmlns=\"http://www.w3.org/2000/svg\" height=\"24px\"viewBox=\"0 0 24 24\"\n",
              "     width=\"24px\">\n",
              "    <g>\n",
              "        <path d=\"M19 3H5c-1.1 0-2 .9-2 2v14c0 1.1.9 2 2 2h14c1.1 0 2-.9 2-2V5c0-1.1-.9-2-2-2zM9 17H7v-7h2v7zm4 0h-2V7h2v10zm4 0h-2v-4h2v4z\"/>\n",
              "    </g>\n",
              "</svg>\n",
              "  </button>\n",
              "\n",
              "<style>\n",
              "  .colab-df-quickchart {\n",
              "      --bg-color: #E8F0FE;\n",
              "      --fill-color: #1967D2;\n",
              "      --hover-bg-color: #E2EBFA;\n",
              "      --hover-fill-color: #174EA6;\n",
              "      --disabled-fill-color: #AAA;\n",
              "      --disabled-bg-color: #DDD;\n",
              "  }\n",
              "\n",
              "  [theme=dark] .colab-df-quickchart {\n",
              "      --bg-color: #3B4455;\n",
              "      --fill-color: #D2E3FC;\n",
              "      --hover-bg-color: #434B5C;\n",
              "      --hover-fill-color: #FFFFFF;\n",
              "      --disabled-bg-color: #3B4455;\n",
              "      --disabled-fill-color: #666;\n",
              "  }\n",
              "\n",
              "  .colab-df-quickchart {\n",
              "    background-color: var(--bg-color);\n",
              "    border: none;\n",
              "    border-radius: 50%;\n",
              "    cursor: pointer;\n",
              "    display: none;\n",
              "    fill: var(--fill-color);\n",
              "    height: 32px;\n",
              "    padding: 0;\n",
              "    width: 32px;\n",
              "  }\n",
              "\n",
              "  .colab-df-quickchart:hover {\n",
              "    background-color: var(--hover-bg-color);\n",
              "    box-shadow: 0 1px 2px rgba(60, 64, 67, 0.3), 0 1px 3px 1px rgba(60, 64, 67, 0.15);\n",
              "    fill: var(--button-hover-fill-color);\n",
              "  }\n",
              "\n",
              "  .colab-df-quickchart-complete:disabled,\n",
              "  .colab-df-quickchart-complete:disabled:hover {\n",
              "    background-color: var(--disabled-bg-color);\n",
              "    fill: var(--disabled-fill-color);\n",
              "    box-shadow: none;\n",
              "  }\n",
              "\n",
              "  .colab-df-spinner {\n",
              "    border: 2px solid var(--fill-color);\n",
              "    border-color: transparent;\n",
              "    border-bottom-color: var(--fill-color);\n",
              "    animation:\n",
              "      spin 1s steps(1) infinite;\n",
              "  }\n",
              "\n",
              "  @keyframes spin {\n",
              "    0% {\n",
              "      border-color: transparent;\n",
              "      border-bottom-color: var(--fill-color);\n",
              "      border-left-color: var(--fill-color);\n",
              "    }\n",
              "    20% {\n",
              "      border-color: transparent;\n",
              "      border-left-color: var(--fill-color);\n",
              "      border-top-color: var(--fill-color);\n",
              "    }\n",
              "    30% {\n",
              "      border-color: transparent;\n",
              "      border-left-color: var(--fill-color);\n",
              "      border-top-color: var(--fill-color);\n",
              "      border-right-color: var(--fill-color);\n",
              "    }\n",
              "    40% {\n",
              "      border-color: transparent;\n",
              "      border-right-color: var(--fill-color);\n",
              "      border-top-color: var(--fill-color);\n",
              "    }\n",
              "    60% {\n",
              "      border-color: transparent;\n",
              "      border-right-color: var(--fill-color);\n",
              "    }\n",
              "    80% {\n",
              "      border-color: transparent;\n",
              "      border-right-color: var(--fill-color);\n",
              "      border-bottom-color: var(--fill-color);\n",
              "    }\n",
              "    90% {\n",
              "      border-color: transparent;\n",
              "      border-bottom-color: var(--fill-color);\n",
              "    }\n",
              "  }\n",
              "</style>\n",
              "\n",
              "  <script>\n",
              "    async function quickchart(key) {\n",
              "      const quickchartButtonEl =\n",
              "        document.querySelector('#' + key + ' button');\n",
              "      quickchartButtonEl.disabled = true;  // To prevent multiple clicks.\n",
              "      quickchartButtonEl.classList.add('colab-df-spinner');\n",
              "      try {\n",
              "        const charts = await google.colab.kernel.invokeFunction(\n",
              "            'suggestCharts', [key], {});\n",
              "      } catch (error) {\n",
              "        console.error('Error during call to suggestCharts:', error);\n",
              "      }\n",
              "      quickchartButtonEl.classList.remove('colab-df-spinner');\n",
              "      quickchartButtonEl.classList.add('colab-df-quickchart-complete');\n",
              "    }\n",
              "    (() => {\n",
              "      let quickchartButtonEl =\n",
              "        document.querySelector('#df-666a0ac1-275d-4391-9f6c-bad2a23b9eb2 button');\n",
              "      quickchartButtonEl.style.display =\n",
              "        google.colab.kernel.accessAllowed ? 'block' : 'none';\n",
              "    })();\n",
              "  </script>\n",
              "</div>\n",
              "    </div>\n",
              "  </div>\n"
            ]
          },
          "metadata": {},
          "execution_count": 15
        }
      ],
      "source": [
        "df.head(5)"
      ],
      "id": "2pZ91v4YOHFQ"
    },
    {
      "cell_type": "code",
      "execution_count": 16,
      "metadata": {
        "id": "6dfFHenMOHFQ"
      },
      "outputs": [],
      "source": [
        "# tengo que agarrar y cambiar los dtype de las variables con encoding\n",
        "# drop positivity gold and relevance gold\n",
        "# positivity and ::confidence, have very sparse values\n",
        "# _unit_state has only the finalized observation and golden the False observation, and trusted judgments only observation '3'\n",
        "\n",
        "df = df.drop(columns = ['_unit_id', 'positivity_gold', 'relevance_gold', '_unit_state', '_golden', '_trusted_judgments',\n",
        "                         '_unit_state', '_last_judgment_at', 'positivity', 'positivity:confidence', 'relevance:confidence', 'articleid',\n",
        "                       'date'], axis = 1)\n",
        "\n",
        "#df['articleid'] = df['articleid'].str.slice(0, 3)\n",
        "# so far, these variables SHOULD be dropped for sure as well as unit id and article id\n",
        "# should discuss between the positivity and positivity confidence due to amount of null values"
      ],
      "id": "6dfFHenMOHFQ"
    },
    {
      "cell_type": "code",
      "execution_count": 17,
      "metadata": {
        "colab": {
          "base_uri": "https://localhost:8080/",
          "height": 206
        },
        "id": "oRrzx8WvOHFR",
        "outputId": "7b9c6dd5-8a57-47a0-9c63-72bac3ab1bea"
      },
      "outputs": [
        {
          "output_type": "execute_result",
          "data": {
            "text/plain": [
              "  relevance                                           headline  \\\n",
              "0       yes              Yields on CDs Fell in the Latest Week   \n",
              "1        no  The Morning Brief: White House Seeks to Limit ...   \n",
              "2        no  Banking Bill Negotiators Set Compromise --- Pl...   \n",
              "3        no  Manager's Journal: Sniffing Out Drug Abusers I...   \n",
              "4       yes  Currency Trading: Dollar Remains in Tight Rang...   \n",
              "\n",
              "                                                text  \n",
              "0  NEW YORK -- Yields on most certificates of dep...  \n",
              "1  The Wall Street Journal Online</br></br>The Mo...  \n",
              "2  WASHINGTON -- In an effort to achieve banking ...  \n",
              "3  The statistics on the enormous costs of employ...  \n",
              "4  NEW YORK -- Indecision marked the dollar's ton...  "
            ],
            "text/html": [
              "\n",
              "  <div id=\"df-cde1a695-37a9-4d8f-9313-488fa02261aa\" class=\"colab-df-container\">\n",
              "    <div>\n",
              "<style scoped>\n",
              "    .dataframe tbody tr th:only-of-type {\n",
              "        vertical-align: middle;\n",
              "    }\n",
              "\n",
              "    .dataframe tbody tr th {\n",
              "        vertical-align: top;\n",
              "    }\n",
              "\n",
              "    .dataframe thead th {\n",
              "        text-align: right;\n",
              "    }\n",
              "</style>\n",
              "<table border=\"1\" class=\"dataframe\">\n",
              "  <thead>\n",
              "    <tr style=\"text-align: right;\">\n",
              "      <th></th>\n",
              "      <th>relevance</th>\n",
              "      <th>headline</th>\n",
              "      <th>text</th>\n",
              "    </tr>\n",
              "  </thead>\n",
              "  <tbody>\n",
              "    <tr>\n",
              "      <th>0</th>\n",
              "      <td>yes</td>\n",
              "      <td>Yields on CDs Fell in the Latest Week</td>\n",
              "      <td>NEW YORK -- Yields on most certificates of dep...</td>\n",
              "    </tr>\n",
              "    <tr>\n",
              "      <th>1</th>\n",
              "      <td>no</td>\n",
              "      <td>The Morning Brief: White House Seeks to Limit ...</td>\n",
              "      <td>The Wall Street Journal Online&lt;/br&gt;&lt;/br&gt;The Mo...</td>\n",
              "    </tr>\n",
              "    <tr>\n",
              "      <th>2</th>\n",
              "      <td>no</td>\n",
              "      <td>Banking Bill Negotiators Set Compromise --- Pl...</td>\n",
              "      <td>WASHINGTON -- In an effort to achieve banking ...</td>\n",
              "    </tr>\n",
              "    <tr>\n",
              "      <th>3</th>\n",
              "      <td>no</td>\n",
              "      <td>Manager's Journal: Sniffing Out Drug Abusers I...</td>\n",
              "      <td>The statistics on the enormous costs of employ...</td>\n",
              "    </tr>\n",
              "    <tr>\n",
              "      <th>4</th>\n",
              "      <td>yes</td>\n",
              "      <td>Currency Trading: Dollar Remains in Tight Rang...</td>\n",
              "      <td>NEW YORK -- Indecision marked the dollar's ton...</td>\n",
              "    </tr>\n",
              "  </tbody>\n",
              "</table>\n",
              "</div>\n",
              "    <div class=\"colab-df-buttons\">\n",
              "\n",
              "  <div class=\"colab-df-container\">\n",
              "    <button class=\"colab-df-convert\" onclick=\"convertToInteractive('df-cde1a695-37a9-4d8f-9313-488fa02261aa')\"\n",
              "            title=\"Convert this dataframe to an interactive table.\"\n",
              "            style=\"display:none;\">\n",
              "\n",
              "  <svg xmlns=\"http://www.w3.org/2000/svg\" height=\"24px\" viewBox=\"0 -960 960 960\">\n",
              "    <path d=\"M120-120v-720h720v720H120Zm60-500h600v-160H180v160Zm220 220h160v-160H400v160Zm0 220h160v-160H400v160ZM180-400h160v-160H180v160Zm440 0h160v-160H620v160ZM180-180h160v-160H180v160Zm440 0h160v-160H620v160Z\"/>\n",
              "  </svg>\n",
              "    </button>\n",
              "\n",
              "  <style>\n",
              "    .colab-df-container {\n",
              "      display:flex;\n",
              "      gap: 12px;\n",
              "    }\n",
              "\n",
              "    .colab-df-convert {\n",
              "      background-color: #E8F0FE;\n",
              "      border: none;\n",
              "      border-radius: 50%;\n",
              "      cursor: pointer;\n",
              "      display: none;\n",
              "      fill: #1967D2;\n",
              "      height: 32px;\n",
              "      padding: 0 0 0 0;\n",
              "      width: 32px;\n",
              "    }\n",
              "\n",
              "    .colab-df-convert:hover {\n",
              "      background-color: #E2EBFA;\n",
              "      box-shadow: 0px 1px 2px rgba(60, 64, 67, 0.3), 0px 1px 3px 1px rgba(60, 64, 67, 0.15);\n",
              "      fill: #174EA6;\n",
              "    }\n",
              "\n",
              "    .colab-df-buttons div {\n",
              "      margin-bottom: 4px;\n",
              "    }\n",
              "\n",
              "    [theme=dark] .colab-df-convert {\n",
              "      background-color: #3B4455;\n",
              "      fill: #D2E3FC;\n",
              "    }\n",
              "\n",
              "    [theme=dark] .colab-df-convert:hover {\n",
              "      background-color: #434B5C;\n",
              "      box-shadow: 0px 1px 3px 1px rgba(0, 0, 0, 0.15);\n",
              "      filter: drop-shadow(0px 1px 2px rgba(0, 0, 0, 0.3));\n",
              "      fill: #FFFFFF;\n",
              "    }\n",
              "  </style>\n",
              "\n",
              "    <script>\n",
              "      const buttonEl =\n",
              "        document.querySelector('#df-cde1a695-37a9-4d8f-9313-488fa02261aa button.colab-df-convert');\n",
              "      buttonEl.style.display =\n",
              "        google.colab.kernel.accessAllowed ? 'block' : 'none';\n",
              "\n",
              "      async function convertToInteractive(key) {\n",
              "        const element = document.querySelector('#df-cde1a695-37a9-4d8f-9313-488fa02261aa');\n",
              "        const dataTable =\n",
              "          await google.colab.kernel.invokeFunction('convertToInteractive',\n",
              "                                                    [key], {});\n",
              "        if (!dataTable) return;\n",
              "\n",
              "        const docLinkHtml = 'Like what you see? Visit the ' +\n",
              "          '<a target=\"_blank\" href=https://colab.research.google.com/notebooks/data_table.ipynb>data table notebook</a>'\n",
              "          + ' to learn more about interactive tables.';\n",
              "        element.innerHTML = '';\n",
              "        dataTable['output_type'] = 'display_data';\n",
              "        await google.colab.output.renderOutput(dataTable, element);\n",
              "        const docLink = document.createElement('div');\n",
              "        docLink.innerHTML = docLinkHtml;\n",
              "        element.appendChild(docLink);\n",
              "      }\n",
              "    </script>\n",
              "  </div>\n",
              "\n",
              "\n",
              "<div id=\"df-38d8e4ff-3222-4619-bf02-1bfb1efb0770\">\n",
              "  <button class=\"colab-df-quickchart\" onclick=\"quickchart('df-38d8e4ff-3222-4619-bf02-1bfb1efb0770')\"\n",
              "            title=\"Suggest charts\"\n",
              "            style=\"display:none;\">\n",
              "\n",
              "<svg xmlns=\"http://www.w3.org/2000/svg\" height=\"24px\"viewBox=\"0 0 24 24\"\n",
              "     width=\"24px\">\n",
              "    <g>\n",
              "        <path d=\"M19 3H5c-1.1 0-2 .9-2 2v14c0 1.1.9 2 2 2h14c1.1 0 2-.9 2-2V5c0-1.1-.9-2-2-2zM9 17H7v-7h2v7zm4 0h-2V7h2v10zm4 0h-2v-4h2v4z\"/>\n",
              "    </g>\n",
              "</svg>\n",
              "  </button>\n",
              "\n",
              "<style>\n",
              "  .colab-df-quickchart {\n",
              "      --bg-color: #E8F0FE;\n",
              "      --fill-color: #1967D2;\n",
              "      --hover-bg-color: #E2EBFA;\n",
              "      --hover-fill-color: #174EA6;\n",
              "      --disabled-fill-color: #AAA;\n",
              "      --disabled-bg-color: #DDD;\n",
              "  }\n",
              "\n",
              "  [theme=dark] .colab-df-quickchart {\n",
              "      --bg-color: #3B4455;\n",
              "      --fill-color: #D2E3FC;\n",
              "      --hover-bg-color: #434B5C;\n",
              "      --hover-fill-color: #FFFFFF;\n",
              "      --disabled-bg-color: #3B4455;\n",
              "      --disabled-fill-color: #666;\n",
              "  }\n",
              "\n",
              "  .colab-df-quickchart {\n",
              "    background-color: var(--bg-color);\n",
              "    border: none;\n",
              "    border-radius: 50%;\n",
              "    cursor: pointer;\n",
              "    display: none;\n",
              "    fill: var(--fill-color);\n",
              "    height: 32px;\n",
              "    padding: 0;\n",
              "    width: 32px;\n",
              "  }\n",
              "\n",
              "  .colab-df-quickchart:hover {\n",
              "    background-color: var(--hover-bg-color);\n",
              "    box-shadow: 0 1px 2px rgba(60, 64, 67, 0.3), 0 1px 3px 1px rgba(60, 64, 67, 0.15);\n",
              "    fill: var(--button-hover-fill-color);\n",
              "  }\n",
              "\n",
              "  .colab-df-quickchart-complete:disabled,\n",
              "  .colab-df-quickchart-complete:disabled:hover {\n",
              "    background-color: var(--disabled-bg-color);\n",
              "    fill: var(--disabled-fill-color);\n",
              "    box-shadow: none;\n",
              "  }\n",
              "\n",
              "  .colab-df-spinner {\n",
              "    border: 2px solid var(--fill-color);\n",
              "    border-color: transparent;\n",
              "    border-bottom-color: var(--fill-color);\n",
              "    animation:\n",
              "      spin 1s steps(1) infinite;\n",
              "  }\n",
              "\n",
              "  @keyframes spin {\n",
              "    0% {\n",
              "      border-color: transparent;\n",
              "      border-bottom-color: var(--fill-color);\n",
              "      border-left-color: var(--fill-color);\n",
              "    }\n",
              "    20% {\n",
              "      border-color: transparent;\n",
              "      border-left-color: var(--fill-color);\n",
              "      border-top-color: var(--fill-color);\n",
              "    }\n",
              "    30% {\n",
              "      border-color: transparent;\n",
              "      border-left-color: var(--fill-color);\n",
              "      border-top-color: var(--fill-color);\n",
              "      border-right-color: var(--fill-color);\n",
              "    }\n",
              "    40% {\n",
              "      border-color: transparent;\n",
              "      border-right-color: var(--fill-color);\n",
              "      border-top-color: var(--fill-color);\n",
              "    }\n",
              "    60% {\n",
              "      border-color: transparent;\n",
              "      border-right-color: var(--fill-color);\n",
              "    }\n",
              "    80% {\n",
              "      border-color: transparent;\n",
              "      border-right-color: var(--fill-color);\n",
              "      border-bottom-color: var(--fill-color);\n",
              "    }\n",
              "    90% {\n",
              "      border-color: transparent;\n",
              "      border-bottom-color: var(--fill-color);\n",
              "    }\n",
              "  }\n",
              "</style>\n",
              "\n",
              "  <script>\n",
              "    async function quickchart(key) {\n",
              "      const quickchartButtonEl =\n",
              "        document.querySelector('#' + key + ' button');\n",
              "      quickchartButtonEl.disabled = true;  // To prevent multiple clicks.\n",
              "      quickchartButtonEl.classList.add('colab-df-spinner');\n",
              "      try {\n",
              "        const charts = await google.colab.kernel.invokeFunction(\n",
              "            'suggestCharts', [key], {});\n",
              "      } catch (error) {\n",
              "        console.error('Error during call to suggestCharts:', error);\n",
              "      }\n",
              "      quickchartButtonEl.classList.remove('colab-df-spinner');\n",
              "      quickchartButtonEl.classList.add('colab-df-quickchart-complete');\n",
              "    }\n",
              "    (() => {\n",
              "      let quickchartButtonEl =\n",
              "        document.querySelector('#df-38d8e4ff-3222-4619-bf02-1bfb1efb0770 button');\n",
              "      quickchartButtonEl.style.display =\n",
              "        google.colab.kernel.accessAllowed ? 'block' : 'none';\n",
              "    })();\n",
              "  </script>\n",
              "</div>\n",
              "    </div>\n",
              "  </div>\n"
            ]
          },
          "metadata": {},
          "execution_count": 17
        }
      ],
      "source": [
        "df.head(5)"
      ],
      "id": "oRrzx8WvOHFR"
    },
    {
      "cell_type": "markdown",
      "metadata": {
        "id": "jK-dXnQAOHFR"
      },
      "source": [
        "Cleaning Strings"
      ],
      "id": "jK-dXnQAOHFR"
    },
    {
      "cell_type": "code",
      "execution_count": 18,
      "metadata": {
        "id": "kS0pN2EEOHFS"
      },
      "outputs": [],
      "source": [
        "#!pip install nltk"
      ],
      "id": "kS0pN2EEOHFS"
    },
    {
      "cell_type": "code",
      "execution_count": 19,
      "metadata": {
        "id": "fpS1zR46OHFS"
      },
      "outputs": [],
      "source": [
        "import numpy as np\n",
        "import re\n",
        "import nltk\n",
        "from nltk.corpus import stopwords\n",
        "from nltk.tokenize import word_tokenize\n",
        "from nltk.stem import WordNetLemmatizer"
      ],
      "id": "fpS1zR46OHFS"
    },
    {
      "cell_type": "code",
      "execution_count": 27,
      "metadata": {
        "colab": {
          "base_uri": "https://localhost:8080/"
        },
        "id": "T8bYfqW0OHFS",
        "outputId": "0e457b24-c049-4984-ed6b-29f344f613b0"
      },
      "outputs": [
        {
          "output_type": "stream",
          "name": "stderr",
          "text": [
            "[nltk_data] Downloading package punkt to /root/nltk_data...\n",
            "[nltk_data]   Unzipping tokenizers/punkt.zip.\n",
            "[nltk_data] Downloading package stopwords to /root/nltk_data...\n",
            "[nltk_data]   Unzipping corpora/stopwords.zip.\n",
            "[nltk_data] Downloading package wordnet to /root/nltk_data...\n"
          ]
        },
        {
          "output_type": "execute_result",
          "data": {
            "text/plain": [
              "True"
            ]
          },
          "metadata": {},
          "execution_count": 27
        }
      ],
      "source": [
        "# #Ensure you have downloaded the necessary NLTK data\n",
        "nltk.download('punkt')\n",
        "nltk.download('stopwords')\n",
        "nltk.download('wordnet')"
      ],
      "id": "T8bYfqW0OHFS"
    },
    {
      "cell_type": "code",
      "execution_count": 21,
      "metadata": {
        "id": "hwsu0fkMOHFS"
      },
      "outputs": [],
      "source": [
        "df['whole_txt'] = df['headline']+ ' ' + df['text']"
      ],
      "id": "hwsu0fkMOHFS"
    },
    {
      "cell_type": "code",
      "execution_count": 22,
      "metadata": {
        "id": "tGK5t8RyOHFT"
      },
      "outputs": [],
      "source": [
        "wtxt_train = np.array(df['whole_txt'])\n"
      ],
      "id": "tGK5t8RyOHFT"
    },
    {
      "cell_type": "code",
      "execution_count": 23,
      "metadata": {
        "colab": {
          "base_uri": "https://localhost:8080/"
        },
        "id": "kPJu-IuxOHFT",
        "outputId": "38626369-0963-40be-8d89-321e151d7b9b"
      },
      "outputs": [
        {
          "output_type": "stream",
          "name": "stdout",
          "text": [
            "['Yields on CDs Fell in the Latest Week NEW YORK -- Yields on most certificates of deposit offered by major banks dropped more than a tenth of a percentage point in the latest week, reflecting the overall decline in short-term interest rates.</br></br>On small-denomination, or \"consumer,\" CDs sold directly by banks, the average yield on six-month deposits fell to 5.49% from 5.62% in the week ended yesterday, according to an 18-bank survey by Banxquote Money Markets, a Wilmington, Del., information service.</br></br>On three-month \"consumer\" deposits, the average yield sank to 5.29% from 5.42% the week before, according to Banxquote. Two banks in the Banxquote survey, Citibank in New York and CoreStates in Pennsylvania, are paying less than 5% on threemonth small-denomination CDs.</br></br>Declines were somewhat smaller on five-year consumer CDs, which eased to 7.37% from 7.45%, Banxquote said.</br></br>Yields on three-month and six-month Treasury bills sold at Monday\\'s auction plummeted more than a fifth of a percentage point from the previous week, to 5.46% and 5.63%, respectively.'\n",
            " 'The Morning Brief: White House Seeks to Limit Child Insurance Program The Wall Street Journal Online</br></br>The Morning Brief, a look at the day\\'s biggest news, is emailed to subscribers by 7 a.m. every business day. Sign up for the e-mail here.</br></br>On Friday evening, with Congress out of town on its summer recess and Americans heading into a mid-August weekend, the Bush administration sent a message to the states: The federal government will make it tougher for a national children\\'s insurance program to cover the offspring of middle-income families.</br></br>The State Children\\'s Health Insurance Program was created in 1997 to help children whose families couldn\\'t afford insurance but didn\\'t qualify for Medicaid, and administration officials tell the New York Times that the changes are aimed at returning the program to its low- income focus and assuring it didn\\'t become a replacement for private insurance. Administration point man Dennis Smith wrote to state officials saying there would be new restrictions on the District of Columbia and the 18 states -- including California and New York -- that extend or plan to extend coverage for children whose families make more than 250% of Federal poverty levels. For a family of three that 250% is $42,900, and for a family of four it\\'s $51,625. Under the new limits, a child from a family making more would have to spend one year uninsured before qualifying, and any state that wants to extend coverage would have to assure Washington that at least 95% of children eligible for SCHIP or Medicaid are enrolled in one of the programs. But as the Associated Press reports, no state can currently make such assurances.</br></br>Rachel Klein, deputy director of health policy for advocacy group Families USA, tells the AP that since many families above the 250% threshold can\\'t afford private insurance, \"the effect of this policy is to have more uninsured kids.\" Ann Clemency Kohler, deputy commissioner of human services in New Jersey, tells the Times the changes \"will cause havoc with our program and could jeopardize coverage for thousands of children.\" States have already been imposing waiting periods and taking other steps to prevent parents from moving their children from private insurance to SCHIP, which currently serves some 6.6 million children, the Washington Post notes. The administration\\'s new restrictions come as the program, which expires at the end of next month if Congress doesn\\'t reauthorize it, is the subject of a larger political fight that pits the White House against Democrats and some Republicans in Congress and state capitals.'\n",
            " \"Banking Bill Negotiators Set Compromise --- Plan to Widen Banks' Entry To Securities Business Is Dropped as Vote Nears WASHINGTON -- In an effort to achieve banking reform, Senate negotiators and the Bush administration have agreed to drop efforts to allow banks to expand further into the securities business.</br></br>The compromise is one of several the Senate Banking Committee is pursuing to remove obstacles its banking bill will face when the Senate starts voting on the measure, perhaps today. The latest version of the House banking bill also drops the administration's proposals to broaden bank entry into the securities business.</br></br>Last night, the House began its second attempt to pass a banking bill after failing last week, in part because of disagreement over how to allow banks into the securities business. The House adopted on a voice vote provisions that would replenish the bank deposit insurance fund, tighten bank regulation, trim the scope of deposit insurance, and restrict the Federal Reserve Board's ability to keep sick banks alive with loans.</br></br>But the House delayed until today a vote on an amendment to allow banks to branch nationwide and on final passage of the banking bill to give the House leadership and the administration more time to drum up support for the bill.</br></br>House Speaker Thomas Foley (D., Wash.) is working hard to win passage of the bill in the face of significant opposition from Rep. John Dingell (D., Mich.), who believes the bill should include provisions imposing stiffer regulation on banks in the securities business.\"\n",
            " ...\n",
            " \"Full Senate to vote on Bernanke; PANEL ADVANCES RENOMINATION Sharp debate hints at difficult confirmation Ben S. Bernanke cleared a key hurdle Thursday to being confirmed for a second term as Federal Reserve chairman, but the discussion and vote by a Senate committee suggested that confirmation is not a foregone conclusion.</br></br>The banking committee voted 16 to 7 to send Bernanke's nomination for another four-year term to the full Senate when his current one expires Jan. 31. While it still appears likely that Bernanke will be confirmed, the tense debate foreshadowed what could be the most controversial confirmation of a Fed chairman since at least the early 1980s, when Paul Volcker was reappointed during a deep recession.</br></br>The majority of senators argued that Bernanke deserves reappointment for his aggressive actions to contain the financial crisis and prevent an even deeper economic downturn.</br></br>But many of the votes in Bernanke's favor -- which came from four of 10 Republicans and 12 of 13 Democrats -- were accompanied by significant misgivings about the weak economy and failures by the Fed that contributed to the financial crisis. Some senators who voted to move the nomination forward did not commit to voting for his confirmation on the Senate floor.</br></br>Time could be Bernanke's enemy. The Senate is scheduled to reconvene after a holiday recess on Jan. 19, and banking committee Chairman Christopher J. Dodd (D-Conn.) expects the body will only then take up Bernanke's confirmation. That will leave just nine business days for the Senate to act before Bernanke's term expires. Sen. Bernard Sanders (I-Vt.) has said he will put a hold on the nomination, a procedural step that could delay a vote and means that Bernanke would need 60 votes to remain chairman.\"\n",
            " 'Reinventing Opportunities The White House\\'s push to contract out many federal functions presents new job opportunities for some retirement-age government workers.</br></br>Although low-seniority workers are facing layoffs, some old-timers can get $25,000 exit payments, inflation-proof pensions and new careers - maybe doing their old jobs at higher salaries - with companies assuming federal chores. Talent and contacts, not necessarily in that order, are a big plus for the middle- and top-level employees who are reinventing themselves into private-sector employees.</br></br>In the old days, B.C. (Before Clinton), a few ex-feds found happiness with Beltway Bandit companies serving Uncle Sam. But pickings were slim except for the exceptionally talented, the lucky or those who spent their final years courting a new employer. Taxpayers pay for privatization too - but costs are hidden. In some cases, the changeovers actually improve service and save money.</br></br>Federal unions fought the efforts of Presidents Nixon and Reagan to privatize. Government employment actually increased under both of them. But this time, unions have been outmaneuvered by the Clinton administration. It gave them \"partnership\" agreements - which include ringside seats as politicians carve up the bureaucracy - in return for cooperation in reinventing government.</br></br>The 1995 model of the government reinvention-mobile has fewer seats for employees. And this is before the Republicans make their cuts!'\n",
            " 'Stocks Rise On News of Auto Output: Dow Climbs 6.85 Points Auto Group ... NEW YORK. April 17-Automobile stocks put on their best show of strength tills year and helped push the stock market through another rally today.</br></br>tile \"Hig Three\\x89Ûª\\x89Ûª auto makers, all among the most active issues of the day, jumped higher after Chrysler Corp. announced it is increasing its April production quota by 7,000\\tcars. The company also said it has called off five-day shutdowns scheduled for two plants next week.</br></br>With this news to feed on\\x89ÛÓ and a strong feeling among brokers and many investors that prices have already discounted the worst of the first quarter earnings reports\\x89ÛÓthe market shot higher at the opening and maintained its thrust until active profit-taking trimmed the gains late in the day.</br></br>6.85\\tpoints to 866.59. During i the session, the Dow had climbed through the 870 level | which technicians consider the next big testing point, but the average was not able to hold on.</br></br>Despite the strong tone of the rally early in the session\\x89ÛÓ the Dow was up more than ten points at one lime and advances held a three-to-one lead over declines\\x89ÛÓvolume rose only slightly, to 9.07 million shares from Friday\\x89Ûªs 8.81 million.']\n"
          ]
        }
      ],
      "source": [
        "print(wtxt_train)"
      ],
      "id": "kPJu-IuxOHFT"
    },
    {
      "cell_type": "code",
      "execution_count": 24,
      "metadata": {
        "id": "8EX1KU3FOHFT"
      },
      "outputs": [],
      "source": [
        "for i in range(len(wtxt_train)):\n",
        "    # Deletion of non-latin alfabet signs, also numbers\n",
        "    wtxt_train[i] = re.sub(r'[^a-zA-Z]', ' ', wtxt_train[i])\n",
        "    # Removing single letter works like 'a'.\n",
        "    wtxt_train[i] = re.sub(r\"\\s+[a-zA-Z]\\s+\", ' ', wtxt_train[i])\n",
        "    # Removing double spaces\n",
        "    wtxt_train[i] = re.sub(r'\\s+', ' ', wtxt_train[i])\n",
        "    # Lower case\n",
        "    wtxt_train[i] = wtxt_train[i].lower()"
      ],
      "id": "8EX1KU3FOHFT"
    },
    {
      "cell_type": "markdown",
      "metadata": {
        "id": "OGok8jBiOHFT"
      },
      "source": [
        "Tokenization"
      ],
      "id": "OGok8jBiOHFT"
    },
    {
      "cell_type": "code",
      "execution_count": 28,
      "metadata": {
        "id": "YLC_hbBPOHFT"
      },
      "outputs": [],
      "source": [
        "for i in range(len(wtxt_train)):\n",
        "    wtxt_train[i] = word_tokenize(wtxt_train[i])"
      ],
      "id": "YLC_hbBPOHFT"
    },
    {
      "cell_type": "markdown",
      "metadata": {
        "id": "nJcjnqLHOHFT"
      },
      "source": [
        "Removing stop words"
      ],
      "id": "nJcjnqLHOHFT"
    },
    {
      "cell_type": "code",
      "execution_count": 29,
      "metadata": {
        "id": "7uoaH6INOHFT"
      },
      "outputs": [],
      "source": [
        "stop_words = set(stopwords.words('english'))\n",
        "\n",
        "for i in range(len(wtxt_train)):\n",
        "    wtxt_train[i] = [word for word in wtxt_train[i] if word not in stop_words]"
      ],
      "id": "7uoaH6INOHFT"
    },
    {
      "cell_type": "code",
      "execution_count": null,
      "metadata": {
        "id": "74Ii4vxnOHFU"
      },
      "outputs": [],
      "source": [
        "wtxt_train[0]\n",
        "# stop_words"
      ],
      "id": "74Ii4vxnOHFU"
    },
    {
      "cell_type": "markdown",
      "metadata": {
        "id": "0Ih9nJCDOHFU"
      },
      "source": [
        "Lemmatization"
      ],
      "id": "0Ih9nJCDOHFU"
    },
    {
      "cell_type": "code",
      "execution_count": 31,
      "metadata": {
        "id": "tZq0soQFOHFU"
      },
      "outputs": [],
      "source": [
        "lemmatizer = WordNetLemmatizer()\n",
        "for i in range(len(wtxt_train)):\n",
        "    wtxt_train[i] = [lemmatizer.lemmatize(word) for word in wtxt_train[i]]"
      ],
      "id": "tZq0soQFOHFU"
    },
    {
      "cell_type": "code",
      "execution_count": 32,
      "metadata": {
        "id": "yh7EcIK7OHFU"
      },
      "outputs": [],
      "source": [
        "df['whole_txt'] = wtxt_train\n",
        "df = df.drop(['headline', 'text'], axis = 1)"
      ],
      "id": "yh7EcIK7OHFU"
    },
    {
      "cell_type": "code",
      "execution_count": 33,
      "metadata": {
        "colab": {
          "base_uri": "https://localhost:8080/",
          "height": 206
        },
        "id": "T1TLLZZhOHFU",
        "outputId": "127d4d92-3e49-4449-8bff-a5ab1fa375cc"
      },
      "outputs": [
        {
          "output_type": "execute_result",
          "data": {
            "text/plain": [
              "  relevance                                          whole_txt\n",
              "0       yes  [yield, cd, fell, latest, week, new, york, yie...\n",
              "1        no  [morning, brief, white, house, seek, limit, ch...\n",
              "2        no  [banking, bill, negotiator, set, compromise, p...\n",
              "3        no  [manager, journal, sniffing, drug, abuser, qui...\n",
              "4       yes  [currency, trading, dollar, remains, tight, ra..."
            ],
            "text/html": [
              "\n",
              "  <div id=\"df-187e8b32-d9f6-4e4b-8993-19c105a70c80\" class=\"colab-df-container\">\n",
              "    <div>\n",
              "<style scoped>\n",
              "    .dataframe tbody tr th:only-of-type {\n",
              "        vertical-align: middle;\n",
              "    }\n",
              "\n",
              "    .dataframe tbody tr th {\n",
              "        vertical-align: top;\n",
              "    }\n",
              "\n",
              "    .dataframe thead th {\n",
              "        text-align: right;\n",
              "    }\n",
              "</style>\n",
              "<table border=\"1\" class=\"dataframe\">\n",
              "  <thead>\n",
              "    <tr style=\"text-align: right;\">\n",
              "      <th></th>\n",
              "      <th>relevance</th>\n",
              "      <th>whole_txt</th>\n",
              "    </tr>\n",
              "  </thead>\n",
              "  <tbody>\n",
              "    <tr>\n",
              "      <th>0</th>\n",
              "      <td>yes</td>\n",
              "      <td>[yield, cd, fell, latest, week, new, york, yie...</td>\n",
              "    </tr>\n",
              "    <tr>\n",
              "      <th>1</th>\n",
              "      <td>no</td>\n",
              "      <td>[morning, brief, white, house, seek, limit, ch...</td>\n",
              "    </tr>\n",
              "    <tr>\n",
              "      <th>2</th>\n",
              "      <td>no</td>\n",
              "      <td>[banking, bill, negotiator, set, compromise, p...</td>\n",
              "    </tr>\n",
              "    <tr>\n",
              "      <th>3</th>\n",
              "      <td>no</td>\n",
              "      <td>[manager, journal, sniffing, drug, abuser, qui...</td>\n",
              "    </tr>\n",
              "    <tr>\n",
              "      <th>4</th>\n",
              "      <td>yes</td>\n",
              "      <td>[currency, trading, dollar, remains, tight, ra...</td>\n",
              "    </tr>\n",
              "  </tbody>\n",
              "</table>\n",
              "</div>\n",
              "    <div class=\"colab-df-buttons\">\n",
              "\n",
              "  <div class=\"colab-df-container\">\n",
              "    <button class=\"colab-df-convert\" onclick=\"convertToInteractive('df-187e8b32-d9f6-4e4b-8993-19c105a70c80')\"\n",
              "            title=\"Convert this dataframe to an interactive table.\"\n",
              "            style=\"display:none;\">\n",
              "\n",
              "  <svg xmlns=\"http://www.w3.org/2000/svg\" height=\"24px\" viewBox=\"0 -960 960 960\">\n",
              "    <path d=\"M120-120v-720h720v720H120Zm60-500h600v-160H180v160Zm220 220h160v-160H400v160Zm0 220h160v-160H400v160ZM180-400h160v-160H180v160Zm440 0h160v-160H620v160ZM180-180h160v-160H180v160Zm440 0h160v-160H620v160Z\"/>\n",
              "  </svg>\n",
              "    </button>\n",
              "\n",
              "  <style>\n",
              "    .colab-df-container {\n",
              "      display:flex;\n",
              "      gap: 12px;\n",
              "    }\n",
              "\n",
              "    .colab-df-convert {\n",
              "      background-color: #E8F0FE;\n",
              "      border: none;\n",
              "      border-radius: 50%;\n",
              "      cursor: pointer;\n",
              "      display: none;\n",
              "      fill: #1967D2;\n",
              "      height: 32px;\n",
              "      padding: 0 0 0 0;\n",
              "      width: 32px;\n",
              "    }\n",
              "\n",
              "    .colab-df-convert:hover {\n",
              "      background-color: #E2EBFA;\n",
              "      box-shadow: 0px 1px 2px rgba(60, 64, 67, 0.3), 0px 1px 3px 1px rgba(60, 64, 67, 0.15);\n",
              "      fill: #174EA6;\n",
              "    }\n",
              "\n",
              "    .colab-df-buttons div {\n",
              "      margin-bottom: 4px;\n",
              "    }\n",
              "\n",
              "    [theme=dark] .colab-df-convert {\n",
              "      background-color: #3B4455;\n",
              "      fill: #D2E3FC;\n",
              "    }\n",
              "\n",
              "    [theme=dark] .colab-df-convert:hover {\n",
              "      background-color: #434B5C;\n",
              "      box-shadow: 0px 1px 3px 1px rgba(0, 0, 0, 0.15);\n",
              "      filter: drop-shadow(0px 1px 2px rgba(0, 0, 0, 0.3));\n",
              "      fill: #FFFFFF;\n",
              "    }\n",
              "  </style>\n",
              "\n",
              "    <script>\n",
              "      const buttonEl =\n",
              "        document.querySelector('#df-187e8b32-d9f6-4e4b-8993-19c105a70c80 button.colab-df-convert');\n",
              "      buttonEl.style.display =\n",
              "        google.colab.kernel.accessAllowed ? 'block' : 'none';\n",
              "\n",
              "      async function convertToInteractive(key) {\n",
              "        const element = document.querySelector('#df-187e8b32-d9f6-4e4b-8993-19c105a70c80');\n",
              "        const dataTable =\n",
              "          await google.colab.kernel.invokeFunction('convertToInteractive',\n",
              "                                                    [key], {});\n",
              "        if (!dataTable) return;\n",
              "\n",
              "        const docLinkHtml = 'Like what you see? Visit the ' +\n",
              "          '<a target=\"_blank\" href=https://colab.research.google.com/notebooks/data_table.ipynb>data table notebook</a>'\n",
              "          + ' to learn more about interactive tables.';\n",
              "        element.innerHTML = '';\n",
              "        dataTable['output_type'] = 'display_data';\n",
              "        await google.colab.output.renderOutput(dataTable, element);\n",
              "        const docLink = document.createElement('div');\n",
              "        docLink.innerHTML = docLinkHtml;\n",
              "        element.appendChild(docLink);\n",
              "      }\n",
              "    </script>\n",
              "  </div>\n",
              "\n",
              "\n",
              "<div id=\"df-1a300e23-2e1e-4b3b-b6d2-70c4803b9ff9\">\n",
              "  <button class=\"colab-df-quickchart\" onclick=\"quickchart('df-1a300e23-2e1e-4b3b-b6d2-70c4803b9ff9')\"\n",
              "            title=\"Suggest charts\"\n",
              "            style=\"display:none;\">\n",
              "\n",
              "<svg xmlns=\"http://www.w3.org/2000/svg\" height=\"24px\"viewBox=\"0 0 24 24\"\n",
              "     width=\"24px\">\n",
              "    <g>\n",
              "        <path d=\"M19 3H5c-1.1 0-2 .9-2 2v14c0 1.1.9 2 2 2h14c1.1 0 2-.9 2-2V5c0-1.1-.9-2-2-2zM9 17H7v-7h2v7zm4 0h-2V7h2v10zm4 0h-2v-4h2v4z\"/>\n",
              "    </g>\n",
              "</svg>\n",
              "  </button>\n",
              "\n",
              "<style>\n",
              "  .colab-df-quickchart {\n",
              "      --bg-color: #E8F0FE;\n",
              "      --fill-color: #1967D2;\n",
              "      --hover-bg-color: #E2EBFA;\n",
              "      --hover-fill-color: #174EA6;\n",
              "      --disabled-fill-color: #AAA;\n",
              "      --disabled-bg-color: #DDD;\n",
              "  }\n",
              "\n",
              "  [theme=dark] .colab-df-quickchart {\n",
              "      --bg-color: #3B4455;\n",
              "      --fill-color: #D2E3FC;\n",
              "      --hover-bg-color: #434B5C;\n",
              "      --hover-fill-color: #FFFFFF;\n",
              "      --disabled-bg-color: #3B4455;\n",
              "      --disabled-fill-color: #666;\n",
              "  }\n",
              "\n",
              "  .colab-df-quickchart {\n",
              "    background-color: var(--bg-color);\n",
              "    border: none;\n",
              "    border-radius: 50%;\n",
              "    cursor: pointer;\n",
              "    display: none;\n",
              "    fill: var(--fill-color);\n",
              "    height: 32px;\n",
              "    padding: 0;\n",
              "    width: 32px;\n",
              "  }\n",
              "\n",
              "  .colab-df-quickchart:hover {\n",
              "    background-color: var(--hover-bg-color);\n",
              "    box-shadow: 0 1px 2px rgba(60, 64, 67, 0.3), 0 1px 3px 1px rgba(60, 64, 67, 0.15);\n",
              "    fill: var(--button-hover-fill-color);\n",
              "  }\n",
              "\n",
              "  .colab-df-quickchart-complete:disabled,\n",
              "  .colab-df-quickchart-complete:disabled:hover {\n",
              "    background-color: var(--disabled-bg-color);\n",
              "    fill: var(--disabled-fill-color);\n",
              "    box-shadow: none;\n",
              "  }\n",
              "\n",
              "  .colab-df-spinner {\n",
              "    border: 2px solid var(--fill-color);\n",
              "    border-color: transparent;\n",
              "    border-bottom-color: var(--fill-color);\n",
              "    animation:\n",
              "      spin 1s steps(1) infinite;\n",
              "  }\n",
              "\n",
              "  @keyframes spin {\n",
              "    0% {\n",
              "      border-color: transparent;\n",
              "      border-bottom-color: var(--fill-color);\n",
              "      border-left-color: var(--fill-color);\n",
              "    }\n",
              "    20% {\n",
              "      border-color: transparent;\n",
              "      border-left-color: var(--fill-color);\n",
              "      border-top-color: var(--fill-color);\n",
              "    }\n",
              "    30% {\n",
              "      border-color: transparent;\n",
              "      border-left-color: var(--fill-color);\n",
              "      border-top-color: var(--fill-color);\n",
              "      border-right-color: var(--fill-color);\n",
              "    }\n",
              "    40% {\n",
              "      border-color: transparent;\n",
              "      border-right-color: var(--fill-color);\n",
              "      border-top-color: var(--fill-color);\n",
              "    }\n",
              "    60% {\n",
              "      border-color: transparent;\n",
              "      border-right-color: var(--fill-color);\n",
              "    }\n",
              "    80% {\n",
              "      border-color: transparent;\n",
              "      border-right-color: var(--fill-color);\n",
              "      border-bottom-color: var(--fill-color);\n",
              "    }\n",
              "    90% {\n",
              "      border-color: transparent;\n",
              "      border-bottom-color: var(--fill-color);\n",
              "    }\n",
              "  }\n",
              "</style>\n",
              "\n",
              "  <script>\n",
              "    async function quickchart(key) {\n",
              "      const quickchartButtonEl =\n",
              "        document.querySelector('#' + key + ' button');\n",
              "      quickchartButtonEl.disabled = true;  // To prevent multiple clicks.\n",
              "      quickchartButtonEl.classList.add('colab-df-spinner');\n",
              "      try {\n",
              "        const charts = await google.colab.kernel.invokeFunction(\n",
              "            'suggestCharts', [key], {});\n",
              "      } catch (error) {\n",
              "        console.error('Error during call to suggestCharts:', error);\n",
              "      }\n",
              "      quickchartButtonEl.classList.remove('colab-df-spinner');\n",
              "      quickchartButtonEl.classList.add('colab-df-quickchart-complete');\n",
              "    }\n",
              "    (() => {\n",
              "      let quickchartButtonEl =\n",
              "        document.querySelector('#df-1a300e23-2e1e-4b3b-b6d2-70c4803b9ff9 button');\n",
              "      quickchartButtonEl.style.display =\n",
              "        google.colab.kernel.accessAllowed ? 'block' : 'none';\n",
              "    })();\n",
              "  </script>\n",
              "</div>\n",
              "    </div>\n",
              "  </div>\n"
            ]
          },
          "metadata": {},
          "execution_count": 33
        }
      ],
      "source": [
        "df.head(5)"
      ],
      "id": "T1TLLZZhOHFU"
    },
    {
      "cell_type": "code",
      "execution_count": 34,
      "id": "1e868e34",
      "metadata": {
        "id": "1e868e34"
      },
      "outputs": [],
      "source": [
        "## Importing Libraries\n",
        "import numpy as np\n",
        "import tensorflow as tf\n",
        "from tensorflow.keras.preprocessing.text import Tokenizer\n",
        "from tensorflow.keras.preprocessing.sequence import pad_sequences\n",
        "from tensorflow.keras.models import Sequential\n",
        "from tensorflow.keras.layers import Embedding, LSTM, Dense"
      ]
    },
    {
      "cell_type": "markdown",
      "id": "2a9ecc91",
      "metadata": {
        "id": "2a9ecc91"
      },
      "source": [
        "### Data preparation\n",
        "* Initial Data Processing: Our first step is to encode the relevance label into both the Relevant (1) and non-Relevant labels (0). Then, we make it into a np.array to feed into the model.\n",
        "* Then, we begin to clean text data into pad sequences."
      ]
    },
    {
      "cell_type": "code",
      "source": [
        "from sklearn.compose import ColumnTransformer\n",
        "from sklearn.preprocessing import OneHotEncoder, LabelEncoder\n",
        "from sklearn.pipeline import Pipeline\n",
        "\n",
        "y = pd.DataFrame(df, columns=['relevance'])\n",
        "\n",
        "# Define the transformation: OneHotEncoder for categorical features\n",
        "preprocessor = ColumnTransformer(\n",
        "    transformers=[\n",
        "        ('cat', OneHotEncoder(), categorical_columns)\n",
        "    ],\n",
        "    remainder='passthrough'  # This will pass through other columns not specified in transformers\n",
        ")\n",
        "\n",
        "# Create a pipeline with the preprocessor\n",
        "pipeline = Pipeline(steps=[('preprocessor', preprocessor)])\n",
        "\n",
        "# Fit and transform the DataFrame\n",
        "y_ = pipeline.fit_transform(y)\n",
        "\n",
        "y_ = pd.DataFrame(y_, columns=pipeline.named_steps['preprocessor'].get_feature_names_out())\n",
        "y_ = y_.astype(int)"
      ],
      "metadata": {
        "id": "Oy3C5I6qRZzS"
      },
      "id": "Oy3C5I6qRZzS",
      "execution_count": 101,
      "outputs": []
    },
    {
      "cell_type": "code",
      "source": [
        "y_ = y_.drop(columns=['cat__relevance_not sure'])"
      ],
      "metadata": {
        "id": "FCA7vjwQWwcj"
      },
      "id": "FCA7vjwQWwcj",
      "execution_count": 102,
      "outputs": []
    },
    {
      "cell_type": "code",
      "source": [
        "labels = np.array(y_)\n",
        "labels # export to make models"
      ],
      "metadata": {
        "colab": {
          "base_uri": "https://localhost:8080/"
        },
        "id": "QMWjVZcQQ_eG",
        "outputId": "ffea736f-d9b3-422f-95c9-98a625349898"
      },
      "id": "QMWjVZcQQ_eG",
      "execution_count": 114,
      "outputs": [
        {
          "output_type": "execute_result",
          "data": {
            "text/plain": [
              "array([[0, 1],\n",
              "       [1, 0],\n",
              "       [1, 0],\n",
              "       ...,\n",
              "       [1, 0],\n",
              "       [1, 0],\n",
              "       [1, 0]])"
            ]
          },
          "metadata": {},
          "execution_count": 114
        }
      ]
    },
    {
      "cell_type": "markdown",
      "id": "bc686094",
      "metadata": {
        "id": "bc686094"
      },
      "source": [
        "### Tokenization\n",
        "First, we need to \"tokenize\" our sentences, i.e., convert them to sequences of numbers. For this task, we are going to use the `Tokenizer` from Tensorflow (documentation [here](https://www.tensorflow.org/api_docs/python/tf/keras/preprocessing/text/Tokenizer))"
      ]
    },
    {
      "cell_type": "code",
      "execution_count": 44,
      "id": "cf9eaddf",
      "metadata": {
        "id": "cf9eaddf"
      },
      "outputs": [],
      "source": [
        "tokenizer = Tokenizer()\n",
        "tokenizer.fit_on_texts(wtxt_train)   # fit our tokenizer on the dataset (i.e., assign a number to each word and keep a\n",
        "                                    # dictionary with the correspondence of each word to a number)\n",
        "\n",
        "# see the language dictionary and the total number of words (please note that number 0 is reserved for the padding task)\n",
        "word_index = tokenizer.word_index\n",
        "total_words = len(word_index) + 1"
      ]
    },
    {
      "cell_type": "code",
      "execution_count": null,
      "id": "1bb124ce",
      "metadata": {
        "id": "1bb124ce"
      },
      "outputs": [],
      "source": [
        "word_index"
      ]
    },
    {
      "cell_type": "code",
      "execution_count": 38,
      "id": "d8bc0b15",
      "metadata": {
        "colab": {
          "base_uri": "https://localhost:8080/"
        },
        "id": "d8bc0b15",
        "outputId": "bc0c8ab2-9e8f-470d-a17e-89b96cd00afd"
      },
      "outputs": [
        {
          "output_type": "execute_result",
          "data": {
            "text/plain": [
              "36555"
            ]
          },
          "metadata": {},
          "execution_count": 38
        }
      ],
      "source": [
        "total_words"
      ]
    },
    {
      "cell_type": "markdown",
      "id": "016c30d7",
      "metadata": {
        "id": "016c30d7"
      },
      "source": [
        "### Padding Sequences\n",
        "Sentences and sequences tend to have different lengths, however our model is expecting equally sized observations.\n",
        "Here we want to convert our texts to sequences and make them of the same length (in general, the lenght of the longest of our sequences). We are going to use here `pad_sequences` from Tensorflow (documentation [here](https://www.tensorflow.org/api_docs/python/tf/keras/utils/pad_sequences)), to add zeroes to the tokenized sentences until they all reach the same length."
      ]
    },
    {
      "cell_type": "code",
      "execution_count": 41,
      "id": "ea518a6d",
      "metadata": {
        "id": "ea518a6d"
      },
      "outputs": [],
      "source": [
        "sequences = tokenizer.texts_to_sequences(wtxt_train)\n",
        "padded_sequences = pad_sequences(sequences)"
      ]
    },
    {
      "cell_type": "code",
      "execution_count": null,
      "id": "6a3a19b1",
      "metadata": {
        "id": "6a3a19b1"
      },
      "outputs": [],
      "source": [
        "sequences"
      ]
    },
    {
      "cell_type": "code",
      "execution_count": 66,
      "id": "bf5a3374",
      "metadata": {
        "colab": {
          "base_uri": "https://localhost:8080/"
        },
        "id": "bf5a3374",
        "outputId": "99253544-bbca-48ca-e1d5-b86689138957"
      },
      "outputs": [
        {
          "output_type": "execute_result",
          "data": {
            "text/plain": [
              "array([[   0,    0,    0, ...,  382,   20, 2616],\n",
              "       [   0,    0,    0, ...,  158,   50,  179],\n",
              "       [   0,    0,    0, ...,   11,   84,   44],\n",
              "       ...,\n",
              "       [   0,    0,    0, ...,  515,  528,  121],\n",
              "       [   0,    0,    0, ...,  279,  104,   60],\n",
              "       [   0,    0,    0, ...,   42,  185,   23]], dtype=int32)"
            ]
          },
          "metadata": {},
          "execution_count": 66
        }
      ],
      "source": [
        "padded_sequences"
      ]
    },
    {
      "cell_type": "code",
      "source": [
        "from sklearn.model_selection import train_test_split\n",
        "train, test, labels_train, labels_test = train_test_split(wtxt_train, labels,  test_size=0.2, random_state=42, stratify=y)"
      ],
      "metadata": {
        "id": "fB_vM2GQkf-Y"
      },
      "id": "fB_vM2GQkf-Y",
      "execution_count": 122,
      "outputs": []
    },
    {
      "cell_type": "markdown",
      "id": "0fe8e8b2",
      "metadata": {
        "id": "0fe8e8b2"
      },
      "source": [
        "### Building the model\n",
        "\n",
        "We are going to build a simple model that includes:\n",
        "- `Embedding` layer with an output representation of each word as a vector of dim 16\n",
        "- `LSTM` (see class slides for more detail or RNNs example notebook for more details) with an intermediate state of 100\n",
        "- An output layer `Dense` that connects the output of the LSTM and creates an output of 3 positions (one per class) as output of the network"
      ]
    },
    {
      "cell_type": "code",
      "execution_count": 84,
      "id": "84e1fd75",
      "metadata": {
        "id": "84e1fd75"
      },
      "outputs": [],
      "source": [
        "embedding_dim = 16   # The output of our embedding layer. This is a hyperparameter that accounts for how long the\n",
        "                     # vector representing each word is going to be\n",
        "\n",
        "# We are going to build our model with the Sequential API\n",
        "model = Sequential()\n",
        "model.add(Embedding(total_words,      # number of words to process as input\n",
        "                    100,    # output representation\n",
        "                    input_length=len(padded_sequences[0])))    # total length of each observation\n",
        "model.add(LSTM(100, return_sequences=False))\n",
        "model.add(Dense(2, activation='sigmoid'))  # Change activation based on the number of classes\n",
        "\n",
        "model.compile(optimizer='adam', loss='categorical_crossentropy', metrics=['accuracy'])"
      ]
    },
    {
      "cell_type": "code",
      "execution_count": 85,
      "id": "286e1067",
      "metadata": {
        "colab": {
          "base_uri": "https://localhost:8080/"
        },
        "id": "286e1067",
        "outputId": "ef815e79-2cdb-4372-f0f2-a45738a6bd09"
      },
      "outputs": [
        {
          "output_type": "execute_result",
          "data": {
            "text/plain": [
              "<tf.Tensor: shape=(8000, 2), dtype=float32, numpy=\n",
              "array([[0.50148815, 0.5000838 ],\n",
              "       [0.5009381 , 0.4995941 ],\n",
              "       [0.4988029 , 0.5002627 ],\n",
              "       ...,\n",
              "       [0.499239  , 0.4999639 ],\n",
              "       [0.50052494, 0.4987951 ],\n",
              "       [0.49915776, 0.50016236]], dtype=float32)>"
            ]
          },
          "metadata": {},
          "execution_count": 85
        }
      ],
      "source": [
        "model(padded_sequences)"
      ]
    },
    {
      "cell_type": "markdown",
      "id": "1101ccfc",
      "metadata": {
        "id": "1101ccfc"
      },
      "source": [
        "### Training the model"
      ]
    },
    {
      "cell_type": "code",
      "execution_count": 117,
      "id": "826df8ad",
      "metadata": {
        "colab": {
          "base_uri": "https://localhost:8080/"
        },
        "id": "826df8ad",
        "outputId": "954999b9-e6f3-43a2-dc81-a5c10a8e6ef1"
      },
      "outputs": [
        {
          "output_type": "stream",
          "name": "stdout",
          "text": [
            "Epoch 1/10\n",
            "200/200 [==============================] - 73s 359ms/step - loss: 0.0095 - accuracy: 0.9975\n",
            "Epoch 2/10\n",
            "200/200 [==============================] - 72s 359ms/step - loss: 0.0067 - accuracy: 0.9981\n",
            "Epoch 3/10\n",
            "200/200 [==============================] - 70s 348ms/step - loss: 0.0049 - accuracy: 0.9981\n",
            "Epoch 4/10\n",
            "200/200 [==============================] - 71s 354ms/step - loss: 0.0058 - accuracy: 0.9984\n",
            "Epoch 5/10\n",
            "200/200 [==============================] - 71s 354ms/step - loss: 0.0049 - accuracy: 0.9981\n",
            "Epoch 6/10\n",
            "200/200 [==============================] - 70s 352ms/step - loss: 0.0068 - accuracy: 0.9980\n",
            "Epoch 7/10\n",
            "200/200 [==============================] - 70s 351ms/step - loss: 0.0164 - accuracy: 0.9931\n",
            "Epoch 8/10\n",
            "200/200 [==============================] - 72s 363ms/step - loss: 0.0075 - accuracy: 0.9980\n",
            "Epoch 9/10\n",
            "200/200 [==============================] - 71s 353ms/step - loss: 0.0071 - accuracy: 0.9973\n",
            "Epoch 10/10\n",
            "200/200 [==============================] - 71s 355ms/step - loss: 0.0063 - accuracy: 0.9975\n"
          ]
        },
        {
          "output_type": "execute_result",
          "data": {
            "text/plain": [
              "<keras.src.callbacks.History at 0x7c8451f983a0>"
            ]
          },
          "metadata": {},
          "execution_count": 117
        }
      ],
      "source": [
        "model.fit(train, labels_train, epochs=10)"
      ]
    },
    {
      "cell_type": "code",
      "execution_count": 118,
      "id": "a1484a19",
      "metadata": {
        "colab": {
          "base_uri": "https://localhost:8080/"
        },
        "id": "a1484a19",
        "outputId": "5db7ef87-e57e-4f8c-c74b-f124fab03672"
      },
      "outputs": [
        {
          "output_type": "stream",
          "name": "stdout",
          "text": [
            "[1 0 0 ... 0 0 0]\n"
          ]
        }
      ],
      "source": [
        "print(model(padded_sequences).numpy().argmax(axis = 1))"
      ]
    },
    {
      "cell_type": "markdown",
      "id": "8880874d",
      "metadata": {
        "id": "8880874d"
      },
      "source": [
        "Adjust the model architecture and hyperparameters based on your specific problem and data.\n",
        "\n",
        "This is a basic example to get you started with implementing an RNN for text classification using TensorFlow. Fine-tune and expand upon this foundation according to your project requirements."
      ]
    },
    {
      "cell_type": "code",
      "execution_count": null,
      "id": "218f1b11",
      "metadata": {
        "id": "218f1b11"
      },
      "outputs": [],
      "source": []
    },
    {
      "cell_type": "code",
      "execution_count": null,
      "id": "7fba69cf",
      "metadata": {
        "id": "7fba69cf"
      },
      "outputs": [],
      "source": []
    },
    {
      "cell_type": "markdown",
      "id": "44b5f5a5",
      "metadata": {
        "id": "44b5f5a5"
      },
      "source": [
        "## Implementing an RNN for Text Classification with TensorFlow\n",
        "\n",
        "In this example, we'll build a simple Recurrent Neural Network (RNN) using TensorFlow for text classification. The dataset consists of one or two sentences as input data.\n",
        "\n",
        "This is a simplified and applied version with focus on the usage of Tensorflow. For a more detailed and extensive process description please refer to the \"RNNs example\" notebook or to the class presentations\n"
      ]
    }
  ],
  "metadata": {
    "kernelspec": {
      "display_name": "Python 3 (ipykernel)",
      "language": "python",
      "name": "python3"
    },
    "language_info": {
      "codemirror_mode": {
        "name": "ipython",
        "version": 3
      },
      "file_extension": ".py",
      "mimetype": "text/x-python",
      "name": "python",
      "nbconvert_exporter": "python",
      "pygments_lexer": "ipython3",
      "version": "3.10.11"
    },
    "colab": {
      "provenance": []
    }
  },
  "nbformat": 4,
  "nbformat_minor": 5
}