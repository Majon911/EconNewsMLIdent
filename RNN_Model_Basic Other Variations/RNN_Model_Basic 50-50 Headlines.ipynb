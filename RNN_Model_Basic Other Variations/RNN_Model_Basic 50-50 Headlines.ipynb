{
 "cells": [
  {
   "cell_type": "markdown",
   "id": "3bduh-46OHFK",
   "metadata": {
    "id": "3bduh-46OHFK"
   },
   "source": [
    "# Preprocess"
   ]
  },
  {
   "cell_type": "code",
   "execution_count": 1,
   "id": "iUFDKHaVOHFN",
   "metadata": {
    "id": "iUFDKHaVOHFN"
   },
   "outputs": [],
   "source": [
    "import pandas as pd"
   ]
  },
  {
   "cell_type": "code",
   "execution_count": 2,
   "id": "beLBhgRLOHFP",
   "metadata": {
    "colab": {
     "base_uri": "https://localhost:8080/"
    },
    "id": "beLBhgRLOHFP",
    "outputId": "fe017141-8c90-4f18-d260-b91583d3e971"
   },
   "outputs": [
    {
     "name": "stdout",
     "output_type": "stream",
     "text": [
      "<class 'pandas.core.frame.DataFrame'>\n",
      "RangeIndex: 8000 entries, 0 to 7999\n",
      "Data columns (total 15 columns):\n",
      " #   Column                 Non-Null Count  Dtype  \n",
      "---  ------                 --------------  -----  \n",
      " 0   _unit_id               8000 non-null   int64  \n",
      " 1   _golden                8000 non-null   bool   \n",
      " 2   _unit_state            8000 non-null   object \n",
      " 3   _trusted_judgments     8000 non-null   int64  \n",
      " 4   _last_judgment_at      8000 non-null   object \n",
      " 5   positivity             1420 non-null   float64\n",
      " 6   positivity:confidence  3775 non-null   float64\n",
      " 7   relevance              8000 non-null   object \n",
      " 8   relevance:confidence   8000 non-null   float64\n",
      " 9   articleid              8000 non-null   object \n",
      " 10  date                   8000 non-null   object \n",
      " 11  headline               8000 non-null   object \n",
      " 12  positivity_gold        0 non-null      float64\n",
      " 13  relevance_gold         0 non-null      float64\n",
      " 14  text                   8000 non-null   object \n",
      "dtypes: bool(1), float64(5), int64(2), object(7)\n",
      "memory usage: 882.9+ KB\n"
     ]
    }
   ],
   "source": [
    "df = pd.read_csv(\"./US-Economic-News.csv\", delimiter=',', encoding= 'ISO-8859-1')\n",
    "\n",
    "df.info()"
   ]
  },
  {
   "cell_type": "code",
   "execution_count": 3,
   "id": "2pZ91v4YOHFQ",
   "metadata": {
    "colab": {
     "base_uri": "https://localhost:8080/",
     "height": 573
    },
    "id": "2pZ91v4YOHFQ",
    "outputId": "2ecb5bf5-5337-4d44-bf14-f45d0725524e"
   },
   "outputs": [
    {
     "data": {
      "text/html": [
       "<div>\n",
       "<style scoped>\n",
       "    .dataframe tbody tr th:only-of-type {\n",
       "        vertical-align: middle;\n",
       "    }\n",
       "\n",
       "    .dataframe tbody tr th {\n",
       "        vertical-align: top;\n",
       "    }\n",
       "\n",
       "    .dataframe thead th {\n",
       "        text-align: right;\n",
       "    }\n",
       "</style>\n",
       "<table border=\"1\" class=\"dataframe\">\n",
       "  <thead>\n",
       "    <tr style=\"text-align: right;\">\n",
       "      <th></th>\n",
       "      <th>_unit_id</th>\n",
       "      <th>_golden</th>\n",
       "      <th>_unit_state</th>\n",
       "      <th>_trusted_judgments</th>\n",
       "      <th>_last_judgment_at</th>\n",
       "      <th>positivity</th>\n",
       "      <th>positivity:confidence</th>\n",
       "      <th>relevance</th>\n",
       "      <th>relevance:confidence</th>\n",
       "      <th>articleid</th>\n",
       "      <th>date</th>\n",
       "      <th>headline</th>\n",
       "      <th>positivity_gold</th>\n",
       "      <th>relevance_gold</th>\n",
       "      <th>text</th>\n",
       "    </tr>\n",
       "  </thead>\n",
       "  <tbody>\n",
       "    <tr>\n",
       "      <th>0</th>\n",
       "      <td>842613455</td>\n",
       "      <td>False</td>\n",
       "      <td>finalized</td>\n",
       "      <td>3</td>\n",
       "      <td>12/5/15 17:48</td>\n",
       "      <td>3.0</td>\n",
       "      <td>0.6400</td>\n",
       "      <td>yes</td>\n",
       "      <td>0.640</td>\n",
       "      <td>wsj_398217788</td>\n",
       "      <td>8/14/91</td>\n",
       "      <td>Yields on CDs Fell in the Latest Week</td>\n",
       "      <td>NaN</td>\n",
       "      <td>NaN</td>\n",
       "      <td>NEW YORK -- Yields on most certificates of dep...</td>\n",
       "    </tr>\n",
       "    <tr>\n",
       "      <th>1</th>\n",
       "      <td>842613456</td>\n",
       "      <td>False</td>\n",
       "      <td>finalized</td>\n",
       "      <td>3</td>\n",
       "      <td>12/5/15 16:54</td>\n",
       "      <td>NaN</td>\n",
       "      <td>NaN</td>\n",
       "      <td>no</td>\n",
       "      <td>1.000</td>\n",
       "      <td>wsj_399019502</td>\n",
       "      <td>8/21/07</td>\n",
       "      <td>The Morning Brief: White House Seeks to Limit ...</td>\n",
       "      <td>NaN</td>\n",
       "      <td>NaN</td>\n",
       "      <td>The Wall Street Journal Online&lt;/br&gt;&lt;/br&gt;The Mo...</td>\n",
       "    </tr>\n",
       "    <tr>\n",
       "      <th>2</th>\n",
       "      <td>842613457</td>\n",
       "      <td>False</td>\n",
       "      <td>finalized</td>\n",
       "      <td>3</td>\n",
       "      <td>12/5/15 1:59</td>\n",
       "      <td>NaN</td>\n",
       "      <td>NaN</td>\n",
       "      <td>no</td>\n",
       "      <td>1.000</td>\n",
       "      <td>wsj_398284048</td>\n",
       "      <td>11/14/91</td>\n",
       "      <td>Banking Bill Negotiators Set Compromise --- Pl...</td>\n",
       "      <td>NaN</td>\n",
       "      <td>NaN</td>\n",
       "      <td>WASHINGTON -- In an effort to achieve banking ...</td>\n",
       "    </tr>\n",
       "    <tr>\n",
       "      <th>3</th>\n",
       "      <td>842613458</td>\n",
       "      <td>False</td>\n",
       "      <td>finalized</td>\n",
       "      <td>3</td>\n",
       "      <td>12/5/15 2:19</td>\n",
       "      <td>NaN</td>\n",
       "      <td>0.0000</td>\n",
       "      <td>no</td>\n",
       "      <td>0.675</td>\n",
       "      <td>wsj_397959018</td>\n",
       "      <td>6/16/86</td>\n",
       "      <td>Manager's Journal: Sniffing Out Drug Abusers I...</td>\n",
       "      <td>NaN</td>\n",
       "      <td>NaN</td>\n",
       "      <td>The statistics on the enormous costs of employ...</td>\n",
       "    </tr>\n",
       "    <tr>\n",
       "      <th>4</th>\n",
       "      <td>842613459</td>\n",
       "      <td>False</td>\n",
       "      <td>finalized</td>\n",
       "      <td>3</td>\n",
       "      <td>12/5/15 17:48</td>\n",
       "      <td>3.0</td>\n",
       "      <td>0.3257</td>\n",
       "      <td>yes</td>\n",
       "      <td>0.640</td>\n",
       "      <td>wsj_398838054</td>\n",
       "      <td>10/4/02</td>\n",
       "      <td>Currency Trading: Dollar Remains in Tight Rang...</td>\n",
       "      <td>NaN</td>\n",
       "      <td>NaN</td>\n",
       "      <td>NEW YORK -- Indecision marked the dollar's ton...</td>\n",
       "    </tr>\n",
       "  </tbody>\n",
       "</table>\n",
       "</div>"
      ],
      "text/plain": [
       "    _unit_id  _golden _unit_state  _trusted_judgments _last_judgment_at  \\\n",
       "0  842613455    False   finalized                   3     12/5/15 17:48   \n",
       "1  842613456    False   finalized                   3     12/5/15 16:54   \n",
       "2  842613457    False   finalized                   3      12/5/15 1:59   \n",
       "3  842613458    False   finalized                   3      12/5/15 2:19   \n",
       "4  842613459    False   finalized                   3     12/5/15 17:48   \n",
       "\n",
       "   positivity  positivity:confidence relevance  relevance:confidence  \\\n",
       "0         3.0                 0.6400       yes                 0.640   \n",
       "1         NaN                    NaN        no                 1.000   \n",
       "2         NaN                    NaN        no                 1.000   \n",
       "3         NaN                 0.0000        no                 0.675   \n",
       "4         3.0                 0.3257       yes                 0.640   \n",
       "\n",
       "       articleid      date                                           headline  \\\n",
       "0  wsj_398217788   8/14/91              Yields on CDs Fell in the Latest Week   \n",
       "1  wsj_399019502   8/21/07  The Morning Brief: White House Seeks to Limit ...   \n",
       "2  wsj_398284048  11/14/91  Banking Bill Negotiators Set Compromise --- Pl...   \n",
       "3  wsj_397959018   6/16/86  Manager's Journal: Sniffing Out Drug Abusers I...   \n",
       "4  wsj_398838054   10/4/02  Currency Trading: Dollar Remains in Tight Rang...   \n",
       "\n",
       "   positivity_gold  relevance_gold  \\\n",
       "0              NaN             NaN   \n",
       "1              NaN             NaN   \n",
       "2              NaN             NaN   \n",
       "3              NaN             NaN   \n",
       "4              NaN             NaN   \n",
       "\n",
       "                                                text  \n",
       "0  NEW YORK -- Yields on most certificates of dep...  \n",
       "1  The Wall Street Journal Online</br></br>The Mo...  \n",
       "2  WASHINGTON -- In an effort to achieve banking ...  \n",
       "3  The statistics on the enormous costs of employ...  \n",
       "4  NEW YORK -- Indecision marked the dollar's ton...  "
      ]
     },
     "execution_count": 3,
     "metadata": {},
     "output_type": "execute_result"
    }
   ],
   "source": [
    "df.head(5)"
   ]
  },
  {
   "cell_type": "code",
   "execution_count": 4,
   "id": "6dfFHenMOHFQ",
   "metadata": {
    "id": "6dfFHenMOHFQ"
   },
   "outputs": [],
   "source": [
    "df = df[['headline', 'text', 'relevance']]\n",
    "\n",
    "# We drop all irrelavant features to only keep headline and text for 2 reasons: \n",
    "# The other features seem either irrelevant or we lack documentation\n",
    "# With headline and text only, our final model will be more generalizable. We could in theory apply it to any article."
   ]
  },
  {
   "cell_type": "code",
   "execution_count": 5,
   "id": "609b72fc",
   "metadata": {},
   "outputs": [
    {
     "name": "stdout",
     "output_type": "stream",
     "text": [
      "relevance\n",
      "yes    1420\n",
      "no     1420\n",
      "Name: count, dtype: int64\n"
     ]
    }
   ],
   "source": [
    "import pandas as pd\n",
    "import numpy as np\n",
    "\n",
    "df_yes = df[df['relevance'] == 'yes']\n",
    "df_no = df[df['relevance'] == 'no']\n",
    "\n",
    "df_no_sampled = df_no.sample(n=len(df_yes), random_state=42)\n",
    "\n",
    "# Concatenate the sampled 'no' rows with all 'yes' rows\n",
    "df_balanced = pd.concat([df_yes, df_no_sampled])\n",
    "\n",
    "print(df_balanced['relevance'].value_counts())"
   ]
  },
  {
   "cell_type": "code",
   "execution_count": 6,
   "id": "2dd88fd1",
   "metadata": {},
   "outputs": [],
   "source": [
    "df = df_balanced"
   ]
  },
  {
   "cell_type": "markdown",
   "id": "jK-dXnQAOHFR",
   "metadata": {
    "id": "jK-dXnQAOHFR"
   },
   "source": [
    "Cleaning Strings"
   ]
  },
  {
   "cell_type": "code",
   "execution_count": 7,
   "id": "kS0pN2EEOHFS",
   "metadata": {
    "id": "kS0pN2EEOHFS"
   },
   "outputs": [],
   "source": [
    "#!pip install nltk"
   ]
  },
  {
   "cell_type": "code",
   "execution_count": 8,
   "id": "fpS1zR46OHFS",
   "metadata": {
    "id": "fpS1zR46OHFS"
   },
   "outputs": [],
   "source": [
    "import numpy as np\n",
    "import re\n",
    "import nltk\n",
    "from nltk.corpus import stopwords\n",
    "from nltk.tokenize import word_tokenize\n",
    "from nltk.stem import WordNetLemmatizer"
   ]
  },
  {
   "cell_type": "code",
   "execution_count": 9,
   "id": "T8bYfqW0OHFS",
   "metadata": {
    "colab": {
     "base_uri": "https://localhost:8080/"
    },
    "id": "T8bYfqW0OHFS",
    "outputId": "0e457b24-c049-4984-ed6b-29f344f613b0"
   },
   "outputs": [],
   "source": [
    "# #Ensure you have downloaded the necessary NLTK data\n",
    "# import nltk\n",
    "# nltk.download('punkt')\n",
    "# nltk.download('stopwords')\n",
    "# nltk.download('wordnet')"
   ]
  },
  {
   "cell_type": "code",
   "execution_count": 10,
   "id": "hwsu0fkMOHFS",
   "metadata": {
    "id": "hwsu0fkMOHFS"
   },
   "outputs": [],
   "source": [
    "df['whole_txt'] = df['headline']"
   ]
  },
  {
   "cell_type": "code",
   "execution_count": 11,
   "id": "tGK5t8RyOHFT",
   "metadata": {
    "id": "tGK5t8RyOHFT"
   },
   "outputs": [],
   "source": [
    "wtxt_train = np.array(df['whole_txt'])"
   ]
  },
  {
   "cell_type": "code",
   "execution_count": 12,
   "id": "kPJu-IuxOHFT",
   "metadata": {
    "colab": {
     "base_uri": "https://localhost:8080/"
    },
    "id": "kPJu-IuxOHFT",
    "outputId": "38626369-0963-40be-8d89-321e151d7b9b"
   },
   "outputs": [],
   "source": [
    "#print(wtxt_train)"
   ]
  },
  {
   "cell_type": "code",
   "execution_count": 13,
   "id": "8EX1KU3FOHFT",
   "metadata": {
    "id": "8EX1KU3FOHFT"
   },
   "outputs": [],
   "source": [
    "for i in range(len(wtxt_train)):\n",
    "    # Taking out '<br>' in the 'whole_text' column\n",
    "    wtxt_train[i] = re.sub(r'</?br>', ' ', wtxt_train[i])\n",
    "    # Deletion of non-latin alfabet signs, also numbers\n",
    "    wtxt_train[i] = re.sub(r'[^a-zA-Z]', ' ', wtxt_train[i])\n",
    "    # Removing single letter works like 'a'.\n",
    "    wtxt_train[i] = re.sub(r\"\\s+[a-zA-Z]\\s+\", ' ', wtxt_train[i])\n",
    "    # Removing double spaces\n",
    "    wtxt_train[i] = re.sub(r'\\s+', ' ', wtxt_train[i])\n",
    "    # Lower case\n",
    "    wtxt_train[i] = wtxt_train[i].lower()"
   ]
  },
  {
   "cell_type": "markdown",
   "id": "OGok8jBiOHFT",
   "metadata": {
    "id": "OGok8jBiOHFT"
   },
   "source": [
    "Split the words."
   ]
  },
  {
   "cell_type": "code",
   "execution_count": 14,
   "id": "YLC_hbBPOHFT",
   "metadata": {
    "id": "YLC_hbBPOHFT"
   },
   "outputs": [],
   "source": [
    "for i in range(len(wtxt_train)):\n",
    "    wtxt_train[i] = word_tokenize(wtxt_train[i])"
   ]
  },
  {
   "cell_type": "markdown",
   "id": "nJcjnqLHOHFT",
   "metadata": {
    "id": "nJcjnqLHOHFT"
   },
   "source": [
    "Removing stop words"
   ]
  },
  {
   "cell_type": "code",
   "execution_count": 15,
   "id": "7uoaH6INOHFT",
   "metadata": {
    "id": "7uoaH6INOHFT"
   },
   "outputs": [],
   "source": [
    "stop_words = set(stopwords.words('english'))\n",
    "\n",
    "for i in range(len(wtxt_train)):\n",
    "    wtxt_train[i] = [word for word in wtxt_train[i] if word not in stop_words]"
   ]
  },
  {
   "cell_type": "code",
   "execution_count": 16,
   "id": "74Ii4vxnOHFU",
   "metadata": {
    "id": "74Ii4vxnOHFU"
   },
   "outputs": [
    {
     "data": {
      "text/plain": [
       "['yields', 'cds', 'fell', 'latest', 'week']"
      ]
     },
     "execution_count": 16,
     "metadata": {},
     "output_type": "execute_result"
    }
   ],
   "source": [
    "wtxt_train[0]\n",
    "# stop_words"
   ]
  },
  {
   "cell_type": "markdown",
   "id": "0Ih9nJCDOHFU",
   "metadata": {
    "id": "0Ih9nJCDOHFU"
   },
   "source": [
    "Lemmatization"
   ]
  },
  {
   "cell_type": "code",
   "execution_count": 17,
   "id": "tZq0soQFOHFU",
   "metadata": {
    "id": "tZq0soQFOHFU"
   },
   "outputs": [],
   "source": [
    "lemmatizer = WordNetLemmatizer()\n",
    "for i in range(len(wtxt_train)):\n",
    "    wtxt_train[i] = [lemmatizer.lemmatize(word) for word in wtxt_train[i]]"
   ]
  },
  {
   "cell_type": "code",
   "execution_count": 18,
   "id": "yh7EcIK7OHFU",
   "metadata": {
    "id": "yh7EcIK7OHFU"
   },
   "outputs": [],
   "source": [
    "df['whole_txt'] = wtxt_train\n",
    "df = df.drop(['headline', 'text'], axis = 1)"
   ]
  },
  {
   "cell_type": "code",
   "execution_count": 19,
   "id": "T1TLLZZhOHFU",
   "metadata": {
    "colab": {
     "base_uri": "https://localhost:8080/",
     "height": 206
    },
    "id": "T1TLLZZhOHFU",
    "outputId": "127d4d92-3e49-4449-8bff-a5ab1fa375cc"
   },
   "outputs": [
    {
     "data": {
      "text/html": [
       "<div>\n",
       "<style scoped>\n",
       "    .dataframe tbody tr th:only-of-type {\n",
       "        vertical-align: middle;\n",
       "    }\n",
       "\n",
       "    .dataframe tbody tr th {\n",
       "        vertical-align: top;\n",
       "    }\n",
       "\n",
       "    .dataframe thead th {\n",
       "        text-align: right;\n",
       "    }\n",
       "</style>\n",
       "<table border=\"1\" class=\"dataframe\">\n",
       "  <thead>\n",
       "    <tr style=\"text-align: right;\">\n",
       "      <th></th>\n",
       "      <th>relevance</th>\n",
       "      <th>whole_txt</th>\n",
       "    </tr>\n",
       "  </thead>\n",
       "  <tbody>\n",
       "    <tr>\n",
       "      <th>0</th>\n",
       "      <td>yes</td>\n",
       "      <td>[yield, cd, fell, latest, week]</td>\n",
       "    </tr>\n",
       "    <tr>\n",
       "      <th>4</th>\n",
       "      <td>yes</td>\n",
       "      <td>[currency, trading, dollar, remains, tight, ra...</td>\n",
       "    </tr>\n",
       "    <tr>\n",
       "      <th>5</th>\n",
       "      <td>yes</td>\n",
       "      <td>[stock, fall, bofa, alcoa, slide]</td>\n",
       "    </tr>\n",
       "    <tr>\n",
       "      <th>9</th>\n",
       "      <td>yes</td>\n",
       "      <td>[u, dollar, fall, currency, decline, softened,...</td>\n",
       "    </tr>\n",
       "    <tr>\n",
       "      <th>12</th>\n",
       "      <td>yes</td>\n",
       "      <td>[defending, deflation]</td>\n",
       "    </tr>\n",
       "  </tbody>\n",
       "</table>\n",
       "</div>"
      ],
      "text/plain": [
       "   relevance                                          whole_txt\n",
       "0        yes                    [yield, cd, fell, latest, week]\n",
       "4        yes  [currency, trading, dollar, remains, tight, ra...\n",
       "5        yes                  [stock, fall, bofa, alcoa, slide]\n",
       "9        yes  [u, dollar, fall, currency, decline, softened,...\n",
       "12       yes                             [defending, deflation]"
      ]
     },
     "execution_count": 19,
     "metadata": {},
     "output_type": "execute_result"
    }
   ],
   "source": [
    "df.head(5)"
   ]
  },
  {
   "cell_type": "code",
   "execution_count": 20,
   "id": "1e868e34",
   "metadata": {
    "id": "1e868e34"
   },
   "outputs": [
    {
     "name": "stdout",
     "output_type": "stream",
     "text": [
      "WARNING:tensorflow:From C:\\Users\\majon\\AppData\\Local\\Programs\\Python\\Python310\\lib\\site-packages\\keras\\src\\losses.py:2976: The name tf.losses.sparse_softmax_cross_entropy is deprecated. Please use tf.compat.v1.losses.sparse_softmax_cross_entropy instead.\n",
      "\n"
     ]
    }
   ],
   "source": [
    "## Importing Libraries\n",
    "import numpy as np\n",
    "import tensorflow as tf\n",
    "from tensorflow.keras.preprocessing.text import Tokenizer\n",
    "from tensorflow.keras.preprocessing.sequence import pad_sequences\n",
    "from tensorflow.keras.models import Sequential\n",
    "from tensorflow.keras.layers import Embedding, LSTM, Dense, Dropout, Bidirectional\n",
    "from tensorflow.keras.callbacks import EarlyStopping"
   ]
  },
  {
   "cell_type": "markdown",
   "id": "2a9ecc91",
   "metadata": {
    "id": "2a9ecc91"
   },
   "source": [
    "### Data preparation\n",
    "* Initial Data Processing: Our first step is to encode the relevance label into both the Relevant (1) and non-Relevant labels (0). Then, we make it into a np.array to feed into the model.\n",
    "* Then, we begin to clean text data into pad sequences."
   ]
  },
  {
   "cell_type": "code",
   "execution_count": 21,
   "id": "8d046d1e",
   "metadata": {},
   "outputs": [],
   "source": [
    "df.update(df[\"relevance\"].apply(lambda x: 0 if x == \"no\" else 1))"
   ]
  },
  {
   "cell_type": "code",
   "execution_count": 22,
   "id": "c64fe00d",
   "metadata": {},
   "outputs": [
    {
     "data": {
      "text/html": [
       "<div>\n",
       "<style scoped>\n",
       "    .dataframe tbody tr th:only-of-type {\n",
       "        vertical-align: middle;\n",
       "    }\n",
       "\n",
       "    .dataframe tbody tr th {\n",
       "        vertical-align: top;\n",
       "    }\n",
       "\n",
       "    .dataframe thead th {\n",
       "        text-align: right;\n",
       "    }\n",
       "</style>\n",
       "<table border=\"1\" class=\"dataframe\">\n",
       "  <thead>\n",
       "    <tr style=\"text-align: right;\">\n",
       "      <th></th>\n",
       "      <th>relevance</th>\n",
       "      <th>whole_txt</th>\n",
       "    </tr>\n",
       "  </thead>\n",
       "  <tbody>\n",
       "    <tr>\n",
       "      <th>0</th>\n",
       "      <td>1</td>\n",
       "      <td>[yield, cd, fell, latest, week]</td>\n",
       "    </tr>\n",
       "    <tr>\n",
       "      <th>4</th>\n",
       "      <td>1</td>\n",
       "      <td>[currency, trading, dollar, remains, tight, ra...</td>\n",
       "    </tr>\n",
       "    <tr>\n",
       "      <th>5</th>\n",
       "      <td>1</td>\n",
       "      <td>[stock, fall, bofa, alcoa, slide]</td>\n",
       "    </tr>\n",
       "    <tr>\n",
       "      <th>9</th>\n",
       "      <td>1</td>\n",
       "      <td>[u, dollar, fall, currency, decline, softened,...</td>\n",
       "    </tr>\n",
       "    <tr>\n",
       "      <th>12</th>\n",
       "      <td>1</td>\n",
       "      <td>[defending, deflation]</td>\n",
       "    </tr>\n",
       "  </tbody>\n",
       "</table>\n",
       "</div>"
      ],
      "text/plain": [
       "   relevance                                          whole_txt\n",
       "0          1                    [yield, cd, fell, latest, week]\n",
       "4          1  [currency, trading, dollar, remains, tight, ra...\n",
       "5          1                  [stock, fall, bofa, alcoa, slide]\n",
       "9          1  [u, dollar, fall, currency, decline, softened,...\n",
       "12         1                             [defending, deflation]"
      ]
     },
     "execution_count": 22,
     "metadata": {},
     "output_type": "execute_result"
    }
   ],
   "source": [
    "df.head(5)"
   ]
  },
  {
   "cell_type": "markdown",
   "id": "bc686094",
   "metadata": {
    "id": "bc686094"
   },
   "source": [
    "### Tokenization\n",
    "First, we need to \"tokenize\" our sentences, i.e., convert them to sequences of numbers. For this task, we are going to use the `Tokenizer` from Tensorflow (documentation [here](https://www.tensorflow.org/api_docs/python/tf/keras/preprocessing/text/Tokenizer))"
   ]
  },
  {
   "cell_type": "code",
   "execution_count": 23,
   "id": "cf9eaddf",
   "metadata": {
    "id": "cf9eaddf"
   },
   "outputs": [],
   "source": [
    "tokenizer = Tokenizer()\n",
    "tokenizer.fit_on_texts(wtxt_train)   # fit our tokenizer on the dataset (i.e., assign a number to each word and keep a\n",
    "                                    # dictionary with the correspondence of each word to a number)\n",
    "\n",
    "# see the language dictionary and the total number of words (please note that number 0 is reserved for the padding task)\n",
    "word_index = tokenizer.word_index\n",
    "total_words = len(word_index) + 1"
   ]
  },
  {
   "cell_type": "code",
   "execution_count": 24,
   "id": "1bb124ce",
   "metadata": {
    "id": "1bb124ce"
   },
   "outputs": [
    {
     "data": {
      "text/plain": [
       "{'stock': 1,\n",
       " 'rate': 2,\n",
       " 'market': 3,\n",
       " 'fed': 4,\n",
       " 'price': 5,\n",
       " 'economy': 6,\n",
       " 'dollar': 7,\n",
       " 'rise': 8,\n",
       " 'bond': 9,\n",
       " 'gain': 10,\n",
       " 'year': 11,\n",
       " 'inflation': 12,\n",
       " 'u': 13,\n",
       " 'new': 14,\n",
       " 'fall': 15,\n",
       " 'business': 16,\n",
       " 'economic': 17,\n",
       " 'news': 18,\n",
       " 'report': 19,\n",
       " 'growth': 20,\n",
       " 'cut': 21,\n",
       " 'decline': 22,\n",
       " 'may': 23,\n",
       " 'investor': 24,\n",
       " 'drop': 25,\n",
       " 'say': 26,\n",
       " 'dow': 27,\n",
       " 'job': 28,\n",
       " 'sale': 29,\n",
       " 'finance': 30,\n",
       " 'bank': 31,\n",
       " 'tax': 32,\n",
       " 'interest': 33,\n",
       " 'data': 34,\n",
       " 'deficit': 35,\n",
       " 'high': 36,\n",
       " 'trade': 37,\n",
       " 'rally': 38,\n",
       " 'post': 39,\n",
       " 'increase': 40,\n",
       " 'see': 41,\n",
       " 'profit': 42,\n",
       " 'plan': 43,\n",
       " 'end': 44,\n",
       " 'consumer': 45,\n",
       " 'recession': 46,\n",
       " 'jobless': 47,\n",
       " 'ahead': 48,\n",
       " 'recovery': 49,\n",
       " 'week': 50,\n",
       " 'spending': 51,\n",
       " 'home': 52,\n",
       " 'hit': 53,\n",
       " 'point': 54,\n",
       " 'low': 55,\n",
       " 'treasury': 56,\n",
       " 'quarter': 57,\n",
       " 'budget': 58,\n",
       " 'lower': 59,\n",
       " 'billion': 60,\n",
       " 'fear': 61,\n",
       " 'oil': 62,\n",
       " 'higher': 63,\n",
       " 'fund': 64,\n",
       " 'despite': 65,\n",
       " 'big': 66,\n",
       " 'record': 67,\n",
       " 'firm': 68,\n",
       " 'street': 69,\n",
       " 'show': 70,\n",
       " 'trading': 71,\n",
       " 'index': 72,\n",
       " 'back': 73,\n",
       " 'surge': 74,\n",
       " 'seen': 75,\n",
       " 'outlook': 76,\n",
       " 'get': 77,\n",
       " 'boost': 78,\n",
       " 'month': 79,\n",
       " 'mixed': 80,\n",
       " 'analyst': 81,\n",
       " 'take': 82,\n",
       " 'still': 83,\n",
       " 'wall': 84,\n",
       " 'help': 85,\n",
       " 'deal': 86,\n",
       " 'strong': 87,\n",
       " 'share': 88,\n",
       " 'money': 89,\n",
       " 'world': 90,\n",
       " 'sign': 91,\n",
       " 'bush': 92,\n",
       " 'cost': 93,\n",
       " 'unemployment': 94,\n",
       " 'policy': 95,\n",
       " 'move': 96,\n",
       " 'loss': 97,\n",
       " 'greenspan': 98,\n",
       " 'climb': 99,\n",
       " 'tape': 100,\n",
       " 'income': 101,\n",
       " 'issue': 102,\n",
       " 'day': 103,\n",
       " 'could': 104,\n",
       " 'house': 105,\n",
       " 'amid': 106,\n",
       " 'credit': 107,\n",
       " 'industrials': 108,\n",
       " 'concern': 109,\n",
       " 'find': 110,\n",
       " 'pace': 111,\n",
       " 'expected': 112,\n",
       " 'set': 113,\n",
       " 'housing': 114,\n",
       " 'time': 115,\n",
       " 'keep': 116,\n",
       " 'advance': 117,\n",
       " 'mortgage': 118,\n",
       " 'last': 119,\n",
       " 'federal': 120,\n",
       " 'chip': 121,\n",
       " 'earnings': 122,\n",
       " 'state': 123,\n",
       " 'economist': 124,\n",
       " 'bill': 125,\n",
       " 'term': 126,\n",
       " 'official': 127,\n",
       " 'blue': 128,\n",
       " 'crisis': 129,\n",
       " 'currency': 130,\n",
       " 'worry': 131,\n",
       " 'slow': 132,\n",
       " 'global': 133,\n",
       " 'push': 134,\n",
       " 'slump': 135,\n",
       " 'rose': 136,\n",
       " 'gap': 137,\n",
       " 'raise': 138,\n",
       " 'gold': 139,\n",
       " 'lift': 140,\n",
       " 'weak': 141,\n",
       " 'late': 142,\n",
       " 'area': 143,\n",
       " 'security': 144,\n",
       " 'long': 145,\n",
       " 'level': 146,\n",
       " 'would': 147,\n",
       " 'loan': 148,\n",
       " 'million': 149,\n",
       " 'sector': 150,\n",
       " 'face': 151,\n",
       " 'small': 152,\n",
       " 'good': 153,\n",
       " 'since': 154,\n",
       " 'volume': 155,\n",
       " 'japan': 156,\n",
       " 'washington': 157,\n",
       " 'january': 158,\n",
       " 'buy': 159,\n",
       " 'rising': 160,\n",
       " 'forecast': 161,\n",
       " 'trader': 162,\n",
       " 'short': 163,\n",
       " 'government': 164,\n",
       " 'capital': 165,\n",
       " 'slightly': 166,\n",
       " 'change': 167,\n",
       " 'review': 168,\n",
       " 'reserve': 169,\n",
       " 'nasdaq': 170,\n",
       " 'put': 171,\n",
       " 'corporate': 172,\n",
       " 'fell': 173,\n",
       " 'worker': 174,\n",
       " 'many': 175,\n",
       " 'output': 176,\n",
       " 'signal': 177,\n",
       " 'buying': 178,\n",
       " 'focus': 179,\n",
       " 'hope': 180,\n",
       " 'key': 181,\n",
       " 'retail': 182,\n",
       " 'close': 183,\n",
       " 'confidence': 184,\n",
       " 'problem': 185,\n",
       " 'first': 186,\n",
       " 'august': 187,\n",
       " 'financial': 188,\n",
       " 'lead': 189,\n",
       " 'taking': 190,\n",
       " 'yield': 191,\n",
       " 'tech': 192,\n",
       " 'start': 193,\n",
       " 'target': 194,\n",
       " 'survey': 195,\n",
       " 'future': 196,\n",
       " 'yen': 197,\n",
       " 'steady': 198,\n",
       " 'aid': 199,\n",
       " 'talk': 200,\n",
       " 'sharply': 201,\n",
       " 'sell': 202,\n",
       " 'slide': 203,\n",
       " 'jump': 204,\n",
       " 'plunge': 205,\n",
       " 'average': 206,\n",
       " 'another': 207,\n",
       " 'call': 208,\n",
       " 'president': 209,\n",
       " 'return': 210,\n",
       " 'pay': 211,\n",
       " 'energy': 212,\n",
       " 'july': 213,\n",
       " 'two': 214,\n",
       " 'little': 215,\n",
       " 'order': 216,\n",
       " 'seek': 217,\n",
       " 'export': 218,\n",
       " 'come': 219,\n",
       " 'hold': 220,\n",
       " 'biggest': 221,\n",
       " 'clinton': 222,\n",
       " 'labor': 223,\n",
       " 'rebound': 224,\n",
       " 'pressure': 225,\n",
       " 'number': 226,\n",
       " 'april': 227,\n",
       " 'industry': 228,\n",
       " 'obama': 229,\n",
       " 'early': 230,\n",
       " 'edge': 231,\n",
       " 'claim': 232,\n",
       " 'third': 233,\n",
       " 'chief': 234,\n",
       " 'debt': 235,\n",
       " 'continue': 236,\n",
       " 'journal': 237,\n",
       " 'top': 238,\n",
       " 'board': 239,\n",
       " 'supply': 240,\n",
       " 'trend': 241,\n",
       " 'nation': 242,\n",
       " 'congress': 243,\n",
       " 'best': 244,\n",
       " 'c': 245,\n",
       " 'china': 246,\n",
       " 'also': 247,\n",
       " 'mark': 248,\n",
       " 'give': 249,\n",
       " 'slip': 250,\n",
       " 'modest': 251,\n",
       " 'senate': 252,\n",
       " 'th': 253,\n",
       " 'fuel': 254,\n",
       " 'euro': 255,\n",
       " 'wage': 256,\n",
       " 'second': 257,\n",
       " 'maker': 258,\n",
       " 'one': 259,\n",
       " 'war': 260,\n",
       " 'fight': 261,\n",
       " 'producer': 262,\n",
       " 'november': 263,\n",
       " 'risk': 264,\n",
       " 'slowing': 265,\n",
       " 'import': 266,\n",
       " 'company': 267,\n",
       " 'result': 268,\n",
       " 'ease': 269,\n",
       " 'benefit': 270,\n",
       " 'view': 271,\n",
       " 'cited': 272,\n",
       " 'strength': 273,\n",
       " 'finish': 274,\n",
       " 'falling': 275,\n",
       " 'shift': 276,\n",
       " 'industrial': 277,\n",
       " 'politics': 278,\n",
       " 'central': 279,\n",
       " 'reagan': 280,\n",
       " 'study': 281,\n",
       " 'need': 282,\n",
       " 'list': 283,\n",
       " 'drive': 284,\n",
       " 'retailer': 285,\n",
       " 'broad': 286,\n",
       " 'demand': 287,\n",
       " 'action': 288,\n",
       " 'boom': 289,\n",
       " 'soar': 290,\n",
       " 'city': 291,\n",
       " 'june': 292,\n",
       " 'productivity': 293,\n",
       " 'next': 294,\n",
       " 'moving': 295,\n",
       " 'net': 296,\n",
       " 'september': 297,\n",
       " 'likely': 298,\n",
       " 'break': 299,\n",
       " 'look': 300,\n",
       " 'real': 301,\n",
       " 'hard': 302,\n",
       " 'yet': 303,\n",
       " 'turn': 304,\n",
       " 'white': 305,\n",
       " 'major': 306,\n",
       " 'offer': 307,\n",
       " 'dip': 308,\n",
       " 'latest': 309,\n",
       " 'food': 310,\n",
       " 'employment': 311,\n",
       " 'option': 312,\n",
       " 'slowdown': 313,\n",
       " 'social': 314,\n",
       " 'payroll': 315,\n",
       " 'bad': 316,\n",
       " 'auto': 317,\n",
       " 'stay': 318,\n",
       " 'growing': 319,\n",
       " 'lowest': 320,\n",
       " 'session': 321,\n",
       " 'panel': 322,\n",
       " 'impact': 323,\n",
       " 'rule': 324,\n",
       " 'democrat': 325,\n",
       " 'digest': 326,\n",
       " 'indicator': 327,\n",
       " 'february': 328,\n",
       " 'bernanke': 329,\n",
       " 'increased': 330,\n",
       " 'hurt': 331,\n",
       " 'spur': 332,\n",
       " 'selling': 333,\n",
       " 'way': 334,\n",
       " 'special': 335,\n",
       " 'even': 336,\n",
       " 'technology': 337,\n",
       " 'expect': 338,\n",
       " 'ford': 339,\n",
       " 'manager': 340,\n",
       " 'bet': 341,\n",
       " 'friday': 342,\n",
       " 'le': 343,\n",
       " 'curb': 344,\n",
       " 'slows': 345,\n",
       " 'letter': 346,\n",
       " 'editor': 347,\n",
       " 'imf': 348,\n",
       " 'role': 349,\n",
       " 'rail': 350,\n",
       " 'better': 351,\n",
       " 'three': 352,\n",
       " 'make': 353,\n",
       " 'optimism': 354,\n",
       " 'near': 355,\n",
       " 'stimulus': 356,\n",
       " 'gnp': 357,\n",
       " 'value': 358,\n",
       " 'slower': 359,\n",
       " 'warns': 360,\n",
       " 'region': 361,\n",
       " 'light': 362,\n",
       " 'proposal': 363,\n",
       " 'chairman': 364,\n",
       " 'meeting': 365,\n",
       " 'fiscal': 366,\n",
       " 'december': 367,\n",
       " 'effect': 368,\n",
       " 'mean': 369,\n",
       " 'health': 370,\n",
       " 'care': 371,\n",
       " 'add': 372,\n",
       " 'remain': 373,\n",
       " 'tracking': 374,\n",
       " 'personal': 375,\n",
       " 'challenge': 376,\n",
       " 'gdp': 377,\n",
       " 'figure': 378,\n",
       " 'program': 379,\n",
       " 'question': 380,\n",
       " 'bear': 381,\n",
       " 'act': 382,\n",
       " 'computer': 383,\n",
       " 'soon': 384,\n",
       " 'ipo': 385,\n",
       " 'cutting': 386,\n",
       " 'p': 387,\n",
       " 'black': 388,\n",
       " 'debate': 389,\n",
       " 'heavy': 390,\n",
       " 'holiday': 391,\n",
       " 'led': 392,\n",
       " 'control': 393,\n",
       " 'urge': 394,\n",
       " 'today': 395,\n",
       " 'law': 396,\n",
       " 'march': 397,\n",
       " 'american': 398,\n",
       " 'gop': 399,\n",
       " 'doubt': 400,\n",
       " 'weakness': 401,\n",
       " 'st': 402,\n",
       " 'bigger': 403,\n",
       " 'toll': 404,\n",
       " 'power': 405,\n",
       " 'retreat': 406,\n",
       " 'wide': 407,\n",
       " 'abreast': 408,\n",
       " 'rd': 409,\n",
       " 'half': 410,\n",
       " 'investment': 411,\n",
       " 'soft': 412,\n",
       " 'note': 413,\n",
       " 'easing': 414,\n",
       " 'row': 415,\n",
       " 'effort': 416,\n",
       " 'battle': 417,\n",
       " 'case': 418,\n",
       " 'economics': 419,\n",
       " 'win': 420,\n",
       " 'heard': 421,\n",
       " 'roundup': 422,\n",
       " 'past': 423,\n",
       " 'woe': 424,\n",
       " 'office': 425,\n",
       " 'declined': 426,\n",
       " 'tuesday': 427,\n",
       " 'large': 428,\n",
       " 'mutual': 429,\n",
       " 'ibm': 430,\n",
       " 'indicate': 431,\n",
       " 'expectation': 432,\n",
       " 'work': 433,\n",
       " 'investing': 434,\n",
       " 'flat': 435,\n",
       " 'expert': 436,\n",
       " 'line': 437,\n",
       " 'service': 438,\n",
       " 'manufacturing': 439,\n",
       " 'halt': 440,\n",
       " 'regional': 441,\n",
       " 'factor': 442,\n",
       " 'vote': 443,\n",
       " 'percent': 444,\n",
       " 'public': 445,\n",
       " 'steel': 446,\n",
       " 'md': 447,\n",
       " 'saving': 448,\n",
       " 'peak': 449,\n",
       " 'county': 450,\n",
       " 'card': 451,\n",
       " 'watch': 452,\n",
       " 'left': 453,\n",
       " 'estimate': 454,\n",
       " 'discount': 455,\n",
       " 'four': 456,\n",
       " 'tumble': 457,\n",
       " 'unit': 458,\n",
       " 'era': 459,\n",
       " 'behind': 460,\n",
       " 'downturn': 461,\n",
       " 'expansion': 462,\n",
       " 'ground': 463,\n",
       " 'volatility': 464,\n",
       " 'step': 465,\n",
       " 'suggest': 466,\n",
       " 'aim': 467,\n",
       " 'moderate': 468,\n",
       " 'bull': 469,\n",
       " 'right': 470,\n",
       " 'europe': 471,\n",
       " 'go': 472,\n",
       " 'eye': 473,\n",
       " 'october': 474,\n",
       " 'airline': 475,\n",
       " 'factory': 476,\n",
       " 'prime': 477,\n",
       " 'executive': 478,\n",
       " 'crash': 479,\n",
       " 'lending': 480,\n",
       " 'grows': 481,\n",
       " 'revenue': 482,\n",
       " 'sluggish': 483,\n",
       " 'well': 484,\n",
       " 'summer': 485,\n",
       " 'bid': 486,\n",
       " 'employee': 487,\n",
       " 'election': 488,\n",
       " 'group': 489,\n",
       " 'brazil': 490,\n",
       " 'run': 491,\n",
       " 'eas': 492,\n",
       " 'send': 493,\n",
       " 'wholesale': 494,\n",
       " 'va': 495,\n",
       " 'game': 496,\n",
       " 'administration': 497,\n",
       " 'virginia': 498,\n",
       " 'remains': 499,\n",
       " 'deflation': 500,\n",
       " 'continued': 501,\n",
       " 'fourth': 502,\n",
       " 'play': 503,\n",
       " 'morgan': 504,\n",
       " 'wednesday': 505,\n",
       " 'grew': 506,\n",
       " 'approves': 507,\n",
       " 'stage': 508,\n",
       " 'though': 509,\n",
       " 'weekend': 510,\n",
       " 'straight': 511,\n",
       " 'grow': 512,\n",
       " 'upbeat': 513,\n",
       " 'leading': 514,\n",
       " 'leave': 515,\n",
       " 'spot': 516,\n",
       " 'strategy': 517,\n",
       " 'measure': 518,\n",
       " 'period': 519,\n",
       " 'people': 520,\n",
       " 'open': 521,\n",
       " 'foreign': 522,\n",
       " 'expects': 523,\n",
       " 'weigh': 524,\n",
       " 'fee': 525,\n",
       " 'america': 526,\n",
       " 'pain': 527,\n",
       " 'tokyo': 528,\n",
       " 'cause': 529,\n",
       " 'merger': 530,\n",
       " 'insurance': 531,\n",
       " 'volcker': 532,\n",
       " 'weighs': 533,\n",
       " 'meet': 534,\n",
       " 'banking': 535,\n",
       " 'turmoil': 536,\n",
       " 'private': 537,\n",
       " 'tied': 538,\n",
       " 'predicted': 539,\n",
       " 'surplus': 540,\n",
       " 'gulf': 541,\n",
       " 'reach': 542,\n",
       " 'college': 543,\n",
       " 'nearly': 544,\n",
       " 'toward': 545,\n",
       " 'charge': 546,\n",
       " 'school': 547,\n",
       " 'store': 548,\n",
       " 'head': 549,\n",
       " 'carter': 550,\n",
       " 'race': 551,\n",
       " 'said': 552,\n",
       " 'continues': 553,\n",
       " 'quiet': 554,\n",
       " 'union': 555,\n",
       " 'wait': 556,\n",
       " 'stall': 557,\n",
       " 'hiring': 558,\n",
       " 'blame': 559,\n",
       " 'upward': 560,\n",
       " 'longer': 561,\n",
       " 'prospect': 562,\n",
       " 'spark': 563,\n",
       " 'living': 564,\n",
       " 'highest': 565,\n",
       " 'getting': 566,\n",
       " 'lose': 567,\n",
       " 'warning': 568,\n",
       " 'dispute': 569,\n",
       " 'due': 570,\n",
       " 'building': 571,\n",
       " 'swing': 572,\n",
       " 'matter': 573,\n",
       " 'borrowing': 574,\n",
       " 'appears': 575,\n",
       " 'correction': 576,\n",
       " 'picture': 577,\n",
       " 'djia': 578,\n",
       " 'test': 579,\n",
       " 'sharp': 580,\n",
       " 'crude': 581,\n",
       " 'coming': 582,\n",
       " 'recent': 583,\n",
       " 'annual': 584,\n",
       " 'await': 585,\n",
       " 'purchase': 586,\n",
       " 'must': 587,\n",
       " 'wary': 588,\n",
       " 'manufacturer': 589,\n",
       " 'pick': 590,\n",
       " 'gloom': 591,\n",
       " 'held': 592,\n",
       " 'following': 593,\n",
       " 'inventory': 594,\n",
       " 'worst': 595,\n",
       " 'five': 596,\n",
       " 'sends': 597,\n",
       " 'predicts': 598,\n",
       " 'struggle': 599,\n",
       " 'unlikely': 600,\n",
       " 'japanese': 601,\n",
       " 'lag': 602,\n",
       " 'attack': 603,\n",
       " 'full': 604,\n",
       " 'nd': 605,\n",
       " 'steam': 606,\n",
       " 'needed': 607,\n",
       " 'payment': 608,\n",
       " 'fire': 609,\n",
       " 'along': 610,\n",
       " 'party': 611,\n",
       " 'uncertainty': 612,\n",
       " 'aide': 613,\n",
       " 'monetary': 614,\n",
       " 'defense': 615,\n",
       " 'check': 616,\n",
       " 'v': 617,\n",
       " 'drug': 618,\n",
       " 'local': 619,\n",
       " 'link': 620,\n",
       " 'leader': 621,\n",
       " 'answer': 622,\n",
       " 'series': 623,\n",
       " 'want': 624,\n",
       " 'hill': 625,\n",
       " 'regulator': 626,\n",
       " 'smaller': 627,\n",
       " 'bit': 628,\n",
       " 'brace': 629,\n",
       " 'follow': 630,\n",
       " 'contract': 631,\n",
       " 'pose': 632,\n",
       " 'warn': 633,\n",
       " 'calm': 634,\n",
       " 'looking': 635,\n",
       " 'climbed': 636,\n",
       " 'reduce': 637,\n",
       " 'raising': 638,\n",
       " 'evidence': 639,\n",
       " 'rival': 640,\n",
       " 'system': 641,\n",
       " 'strain': 642,\n",
       " 'fast': 643,\n",
       " 'across': 644,\n",
       " 'york': 645,\n",
       " 'monday': 646,\n",
       " 'jitter': 647,\n",
       " 'total': 648,\n",
       " 'junk': 649,\n",
       " 'possible': 650,\n",
       " 'k': 651,\n",
       " 'electronics': 652,\n",
       " 'bottom': 653,\n",
       " 'car': 654,\n",
       " 'german': 655,\n",
       " 'gauge': 656,\n",
       " 'hand': 657,\n",
       " 'agency': 658,\n",
       " 'initial': 659,\n",
       " 'force': 660,\n",
       " 'mostly': 661,\n",
       " 'pact': 662,\n",
       " 'tightening': 663,\n",
       " 'overseas': 664,\n",
       " 'decade': 665,\n",
       " 'quarterly': 666,\n",
       " 'middle': 667,\n",
       " 'class': 668,\n",
       " 'gas': 669,\n",
       " 'narrow': 670,\n",
       " 'loses': 671,\n",
       " 'ecb': 672,\n",
       " 'part': 673,\n",
       " 'dividend': 674,\n",
       " 'relief': 675,\n",
       " 'estate': 676,\n",
       " 'surged': 677,\n",
       " 'agenda': 678,\n",
       " 'added': 679,\n",
       " 'buyer': 680,\n",
       " 'offset': 681,\n",
       " 'stir': 682,\n",
       " 'losing': 683,\n",
       " 'overall': 684,\n",
       " 'district': 685,\n",
       " 'among': 686,\n",
       " 'weaker': 687,\n",
       " 'urged': 688,\n",
       " 'durable': 689,\n",
       " 'unchanged': 690,\n",
       " 'offering': 691,\n",
       " 'ceo': 692,\n",
       " 'auction': 693,\n",
       " 'goal': 694,\n",
       " 'place': 695,\n",
       " 'lender': 696,\n",
       " 'reflects': 697,\n",
       " 'sink': 698,\n",
       " 'ad': 699,\n",
       " 'hour': 700,\n",
       " 'red': 701,\n",
       " 'layoff': 702,\n",
       " 'governor': 703,\n",
       " 'pet': 704,\n",
       " 'sunday': 705,\n",
       " 'book': 706,\n",
       " 'called': 707,\n",
       " 'cpi': 708,\n",
       " 'banker': 709,\n",
       " 'asia': 710,\n",
       " 'motor': 711,\n",
       " 'reform': 712,\n",
       " 'tell': 713,\n",
       " 'name': 714,\n",
       " 'canada': 715,\n",
       " 'google': 716,\n",
       " 'stronger': 717,\n",
       " 'downgrade': 718,\n",
       " 'search': 719,\n",
       " 'caution': 720,\n",
       " 'showing': 721,\n",
       " 'hedge': 722,\n",
       " 'trust': 723,\n",
       " 'lost': 724,\n",
       " 'improves': 725,\n",
       " 'committee': 726,\n",
       " 'ge': 727,\n",
       " 'gm': 728,\n",
       " 'strike': 729,\n",
       " 'widened': 730,\n",
       " 'threat': 731,\n",
       " 'cure': 732,\n",
       " 'beat': 733,\n",
       " 'shortage': 734,\n",
       " 'exchange': 735,\n",
       " 'poll': 736,\n",
       " 'faster': 737,\n",
       " 'reported': 738,\n",
       " 'unemployed': 739,\n",
       " 'comment': 740,\n",
       " 'others': 741,\n",
       " 'eased': 742,\n",
       " 'indicates': 743,\n",
       " 'really': 744,\n",
       " 'posted': 745,\n",
       " 'beating': 746,\n",
       " 'forecaster': 747,\n",
       " 'suit': 748,\n",
       " 'f': 749,\n",
       " 'weather': 750,\n",
       " 'hot': 751,\n",
       " 'european': 752,\n",
       " 'forex': 753,\n",
       " 'fade': 754,\n",
       " 'shine': 755,\n",
       " 'appraisal': 756,\n",
       " 'suggests': 757,\n",
       " 'product': 758,\n",
       " 'texas': 759,\n",
       " 'probe': 760,\n",
       " 'might': 761,\n",
       " 'republican': 762,\n",
       " 'thursday': 763,\n",
       " 'medical': 764,\n",
       " 'trim': 765,\n",
       " 'predict': 766,\n",
       " 'editorial': 767,\n",
       " 'staying': 768,\n",
       " 'kick': 769,\n",
       " 'divide': 770,\n",
       " 'borrower': 771,\n",
       " 'opportunity': 772,\n",
       " 'joblessness': 773,\n",
       " 'item': 774,\n",
       " 'iraq': 775,\n",
       " 'equity': 776,\n",
       " 'speculation': 777,\n",
       " 'democratic': 778,\n",
       " 'considered': 779,\n",
       " 'rumor': 780,\n",
       " 'double': 781,\n",
       " 'much': 782,\n",
       " 'california': 783,\n",
       " 'scenario': 784,\n",
       " 'conflict': 785,\n",
       " 'response': 786,\n",
       " 'campaign': 787,\n",
       " 'made': 788,\n",
       " 'free': 789,\n",
       " 'rich': 790,\n",
       " 'hike': 791,\n",
       " 'save': 792,\n",
       " 'skid': 793,\n",
       " 'miss': 794,\n",
       " 'renewed': 795,\n",
       " 'retirement': 796,\n",
       " 'current': 797,\n",
       " 'mind': 798,\n",
       " 'fixed': 799,\n",
       " 'ready': 800,\n",
       " 'gaining': 801,\n",
       " 'old': 802,\n",
       " 'delay': 803,\n",
       " 'intervention': 804,\n",
       " 'danger': 805,\n",
       " 'anti': 806,\n",
       " 'regan': 807,\n",
       " 'buoyant': 808,\n",
       " 'greater': 809,\n",
       " 'ban': 810,\n",
       " 'brisk': 811,\n",
       " 'spurt': 812,\n",
       " 'fix': 813,\n",
       " 'brief': 814,\n",
       " 'trouble': 815,\n",
       " 'history': 816,\n",
       " 'solution': 817,\n",
       " 'pull': 818,\n",
       " 'path': 819,\n",
       " 'briefing': 820,\n",
       " 'analysis': 821,\n",
       " 'woman': 822,\n",
       " 'wealth': 823,\n",
       " 'agrees': 824,\n",
       " 'insurer': 825,\n",
       " 'gao': 826,\n",
       " 'ups': 827,\n",
       " 'upturn': 828,\n",
       " 'changed': 829,\n",
       " 'remark': 830,\n",
       " 'surprise': 831,\n",
       " 'shrank': 832,\n",
       " 'skepticism': 833,\n",
       " 'use': 834,\n",
       " 'machine': 835,\n",
       " 'afternoon': 836,\n",
       " 'brother': 837,\n",
       " 'stanley': 838,\n",
       " 'pension': 839,\n",
       " 'feel': 840,\n",
       " 'slowly': 841,\n",
       " 'shrinking': 842,\n",
       " 'moneybeat': 843,\n",
       " 'poor': 844,\n",
       " 'outlay': 845,\n",
       " 'healthy': 846,\n",
       " 'course': 847,\n",
       " 'ride': 848,\n",
       " 'bleak': 849,\n",
       " 'mart': 850,\n",
       " 'slowed': 851,\n",
       " 'reaction': 852,\n",
       " 'utility': 853,\n",
       " 'tame': 854,\n",
       " 'bolster': 855,\n",
       " 'unevenly': 856,\n",
       " 'continuing': 857,\n",
       " 'chicago': 858,\n",
       " 'proposes': 859,\n",
       " 'unease': 860,\n",
       " 'nears': 861,\n",
       " 'weekly': 862,\n",
       " 'positive': 863,\n",
       " 'improving': 864,\n",
       " 'crunch': 865,\n",
       " 'internet': 866,\n",
       " 'fun': 867,\n",
       " 'broker': 868,\n",
       " 'ending': 869,\n",
       " 'wrong': 870,\n",
       " 'setback': 871,\n",
       " 'west': 872,\n",
       " 'bearish': 873,\n",
       " 'jumped': 874,\n",
       " 'tighten': 875,\n",
       " 'revised': 876,\n",
       " 'planning': 877,\n",
       " 'stand': 878,\n",
       " 'lehman': 879,\n",
       " 'property': 880,\n",
       " 'commerce': 881,\n",
       " 'resume': 882,\n",
       " 'gasoline': 883,\n",
       " 'dropped': 884,\n",
       " 'position': 885,\n",
       " 'stance': 886,\n",
       " 'sudden': 887,\n",
       " 'tough': 888,\n",
       " 'tie': 889,\n",
       " 'severe': 890,\n",
       " 'going': 891,\n",
       " 'widens': 892,\n",
       " 'slight': 893,\n",
       " 'jones': 894,\n",
       " 'triple': 895,\n",
       " 'speech': 896,\n",
       " 'clear': 897,\n",
       " 'pickup': 898,\n",
       " 'block': 899,\n",
       " 'spring': 900,\n",
       " 'limit': 901,\n",
       " 'fails': 902,\n",
       " 'table': 903,\n",
       " 'room': 904,\n",
       " 'shaky': 905,\n",
       " 'beware': 906,\n",
       " 'creation': 907,\n",
       " 'stop': 908,\n",
       " 'shopping': 909,\n",
       " 'momentum': 910,\n",
       " 'support': 911,\n",
       " 'road': 912,\n",
       " 'upside': 913,\n",
       " 'benchmark': 914,\n",
       " 'bring': 915,\n",
       " 'brake': 916,\n",
       " 'bias': 917,\n",
       " 'realty': 918,\n",
       " 'recover': 919,\n",
       " 'life': 920,\n",
       " 'medicare': 921,\n",
       " 'lack': 922,\n",
       " 'seller': 923,\n",
       " 'russia': 924,\n",
       " 'bounce': 925,\n",
       " 'lot': 926,\n",
       " 'damp': 927,\n",
       " 'winner': 928,\n",
       " 'loser': 929,\n",
       " 'bailout': 930,\n",
       " 'international': 931,\n",
       " 'commodity': 932,\n",
       " 'cool': 933,\n",
       " 'belief': 934,\n",
       " 'draw': 935,\n",
       " 'event': 936,\n",
       " 'broader': 937,\n",
       " 'worse': 938,\n",
       " 'sound': 939,\n",
       " 'belt': 940,\n",
       " 'storm': 941,\n",
       " 'spread': 942,\n",
       " 'minute': 943,\n",
       " 'cite': 944,\n",
       " 'fueled': 945,\n",
       " 'abroad': 946,\n",
       " 'stable': 947,\n",
       " 'restraint': 948,\n",
       " 'regulatory': 949,\n",
       " 'turnaround': 950,\n",
       " 'star': 951,\n",
       " 'idea': 952,\n",
       " 'different': 953,\n",
       " 'bullish': 954,\n",
       " 'cheap': 955,\n",
       " 'statistic': 956,\n",
       " 'trillion': 957,\n",
       " 'center': 958,\n",
       " 'blamed': 959,\n",
       " 'zero': 960,\n",
       " 'provide': 961,\n",
       " 'education': 962,\n",
       " 'direction': 963,\n",
       " 'expense': 964,\n",
       " 'science': 965,\n",
       " 'prof': 966,\n",
       " 'appear': 967,\n",
       " 'brings': 968,\n",
       " 'join': 969,\n",
       " 'track': 970,\n",
       " 'reduces': 971,\n",
       " 'favor': 972,\n",
       " 'town': 973,\n",
       " 'cloud': 974,\n",
       " 'chrysler': 975,\n",
       " 'away': 976,\n",
       " 'wrap': 977,\n",
       " 'lesson': 978,\n",
       " 'finally': 979,\n",
       " 'poverty': 980,\n",
       " 'policymakers': 981,\n",
       " 'asks': 982,\n",
       " 'domestic': 983,\n",
       " 'general': 984,\n",
       " 'reaching': 985,\n",
       " 'mexico': 986,\n",
       " 'martin': 987,\n",
       " 'burn': 988,\n",
       " 'approved': 989,\n",
       " 'mull': 990,\n",
       " 'outsourcing': 991,\n",
       " 'priority': 992,\n",
       " 'r': 993,\n",
       " 'betting': 994,\n",
       " 'cap': 995,\n",
       " 'cautious': 996,\n",
       " 'reason': 997,\n",
       " 'great': 998,\n",
       " 'member': 999,\n",
       " 'try': 1000,\n",
       " ...}"
      ]
     },
     "execution_count": 24,
     "metadata": {},
     "output_type": "execute_result"
    }
   ],
   "source": [
    "word_index"
   ]
  },
  {
   "cell_type": "code",
   "execution_count": 25,
   "id": "d8bc0b15",
   "metadata": {
    "colab": {
     "base_uri": "https://localhost:8080/"
    },
    "id": "d8bc0b15",
    "outputId": "bc0c8ab2-9e8f-470d-a17e-89b96cd00afd"
   },
   "outputs": [
    {
     "data": {
      "text/plain": [
       "4468"
      ]
     },
     "execution_count": 25,
     "metadata": {},
     "output_type": "execute_result"
    }
   ],
   "source": [
    "total_words"
   ]
  },
  {
   "cell_type": "markdown",
   "id": "016c30d7",
   "metadata": {
    "id": "016c30d7"
   },
   "source": [
    "### Padding Sequences\n",
    "Sentences and sequences tend to have different lengths, however our model is expecting equally sized observations.\n",
    "Here we want to convert our texts to sequences and make them of the same length (in general, the lenght of the longest of our sequences). We are going to use here `pad_sequences` from Tensorflow (documentation [here](https://www.tensorflow.org/api_docs/python/tf/keras/utils/pad_sequences)), to add zeroes to the tokenized sentences until they all reach the same length."
   ]
  },
  {
   "cell_type": "code",
   "execution_count": 26,
   "id": "ea518a6d",
   "metadata": {
    "id": "ea518a6d"
   },
   "outputs": [],
   "source": [
    "sequences = tokenizer.texts_to_sequences(wtxt_train)\n",
    "padded_sequences = pad_sequences(sequences)"
   ]
  },
  {
   "cell_type": "code",
   "execution_count": 27,
   "id": "6a3a19b1",
   "metadata": {
    "id": "6a3a19b1"
   },
   "outputs": [
    {
     "data": {
      "text/plain": [
       "[191, 1037, 173, 309, 50]"
      ]
     },
     "execution_count": 27,
     "metadata": {},
     "output_type": "execute_result"
    }
   ],
   "source": [
    "sequences[0]"
   ]
  },
  {
   "cell_type": "code",
   "execution_count": 28,
   "id": "bf5a3374",
   "metadata": {
    "colab": {
     "base_uri": "https://localhost:8080/"
    },
    "id": "bf5a3374",
    "outputId": "99253544-bbca-48ca-e1d5-b86689138957"
   },
   "outputs": [
    {
     "data": {
      "text/plain": [
       "array([[   0,    0,    0, ...,  173,  309,   50],\n",
       "       [   0,    0,    0, ...,  556,   28,   34],\n",
       "       [   0,    0,    0, ..., 1381, 1040,  203],\n",
       "       ...,\n",
       "       [   0,    0,    0, ..., 4464, 1047, 4465],\n",
       "       [   0,    0,    0, ...,  113,  376, 4467],\n",
       "       [   0,    0,    0, ...,    0,  282,  348]])"
      ]
     },
     "execution_count": 28,
     "metadata": {},
     "output_type": "execute_result"
    }
   ],
   "source": [
    "padded_sequences"
   ]
  },
  {
   "cell_type": "code",
   "execution_count": 29,
   "id": "89dd0de2",
   "metadata": {},
   "outputs": [],
   "source": [
    "df['pad_seq'] = padded_sequences.tolist()"
   ]
  },
  {
   "cell_type": "code",
   "execution_count": 30,
   "id": "4f444fcc",
   "metadata": {},
   "outputs": [
    {
     "data": {
      "text/html": [
       "<div>\n",
       "<style scoped>\n",
       "    .dataframe tbody tr th:only-of-type {\n",
       "        vertical-align: middle;\n",
       "    }\n",
       "\n",
       "    .dataframe tbody tr th {\n",
       "        vertical-align: top;\n",
       "    }\n",
       "\n",
       "    .dataframe thead th {\n",
       "        text-align: right;\n",
       "    }\n",
       "</style>\n",
       "<table border=\"1\" class=\"dataframe\">\n",
       "  <thead>\n",
       "    <tr style=\"text-align: right;\">\n",
       "      <th></th>\n",
       "      <th>relevance</th>\n",
       "      <th>pad_seq</th>\n",
       "    </tr>\n",
       "  </thead>\n",
       "  <tbody>\n",
       "    <tr>\n",
       "      <th>0</th>\n",
       "      <td>1</td>\n",
       "      <td>[0, 0, 0, 0, 0, 0, 0, 0, 0, 0, 0, 0, 0, 0, 0, ...</td>\n",
       "    </tr>\n",
       "    <tr>\n",
       "      <th>4</th>\n",
       "      <td>1</td>\n",
       "      <td>[0, 0, 0, 0, 0, 0, 0, 0, 0, 0, 0, 0, 0, 0, 0, ...</td>\n",
       "    </tr>\n",
       "    <tr>\n",
       "      <th>5</th>\n",
       "      <td>1</td>\n",
       "      <td>[0, 0, 0, 0, 0, 0, 0, 0, 0, 0, 0, 0, 0, 0, 0, ...</td>\n",
       "    </tr>\n",
       "    <tr>\n",
       "      <th>9</th>\n",
       "      <td>1</td>\n",
       "      <td>[0, 0, 0, 0, 0, 0, 0, 0, 0, 0, 0, 0, 0, 0, 0, ...</td>\n",
       "    </tr>\n",
       "    <tr>\n",
       "      <th>12</th>\n",
       "      <td>1</td>\n",
       "      <td>[0, 0, 0, 0, 0, 0, 0, 0, 0, 0, 0, 0, 0, 0, 0, ...</td>\n",
       "    </tr>\n",
       "    <tr>\n",
       "      <th>...</th>\n",
       "      <td>...</td>\n",
       "      <td>...</td>\n",
       "    </tr>\n",
       "    <tr>\n",
       "      <th>7810</th>\n",
       "      <td>0</td>\n",
       "      <td>[0, 0, 0, 0, 0, 0, 0, 0, 0, 0, 0, 0, 0, 0, 0, ...</td>\n",
       "    </tr>\n",
       "    <tr>\n",
       "      <th>677</th>\n",
       "      <td>0</td>\n",
       "      <td>[0, 0, 0, 0, 0, 0, 0, 0, 0, 0, 0, 0, 0, 0, 0, ...</td>\n",
       "    </tr>\n",
       "    <tr>\n",
       "      <th>4794</th>\n",
       "      <td>0</td>\n",
       "      <td>[0, 0, 0, 0, 0, 0, 0, 0, 0, 0, 0, 0, 0, 0, 0, ...</td>\n",
       "    </tr>\n",
       "    <tr>\n",
       "      <th>5869</th>\n",
       "      <td>0</td>\n",
       "      <td>[0, 0, 0, 0, 0, 0, 0, 0, 0, 0, 0, 0, 0, 0, 0, ...</td>\n",
       "    </tr>\n",
       "    <tr>\n",
       "      <th>2977</th>\n",
       "      <td>0</td>\n",
       "      <td>[0, 0, 0, 0, 0, 0, 0, 0, 0, 0, 0, 0, 0, 0, 0, ...</td>\n",
       "    </tr>\n",
       "  </tbody>\n",
       "</table>\n",
       "<p>2840 rows × 2 columns</p>\n",
       "</div>"
      ],
      "text/plain": [
       "     relevance                                            pad_seq\n",
       "0            1  [0, 0, 0, 0, 0, 0, 0, 0, 0, 0, 0, 0, 0, 0, 0, ...\n",
       "4            1  [0, 0, 0, 0, 0, 0, 0, 0, 0, 0, 0, 0, 0, 0, 0, ...\n",
       "5            1  [0, 0, 0, 0, 0, 0, 0, 0, 0, 0, 0, 0, 0, 0, 0, ...\n",
       "9            1  [0, 0, 0, 0, 0, 0, 0, 0, 0, 0, 0, 0, 0, 0, 0, ...\n",
       "12           1  [0, 0, 0, 0, 0, 0, 0, 0, 0, 0, 0, 0, 0, 0, 0, ...\n",
       "...        ...                                                ...\n",
       "7810         0  [0, 0, 0, 0, 0, 0, 0, 0, 0, 0, 0, 0, 0, 0, 0, ...\n",
       "677          0  [0, 0, 0, 0, 0, 0, 0, 0, 0, 0, 0, 0, 0, 0, 0, ...\n",
       "4794         0  [0, 0, 0, 0, 0, 0, 0, 0, 0, 0, 0, 0, 0, 0, 0, ...\n",
       "5869         0  [0, 0, 0, 0, 0, 0, 0, 0, 0, 0, 0, 0, 0, 0, 0, ...\n",
       "2977         0  [0, 0, 0, 0, 0, 0, 0, 0, 0, 0, 0, 0, 0, 0, 0, ...\n",
       "\n",
       "[2840 rows x 2 columns]"
      ]
     },
     "execution_count": 30,
     "metadata": {},
     "output_type": "execute_result"
    }
   ],
   "source": [
    "df.drop(['whole_txt'], axis = 1)"
   ]
  },
  {
   "cell_type": "code",
   "execution_count": 31,
   "id": "561a6b0d",
   "metadata": {},
   "outputs": [
    {
     "data": {
      "text/html": [
       "<div>\n",
       "<style scoped>\n",
       "    .dataframe tbody tr th:only-of-type {\n",
       "        vertical-align: middle;\n",
       "    }\n",
       "\n",
       "    .dataframe tbody tr th {\n",
       "        vertical-align: top;\n",
       "    }\n",
       "\n",
       "    .dataframe thead th {\n",
       "        text-align: right;\n",
       "    }\n",
       "</style>\n",
       "<table border=\"1\" class=\"dataframe\">\n",
       "  <thead>\n",
       "    <tr style=\"text-align: right;\">\n",
       "      <th></th>\n",
       "      <th>relevance</th>\n",
       "      <th>whole_txt</th>\n",
       "      <th>pad_seq</th>\n",
       "    </tr>\n",
       "  </thead>\n",
       "  <tbody>\n",
       "    <tr>\n",
       "      <th>0</th>\n",
       "      <td>1</td>\n",
       "      <td>[yield, cd, fell, latest, week]</td>\n",
       "      <td>[0, 0, 0, 0, 0, 0, 0, 0, 0, 0, 0, 0, 0, 0, 0, ...</td>\n",
       "    </tr>\n",
       "    <tr>\n",
       "      <th>4</th>\n",
       "      <td>1</td>\n",
       "      <td>[currency, trading, dollar, remains, tight, ra...</td>\n",
       "      <td>[0, 0, 0, 0, 0, 0, 0, 0, 0, 0, 0, 0, 0, 0, 0, ...</td>\n",
       "    </tr>\n",
       "    <tr>\n",
       "      <th>5</th>\n",
       "      <td>1</td>\n",
       "      <td>[stock, fall, bofa, alcoa, slide]</td>\n",
       "      <td>[0, 0, 0, 0, 0, 0, 0, 0, 0, 0, 0, 0, 0, 0, 0, ...</td>\n",
       "    </tr>\n",
       "    <tr>\n",
       "      <th>9</th>\n",
       "      <td>1</td>\n",
       "      <td>[u, dollar, fall, currency, decline, softened,...</td>\n",
       "      <td>[0, 0, 0, 0, 0, 0, 0, 0, 0, 0, 0, 0, 0, 0, 0, ...</td>\n",
       "    </tr>\n",
       "    <tr>\n",
       "      <th>12</th>\n",
       "      <td>1</td>\n",
       "      <td>[defending, deflation]</td>\n",
       "      <td>[0, 0, 0, 0, 0, 0, 0, 0, 0, 0, 0, 0, 0, 0, 0, ...</td>\n",
       "    </tr>\n",
       "  </tbody>\n",
       "</table>\n",
       "</div>"
      ],
      "text/plain": [
       "   relevance                                          whole_txt  \\\n",
       "0          1                    [yield, cd, fell, latest, week]   \n",
       "4          1  [currency, trading, dollar, remains, tight, ra...   \n",
       "5          1                  [stock, fall, bofa, alcoa, slide]   \n",
       "9          1  [u, dollar, fall, currency, decline, softened,...   \n",
       "12         1                             [defending, deflation]   \n",
       "\n",
       "                                              pad_seq  \n",
       "0   [0, 0, 0, 0, 0, 0, 0, 0, 0, 0, 0, 0, 0, 0, 0, ...  \n",
       "4   [0, 0, 0, 0, 0, 0, 0, 0, 0, 0, 0, 0, 0, 0, 0, ...  \n",
       "5   [0, 0, 0, 0, 0, 0, 0, 0, 0, 0, 0, 0, 0, 0, 0, ...  \n",
       "9   [0, 0, 0, 0, 0, 0, 0, 0, 0, 0, 0, 0, 0, 0, 0, ...  \n",
       "12  [0, 0, 0, 0, 0, 0, 0, 0, 0, 0, 0, 0, 0, 0, 0, ...  "
      ]
     },
     "execution_count": 31,
     "metadata": {},
     "output_type": "execute_result"
    }
   ],
   "source": [
    "df.head(5)"
   ]
  },
  {
   "cell_type": "markdown",
   "id": "83826301",
   "metadata": {},
   "source": [
    "### Train-Test Split"
   ]
  },
  {
   "cell_type": "code",
   "execution_count": 32,
   "id": "f00e30da",
   "metadata": {},
   "outputs": [],
   "source": [
    "X = padded_sequences\n",
    "y = df['relevance']"
   ]
  },
  {
   "cell_type": "code",
   "execution_count": 33,
   "id": "fB_vM2GQkf-Y",
   "metadata": {
    "id": "fB_vM2GQkf-Y"
   },
   "outputs": [],
   "source": [
    "from sklearn.model_selection import train_test_split\n",
    "X_train, X_test, y_train, y_test = train_test_split(X, y,  test_size=0.2, random_state=42)"
   ]
  },
  {
   "cell_type": "code",
   "execution_count": 34,
   "id": "4e0850ba",
   "metadata": {},
   "outputs": [],
   "source": [
    "X_train, X_val, y_train, y_val = train_test_split(X_train, y_train,  test_size=0.2, random_state=42)"
   ]
  },
  {
   "cell_type": "code",
   "execution_count": 35,
   "id": "19ab3a73",
   "metadata": {},
   "outputs": [
    {
     "data": {
      "text/plain": [
       "array([[   0,    0,    0, ...,    2,   96, 1779],\n",
       "       [   0,    0,    0, ...,  752,  179, 1152],\n",
       "       [   0,    0,    0, ...,  215,  323,   35],\n",
       "       ...,\n",
       "       [   0,    0,    0, ...,   75,   63,  539],\n",
       "       [   0,    0,    0, ...,    0,   16,   30],\n",
       "       [   0,    0,    0, ...,    2,   94,  173]])"
      ]
     },
     "execution_count": 35,
     "metadata": {},
     "output_type": "execute_result"
    }
   ],
   "source": [
    "X_train"
   ]
  },
  {
   "cell_type": "code",
   "execution_count": 36,
   "id": "d51f8bcb",
   "metadata": {},
   "outputs": [
    {
     "data": {
      "text/plain": [
       "(1817, 29)"
      ]
     },
     "execution_count": 36,
     "metadata": {},
     "output_type": "execute_result"
    }
   ],
   "source": [
    "X_train.shape"
   ]
  },
  {
   "cell_type": "code",
   "execution_count": 37,
   "id": "5f8059d8",
   "metadata": {},
   "outputs": [
    {
     "data": {
      "text/plain": [
       "6965    1\n",
       "2156    0\n",
       "1103    0\n",
       "7486    1\n",
       "5865    1\n",
       "       ..\n",
       "2245    1\n",
       "1956    1\n",
       "3711    0\n",
       "506     1\n",
       "3821    1\n",
       "Name: relevance, Length: 1817, dtype: object"
      ]
     },
     "execution_count": 37,
     "metadata": {},
     "output_type": "execute_result"
    }
   ],
   "source": [
    "y_train"
   ]
  },
  {
   "cell_type": "code",
   "execution_count": 38,
   "id": "17b7f2e4-69de-440c-b103-2cec4159024a",
   "metadata": {},
   "outputs": [
    {
     "data": {
      "text/plain": [
       "917"
      ]
     },
     "execution_count": 38,
     "metadata": {},
     "output_type": "execute_result"
    }
   ],
   "source": [
    "sum(y_train)"
   ]
  },
  {
   "cell_type": "code",
   "execution_count": 39,
   "id": "128bd1f8",
   "metadata": {},
   "outputs": [
    {
     "data": {
      "text/plain": [
       "(1817,)"
      ]
     },
     "execution_count": 39,
     "metadata": {},
     "output_type": "execute_result"
    }
   ],
   "source": [
    "y_train.shape"
   ]
  },
  {
   "cell_type": "code",
   "execution_count": 40,
   "id": "adde4bc3",
   "metadata": {},
   "outputs": [
    {
     "data": {
      "text/plain": [
       "(455,)"
      ]
     },
     "execution_count": 40,
     "metadata": {},
     "output_type": "execute_result"
    }
   ],
   "source": [
    "y_val.shape"
   ]
  },
  {
   "cell_type": "code",
   "execution_count": 41,
   "id": "aa0a8eba",
   "metadata": {},
   "outputs": [
    {
     "data": {
      "text/plain": [
       "(568,)"
      ]
     },
     "execution_count": 41,
     "metadata": {},
     "output_type": "execute_result"
    }
   ],
   "source": [
    "y_test.shape"
   ]
  },
  {
   "cell_type": "code",
   "execution_count": 42,
   "id": "0f0eab78",
   "metadata": {},
   "outputs": [],
   "source": [
    "y_train = np.array(y_train)\n",
    "y_val = np.array(y_val)\n",
    "y_test = np.array(y_test)"
   ]
  },
  {
   "cell_type": "code",
   "execution_count": 43,
   "id": "35c078ca",
   "metadata": {},
   "outputs": [],
   "source": [
    "y_train = y_train.astype('int')\n",
    "y_val = y_val.astype('int')\n",
    "y_test = y_test.astype('int')"
   ]
  },
  {
   "cell_type": "markdown",
   "id": "0fe8e8b2",
   "metadata": {
    "id": "0fe8e8b2"
   },
   "source": [
    "### Building the model\n",
    "\n",
    "We are going to build a simple model that includes:\n",
    "- `Embedding` layer with an output representation of each word as a vector of dim 16\n",
    "- `LSTM` (see class slides for more detail or RNNs example notebook for more details) with an intermediate state of 100\n",
    "- An output layer `Dense` that connects the output of the LSTM and creates an output of 3 positions (one per class) as output of the network"
   ]
  },
  {
   "cell_type": "markdown",
   "id": "9223fed7",
   "metadata": {},
   "source": [
    "That is model nr.1 "
   ]
  },
  {
   "cell_type": "code",
   "execution_count": 44,
   "id": "84e1fd75",
   "metadata": {
    "id": "84e1fd75"
   },
   "outputs": [
    {
     "name": "stdout",
     "output_type": "stream",
     "text": [
      "WARNING:tensorflow:From C:\\Users\\majon\\AppData\\Local\\Programs\\Python\\Python310\\lib\\site-packages\\keras\\src\\backend.py:873: The name tf.get_default_graph is deprecated. Please use tf.compat.v1.get_default_graph instead.\n",
      "\n",
      "WARNING:tensorflow:From C:\\Users\\majon\\AppData\\Local\\Programs\\Python\\Python310\\lib\\site-packages\\keras\\src\\optimizers\\__init__.py:309: The name tf.train.Optimizer is deprecated. Please use tf.compat.v1.train.Optimizer instead.\n",
      "\n"
     ]
    }
   ],
   "source": [
    "# We are going to build our model with the Sequential API\n",
    "model = Sequential()\n",
    "model.add(Embedding(total_words,      # number of words to process as input\n",
    "                    100,    # output representation\n",
    "                    input_length=len(padded_sequences[0])))    # total length of each observation\n",
    "model.add(LSTM(100, return_sequences=False))\n",
    "model.add(Dense(1, activation='sigmoid'))  # Change activation based on the number of classes\n",
    "\n",
    "model.compile(optimizer='adam', loss='binary_crossentropy', metrics=['accuracy'])"
   ]
  },
  {
   "cell_type": "code",
   "execution_count": 45,
   "id": "286e1067",
   "metadata": {
    "colab": {
     "base_uri": "https://localhost:8080/"
    },
    "id": "286e1067",
    "outputId": "ef815e79-2cdb-4372-f0f2-a45738a6bd09"
   },
   "outputs": [
    {
     "data": {
      "text/plain": [
       "<tf.Tensor: shape=(2840, 1), dtype=float32, numpy=\n",
       "array([[0.49772337],\n",
       "       [0.49676976],\n",
       "       [0.49626645],\n",
       "       ...,\n",
       "       [0.4915451 ],\n",
       "       [0.49659628],\n",
       "       [0.49277118]], dtype=float32)>"
      ]
     },
     "execution_count": 45,
     "metadata": {},
     "output_type": "execute_result"
    }
   ],
   "source": [
    "model(padded_sequences)"
   ]
  },
  {
   "cell_type": "code",
   "execution_count": 46,
   "id": "290f727f",
   "metadata": {},
   "outputs": [
    {
     "name": "stdout",
     "output_type": "stream",
     "text": [
      "Model: \"sequential\"\n",
      "_________________________________________________________________\n",
      " Layer (type)                Output Shape              Param #   \n",
      "=================================================================\n",
      " embedding (Embedding)       (None, 29, 100)           446800    \n",
      "                                                                 \n",
      " lstm (LSTM)                 (None, 100)               80400     \n",
      "                                                                 \n",
      " dense (Dense)               (None, 1)                 101       \n",
      "                                                                 \n",
      "=================================================================\n",
      "Total params: 527301 (2.01 MB)\n",
      "Trainable params: 527301 (2.01 MB)\n",
      "Non-trainable params: 0 (0.00 Byte)\n",
      "_________________________________________________________________\n"
     ]
    }
   ],
   "source": [
    "model.summary()"
   ]
  },
  {
   "cell_type": "markdown",
   "id": "1101ccfc",
   "metadata": {
    "id": "1101ccfc"
   },
   "source": [
    "# Training the models"
   ]
  },
  {
   "cell_type": "markdown",
   "id": "55429b96",
   "metadata": {},
   "source": [
    "### MODEL 1 (The base model)"
   ]
  },
  {
   "cell_type": "code",
   "execution_count": 47,
   "id": "826df8ad",
   "metadata": {
    "colab": {
     "base_uri": "https://localhost:8080/"
    },
    "id": "826df8ad",
    "outputId": "954999b9-e6f3-43a2-dc81-a5c10a8e6ef1"
   },
   "outputs": [
    {
     "name": "stdout",
     "output_type": "stream",
     "text": [
      "Epoch 1/40\n",
      "WARNING:tensorflow:From C:\\Users\\majon\\AppData\\Local\\Programs\\Python\\Python310\\lib\\site-packages\\keras\\src\\utils\\tf_utils.py:492: The name tf.ragged.RaggedTensorValue is deprecated. Please use tf.compat.v1.ragged.RaggedTensorValue instead.\n",
      "\n",
      "WARNING:tensorflow:From C:\\Users\\majon\\AppData\\Local\\Programs\\Python\\Python310\\lib\\site-packages\\keras\\src\\engine\\base_layer_utils.py:384: The name tf.executing_eagerly_outside_functions is deprecated. Please use tf.compat.v1.executing_eagerly_outside_functions instead.\n",
      "\n",
      "57/57 [==============================] - 3s 22ms/step - loss: 0.6889 - accuracy: 0.5360 - val_loss: 0.6756 - val_accuracy: 0.6352\n",
      "Epoch 2/40\n",
      "57/57 [==============================] - 1s 18ms/step - loss: 0.5649 - accuracy: 0.7391 - val_loss: 0.6557 - val_accuracy: 0.6198\n",
      "Epoch 3/40\n",
      "57/57 [==============================] - 1s 15ms/step - loss: 0.3717 - accuracy: 0.8597 - val_loss: 0.7191 - val_accuracy: 0.6418\n",
      "Epoch 4/40\n",
      "57/57 [==============================] - 1s 15ms/step - loss: 0.2220 - accuracy: 0.9130 - val_loss: 0.9593 - val_accuracy: 0.6374\n",
      "Epoch 5/40\n",
      "57/57 [==============================] - 1s 14ms/step - loss: 0.1375 - accuracy: 0.9527 - val_loss: 1.1298 - val_accuracy: 0.6022\n",
      "Epoch 6/40\n",
      "57/57 [==============================] - 1s 14ms/step - loss: 0.0907 - accuracy: 0.9703 - val_loss: 1.1318 - val_accuracy: 0.6286\n",
      "Epoch 7/40\n",
      "57/57 [==============================] - 1s 14ms/step - loss: 0.0821 - accuracy: 0.9686 - val_loss: 1.2185 - val_accuracy: 0.6242\n",
      "Epoch 8/40\n",
      "57/57 [==============================] - 1s 14ms/step - loss: 0.0570 - accuracy: 0.9818 - val_loss: 1.4971 - val_accuracy: 0.6308\n",
      "Epoch 9/40\n",
      "57/57 [==============================] - 1s 14ms/step - loss: 0.0458 - accuracy: 0.9829 - val_loss: 1.6630 - val_accuracy: 0.6154\n",
      "Epoch 10/40\n",
      "57/57 [==============================] - 1s 14ms/step - loss: 0.0380 - accuracy: 0.9873 - val_loss: 1.8010 - val_accuracy: 0.6264\n",
      "Epoch 11/40\n",
      "57/57 [==============================] - 1s 14ms/step - loss: 0.0336 - accuracy: 0.9890 - val_loss: 1.8588 - val_accuracy: 0.6176\n",
      "Epoch 12/40\n",
      "57/57 [==============================] - 1s 14ms/step - loss: 0.0330 - accuracy: 0.9879 - val_loss: 2.1308 - val_accuracy: 0.6264\n",
      "Epoch 13/40\n",
      "57/57 [==============================] - 1s 15ms/step - loss: 0.0937 - accuracy: 0.9708 - val_loss: 1.6384 - val_accuracy: 0.6154\n",
      "Epoch 14/40\n",
      "57/57 [==============================] - 1s 15ms/step - loss: 0.0404 - accuracy: 0.9862 - val_loss: 1.7110 - val_accuracy: 0.6066\n",
      "Epoch 15/40\n",
      "57/57 [==============================] - 1s 14ms/step - loss: 0.0312 - accuracy: 0.9912 - val_loss: 1.9263 - val_accuracy: 0.6198\n",
      "Epoch 16/40\n",
      "57/57 [==============================] - 1s 14ms/step - loss: 0.0275 - accuracy: 0.9906 - val_loss: 2.0296 - val_accuracy: 0.6132\n",
      "Epoch 17/40\n",
      "57/57 [==============================] - 1s 14ms/step - loss: 0.0258 - accuracy: 0.9923 - val_loss: 2.1403 - val_accuracy: 0.6132\n",
      "Epoch 18/40\n",
      "57/57 [==============================] - 1s 14ms/step - loss: 0.0252 - accuracy: 0.9917 - val_loss: 2.2086 - val_accuracy: 0.6132\n",
      "Epoch 19/40\n",
      "57/57 [==============================] - 1s 15ms/step - loss: 0.0254 - accuracy: 0.9923 - val_loss: 2.2669 - val_accuracy: 0.6110\n",
      "Epoch 20/40\n",
      "57/57 [==============================] - 1s 15ms/step - loss: 0.0242 - accuracy: 0.9917 - val_loss: 2.3233 - val_accuracy: 0.6110\n",
      "Epoch 21/40\n",
      "57/57 [==============================] - 1s 15ms/step - loss: 0.0237 - accuracy: 0.9923 - val_loss: 2.3835 - val_accuracy: 0.6088\n",
      "Epoch 22/40\n",
      "57/57 [==============================] - 1s 15ms/step - loss: 0.0226 - accuracy: 0.9917 - val_loss: 2.4529 - val_accuracy: 0.6110\n",
      "Epoch 23/40\n",
      "57/57 [==============================] - 1s 14ms/step - loss: 0.0235 - accuracy: 0.9906 - val_loss: 2.4880 - val_accuracy: 0.6110\n",
      "Epoch 24/40\n",
      "57/57 [==============================] - 1s 15ms/step - loss: 0.0218 - accuracy: 0.9917 - val_loss: 2.5036 - val_accuracy: 0.6066\n",
      "Epoch 25/40\n",
      "57/57 [==============================] - 1s 15ms/step - loss: 0.0219 - accuracy: 0.9923 - val_loss: 2.5871 - val_accuracy: 0.6132\n",
      "Epoch 26/40\n",
      "57/57 [==============================] - 1s 17ms/step - loss: 0.0225 - accuracy: 0.9928 - val_loss: 2.4962 - val_accuracy: 0.6154\n",
      "Epoch 27/40\n",
      "57/57 [==============================] - 1s 15ms/step - loss: 0.0223 - accuracy: 0.9923 - val_loss: 2.5594 - val_accuracy: 0.6132\n",
      "Epoch 28/40\n",
      "57/57 [==============================] - 1s 15ms/step - loss: 0.0212 - accuracy: 0.9923 - val_loss: 2.6848 - val_accuracy: 0.6022\n",
      "Epoch 29/40\n",
      "57/57 [==============================] - 1s 15ms/step - loss: 0.0218 - accuracy: 0.9917 - val_loss: 2.6854 - val_accuracy: 0.6044\n",
      "Epoch 30/40\n",
      "57/57 [==============================] - 1s 14ms/step - loss: 0.0204 - accuracy: 0.9923 - val_loss: 2.7713 - val_accuracy: 0.6110\n",
      "Epoch 31/40\n",
      "57/57 [==============================] - 1s 15ms/step - loss: 0.0230 - accuracy: 0.9928 - val_loss: 2.6166 - val_accuracy: 0.6088\n",
      "Epoch 32/40\n",
      "57/57 [==============================] - 1s 14ms/step - loss: 0.0229 - accuracy: 0.9917 - val_loss: 2.8063 - val_accuracy: 0.6066\n",
      "Epoch 33/40\n",
      "57/57 [==============================] - 1s 14ms/step - loss: 0.0217 - accuracy: 0.9917 - val_loss: 2.7983 - val_accuracy: 0.6044\n",
      "Epoch 34/40\n",
      "57/57 [==============================] - 1s 15ms/step - loss: 0.0214 - accuracy: 0.9928 - val_loss: 2.7657 - val_accuracy: 0.5956\n",
      "Epoch 35/40\n",
      "57/57 [==============================] - 1s 15ms/step - loss: 0.0208 - accuracy: 0.9928 - val_loss: 2.8587 - val_accuracy: 0.5934\n",
      "Epoch 36/40\n",
      "57/57 [==============================] - 1s 14ms/step - loss: 0.0202 - accuracy: 0.9928 - val_loss: 2.8950 - val_accuracy: 0.5934\n",
      "Epoch 37/40\n",
      "57/57 [==============================] - 1s 15ms/step - loss: 0.0220 - accuracy: 0.9923 - val_loss: 2.7901 - val_accuracy: 0.6132\n",
      "Epoch 38/40\n",
      "57/57 [==============================] - 1s 15ms/step - loss: 0.0216 - accuracy: 0.9917 - val_loss: 2.9179 - val_accuracy: 0.5978\n",
      "Epoch 39/40\n",
      "57/57 [==============================] - 1s 15ms/step - loss: 0.0205 - accuracy: 0.9917 - val_loss: 3.0464 - val_accuracy: 0.6088\n",
      "Epoch 40/40\n",
      "57/57 [==============================] - 1s 15ms/step - loss: 0.0208 - accuracy: 0.9923 - val_loss: 2.8311 - val_accuracy: 0.6044\n"
     ]
    }
   ],
   "source": [
    "hist = model.fit(X_train, y_train, epochs=40, validation_data = (X_val, y_val))"
   ]
  },
  {
   "cell_type": "code",
   "execution_count": 48,
   "id": "286d9981",
   "metadata": {
    "scrolled": true
   },
   "outputs": [
    {
     "data": {
      "text/plain": [
       "{'loss': [0.6889052391052246,\n",
       "  0.5649034380912781,\n",
       "  0.3716810643672943,\n",
       "  0.22201547026634216,\n",
       "  0.13745716214179993,\n",
       "  0.09069530665874481,\n",
       "  0.08206699788570404,\n",
       "  0.057037875056266785,\n",
       "  0.04582047089934349,\n",
       "  0.03801938518881798,\n",
       "  0.033595021814107895,\n",
       "  0.03303682431578636,\n",
       "  0.0937054306268692,\n",
       "  0.040446024388074875,\n",
       "  0.031168807297945023,\n",
       "  0.02752508409321308,\n",
       "  0.025840209797024727,\n",
       "  0.025219112634658813,\n",
       "  0.025408174842596054,\n",
       "  0.024227924644947052,\n",
       "  0.023670224472880363,\n",
       "  0.022641735151410103,\n",
       "  0.023526631295681,\n",
       "  0.021756518632173538,\n",
       "  0.021942883729934692,\n",
       "  0.022455815225839615,\n",
       "  0.022313129156827927,\n",
       "  0.021154990419745445,\n",
       "  0.021830163896083832,\n",
       "  0.020446976646780968,\n",
       "  0.02303001843392849,\n",
       "  0.02286391332745552,\n",
       "  0.021720698103308678,\n",
       "  0.02135576494038105,\n",
       "  0.02083490788936615,\n",
       "  0.02024092525243759,\n",
       "  0.021992502734065056,\n",
       "  0.021646305918693542,\n",
       "  0.020545661449432373,\n",
       "  0.02084224484860897],\n",
       " 'accuracy': [0.536048412322998,\n",
       "  0.739130437374115,\n",
       "  0.8596587777137756,\n",
       "  0.9130434989929199,\n",
       "  0.9526692628860474,\n",
       "  0.9702807068824768,\n",
       "  0.9686295986175537,\n",
       "  0.9818381667137146,\n",
       "  0.9829388856887817,\n",
       "  0.9873417615890503,\n",
       "  0.9889928698539734,\n",
       "  0.9878921508789062,\n",
       "  0.970831036567688,\n",
       "  0.9862410426139832,\n",
       "  0.9911942481994629,\n",
       "  0.9906439185142517,\n",
       "  0.99229496717453,\n",
       "  0.9917446374893188,\n",
       "  0.99229496717453,\n",
       "  0.9917446374893188,\n",
       "  0.99229496717453,\n",
       "  0.9917446374893188,\n",
       "  0.9906439185142517,\n",
       "  0.9917446374893188,\n",
       "  0.99229496717453,\n",
       "  0.992845356464386,\n",
       "  0.99229496717453,\n",
       "  0.99229496717453,\n",
       "  0.9917446374893188,\n",
       "  0.99229496717453,\n",
       "  0.992845356464386,\n",
       "  0.9917446374893188,\n",
       "  0.9917446374893188,\n",
       "  0.992845356464386,\n",
       "  0.992845356464386,\n",
       "  0.992845356464386,\n",
       "  0.99229496717453,\n",
       "  0.9917446374893188,\n",
       "  0.9917446374893188,\n",
       "  0.99229496717453],\n",
       " 'val_loss': [0.675586998462677,\n",
       "  0.6556870937347412,\n",
       "  0.7190544605255127,\n",
       "  0.9593009948730469,\n",
       "  1.129810094833374,\n",
       "  1.1318104267120361,\n",
       "  1.2184778451919556,\n",
       "  1.497071385383606,\n",
       "  1.6630173921585083,\n",
       "  1.8009811639785767,\n",
       "  1.8588438034057617,\n",
       "  2.1308116912841797,\n",
       "  1.6384371519088745,\n",
       "  1.710981845855713,\n",
       "  1.926296591758728,\n",
       "  2.029567003250122,\n",
       "  2.140293836593628,\n",
       "  2.2085866928100586,\n",
       "  2.2668888568878174,\n",
       "  2.3233039379119873,\n",
       "  2.383533477783203,\n",
       "  2.452871561050415,\n",
       "  2.487985372543335,\n",
       "  2.5036420822143555,\n",
       "  2.5870754718780518,\n",
       "  2.496232748031616,\n",
       "  2.559391975402832,\n",
       "  2.684847354888916,\n",
       "  2.685407876968384,\n",
       "  2.7712981700897217,\n",
       "  2.6165521144866943,\n",
       "  2.8063018321990967,\n",
       "  2.7983264923095703,\n",
       "  2.765742063522339,\n",
       "  2.858658790588379,\n",
       "  2.8949828147888184,\n",
       "  2.790107488632202,\n",
       "  2.917938470840454,\n",
       "  3.046405076980591,\n",
       "  2.831127643585205],\n",
       " 'val_accuracy': [0.6351648569107056,\n",
       "  0.6197802424430847,\n",
       "  0.6417582631111145,\n",
       "  0.6373626589775085,\n",
       "  0.6021978259086609,\n",
       "  0.6285714507102966,\n",
       "  0.6241758465766907,\n",
       "  0.6307692527770996,\n",
       "  0.6153846383094788,\n",
       "  0.6263736486434937,\n",
       "  0.6175824403762817,\n",
       "  0.6263736486434937,\n",
       "  0.6153846383094788,\n",
       "  0.6065934300422668,\n",
       "  0.6197802424430847,\n",
       "  0.6131868362426758,\n",
       "  0.6131868362426758,\n",
       "  0.6131868362426758,\n",
       "  0.6109890341758728,\n",
       "  0.6109890341758728,\n",
       "  0.6087912321090698,\n",
       "  0.6109890341758728,\n",
       "  0.6109890341758728,\n",
       "  0.6065934300422668,\n",
       "  0.6131868362426758,\n",
       "  0.6153846383094788,\n",
       "  0.6131868362426758,\n",
       "  0.6021978259086609,\n",
       "  0.6043956279754639,\n",
       "  0.6109890341758728,\n",
       "  0.6087912321090698,\n",
       "  0.6065934300422668,\n",
       "  0.6043956279754639,\n",
       "  0.595604419708252,\n",
       "  0.593406617641449,\n",
       "  0.593406617641449,\n",
       "  0.6131868362426758,\n",
       "  0.5978022217750549,\n",
       "  0.6087912321090698,\n",
       "  0.6043956279754639]}"
      ]
     },
     "execution_count": 48,
     "metadata": {},
     "output_type": "execute_result"
    }
   ],
   "source": [
    "hist.history"
   ]
  },
  {
   "cell_type": "code",
   "execution_count": 49,
   "id": "b2af0489",
   "metadata": {},
   "outputs": [
    {
     "data": {
      "text/plain": [
       "[<matplotlib.lines.Line2D at 0x1bf2a8b00a0>]"
      ]
     },
     "execution_count": 49,
     "metadata": {},
     "output_type": "execute_result"
    },
    {
     "data": {
      "image/png": "[encoded data removed]",
      "text/plain": [
       "<Figure size 640x480 with 1 Axes>"
      ]
     },
     "metadata": {},
     "output_type": "display_data"
    }
   ],
   "source": [
    "import matplotlib.pyplot as plt\n",
    "plt.plot(hist.history['loss'])\n",
    "plt.plot(hist.history['accuracy'])"
   ]
  },
  {
   "cell_type": "code",
   "execution_count": 50,
   "id": "a1484a19",
   "metadata": {
    "colab": {
     "base_uri": "https://localhost:8080/"
    },
    "id": "a1484a19",
    "outputId": "5db7ef87-e57e-4f8c-c74b-f124fab03672"
   },
   "outputs": [
    {
     "name": "stdout",
     "output_type": "stream",
     "text": [
      "[0 0 0 ... 0 0 0]\n"
     ]
    }
   ],
   "source": [
    "print(model(padded_sequences).numpy().argmax(axis = 1))"
   ]
  },
  {
   "cell_type": "markdown",
   "id": "781be31e",
   "metadata": {},
   "source": [
    "Model 1 Testing"
   ]
  },
  {
   "cell_type": "code",
   "execution_count": 51,
   "id": "76c6df0e",
   "metadata": {},
   "outputs": [
    {
     "name": "stdout",
     "output_type": "stream",
     "text": [
      "18/18 [==============================] - 0s 5ms/step - loss: 3.3656 - accuracy: 0.5775\n",
      "Test Loss: 3.3656\n",
      "Test Accuracy: 57.75%\n"
     ]
    }
   ],
   "source": [
    "loss, accuracy = model.evaluate(X_test, y_test)\n",
    "\n",
    "print(f'Test Loss: {loss:.4f}')\n",
    "print(f'Test Accuracy: {accuracy * 100:.2f}%')"
   ]
  },
  {
   "cell_type": "code",
   "execution_count": 52,
   "id": "f3526a9c",
   "metadata": {},
   "outputs": [
    {
     "name": "stdout",
     "output_type": "stream",
     "text": [
      "18/18 [==============================] - 0s 5ms/step\n"
     ]
    }
   ],
   "source": [
    "#Prection and Confusion Matrix\n",
    "y_pred = model.predict(X_test)\n",
    "bin_y_pred = (y_pred > 0.5).astype(int)"
   ]
  },
  {
   "cell_type": "code",
   "execution_count": 53,
   "id": "062c9c2c",
   "metadata": {},
   "outputs": [],
   "source": [
    "bin_y_pred = np.squeeze(bin_y_pred)"
   ]
  },
  {
   "cell_type": "code",
   "execution_count": 54,
   "id": "23edf0b7",
   "metadata": {},
   "outputs": [
    {
     "data": {
      "text/plain": [
       "array([1, 1, 0, 0, 0, 0, 1, 0, 0, 0, 1, 0, 0, 0, 1, 0, 1, 1, 1, 1, 1, 1,\n",
       "       0, 1, 1, 1, 0, 0, 1, 1, 1, 0, 0, 1, 1, 0, 1, 1, 0, 1, 0, 0, 1, 0,\n",
       "       0, 1, 1, 0, 0, 1, 1, 0, 1, 1, 1, 0, 1, 0, 1, 0, 1, 0, 0, 1, 1, 0,\n",
       "       1, 0, 1, 0, 0, 0, 0, 1, 1, 1, 1, 1, 0, 0, 0, 1, 0, 1, 0, 0, 1, 0,\n",
       "       1, 1, 1, 1, 1, 1, 0, 1, 1, 1, 1, 0, 1, 1, 1, 0, 1, 1, 0, 0, 1, 1,\n",
       "       1, 0, 1, 0, 0, 1, 1, 1, 1, 1, 1, 1, 0, 1, 1, 1, 0, 0, 1, 0, 0, 1,\n",
       "       1, 1, 1, 0, 0, 0, 1, 0, 0, 1, 1, 0, 0, 0, 1, 1, 1, 1, 0, 1, 1, 1,\n",
       "       1, 1, 1, 1, 0, 1, 1, 1, 0, 1, 0, 1, 1, 1, 1, 0, 0, 1, 1, 0, 1, 1,\n",
       "       0, 1, 1, 1, 0, 1, 1, 1, 1, 1, 1, 0, 1, 1, 0, 1, 1, 1, 1, 0, 0, 0,\n",
       "       1, 0, 1, 1, 1, 1, 0, 1, 1, 0, 0, 0, 0, 1, 0, 0, 1, 1, 0, 1, 0, 0,\n",
       "       1, 0, 1, 1, 1, 0, 1, 0, 1, 1, 0, 0, 1, 1, 1, 0, 1, 1, 0, 1, 0, 1,\n",
       "       0, 0, 1, 0, 0, 0, 1, 0, 0, 1, 0, 0, 0, 1, 1, 1, 0, 0, 1, 0, 1, 0,\n",
       "       0, 1, 0, 0, 0, 0, 1, 1, 1, 0, 1, 0, 0, 1, 0, 0, 0, 1, 0, 1, 1, 0,\n",
       "       0, 1, 1, 1, 0, 0, 0, 1, 1, 1, 1, 0, 1, 0, 0, 1, 0, 0, 1, 1, 0, 0,\n",
       "       1, 0, 1, 1, 0, 0, 1, 0, 0, 1, 1, 1, 0, 1, 1, 1, 0, 1, 0, 1, 1, 0,\n",
       "       1, 1, 1, 0, 1, 0, 0, 0, 1, 0, 1, 0, 1, 1, 0, 1, 1, 1, 1, 0, 0, 0,\n",
       "       1, 1, 0, 1, 0, 1, 1, 1, 0, 0, 1, 0, 0, 1, 0, 0, 0, 0, 0, 0, 0, 1,\n",
       "       1, 1, 0, 1, 1, 1, 0, 0, 0, 1, 1, 0, 1, 1, 1, 1, 1, 0, 1, 1, 1, 1,\n",
       "       1, 1, 0, 1, 1, 0, 1, 1, 0, 1, 1, 0, 0, 1, 0, 1, 0, 0, 1, 0, 0, 1,\n",
       "       1, 1, 1, 0, 1, 0, 1, 1, 1, 1, 1, 1, 1, 0, 1, 0, 0, 1, 0, 1, 1, 0,\n",
       "       0, 1, 0, 1, 1, 0, 0, 0, 1, 1, 0, 0, 1, 1, 1, 1, 0, 0, 0, 1, 0, 0,\n",
       "       1, 0, 0, 1, 0, 0, 0, 1, 1, 1, 0, 1, 1, 1, 1, 1, 1, 1, 1, 0, 1, 1,\n",
       "       1, 0, 0, 0, 0, 0, 1, 1, 0, 1, 0, 1, 1, 0, 0, 1, 1, 1, 1, 0, 0, 0,\n",
       "       0, 0, 0, 1, 0, 1, 0, 1, 1, 1, 1, 1, 0, 1, 0, 0, 1, 0, 0, 1, 1, 0,\n",
       "       1, 1, 0, 1, 1, 1, 1, 1, 0, 0, 1, 0, 0, 0, 1, 1, 0, 0, 0, 0, 1, 0,\n",
       "       1, 0, 0, 0, 0, 1, 1, 1, 1, 1, 1, 1, 1, 1, 1, 1, 0, 1])"
      ]
     },
     "execution_count": 54,
     "metadata": {},
     "output_type": "execute_result"
    }
   ],
   "source": [
    "bin_y_pred"
   ]
  },
  {
   "cell_type": "code",
   "execution_count": 55,
   "id": "5f682ab2",
   "metadata": {},
   "outputs": [],
   "source": [
    "from sklearn.metrics import confusion_matrix"
   ]
  },
  {
   "cell_type": "code",
   "execution_count": 56,
   "id": "e345456a",
   "metadata": {},
   "outputs": [
    {
     "name": "stdout",
     "output_type": "stream",
     "text": [
      "                    Predicted No        Predicted Yes       \n",
      "Actual No           145                 137                 \n",
      "Actual Yes          103                 183                 \n"
     ]
    }
   ],
   "source": [
    "y_true = y_test\n",
    "y_pred = bin_y_pred\n",
    "\n",
    "cm = confusion_matrix(y_true, y_pred)\n",
    "\n",
    "TN, FP, FN, TP = cm.ravel()\n",
    "\n",
    "print(f\"{'':<20}{'Predicted No':<20}{'Predicted Yes':<20}\")\n",
    "print(f\"{'Actual No':<20}{TN:<20}{FP:<20}\")\n",
    "print(f\"{'Actual Yes':<20}{FN:<20}{TP:<20}\")"
   ]
  },
  {
   "cell_type": "markdown",
   "id": "f5437a9f",
   "metadata": {},
   "source": [
    "### MODEL 2"
   ]
  },
  {
   "cell_type": "code",
   "execution_count": 83,
   "id": "e790349c",
   "metadata": {},
   "outputs": [],
   "source": [
    "# We are going to build our model with the Sequential API\n",
    "model2 = Sequential()\n",
    "\n",
    "model2.add(Embedding(total_words,      # number of words to process as input\n",
    "                    50,    # output representation\n",
    "                    input_length=len(padded_sequences[0])))    # total length of each observation\n",
    "\n",
    "model2.add(LSTM(50, return_sequences=False))\n",
    "\n",
    "model2.add(Dropout(0.2))\n",
    "\n",
    "model2.add(Dense(1, activation='sigmoid')) \n",
    "\n",
    "model2.compile(optimizer='adam', loss='binary_crossentropy', metrics=['accuracy'])"
   ]
  },
  {
   "cell_type": "code",
   "execution_count": 84,
   "id": "a4fded32",
   "metadata": {},
   "outputs": [
    {
     "name": "stdout",
     "output_type": "stream",
     "text": [
      "Model: \"sequential_5\"\n",
      "_________________________________________________________________\n",
      " Layer (type)                Output Shape              Param #   \n",
      "=================================================================\n",
      " embedding_5 (Embedding)     (None, 29, 50)            223400    \n",
      "                                                                 \n",
      " lstm_5 (LSTM)               (None, 50)                20200     \n",
      "                                                                 \n",
      " dropout_2 (Dropout)         (None, 50)                0         \n",
      "                                                                 \n",
      " dense_5 (Dense)             (None, 1)                 51        \n",
      "                                                                 \n",
      "=================================================================\n",
      "Total params: 243651 (951.76 KB)\n",
      "Trainable params: 243651 (951.76 KB)\n",
      "Non-trainable params: 0 (0.00 Byte)\n",
      "_________________________________________________________________\n"
     ]
    }
   ],
   "source": [
    "model2.summary()"
   ]
  },
  {
   "cell_type": "code",
   "execution_count": 61,
   "id": "db80d3d3",
   "metadata": {},
   "outputs": [],
   "source": [
    "early_stopping = EarlyStopping(monitor='val_loss', patience=3, restore_best_weights=True)"
   ]
  },
  {
   "cell_type": "code",
   "execution_count": 86,
   "id": "2cc28f7c",
   "metadata": {},
   "outputs": [
    {
     "name": "stdout",
     "output_type": "stream",
     "text": [
      "Epoch 1/10\n",
      "57/57 [==============================] - 5s 33ms/step - loss: 0.6919 - accuracy: 0.5190 - val_loss: 0.6862 - val_accuracy: 0.6044\n",
      "Epoch 2/10\n",
      "57/57 [==============================] - 1s 18ms/step - loss: 0.6264 - accuracy: 0.7309 - val_loss: 0.6505 - val_accuracy: 0.6066\n",
      "Epoch 3/10\n",
      "57/57 [==============================] - 1s 18ms/step - loss: 0.4441 - accuracy: 0.8145 - val_loss: 0.6892 - val_accuracy: 0.6703\n",
      "Epoch 4/10\n",
      "57/57 [==============================] - 1s 18ms/step - loss: 0.2814 - accuracy: 0.8806 - val_loss: 0.7954 - val_accuracy: 0.6308\n",
      "Epoch 5/10\n",
      "57/57 [==============================] - 1s 18ms/step - loss: 0.1851 - accuracy: 0.9378 - val_loss: 0.8987 - val_accuracy: 0.6286\n"
     ]
    }
   ],
   "source": [
    "hist = model2.fit(X_train, y_train, epochs=10, validation_data = (X_val, y_val), callbacks=[early_stopping])"
   ]
  },
  {
   "cell_type": "code",
   "execution_count": 87,
   "id": "fbb22e66-121c-4cf2-ab52-a9478edb90dd",
   "metadata": {},
   "outputs": [
    {
     "data": {
      "text/plain": [
       "[<matplotlib.lines.Line2D at 0x2b23e50cdf0>]"
      ]
     },
     "execution_count": 87,
     "metadata": {},
     "output_type": "execute_result"
    },
    {
     "data": {
      "image/png": "[encoded data removed]",
      "text/plain": [
       "<Figure size 640x480 with 1 Axes>"
      ]
     },
     "metadata": {},
     "output_type": "display_data"
    }
   ],
   "source": [
    "plt.plot(hist.history['loss'])\n",
    "plt.plot(hist.history['accuracy'])"
   ]
  },
  {
   "cell_type": "code",
   "execution_count": 82,
   "id": "a59b099a",
   "metadata": {},
   "outputs": [
    {
     "name": "stdout",
     "output_type": "stream",
     "text": [
      "18/18 [==============================] - 0s 14ms/step - loss: 0.6372 - accuracy: 0.6549\n"
     ]
    }
   ],
   "source": [
    "loss, accuracy = model2.evaluate(X_test, y_test)"
   ]
  },
  {
   "cell_type": "markdown",
   "id": "83c8e04a",
   "metadata": {},
   "source": [
    "### MODEL 3"
   ]
  },
  {
   "cell_type": "code",
   "execution_count": 68,
   "id": "cce897ae",
   "metadata": {},
   "outputs": [],
   "source": [
    "model3 = Sequential()\n",
    "\n",
    "model3.add(Embedding(total_words,      # number of words to process as input\n",
    "                    100,    # output representation\n",
    "                    input_length=len(padded_sequences[0])))    # total length of each observation\n",
    "\n",
    "model3.add(LSTM(100, return_sequences=False))\n",
    "\n",
    "model3.add(Dense(1, activation='sigmoid')) \n",
    "\n",
    "model3.compile(optimizer='adam', loss='hinge', metrics=['accuracy'])"
   ]
  },
  {
   "cell_type": "code",
   "execution_count": 69,
   "id": "8a14b1ec",
   "metadata": {},
   "outputs": [
    {
     "name": "stdout",
     "output_type": "stream",
     "text": [
      "Model: \"sequential_2\"\n",
      "_________________________________________________________________\n",
      " Layer (type)                Output Shape              Param #   \n",
      "=================================================================\n",
      " embedding_2 (Embedding)     (None, 29, 100)           446800    \n",
      "                                                                 \n",
      " lstm_2 (LSTM)               (None, 100)               80400     \n",
      "                                                                 \n",
      " dense_2 (Dense)             (None, 1)                 101       \n",
      "                                                                 \n",
      "=================================================================\n",
      "Total params: 527301 (2.01 MB)\n",
      "Trainable params: 527301 (2.01 MB)\n",
      "Non-trainable params: 0 (0.00 Byte)\n",
      "_________________________________________________________________\n"
     ]
    }
   ],
   "source": [
    "model3.summary()"
   ]
  },
  {
   "cell_type": "code",
   "execution_count": 71,
   "id": "6963b196",
   "metadata": {},
   "outputs": [
    {
     "name": "stdout",
     "output_type": "stream",
     "text": [
      "Epoch 1/20\n",
      "57/57 [==============================] - 2s 30ms/step - loss: 0.5933 - accuracy: 0.9059 - val_loss: 0.8954 - val_accuracy: 0.6286\n",
      "Epoch 2/20\n",
      "57/57 [==============================] - 1s 23ms/step - loss: 0.5821 - accuracy: 0.9185 - val_loss: 0.8974 - val_accuracy: 0.6286\n",
      "Epoch 3/20\n",
      "57/57 [==============================] - 1s 23ms/step - loss: 0.5650 - accuracy: 0.9334 - val_loss: 0.8849 - val_accuracy: 0.6352\n",
      "Epoch 4/20\n",
      "57/57 [==============================] - 1s 24ms/step - loss: 0.5597 - accuracy: 0.9378 - val_loss: 0.8940 - val_accuracy: 0.6308\n",
      "Epoch 5/20\n",
      "57/57 [==============================] - 1s 24ms/step - loss: 0.5549 - accuracy: 0.9417 - val_loss: 0.8913 - val_accuracy: 0.6374\n",
      "Epoch 6/20\n",
      "57/57 [==============================] - 1s 23ms/step - loss: 0.5521 - accuracy: 0.9450 - val_loss: 0.8867 - val_accuracy: 0.6418\n",
      "Epoch 7/20\n",
      "57/57 [==============================] - 1s 23ms/step - loss: 0.5497 - accuracy: 0.9472 - val_loss: 0.8907 - val_accuracy: 0.6352\n",
      "Epoch 8/20\n",
      "57/57 [==============================] - 1s 19ms/step - loss: 0.5524 - accuracy: 0.9450 - val_loss: 0.8952 - val_accuracy: 0.6352\n",
      "Epoch 9/20\n",
      "57/57 [==============================] - 1s 17ms/step - loss: 0.5498 - accuracy: 0.9483 - val_loss: 0.8946 - val_accuracy: 0.6330\n",
      "Epoch 10/20\n",
      "57/57 [==============================] - 1s 19ms/step - loss: 0.5520 - accuracy: 0.9450 - val_loss: 0.8998 - val_accuracy: 0.6176\n",
      "Epoch 11/20\n",
      "57/57 [==============================] - 1s 18ms/step - loss: 0.5512 - accuracy: 0.9466 - val_loss: 0.9037 - val_accuracy: 0.6176\n",
      "Epoch 12/20\n",
      "57/57 [==============================] - 1s 17ms/step - loss: 0.5465 - accuracy: 0.9505 - val_loss: 0.9109 - val_accuracy: 0.6110\n",
      "Epoch 13/20\n",
      "57/57 [==============================] - 1s 18ms/step - loss: 0.5451 - accuracy: 0.9505 - val_loss: 0.9077 - val_accuracy: 0.6220\n",
      "Epoch 14/20\n",
      "57/57 [==============================] - 1s 18ms/step - loss: 0.5445 - accuracy: 0.9510 - val_loss: 0.9073 - val_accuracy: 0.6242\n",
      "Epoch 15/20\n",
      "57/57 [==============================] - 1s 18ms/step - loss: 0.5444 - accuracy: 0.9510 - val_loss: 0.9096 - val_accuracy: 0.6154\n",
      "Epoch 16/20\n",
      "57/57 [==============================] - 1s 18ms/step - loss: 0.5444 - accuracy: 0.9510 - val_loss: 0.9097 - val_accuracy: 0.6066\n",
      "Epoch 17/20\n",
      "57/57 [==============================] - 2s 37ms/step - loss: 0.5444 - accuracy: 0.9510 - val_loss: 0.9101 - val_accuracy: 0.6154\n",
      "Epoch 18/20\n",
      "57/57 [==============================] - 1s 20ms/step - loss: 0.5443 - accuracy: 0.9510 - val_loss: 0.9097 - val_accuracy: 0.6154\n",
      "Epoch 19/20\n",
      "57/57 [==============================] - 1s 19ms/step - loss: 0.5443 - accuracy: 0.9510 - val_loss: 0.9095 - val_accuracy: 0.6198\n",
      "Epoch 20/20\n",
      "57/57 [==============================] - 1s 18ms/step - loss: 0.5443 - accuracy: 0.9510 - val_loss: 0.9101 - val_accuracy: 0.6198\n"
     ]
    }
   ],
   "source": [
    "his = model3.fit(X_train, y_train, epochs=20, validation_data = (X_val, y_val))"
   ]
  },
  {
   "cell_type": "code",
   "execution_count": 72,
   "id": "67912764",
   "metadata": {},
   "outputs": [
    {
     "data": {
      "text/plain": [
       "{'loss': [0.5932866930961609,\n",
       "  0.5821117162704468,\n",
       "  0.5649919509887695,\n",
       "  0.559748113155365,\n",
       "  0.5549067854881287,\n",
       "  0.5520820021629333,\n",
       "  0.5497434735298157,\n",
       "  0.5523592829704285,\n",
       "  0.5497554540634155,\n",
       "  0.5520237684249878,\n",
       "  0.551159143447876,\n",
       "  0.5464674234390259,\n",
       "  0.5451012253761292,\n",
       "  0.5444509983062744,\n",
       "  0.5443956255912781,\n",
       "  0.5443633198738098,\n",
       "  0.5443546772003174,\n",
       "  0.5443485975265503,\n",
       "  0.5443422198295593,\n",
       "  0.5443377494812012],\n",
       " 'accuracy': [0.9058888554573059,\n",
       "  0.9185470342636108,\n",
       "  0.9334067106246948,\n",
       "  0.9378095865249634,\n",
       "  0.941662073135376,\n",
       "  0.9449642300605774,\n",
       "  0.9471656680107117,\n",
       "  0.9449642300605774,\n",
       "  0.9482663869857788,\n",
       "  0.9449642300605774,\n",
       "  0.9466152787208557,\n",
       "  0.9504678249359131,\n",
       "  0.9504678249359131,\n",
       "  0.9510181546211243,\n",
       "  0.9510181546211243,\n",
       "  0.9510181546211243,\n",
       "  0.9510181546211243,\n",
       "  0.9510181546211243,\n",
       "  0.9510181546211243,\n",
       "  0.9510181546211243],\n",
       " 'val_loss': [0.8954136371612549,\n",
       "  0.8973639011383057,\n",
       "  0.8849393129348755,\n",
       "  0.8940407037734985,\n",
       "  0.8912904262542725,\n",
       "  0.8867226839065552,\n",
       "  0.8906832933425903,\n",
       "  0.895247220993042,\n",
       "  0.8945832848548889,\n",
       "  0.8998342156410217,\n",
       "  0.9036932587623596,\n",
       "  0.9108714461326599,\n",
       "  0.9077132344245911,\n",
       "  0.907305896282196,\n",
       "  0.9096219539642334,\n",
       "  0.9097104668617249,\n",
       "  0.910051703453064,\n",
       "  0.9096669554710388,\n",
       "  0.9094865918159485,\n",
       "  0.9101081490516663],\n",
       " 'val_accuracy': [0.6285714507102966,\n",
       "  0.6285714507102966,\n",
       "  0.6351648569107056,\n",
       "  0.6307692527770996,\n",
       "  0.6373626589775085,\n",
       "  0.6417582631111145,\n",
       "  0.6351648569107056,\n",
       "  0.6351648569107056,\n",
       "  0.6329670548439026,\n",
       "  0.6175824403762817,\n",
       "  0.6175824403762817,\n",
       "  0.6109890341758728,\n",
       "  0.6219780445098877,\n",
       "  0.6241758465766907,\n",
       "  0.6153846383094788,\n",
       "  0.6065934300422668,\n",
       "  0.6153846383094788,\n",
       "  0.6153846383094788,\n",
       "  0.6197802424430847,\n",
       "  0.6197802424430847]}"
      ]
     },
     "execution_count": 72,
     "metadata": {},
     "output_type": "execute_result"
    }
   ],
   "source": [
    "his.history"
   ]
  },
  {
   "cell_type": "code",
   "execution_count": 66,
   "id": "218f1b11",
   "metadata": {
    "id": "218f1b11"
   },
   "outputs": [],
   "source": [
    "import matplotlib.pyplot as plt\n"
   ]
  },
  {
   "cell_type": "code",
   "execution_count": 74,
   "id": "a49a0850",
   "metadata": {},
   "outputs": [
    {
     "data": {
      "text/plain": [
       "[<matplotlib.lines.Line2D at 0x2b237806b30>]"
      ]
     },
     "execution_count": 74,
     "metadata": {},
     "output_type": "execute_result"
    },
    {
     "data": {
      "image/png": "[encoded data removed]",
      "text/plain": [
       "<Figure size 640x480 with 1 Axes>"
      ]
     },
     "metadata": {},
     "output_type": "display_data"
    }
   ],
   "source": [
    "plt.plot(his.history['loss'])\n",
    "plt.plot(his.history['accuracy'])"
   ]
  },
  {
   "cell_type": "markdown",
   "id": "1c8c7755",
   "metadata": {},
   "source": [
    "### MODEL 4"
   ]
  },
  {
   "cell_type": "code",
   "execution_count": 93,
   "id": "38ed8871",
   "metadata": {},
   "outputs": [],
   "source": [
    "model4 = Sequential()\n",
    "\n",
    "model4.add(Embedding(total_words,      # number of words to process as input\n",
    "                    100,    # output representation\n",
    "                    input_length=len(padded_sequences[0])))    # total length of each observation\n",
    "\n",
    "model4.add(LSTM(100, return_sequences=False))\n",
    "\n",
    "model4.add(Dense(1, activation='sigmoid')) \n",
    "\n",
    "model4.compile(optimizer='sgd', loss='binary_crossentropy', metrics=['accuracy'])"
   ]
  },
  {
   "cell_type": "code",
   "execution_count": 94,
   "id": "d97c51d9",
   "metadata": {},
   "outputs": [
    {
     "name": "stdout",
     "output_type": "stream",
     "text": [
      "Model: \"sequential_7\"\n",
      "_________________________________________________________________\n",
      " Layer (type)                Output Shape              Param #   \n",
      "=================================================================\n",
      " embedding_7 (Embedding)     (None, 29, 100)           446800    \n",
      "                                                                 \n",
      " lstm_7 (LSTM)               (None, 100)               80400     \n",
      "                                                                 \n",
      " dense_7 (Dense)             (None, 1)                 101       \n",
      "                                                                 \n",
      "=================================================================\n",
      "Total params: 527301 (2.01 MB)\n",
      "Trainable params: 527301 (2.01 MB)\n",
      "Non-trainable params: 0 (0.00 Byte)\n",
      "_________________________________________________________________\n"
     ]
    }
   ],
   "source": [
    "model4.summary()"
   ]
  },
  {
   "cell_type": "code",
   "execution_count": 95,
   "id": "7fba69cf",
   "metadata": {
    "id": "7fba69cf"
   },
   "outputs": [
    {
     "name": "stdout",
     "output_type": "stream",
     "text": [
      "Epoch 1/5\n",
      "57/57 [==============================] - 5s 38ms/step - loss: 0.6931 - accuracy: 0.5129 - val_loss: 0.6928 - val_accuracy: 0.5077\n",
      "Epoch 2/5\n",
      "57/57 [==============================] - 1s 24ms/step - loss: 0.6930 - accuracy: 0.5096 - val_loss: 0.6928 - val_accuracy: 0.5011\n",
      "Epoch 3/5\n",
      "57/57 [==============================] - 1s 21ms/step - loss: 0.6930 - accuracy: 0.5063 - val_loss: 0.6928 - val_accuracy: 0.5011\n",
      "Epoch 4/5\n",
      "57/57 [==============================] - 1s 17ms/step - loss: 0.6930 - accuracy: 0.5173 - val_loss: 0.6929 - val_accuracy: 0.4945\n",
      "Epoch 5/5\n",
      "57/57 [==============================] - 1s 18ms/step - loss: 0.6929 - accuracy: 0.5151 - val_loss: 0.6929 - val_accuracy: 0.4835\n"
     ]
    }
   ],
   "source": [
    "his2 = model4.fit(X_train, y_train, epochs=5, validation_data = (X_val, y_val))"
   ]
  },
  {
   "cell_type": "markdown",
   "id": "3b0b585d-65ba-4bf8-9ce5-8f8d51241580",
   "metadata": {},
   "source": [
    "### Model 5"
   ]
  },
  {
   "cell_type": "code",
   "execution_count": 105,
   "id": "f0d2d184-f96f-4ff3-a809-d8b466eb166b",
   "metadata": {},
   "outputs": [],
   "source": [
    "model5 = Sequential()\n",
    "\n",
    "model5.add(Embedding(total_words,      # number of words to process as input\n",
    "                    300,    # output representation\n",
    "                    mask_zero = True,\n",
    "                    input_length=len(padded_sequences[0])))    # total length of each observation\n",
    "\n",
    "model5.add(Bidirectional(tf.keras.layers.LSTM(64, return_sequences=True)))\n",
    "\n",
    "model5.add(Dropout(0.2)) \n",
    "\n",
    "model5.add(Bidirectional(tf.keras.layers.LSTM(64, return_sequences=False)))\n",
    "\n",
    "model5.add(Dropout(0.2)) \n",
    "\n",
    "model5.add(Dense(1, activation='sigmoid')) \n",
    "\n",
    "model5.compile(optimizer='adam', loss='binary_crossentropy', metrics=['accuracy'])"
   ]
  },
  {
   "cell_type": "code",
   "execution_count": 106,
   "id": "b73ffe53-0a58-4fd3-9e4e-17058d0235bf",
   "metadata": {},
   "outputs": [
    {
     "name": "stdout",
     "output_type": "stream",
     "text": [
      "Model: \"sequential_11\"\n",
      "_________________________________________________________________\n",
      " Layer (type)                Output Shape              Param #   \n",
      "=================================================================\n",
      " embedding_11 (Embedding)    (None, 29, 300)           1340400   \n",
      "                                                                 \n",
      " bidirectional_4 (Bidirecti  (None, 29, 128)           186880    \n",
      " onal)                                                           \n",
      "                                                                 \n",
      " dropout_7 (Dropout)         (None, 29, 128)           0         \n",
      "                                                                 \n",
      " bidirectional_5 (Bidirecti  (None, 128)               98816     \n",
      " onal)                                                           \n",
      "                                                                 \n",
      " dropout_8 (Dropout)         (None, 128)               0         \n",
      "                                                                 \n",
      " dense_10 (Dense)            (None, 1)                 129       \n",
      "                                                                 \n",
      "=================================================================\n",
      "Total params: 1626225 (6.20 MB)\n",
      "Trainable params: 1626225 (6.20 MB)\n",
      "Non-trainable params: 0 (0.00 Byte)\n",
      "_________________________________________________________________\n"
     ]
    }
   ],
   "source": [
    "model5.summary()"
   ]
  },
  {
   "cell_type": "code",
   "execution_count": 107,
   "id": "027af294-772d-4cbe-9c7f-ab5f692ff7f8",
   "metadata": {},
   "outputs": [
    {
     "name": "stdout",
     "output_type": "stream",
     "text": [
      "Epoch 1/10\n",
      "57/57 [==============================] - 21s 124ms/step - loss: 0.6712 - accuracy: 0.5938 - val_loss: 0.6322 - val_accuracy: 0.6593\n",
      "Epoch 2/10\n",
      "57/57 [==============================] - 3s 52ms/step - loss: 0.4390 - accuracy: 0.8052 - val_loss: 0.6719 - val_accuracy: 0.6176\n",
      "Epoch 3/10\n",
      "57/57 [==============================] - 3s 50ms/step - loss: 0.2206 - accuracy: 0.9185 - val_loss: 0.9515 - val_accuracy: 0.6176\n",
      "Epoch 4/10\n",
      "57/57 [==============================] - 3s 50ms/step - loss: 0.1221 - accuracy: 0.9554 - val_loss: 1.3320 - val_accuracy: 0.6264\n"
     ]
    }
   ],
   "source": [
    "his3 = model5.fit(X_train, y_train, epochs=10, validation_data = (X_val, y_val), callbacks=[early_stopping])"
   ]
  },
  {
   "cell_type": "code",
   "execution_count": 108,
   "id": "43622f93-dc6e-489f-8679-990848d6435d",
   "metadata": {},
   "outputs": [
    {
     "data": {
      "text/plain": [
       "<keras.src.callbacks.History at 0x2b2a9e55f00>"
      ]
     },
     "execution_count": 108,
     "metadata": {},
     "output_type": "execute_result"
    }
   ],
   "source": [
    "his3"
   ]
  },
  {
   "cell_type": "markdown",
   "id": "4f3b6554-69d9-4326-8c87-54509d032fc2",
   "metadata": {},
   "source": [
    "### Model 6"
   ]
  },
  {
   "cell_type": "code",
   "execution_count": 62,
   "id": "7acddfb4-fbb8-4464-b7da-6bcf33990616",
   "metadata": {},
   "outputs": [],
   "source": [
    "import tensorflow_addons as tfa"
   ]
  },
  {
   "cell_type": "code",
   "execution_count": 81,
   "id": "d6561e72-3557-4bb8-be8f-8fc1515b3651",
   "metadata": {},
   "outputs": [],
   "source": [
    "adamw_optimizer = tfa.optimizers.AdamW(learning_rate=1e-2, weight_decay=1e-4)"
   ]
  },
  {
   "cell_type": "code",
   "execution_count": 82,
   "id": "d920e9af-152c-4893-8e8f-4dafb9e2cef7",
   "metadata": {},
   "outputs": [],
   "source": [
    "# We are going to build our model with the Sequential API\n",
    "model6 = Sequential()\n",
    "\n",
    "model6.add(Embedding(total_words,      # number of words to process as input\n",
    "                    50,    # output representation\n",
    "                    input_length=len(padded_sequences[0])))    # total length of each observation\n",
    "\n",
    "model6.add(LSTM(50, return_sequences=False))\n",
    "\n",
    "model6.add(Dropout(0.2))\n",
    "\n",
    "model6.add(Dense(1, activation='sigmoid')) \n",
    "\n",
    "model6.compile(optimizer= adamw_optimizer, loss='binary_crossentropy', metrics=['accuracy'])"
   ]
  },
  {
   "cell_type": "code",
   "execution_count": 83,
   "id": "79db981e-7824-4efd-bff4-0948128875ec",
   "metadata": {},
   "outputs": [
    {
     "name": "stdout",
     "output_type": "stream",
     "text": [
      "Epoch 1/10\n",
      "57/57 [==============================] - 3s 22ms/step - loss: 0.6932 - accuracy: 0.5025 - val_loss: 0.6926 - val_accuracy: 0.5319\n",
      "Epoch 2/10\n",
      "57/57 [==============================] - 1s 14ms/step - loss: 0.6921 - accuracy: 0.5713 - val_loss: 0.6922 - val_accuracy: 0.5582\n",
      "Epoch 3/10\n",
      "57/57 [==============================] - 1s 14ms/step - loss: 0.6909 - accuracy: 0.6037 - val_loss: 0.6917 - val_accuracy: 0.5758\n",
      "Epoch 4/10\n",
      "57/57 [==============================] - 1s 13ms/step - loss: 0.6891 - accuracy: 0.6621 - val_loss: 0.6910 - val_accuracy: 0.6022\n",
      "Epoch 5/10\n",
      "57/57 [==============================] - 1s 13ms/step - loss: 0.6865 - accuracy: 0.7105 - val_loss: 0.6894 - val_accuracy: 0.6132\n",
      "Epoch 6/10\n",
      "57/57 [==============================] - 1s 15ms/step - loss: 0.6822 - accuracy: 0.7270 - val_loss: 0.6869 - val_accuracy: 0.6220\n",
      "Epoch 7/10\n",
      "57/57 [==============================] - 1s 15ms/step - loss: 0.6737 - accuracy: 0.7149 - val_loss: 0.6814 - val_accuracy: 0.6176\n",
      "Epoch 8/10\n",
      "57/57 [==============================] - 1s 14ms/step - loss: 0.6567 - accuracy: 0.7485 - val_loss: 0.6709 - val_accuracy: 0.6264\n",
      "Epoch 9/10\n",
      "57/57 [==============================] - 1s 13ms/step - loss: 0.6228 - accuracy: 0.7248 - val_loss: 0.6569 - val_accuracy: 0.6088\n",
      "Epoch 10/10\n",
      "57/57 [==============================] - 1s 14ms/step - loss: 0.5862 - accuracy: 0.7485 - val_loss: 0.6546 - val_accuracy: 0.6593\n"
     ]
    }
   ],
   "source": [
    "hist6 = model6.fit(X_train, y_train, epochs=10, validation_data = (X_val, y_val), callbacks=[early_stopping])"
   ]
  },
  {
   "cell_type": "code",
   "execution_count": 84,
   "id": "9e897c3b-d740-4cbf-b51a-1fb2e23c21e6",
   "metadata": {},
   "outputs": [
    {
     "data": {
      "text/plain": [
       "[<matplotlib.lines.Line2D at 0x27ff21441f0>]"
      ]
     },
     "execution_count": 84,
     "metadata": {},
     "output_type": "execute_result"
    },
    {
     "data": {
      "image/png": "[encoded data removed]",
      "text/plain": [
       "<Figure size 640x480 with 1 Axes>"
      ]
     },
     "metadata": {},
     "output_type": "display_data"
    }
   ],
   "source": [
    "plt.plot(hist6.history['loss'])\n",
    "plt.plot(hist6.history['accuracy'])"
   ]
  },
  {
   "cell_type": "code",
   "execution_count": 85,
   "id": "d2eb59d5-4120-4dc6-94ce-bda45f2637c8",
   "metadata": {},
   "outputs": [
    {
     "name": "stdout",
     "output_type": "stream",
     "text": [
      "18/18 [==============================] - 0s 5ms/step - loss: 0.6555 - accuracy: 0.6021\n"
     ]
    }
   ],
   "source": [
    "loss, accuracy = model6.evaluate(X_test, y_test)"
   ]
  },
  {
   "cell_type": "markdown",
   "id": "270502ed-4e32-4e7e-833e-d9fbb2ba2609",
   "metadata": {},
   "source": [
    "### MODEL 7"
   ]
  },
  {
   "cell_type": "code",
   "execution_count": 57,
   "id": "13685637-4be9-4ef7-9582-437f525729ec",
   "metadata": {},
   "outputs": [],
   "source": [
    "from tensorflow.keras.optimizers import Adamax"
   ]
  },
  {
   "cell_type": "code",
   "execution_count": 58,
   "id": "a3c5f572-4993-43d2-ad3d-2273ff5f4924",
   "metadata": {},
   "outputs": [],
   "source": [
    "adamax_opt = Adamax(learning_rate = 0.001)"
   ]
  },
  {
   "cell_type": "code",
   "execution_count": 59,
   "id": "1d0755d9-f5e0-4225-aafe-85cebb0b86bd",
   "metadata": {},
   "outputs": [],
   "source": [
    "# We are going to build our model with the Sequential API\n",
    "model7 = Sequential()\n",
    "\n",
    "model7.add(Embedding(total_words,      # number of words to process as input\n",
    "                    100,    # output representation\n",
    "                    input_length=len(padded_sequences[0])))    # total length of each observation\n",
    "\n",
    "model7.add(LSTM(100, return_sequences=False))\n",
    "#model7.add(Bidirectional(LSTM(100, return_sequences=False)))\n",
    "\n",
    "model7.add(Dropout(0.2))\n",
    "\n",
    "model7.add(Dense(1, activation='sigmoid')) \n",
    "\n",
    "model7.compile(optimizer= adamax_opt, loss='binary_crossentropy', metrics=['accuracy'])"
   ]
  },
  {
   "cell_type": "code",
   "execution_count": 62,
   "id": "3164b5e2-6f60-4381-b009-10f0ba322400",
   "metadata": {},
   "outputs": [
    {
     "name": "stdout",
     "output_type": "stream",
     "text": [
      "Epoch 1/50\n",
      "57/57 [==============================] - 3s 21ms/step - loss: 0.6925 - accuracy: 0.5190 - val_loss: 0.6899 - val_accuracy: 0.5582\n",
      "Epoch 2/50\n",
      "57/57 [==============================] - 1s 14ms/step - loss: 0.6871 - accuracy: 0.5966 - val_loss: 0.6870 - val_accuracy: 0.6088\n",
      "Epoch 3/50\n",
      "57/57 [==============================] - 1s 14ms/step - loss: 0.6705 - accuracy: 0.6648 - val_loss: 0.6708 - val_accuracy: 0.6352\n",
      "Epoch 4/50\n",
      "57/57 [==============================] - 1s 14ms/step - loss: 0.6245 - accuracy: 0.6957 - val_loss: 0.6490 - val_accuracy: 0.6571\n",
      "Epoch 5/50\n",
      "57/57 [==============================] - 1s 14ms/step - loss: 0.5651 - accuracy: 0.7408 - val_loss: 0.6420 - val_accuracy: 0.6242\n",
      "Epoch 6/50\n",
      "57/57 [==============================] - 1s 14ms/step - loss: 0.5129 - accuracy: 0.7633 - val_loss: 0.6386 - val_accuracy: 0.6527\n",
      "Epoch 7/50\n",
      "57/57 [==============================] - 1s 14ms/step - loss: 0.4557 - accuracy: 0.7947 - val_loss: 0.6751 - val_accuracy: 0.6505\n",
      "Epoch 8/50\n",
      "57/57 [==============================] - 1s 14ms/step - loss: 0.4107 - accuracy: 0.8184 - val_loss: 0.6795 - val_accuracy: 0.6593\n",
      "Epoch 9/50\n",
      "57/57 [==============================] - 1s 14ms/step - loss: 0.3636 - accuracy: 0.8404 - val_loss: 0.7189 - val_accuracy: 0.6264\n"
     ]
    }
   ],
   "source": [
    "hist7 = model7.fit(X_train, y_train, epochs=50, validation_data = (X_val, y_val), callbacks=[early_stopping])"
   ]
  },
  {
   "cell_type": "code",
   "execution_count": 63,
   "id": "22455ee2-02c5-4f5e-a89b-1dedb7f12c6c",
   "metadata": {},
   "outputs": [
    {
     "data": {
      "text/plain": [
       "[<matplotlib.lines.Line2D at 0x1bf3038aa40>]"
      ]
     },
     "execution_count": 63,
     "metadata": {},
     "output_type": "execute_result"
    },
    {
     "data": {
      "image/png": "[encoded data removed]",
      "text/plain": [
       "<Figure size 640x480 with 1 Axes>"
      ]
     },
     "metadata": {},
     "output_type": "display_data"
    }
   ],
   "source": [
    "plt.plot(hist7.history['loss'])\n",
    "plt.plot(hist7.history['accuracy'])"
   ]
  },
  {
   "cell_type": "code",
   "execution_count": 64,
   "id": "132c5b07-c2cf-4f14-9c9e-324cfb78e08f",
   "metadata": {},
   "outputs": [
    {
     "name": "stdout",
     "output_type": "stream",
     "text": [
      "18/18 [==============================] - 0s 6ms/step - loss: 0.6512 - accuracy: 0.6338\n"
     ]
    }
   ],
   "source": [
    "loss, accuracy = model7.evaluate(X_test, y_test)"
   ]
  },
  {
   "cell_type": "markdown",
   "id": "5836f2d4-60fa-4c12-b386-699948932725",
   "metadata": {},
   "source": [
    "### Model 8"
   ]
  },
  {
   "cell_type": "code",
   "execution_count": 143,
   "id": "5c43e557-80ba-4ddf-afce-11c0ae5b322f",
   "metadata": {},
   "outputs": [],
   "source": [
    "from tensorflow.keras.optimizers import Nadam"
   ]
  },
  {
   "cell_type": "code",
   "execution_count": 144,
   "id": "2b01a399-3384-4723-9711-4fc888682fac",
   "metadata": {},
   "outputs": [],
   "source": [
    "nadam_opt = Nadam(learning_rate = 0.001)"
   ]
  },
  {
   "cell_type": "code",
   "execution_count": 145,
   "id": "5eb980b6-b721-4780-9c19-54e20fbae0bd",
   "metadata": {},
   "outputs": [],
   "source": [
    "# We are going to build our model with the Sequential API\n",
    "model8 = Sequential()\n",
    "\n",
    "model8.add(Embedding(total_words,      # number of words to process as input\n",
    "                    100,    # output representation\n",
    "                    input_length=len(padded_sequences[0])))    # total length of each observation\n",
    "\n",
    "model8.add(LSTM(100, return_sequences=False))\n",
    "\n",
    "model8.add(Dropout(0.2))\n",
    "\n",
    "model8.add(Dense(1, activation='sigmoid')) \n",
    "\n",
    "model8.compile(optimizer= nadam_opt, loss='binary_crossentropy', metrics=['accuracy'])"
   ]
  },
  {
   "cell_type": "code",
   "execution_count": 146,
   "id": "02c0ab24-bce3-47dc-a801-9e2573ab7ac3",
   "metadata": {},
   "outputs": [
    {
     "name": "stdout",
     "output_type": "stream",
     "text": [
      "Epoch 1/20\n",
      "57/57 [==============================] - 4s 29ms/step - loss: 0.6904 - accuracy: 0.5278 - val_loss: 0.6834 - val_accuracy: 0.5780\n",
      "Epoch 2/20\n",
      "57/57 [==============================] - 1s 22ms/step - loss: 0.5869 - accuracy: 0.7314 - val_loss: 0.6471 - val_accuracy: 0.6418\n",
      "Epoch 3/20\n",
      "57/57 [==============================] - 1s 21ms/step - loss: 0.3697 - accuracy: 0.8531 - val_loss: 0.7764 - val_accuracy: 0.6549\n",
      "Epoch 4/20\n",
      "57/57 [==============================] - 1s 20ms/step - loss: 0.2099 - accuracy: 0.9174 - val_loss: 0.8926 - val_accuracy: 0.6242\n",
      "Epoch 5/20\n",
      "57/57 [==============================] - 1s 18ms/step - loss: 0.1243 - accuracy: 0.9598 - val_loss: 1.3305 - val_accuracy: 0.6176\n"
     ]
    }
   ],
   "source": [
    "hist8 = model8.fit(X_train, y_train, epochs=20, validation_data = (X_val, y_val), callbacks=[early_stopping])"
   ]
  },
  {
   "cell_type": "code",
   "execution_count": 147,
   "id": "f344cb74-7fda-486e-a610-62a7eb75b16b",
   "metadata": {},
   "outputs": [
    {
     "data": {
      "text/plain": [
       "[<matplotlib.lines.Line2D at 0x27f84f370a0>]"
      ]
     },
     "execution_count": 147,
     "metadata": {},
     "output_type": "execute_result"
    },
    {
     "data": {
      "image/png": "[encoded data removed]",
      "text/plain": [
       "<Figure size 640x480 with 1 Axes>"
      ]
     },
     "metadata": {},
     "output_type": "display_data"
    }
   ],
   "source": [
    "plt.plot(hist8.history['loss'])\n",
    "plt.plot(hist8.history['accuracy'])"
   ]
  }
 ],
 "metadata": {
  "colab": {
   "provenance": []
  },
  "kernelspec": {
   "display_name": "Python 3 (ipykernel)",
   "language": "python",
   "name": "python3"
  },
  "language_info": {
   "codemirror_mode": {
    "name": "ipython",
    "version": 3
   },
   "file_extension": ".py",
   "mimetype": "text/x-python",
   "name": "python",
   "nbconvert_exporter": "python",
   "pygments_lexer": "ipython3",
   "version": "3.10.7"
  }
 },
 "nbformat": 4,
 "nbformat_minor": 5
}
